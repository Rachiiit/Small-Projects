{
 "cells": [
  {
   "cell_type": "markdown",
   "id": "1e1540b9",
   "metadata": {},
   "source": [
    "https://www.youtube.com/watch?v=YXPyB4XeYLA&ab_channel=freeCodeCamp.org"
   ]
  },
  {
   "cell_type": "code",
   "execution_count": 8,
   "id": "b2e655bc",
   "metadata": {},
   "outputs": [],
   "source": [
    "import tkinter"
   ]
  },
  {
   "cell_type": "code",
   "execution_count": 27,
   "id": "5e4064d3",
   "metadata": {},
   "outputs": [],
   "source": [
    "root=Tk()\n",
    "\n",
    "myLabel=Label(root,text='Hello World!')\n",
    "\n",
    "myLabel.pack()\n",
    "\n",
    "root.mainloop()"
   ]
  },
  {
   "cell_type": "code",
   "execution_count": 16,
   "id": "bf563a13",
   "metadata": {},
   "outputs": [],
   "source": [
    "# x=Tk()\n",
    "\n",
    "# y=Label(x,text='Hello World!')\n",
    "\n",
    "# y.pack()\n",
    "\n",
    "# x.mainloop()"
   ]
  },
  {
   "cell_type": "code",
   "execution_count": 24,
   "id": "9bfe6eff",
   "metadata": {},
   "outputs": [],
   "source": [
    "root=Tk()\n",
    "\n",
    "myLabel1=Label(root,text='Hello World!')\n",
    "myLabel2=Label(root,text='Trying to learn tkinter!')\n",
    "# myLabel.pack()\n",
    "myLabel1.grid(row=0,column=0)\n",
    "myLabel2.grid(row=1,column=1)\n",
    "root.mainloop()"
   ]
  },
  {
   "cell_type": "code",
   "execution_count": 26,
   "id": "60508e21",
   "metadata": {},
   "outputs": [],
   "source": [
    "root=Tk()\n",
    "\n",
    "myLabel1=Label(root,text='Hello World!').grid(row=0,column=0)\n",
    "myLabel2=Label(root,text='Trying to learn tkinter!').grid(row=1,column=1)\n",
    "myLabel3=Label(root,text='Next thing will start with Button').grid(row=2,column=2)\n",
    "# myLabel.pack()\n",
    "# myLabel1.grid(row=0,column=0)\n",
    "# myLabel2.grid(row=1,column=1)\n",
    "root.mainloop()"
   ]
  },
  {
   "cell_type": "code",
   "execution_count": 57,
   "id": "837633c6",
   "metadata": {},
   "outputs": [],
   "source": [
    "root=Tk()\n",
    "#seems it is working without giving variables\n",
    "Label(root,text='Hello World!').grid(row=0,column=0)\n",
    "Label(root,text='Trying to learn tkinter!').grid(row=1,column=1)\n",
    "Label(root,text='Next thing will start with Button').grid(row=22,column=2)\n",
    "# myLabel.pack()\n",
    "# myLabel1.grid(row=0,column=0)\n",
    "# myLabel2.grid(row=1,column=1)\n",
    "root.mainloop()"
   ]
  },
  {
   "cell_type": "markdown",
   "id": "c7835f46",
   "metadata": {},
   "source": [
    "### Buttons"
   ]
  },
  {
   "cell_type": "code",
   "execution_count": 37,
   "id": "0ef36736",
   "metadata": {},
   "outputs": [],
   "source": [
    "root=Tk()\n",
    "def myClick():\n",
    "    label=Label(root,text='Text after clicking a button.')\n",
    "    label.pack()\n",
    "myButton=Button(root, text='First button',command=myClick)\n",
    "myButton.pack()\n",
    "# Label(root,text='Hello World!').grid(row=0,column=0)\n",
    "# Label(root,text='Trying to learn tkinter!').grid(row=1,column=1)\n",
    "# Label(root,text='Next thing will start with Button').grid(row=22,column=2)\n",
    "root.mainloop()"
   ]
  },
  {
   "cell_type": "code",
   "execution_count": 50,
   "id": "35db534d",
   "metadata": {},
   "outputs": [],
   "source": [
    "root=Tk()\n",
    "def myClick():\n",
    "    label=Label(root,text='Text after clicking a button.')\n",
    "    label.pack()\n",
    "def myClicck():\n",
    "    label=Label(root,text='Text after clicking second button.')\n",
    "    label.pack()\n",
    "myButton1=Button(root, text='First button',command=myClick,state=DISABLED )\n",
    "myButton1.pack()\n",
    "myButton2=Button(root, text='Second button',command=myClicck,bg='#C2B5B0',fg='#CB3E08')\n",
    "myButton2.pack()\n",
    "# Label(root,text='Hello World!').grid(row=0,column=0)\n",
    "# Label(root,text='Trying to learn tkinter!').grid(row=1,column=1)\n",
    "# Label(root,text='Next thing will start with Button').grid(row=22,column=2)\n",
    "root.mainloop()\n",
    "#these color codes are called hex color codes. taken online"
   ]
  },
  {
   "cell_type": "markdown",
   "id": "f1b0e117",
   "metadata": {},
   "source": [
    "### Entry"
   ]
  },
  {
   "cell_type": "code",
   "execution_count": 58,
   "id": "aab26f93",
   "metadata": {},
   "outputs": [],
   "source": [
    "root=Tk()\n",
    "e=Entry(root,width=50)\n",
    "e.pack()\n",
    "def myClick():\n",
    "    label=Label(root,text='Text after clicking a button.'+e.get())\n",
    "    label.pack()\n",
    "myButton2=Button(root, text='first button',command=myClick,bg='#C2B5B0',fg='#CB3E08')\n",
    "myButton2.pack()\n",
    "Tk().mainloop()"
   ]
  },
  {
   "cell_type": "code",
   "execution_count": 80,
   "id": "0fe4dffe",
   "metadata": {},
   "outputs": [],
   "source": [
    "root=Tk()\n",
    "root.title(\"Checking if title works\")\n",
    "e=Entry(root,width=50)\n",
    "e.pack()\n",
    "e.insert(0,\"Enter your name: \")\n",
    "def myClick():\n",
    "    label=Label(root,text='Text after clicking a button.'+e.get())\n",
    "    label.pack()\n",
    "# Label(root,text='Hello World!').grid(row=0,column=0)\n",
    "myButton2=Button(root, text='first button',command=myClick,bg='#C2B5B0',fg='#CB3E08')\n",
    "myButton2.pack()\n",
    "root.mainloop()"
   ]
  },
  {
   "cell_type": "markdown",
   "id": "68a13f2c",
   "metadata": {},
   "source": [
    "## Calculator app"
   ]
  },
  {
   "cell_type": "code",
   "execution_count": 95,
   "id": "0b9b37d4",
   "metadata": {},
   "outputs": [],
   "source": [
    "root=Tk()\n",
    "root.title(\"Junior Calculator\")\n",
    "e=Entry(root,width=35,borderwidth=5)\n",
    "e.grid(row=0,column=0,columnspan=3,padx=10,pady=10)\n",
    "# e.pack()\n",
    "\n",
    "def button_click(number):\n",
    "    current=e.get()\n",
    "    e.delete(0,END)\n",
    "    e.insert(0,str(current)+str(number))\n",
    "def button_clear():\n",
    "    e.delete(0,END)\n",
    "def button_equal():\n",
    "    current=e.get()\n",
    "    print(type(current))\n",
    "    \n",
    "\n",
    "button_1=Button(root,text='1',padx=40,pady=20,command=lambda:button_click(1))\n",
    "button_2=Button(root,text='2',padx=40,pady=20,command=lambda:button_click(2))\n",
    "button_3=Button(root,text='3',padx=40,pady=20,command=lambda:button_click(3))\n",
    "button_4=Button(root,text='4',padx=40,pady=20,command=lambda:button_click(4))\n",
    "button_5=Button(root,text='5',padx=40,pady=20,command=lambda:button_click(5))\n",
    "button_6=Button(root,text='6',padx=40,pady=20,command=lambda:button_click(6))\n",
    "button_7=Button(root,text='7',padx=40,pady=20,command=lambda:button_click(7))\n",
    "button_8=Button(root,text='8',padx=40,pady=20,command=lambda:button_click(8))\n",
    "button_9=Button(root,text='9',padx=40,pady=20,command=lambda:button_click(9))\n",
    "button_0=Button(root,text='0',padx=40,pady=20,command=lambda:button_click(0))\n",
    "button_add=Button(root,text='+',padx=39,pady=20,command=lambda:button_click('+'))\n",
    "button_multiply=Button(root,text='*',padx=39,pady=20,command=lambda:button_click(1))\n",
    "button_divide=Button(root,text='/',padx=39,pady=20,command=lambda:button_click(1))\n",
    "button_subtract=Button(root,text='-',padx=40,pady=20,command=lambda:button_click(1))\n",
    "button_clear=Button(root,text='Clear',padx=79,pady=20,command=lambda:button_click(1))\n",
    "button_equal=Button(root,text='=',padx=91,pady=20,command=button_clear)\n",
    "\n",
    "button_1.grid(row=3,column=0)\n",
    "button_2.grid(row=3,column=1)\n",
    "button_3.grid(row=3,column=2)\n",
    "button_4.grid(row=2,column=0)\n",
    "button_5.grid(row=2,column=1)\n",
    "button_6.grid(row=2,column=2)\n",
    "button_7.grid(row=1,column=0)\n",
    "button_8.grid(row=1,column=1)\n",
    "button_9.grid(row=1,column=2)\n",
    "button_0.grid(row=4,column=0)\n",
    "button_clear.grid(row=4,column=1,columnspan=2)\n",
    "button_add.grid(row=5,column=0)\n",
    "button_equal.grid(row=5,column=1,columnspan=2)\n",
    "root.mainloop()"
   ]
  },
  {
   "cell_type": "code",
   "execution_count": null,
   "id": "72f1eb31",
   "metadata": {},
   "outputs": [],
   "source": []
  },
  {
   "cell_type": "code",
   "execution_count": null,
   "id": "e27cb479",
   "metadata": {},
   "outputs": [],
   "source": []
  },
  {
   "cell_type": "code",
   "execution_count": null,
   "id": "6fd26cf2",
   "metadata": {},
   "outputs": [],
   "source": []
  },
  {
   "cell_type": "code",
   "execution_count": null,
   "id": "f29da377",
   "metadata": {},
   "outputs": [],
   "source": []
  },
  {
   "cell_type": "code",
   "execution_count": null,
   "id": "db41ec23",
   "metadata": {},
   "outputs": [],
   "source": []
  },
  {
   "cell_type": "markdown",
   "id": "61c2b4ca",
   "metadata": {},
   "source": [
    "Rough work"
   ]
  },
  {
   "cell_type": "code",
   "execution_count": 87,
   "id": "fef37657",
   "metadata": {},
   "outputs": [],
   "source": [
    "x=\"4+5+6\""
   ]
  },
  {
   "cell_type": "code",
   "execution_count": 88,
   "id": "0ca43ed1",
   "metadata": {},
   "outputs": [
    {
     "ename": "ValueError",
     "evalue": "invalid literal for int() with base 10: '4+5+6'",
     "output_type": "error",
     "traceback": [
      "\u001b[1;31m---------------------------------------------------------------------------\u001b[0m",
      "\u001b[1;31mValueError\u001b[0m                                Traceback (most recent call last)",
      "\u001b[1;32m~\\AppData\\Local\\Temp/ipykernel_27332/1668044537.py\u001b[0m in \u001b[0;36m<module>\u001b[1;34m\u001b[0m\n\u001b[1;32m----> 1\u001b[1;33m \u001b[0mf\u001b[0m\u001b[1;33m=\u001b[0m\u001b[0mint\u001b[0m\u001b[1;33m(\u001b[0m\u001b[0mx\u001b[0m\u001b[1;33m)\u001b[0m\u001b[1;33m\u001b[0m\u001b[1;33m\u001b[0m\u001b[0m\n\u001b[0m\u001b[0;32m      2\u001b[0m \u001b[0mf\u001b[0m\u001b[1;33m\u001b[0m\u001b[1;33m\u001b[0m\u001b[0m\n",
      "\u001b[1;31mValueError\u001b[0m: invalid literal for int() with base 10: '4+5+6'"
     ]
    }
   ],
   "source": [
    "f=int(x)\n",
    "f"
   ]
  },
  {
   "cell_type": "code",
   "execution_count": 101,
   "id": "1ad285d2",
   "metadata": {},
   "outputs": [
    {
     "name": "stdout",
     "output_type": "stream",
     "text": [
      "4\n",
      "+ fff\n",
      "5\n",
      "+ fff\n",
      "6\n"
     ]
    }
   ],
   "source": [
    "for i in x:\n",
    "    try:\n",
    "        print(int(i))\n",
    "    except:\n",
    "        print(i,'fff')\n",
    "    "
   ]
  },
  {
   "cell_type": "code",
   "execution_count": 96,
   "id": "6611a298",
   "metadata": {},
   "outputs": [
    {
     "name": "stdout",
     "output_type": "stream",
     "text": [
      "<class 'str'>\n"
     ]
    }
   ],
   "source": [
    "print(type(x))"
   ]
  },
  {
   "cell_type": "code",
   "execution_count": 98,
   "id": "9d8e1de3",
   "metadata": {},
   "outputs": [],
   "source": [
    "u=5+5"
   ]
  },
  {
   "cell_type": "code",
   "execution_count": 100,
   "id": "ba1843a7",
   "metadata": {},
   "outputs": [
    {
     "data": {
      "text/plain": [
       "int"
      ]
     },
     "execution_count": 100,
     "metadata": {},
     "output_type": "execute_result"
    }
   ],
   "source": [
    "type(u)"
   ]
  },
  {
   "cell_type": "code",
   "execution_count": 104,
   "id": "d5130e61",
   "metadata": {},
   "outputs": [
    {
     "name": "stdout",
     "output_type": "stream",
     "text": [
      "4\n",
      "6\n",
      "5\n"
     ]
    }
   ],
   "source": [
    "a='465'\n",
    "for i in a:\n",
    "    i=int(i)\n",
    "    print(i)"
   ]
  },
  {
   "cell_type": "code",
   "execution_count": null,
   "id": "61e26aa9",
   "metadata": {},
   "outputs": [],
   "source": []
  },
  {
   "cell_type": "code",
   "execution_count": null,
   "id": "2f672956",
   "metadata": {},
   "outputs": [],
   "source": []
  },
  {
   "cell_type": "code",
   "execution_count": null,
   "id": "e829282b",
   "metadata": {},
   "outputs": [],
   "source": []
  },
  {
   "cell_type": "code",
   "execution_count": null,
   "id": "9696e3be",
   "metadata": {},
   "outputs": [],
   "source": []
  },
  {
   "cell_type": "code",
   "execution_count": null,
   "id": "85954849",
   "metadata": {},
   "outputs": [],
   "source": []
  }
 ],
 "metadata": {
  "kernelspec": {
   "display_name": "Python 3 (ipykernel)",
   "language": "python",
   "name": "python3"
  },
  "language_info": {
   "codemirror_mode": {
    "name": "ipython",
    "version": 3
   },
   "file_extension": ".py",
   "mimetype": "text/x-python",
   "name": "python",
   "nbconvert_exporter": "python",
   "pygments_lexer": "ipython3",
   "version": "3.9.6"
  }
 },
 "nbformat": 4,
 "nbformat_minor": 5
}
