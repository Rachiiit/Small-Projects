{
 "cells": [
  {
   "cell_type": "markdown",
   "id": "f9eaaa3f",
   "metadata": {},
   "source": [
    "https://www.youtube.com/watch?v=YXPyB4XeYLA&ab_channel=freeCodeCamp.org"
   ]
  },
  {
   "cell_type": "code",
   "execution_count": 8,
   "id": "f98796e9",
   "metadata": {},
   "outputs": [],
   "source": [
    "import tkinter"
   ]
  },
  {
   "cell_type": "code",
   "execution_count": 15,
   "id": "58a76754",
   "metadata": {},
   "outputs": [],
   "source": [
    "root=Tk()\n",
    "\n",
    "myLabel=Label(root,text='Hello World!')\n",
    "\n",
    "myLabel.pack()\n",
    "\n",
    "root.mainloop()"
   ]
  },
  {
   "cell_type": "code",
   "execution_count": 16,
   "id": "ddb7c3f4",
   "metadata": {},
   "outputs": [],
   "source": [
    "x=Tk()\n",
    "\n",
    "y=Label(x,text='Hello World!')\n",
    "\n",
    "y.pack()\n",
    "\n",
    "x.mainloop()"
   ]
  },
  {
   "cell_type": "code",
   "execution_count": null,
   "id": "302947d9",
   "metadata": {},
   "outputs": [],
   "source": []
  }
 ],
 "metadata": {
  "kernelspec": {
   "display_name": "Python 3 (ipykernel)",
   "language": "python",
   "name": "python3"
  },
  "language_info": {
   "codemirror_mode": {
    "name": "ipython",
    "version": 3
   },
   "file_extension": ".py",
   "mimetype": "text/x-python",
   "name": "python",
   "nbconvert_exporter": "python",
   "pygments_lexer": "ipython3",
   "version": "3.9.6"
  }
 },
 "nbformat": 4,
 "nbformat_minor": 5
}
