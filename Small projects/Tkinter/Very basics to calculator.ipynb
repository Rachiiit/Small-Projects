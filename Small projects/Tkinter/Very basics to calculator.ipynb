{
 "cells": [
  {
   "cell_type": "markdown",
   "id": "897aa3f2",
   "metadata": {},
   "source": [
    "https://www.youtube.com/watch?v=YXPyB4XeYLA&ab_channel=freeCodeCamp.org"
   ]
  },
  {
   "cell_type": "code",
   "execution_count": 74,
   "id": "dce947ad",
   "metadata": {},
   "outputs": [],
   "source": [
    "from tkinter import *"
   ]
  },
  {
   "cell_type": "code",
   "execution_count": 35,
   "id": "8dd5e407",
   "metadata": {},
   "outputs": [],
   "source": [
    "root=Tk()\n",
    "\n",
    "myLabel=Label(root,text='Hello World!')\n",
    "\n",
    "myLabel.pack()\n",
    "\n",
    "root.mainloop()"
   ]
  },
  {
   "cell_type": "code",
   "execution_count": 16,
   "id": "9945af27",
   "metadata": {},
   "outputs": [],
   "source": [
    "# x=Tk()\n",
    "\n",
    "# y=Label(x,text='Hello World!')\n",
    "\n",
    "# y.pack()\n",
    "\n",
    "# x.mainloop()"
   ]
  },
  {
   "cell_type": "code",
   "execution_count": 24,
   "id": "502439b1",
   "metadata": {},
   "outputs": [],
   "source": [
    "root=Tk()\n",
    "\n",
    "myLabel1=Label(root,text='Hello World!')\n",
    "myLabel2=Label(root,text='Trying to learn tkinter!')\n",
    "# myLabel.pack()\n",
    "myLabel1.grid(row=0,column=0)\n",
    "myLabel2.grid(row=1,column=1)\n",
    "root.mainloop()"
   ]
  },
  {
   "cell_type": "code",
   "execution_count": 26,
   "id": "371642f4",
   "metadata": {},
   "outputs": [],
   "source": [
    "root=Tk()\n",
    "\n",
    "myLabel1=Label(root,text='Hello World!').grid(row=0,column=0)\n",
    "myLabel2=Label(root,text='Trying to learn tkinter!').grid(row=1,column=1)\n",
    "myLabel3=Label(root,text='Next thing will start with Button').grid(row=2,column=2)\n",
    "# myLabel.pack()\n",
    "# myLabel1.grid(row=0,column=0)\n",
    "# myLabel2.grid(row=1,column=1)\n",
    "root.mainloop()"
   ]
  },
  {
   "cell_type": "code",
   "execution_count": 57,
   "id": "2b7819f4",
   "metadata": {},
   "outputs": [],
   "source": [
    "root=Tk()\n",
    "#seems it is working without giving variables\n",
    "Label(root,text='Hello World!').grid(row=0,column=0)\n",
    "Label(root,text='Trying to learn tkinter!').grid(row=1,column=1)\n",
    "Label(root,text='Next thing will start with Button').grid(row=22,column=2)\n",
    "# myLabel.pack()\n",
    "# myLabel1.grid(row=0,column=0)\n",
    "# myLabel2.grid(row=1,column=1)\n",
    "root.mainloop()"
   ]
  },
  {
   "cell_type": "markdown",
   "id": "cff7b04f",
   "metadata": {},
   "source": [
    "### Buttons"
   ]
  },
  {
   "cell_type": "code",
   "execution_count": 37,
   "id": "1c0d7e95",
   "metadata": {},
   "outputs": [],
   "source": [
    "root=Tk()\n",
    "def myClick():\n",
    "    label=Label(root,text='Text after clicking a button.')\n",
    "    label.pack()\n",
    "myButton=Button(root, text='First button',command=myClick)\n",
    "myButton.pack()\n",
    "# Label(root,text='Hello World!').grid(row=0,column=0)\n",
    "# Label(root,text='Trying to learn tkinter!').grid(row=1,column=1)\n",
    "# Label(root,text='Next thing will start with Button').grid(row=22,column=2)\n",
    "root.mainloop()"
   ]
  },
  {
   "cell_type": "code",
   "execution_count": 50,
   "id": "e6a87037",
   "metadata": {},
   "outputs": [],
   "source": [
    "root=Tk()\n",
    "def myClick():\n",
    "    label=Label(root,text='Text after clicking a button.')\n",
    "    label.pack()\n",
    "def myClicck():\n",
    "    label=Label(root,text='Text after clicking second button.')\n",
    "    label.pack()\n",
    "myButton1=Button(root, text='First button',command=myClick,state=DISABLED )\n",
    "myButton1.pack()\n",
    "myButton2=Button(root, text='Second button',command=myClicck,bg='#C2B5B0',fg='#CB3E08')\n",
    "myButton2.pack()\n",
    "# Label(root,text='Hello World!').grid(row=0,column=0)\n",
    "# Label(root,text='Trying to learn tkinter!').grid(row=1,column=1)\n",
    "# Label(root,text='Next thing will start with Button').grid(row=22,column=2)\n",
    "root.mainloop()\n",
    "#these color codes are called hex color codes. taken online"
   ]
  },
  {
   "cell_type": "markdown",
   "id": "fed05a73",
   "metadata": {},
   "source": [
    "### Entry"
   ]
  },
  {
   "cell_type": "code",
   "execution_count": 58,
   "id": "8eccc152",
   "metadata": {},
   "outputs": [],
   "source": [
    "root=Tk()\n",
    "e=Entry(root,width=50)\n",
    "e.pack()\n",
    "def myClick():\n",
    "    label=Label(root,text='Text after clicking a button.'+e.get())\n",
    "    label.pack()\n",
    "myButton2=Button(root, text='first button',command=myClick,bg='#C2B5B0',fg='#CB3E08')\n",
    "myButton2.pack()\n",
    "Tk().mainloop()"
   ]
  },
  {
   "cell_type": "code",
   "execution_count": 80,
   "id": "6d42efae",
   "metadata": {},
   "outputs": [],
   "source": [
    "root=Tk()\n",
    "root.title(\"Checking if title works\")\n",
    "e=Entry(root,width=50)\n",
    "e.pack()\n",
    "e.insert(0,\"Enter your name: \")\n",
    "def myClick():\n",
    "    label=Label(root,text='Text after clicking a button.'+e.get())\n",
    "    label.pack()\n",
    "# Label(root,text='Hello World!').grid(row=0,column=0)\n",
    "myButton2=Button(root, text='first button',command=myClick,bg='#C2B5B0',fg='#CB3E08')\n",
    "myButton2.pack()\n",
    "root.mainloop()"
   ]
  },
  {
   "cell_type": "markdown",
   "id": "8278e9a0",
   "metadata": {},
   "source": [
    "## Calculator app"
   ]
  },
  {
   "cell_type": "code",
   "execution_count": 34,
   "id": "c2c03e9e",
   "metadata": {},
   "outputs": [],
   "source": [
    "root=Tk()\n",
    "root.title(\"Junior Calculator\")\n",
    "e=Entry(root,width=55,borderwidth=5)\n",
    "e.grid(row=0,column=0,columnspan=4,padx=10,pady=10)\n",
    "# e.pack()\n",
    "\n",
    "def button_click(number):\n",
    "    current=e.get()\n",
    "    e.delete(0,END)\n",
    "    e.insert(0,str(current)+str(number))\n",
    "def button_clear():\n",
    "    e.delete(0,END)\n",
    "def button_equal():\n",
    "    second_number=e.get()\n",
    "    e.delete(0,END)\n",
    "    if math=='addition':\n",
    "        e.insert(0,f_num+float(second_number))\n",
    "    if math=='substraction':\n",
    "        e.insert(0,f_num-float(second_number))\n",
    "    if math=='multiplication':\n",
    "        e.insert(0,f_num*float(second_number))\n",
    "    if math=='division':\n",
    "        e.insert(0,f_num/float(second_number))\n",
    "    if math=='exponential':\n",
    "        e.insert(0,f_num**float(second_number))\n",
    "    if math=='floor_division':\n",
    "        e.insert(0,f_num//float(second_number))\n",
    "    if math=='modulus':\n",
    "        e.insert(0,f_num % float(second_number))\n",
    "\n",
    "def button_subtract():\n",
    "    first_number=e.get()\n",
    "    global f_num\n",
    "    global math\n",
    "    math='substraction'\n",
    "    f_num=float(first_number)\n",
    "    e.delete(0,END)\n",
    "def button_addition():\n",
    "    first_number=e.get()\n",
    "    global f_num\n",
    "    global math\n",
    "    math='addition'\n",
    "    f_num=float(first_number)\n",
    "    e.delete(0,END)\n",
    "def button_multiplication():\n",
    "    first_number=e.get()\n",
    "    global f_num\n",
    "    global math\n",
    "    math='multiplication'\n",
    "    f_num=float(first_number)\n",
    "    e.delete(0,END)\n",
    "def button_divide():\n",
    "    first_number=e.get()\n",
    "    global f_num\n",
    "    global math\n",
    "    math='division'\n",
    "    f_num=float(first_number)\n",
    "    e.delete(0,END)\n",
    "def button_backspace():\n",
    "    first_number=e.get()\n",
    "    e.delete(0,END)\n",
    "    e.insert(0,first_number[:-1])\n",
    "def button_ce():\n",
    "    e.delete(0,END)\n",
    "def button_modulus():\n",
    "    first_number=e.get()\n",
    "    global f_num\n",
    "    global math\n",
    "    math='modulus'\n",
    "    f_num=float(first_number)\n",
    "    e.delete(0,END)\n",
    "def button_plusMinus():\n",
    "    first_number=e.get()\n",
    "    e.delete(0,END)\n",
    "    e.insert(0,-1*float(first_number))\n",
    "def button_reciprocal():\n",
    "    first_number=e.get()\n",
    "    e.delete(0,END)\n",
    "    e.insert(0,1/float(first_number))\n",
    "def button_decimal():\n",
    "    first_number=(e.get())\n",
    "    e.delete(0,END)\n",
    "    if '.' in str(first_number):\n",
    "        e.insert(0,int(first_number))\n",
    "    else:\n",
    "        e.insert(0,str(first_number)+'.')\n",
    "        \n",
    "button_percentage=Button(root,text='%',padx=40,pady=20,command=button_modulus,bg='#F1E3DD')\n",
    "button_ce=Button(root,text='CE',padx=40,pady=20,command=button_ce,bg='#F1E3DD')\n",
    "button_clear=Button(root,text='C',padx=40,pady=20,command=button_clear,bg='#F1E3DD')\n",
    "button_backspace=Button(root,text='backspace',padx=15,pady=20,command=button_backspace,bg='#F1E3DD')\n",
    "button_reciprocal=Button(root,text='1/x',padx=35,pady=20,command=button_reciprocal,bg='#F1E3DD')\n",
    "button_exponential=Button(root,text='x^y',padx=35,pady=20,command=button_ce,bg='#F1E3DD')\n",
    "button_sqrt=Button(root,text='x^0.5',padx=30,pady=20,command=button_ce,bg='#F1E3DD')\n",
    "button_divide=Button(root,text='/',padx=40,pady=20,command=button_divide,bg='#F1E3DD')\n",
    "button_7=Button(root,text='7',padx=40,pady=20,command=lambda:button_click(7))\n",
    "button_8=Button(root,text='8',padx=40,pady=20,command=lambda:button_click(8))\n",
    "button_9=Button(root,text='9',padx=40,pady=20,command=lambda:button_click(9))\n",
    "button_multiply=Button(root,text='*',padx=40,pady=20,command=button_multiplication,bg='#F1E3DD')\n",
    "button_4=Button(root,text='4',padx=40,pady=20,command=lambda:button_click(4))\n",
    "button_5=Button(root,text='5',padx=40,pady=20,command=lambda:button_click(5))\n",
    "button_6=Button(root,text='6',padx=40,pady=20,command=lambda:button_click(6))\n",
    "button_subtract=Button(root,text='-',padx=40,pady=20,command=button_subtract,bg='#F1E3DD')\n",
    "button_1=Button(root,text='1',padx=40,pady=20,command=lambda:button_click(1))\n",
    "button_2=Button(root,text='2',padx=40,pady=20,command=lambda:button_click(2))\n",
    "button_3=Button(root,text='3',padx=40,pady=20,command=lambda:button_click(3))\n",
    "button_add=Button(root,text='+',padx=39,pady=20,command=button_addition,bg='#F1E3DD')\n",
    "button_plusMinus=Button(root,text='+/-',padx=35,pady=20,command=button_plusMinus)\n",
    "button_0=Button(root,text='0',padx=40,pady=20,command=lambda:button_click(0))\n",
    "button_decimal=Button(root,text='.',padx=40,pady=20,command=button_decimal)\n",
    "button_equal=Button(root,text='=',padx=40,pady=20,command=button_equal,bg='#C2BDBB')\n",
    "\n",
    "\n",
    "\n",
    "button_percentage.grid(row=1,column=0)\n",
    "button_ce.grid(row=1,column=1)\n",
    "button_clear.grid(row=1,column=2)\n",
    "button_backspace.grid(row=1,column=3)\n",
    "button_reciprocal.grid(row=2,column=0)\n",
    "button_exponential.grid(row=2,column=1)\n",
    "button_sqrt.grid(row=2,column=2)\n",
    "button_divide.grid(row=2,column=3)\n",
    "button_7.grid(row=3,column=0)\n",
    "button_8.grid(row=3,column=1)\n",
    "button_9.grid(row=3,column=2)\n",
    "button_multiply.grid(row=3,column=3)\n",
    "button_4.grid(row=4,column=0)\n",
    "button_5.grid(row=4,column=1)\n",
    "button_6.grid(row=4,column=2)\n",
    "button_subtract.grid(row=4,column=3)\n",
    "button_1.grid(row=5,column=0)\n",
    "button_2.grid(row=5,column=1)\n",
    "button_3.grid(row=5,column=2)\n",
    "button_add.grid(row=5,column=3)\n",
    "button_plusMinus.grid(row=6,column=0)\n",
    "button_0.grid(row=6,column=1)\n",
    "button_decimal.grid(row=6,column=2)\n",
    "button_equal.grid(row=6,column=3)\n",
    "\n",
    "myLabel=Label(root,text='Hello World!')\n",
    "# myLabel.pack()\n",
    "\n",
    "\n",
    "root.mainloop()"
   ]
  },
  {
   "cell_type": "code",
   "execution_count": 31,
   "id": "5bcba3dd",
   "metadata": {},
   "outputs": [],
   "source": [
    "#can try above thing by eval"
   ]
  },
  {
   "cell_type": "markdown",
   "id": "8de2918a",
   "metadata": {},
   "source": [
    "## Used Eval here, see the difference"
   ]
  },
  {
   "cell_type": "code",
   "execution_count": 75,
   "id": "afb10a62",
   "metadata": {},
   "outputs": [
    {
     "name": "stdout",
     "output_type": "stream",
     "text": [
      "we\n"
     ]
    },
    {
     "name": "stderr",
     "output_type": "stream",
     "text": [
      "Exception in Tkinter callback\n",
      "Traceback (most recent call last):\n",
      "  File \"c:\\users\\rchtp\\appdata\\local\\programs\\python\\python39\\lib\\tkinter\\__init__.py\", line 1892, in __call__\n",
      "    return self.func(*args)\n",
      "  File \"C:\\Users\\rchtp\\AppData\\Local\\Temp/ipykernel_44388/3356720822.py\", line 23, in button_equal\n",
      "    e.insert(0,f_num % float(second_number))\n",
      "ValueError: could not convert string to float: '3-6'\n"
     ]
    }
   ],
   "source": [
    "root=Tk()\n",
    "root.title(\"Junior Calculator\")\n",
    "e=Entry(root,width=55,borderwidth=5)\n",
    "e.grid(row=0,column=0,columnspan=4,padx=10,pady=10)\n",
    "# e.pack()\n",
    "def button_click(number):\n",
    "    current=e.get()\n",
    "    e.delete(0,END)\n",
    "    e.insert(0,str(current)+str(number))\n",
    "def button_clear():\n",
    "    e.delete(0,END)\n",
    "def button_equal():\n",
    "    second_number=e.get()\n",
    "    e.delete(0,END)\n",
    "    if (('+' in second_number) or ('-' in second_number) or ('*' in second_number) or ('/' in second_number)):\n",
    "        print('we')\n",
    "        e.insert(0,eval(second_number))\n",
    "    if math=='exponential':\n",
    "        e.insert(0,f_num**float(second_number))\n",
    "    if math=='floor_division':\n",
    "        e.insert(0,f_num//float(second_number))\n",
    "    if math=='modulus':\n",
    "        e.insert(0,f_num % float(second_number))\n",
    "    if (('+' in second_number) or ('-' in second_number) or ('*' in second_number) or ('/' in second_number)):\n",
    "        e.insert(0,eval(second_number))\n",
    "\n",
    "\n",
    "def button_backspace():\n",
    "    first_number=e.get()\n",
    "    e.delete(0,END)\n",
    "    e.insert(0,first_number[:-1])\n",
    "def button_ce():\n",
    "    e.delete(0,END)\n",
    "def button_modulus():\n",
    "    first_number=e.get()\n",
    "    global f_num\n",
    "    global math\n",
    "    math='modulus'\n",
    "    f_num=float(first_number)\n",
    "    e.delete(0,END)\n",
    "def button_exponential():\n",
    "    first_number=e.get()\n",
    "    global f_num\n",
    "    global math\n",
    "    math='exponential'\n",
    "    f_num=float(first_number)\n",
    "    e.delete(0,END)\n",
    "def button_plusMinus():\n",
    "    first_number=e.get()\n",
    "    e.delete(0,END)\n",
    "    e.insert(0,-1*float(first_number))\n",
    "def button_reciprocal():\n",
    "    first_number=e.get()\n",
    "    e.delete(0,END)\n",
    "    e.insert(0,1/float(first_number))\n",
    "def button_decimal():\n",
    "    first_number=(e.get())\n",
    "    e.delete(0,END)\n",
    "    if '.' in str(first_number):\n",
    "        e.insert(0,int(first_number))\n",
    "    else:\n",
    "        e.insert(0,str(first_number)+'.')\n",
    "        \n",
    "button_percentage=Button(root,text='%',padx=40,pady=20,command=button_modulus,bg='#F1E3DD')\n",
    "button_ce=Button(root,text='CE',padx=40,pady=20,command=button_ce,bg='#F1E3DD')\n",
    "button_clear=Button(root,text='C',padx=40,pady=20,command=button_clear,bg='#F1E3DD')\n",
    "button_backspace=Button(root,text='backspace',padx=15,pady=20,command=button_backspace,bg='#F1E3DD')\n",
    "button_reciprocal=Button(root,text='1/x',padx=35,pady=20,command=button_reciprocal,bg='#F1E3DD')\n",
    "button_exponential=Button(root,text='x^y',padx=35,pady=20,command=button_exponential,bg='#F1E3DD')\n",
    "button_sqrt=Button(root,text='x^0.5',padx=30,pady=20,command=button_ce,bg='#F1E3DD')\n",
    "button_divide=Button(root,text='/',padx=40,pady=20,command=lambda:button_click('/'),bg='#F1E3DD')\n",
    "button_7=Button(root,text='7',padx=40,pady=20,command=lambda:button_click(7))\n",
    "button_8=Button(root,text='8',padx=40,pady=20,command=lambda:button_click(8))\n",
    "button_9=Button(root,text='9',padx=40,pady=20,command=lambda:button_click(9))\n",
    "button_multiply=Button(root,text='*',padx=40,pady=20,command=lambda:button_click('*'),bg='#F1E3DD')\n",
    "button_4=Button(root,text='4',padx=40,pady=20,command=lambda:button_click(4))\n",
    "button_5=Button(root,text='5',padx=40,pady=20,command=lambda:button_click(5))\n",
    "button_6=Button(root,text='6',padx=40,pady=20,command=lambda:button_click(6))\n",
    "button_subtract=Button(root,text='-',padx=40,pady=20,command=lambda:button_click('-'),bg='#F1E3DD')\n",
    "button_1=Button(root,text='1',padx=40,pady=20,command=lambda:button_click(1))\n",
    "button_2=Button(root,text='2',padx=40,pady=20,command=lambda:button_click(2))\n",
    "button_3=Button(root,text='3',padx=40,pady=20,command=lambda:button_click(3))\n",
    "button_add=Button(root,text='+',padx=39,pady=20,command=lambda:button_click('+'),bg='#F1E3DD')\n",
    "button_plusMinus=Button(root,text='+/-',padx=35,pady=20,command=button_plusMinus)\n",
    "button_0=Button(root,text='0',padx=40,pady=20,command=lambda:button_click(0))\n",
    "button_decimal=Button(root,text='.',padx=40,pady=20,command=button_decimal)\n",
    "button_equal=Button(root,text='=',padx=40,pady=20,command=button_equal,bg='#C2BDBB')\n",
    "\n",
    "\n",
    "\n",
    "button_percentage.grid(row=1,column=0)\n",
    "button_ce.grid(row=1,column=1)\n",
    "button_clear.grid(row=1,column=2)\n",
    "button_backspace.grid(row=1,column=3)\n",
    "button_reciprocal.grid(row=2,column=0)\n",
    "button_exponential.grid(row=2,column=1)\n",
    "button_sqrt.grid(row=2,column=2)\n",
    "button_divide.grid(row=2,column=3)\n",
    "button_7.grid(row=3,column=0)\n",
    "button_8.grid(row=3,column=1)\n",
    "button_9.grid(row=3,column=2)\n",
    "button_multiply.grid(row=3,column=3)\n",
    "button_4.grid(row=4,column=0)\n",
    "button_5.grid(row=4,column=1)\n",
    "button_6.grid(row=4,column=2)\n",
    "button_subtract.grid(row=4,column=3)\n",
    "button_1.grid(row=5,column=0)\n",
    "button_2.grid(row=5,column=1)\n",
    "button_3.grid(row=5,column=2)\n",
    "button_add.grid(row=5,column=3)\n",
    "button_plusMinus.grid(row=6,column=0)\n",
    "button_0.grid(row=6,column=1)\n",
    "button_decimal.grid(row=6,column=2)\n",
    "button_equal.grid(row=6,column=3)\n",
    "\n",
    "myLabel=Label(root,text='Hello World!')\n",
    "# myLabel.pack()\n",
    "\n",
    "\n",
    "root.mainloop()"
   ]
  },
  {
   "cell_type": "code",
   "execution_count": 6,
   "id": "48b2f64e",
   "metadata": {},
   "outputs": [
    {
     "data": {
      "text/plain": [
       "10"
      ]
     },
     "execution_count": 6,
     "metadata": {},
     "output_type": "execute_result"
    }
   ],
   "source": [
    "x='5+5'\n",
    "eval(x)"
   ]
  },
  {
   "cell_type": "code",
   "execution_count": 152,
   "id": "4d77e150",
   "metadata": {},
   "outputs": [],
   "source": [
    "root.mainloop()"
   ]
  },
  {
   "cell_type": "code",
   "execution_count": null,
   "id": "ab838b76",
   "metadata": {},
   "outputs": [],
   "source": []
  },
  {
   "cell_type": "markdown",
   "id": "68ef614c",
   "metadata": {},
   "source": [
    "Rough work"
   ]
  },
  {
   "cell_type": "code",
   "execution_count": 87,
   "id": "52252b96",
   "metadata": {},
   "outputs": [],
   "source": [
    "x=\"4+5+6\""
   ]
  },
  {
   "cell_type": "code",
   "execution_count": 88,
   "id": "9cae401e",
   "metadata": {},
   "outputs": [
    {
     "ename": "ValueError",
     "evalue": "invalid literal for int() with base 10: '4+5+6'",
     "output_type": "error",
     "traceback": [
      "\u001b[1;31m---------------------------------------------------------------------------\u001b[0m",
      "\u001b[1;31mValueError\u001b[0m                                Traceback (most recent call last)",
      "\u001b[1;32m~\\AppData\\Local\\Temp/ipykernel_27332/1668044537.py\u001b[0m in \u001b[0;36m<module>\u001b[1;34m\u001b[0m\n\u001b[1;32m----> 1\u001b[1;33m \u001b[0mf\u001b[0m\u001b[1;33m=\u001b[0m\u001b[0mint\u001b[0m\u001b[1;33m(\u001b[0m\u001b[0mx\u001b[0m\u001b[1;33m)\u001b[0m\u001b[1;33m\u001b[0m\u001b[1;33m\u001b[0m\u001b[0m\n\u001b[0m\u001b[0;32m      2\u001b[0m \u001b[0mf\u001b[0m\u001b[1;33m\u001b[0m\u001b[1;33m\u001b[0m\u001b[0m\n",
      "\u001b[1;31mValueError\u001b[0m: invalid literal for int() with base 10: '4+5+6'"
     ]
    }
   ],
   "source": [
    "f=int(x)\n",
    "f"
   ]
  },
  {
   "cell_type": "code",
   "execution_count": 101,
   "id": "ee5c5d8a",
   "metadata": {},
   "outputs": [
    {
     "name": "stdout",
     "output_type": "stream",
     "text": [
      "4\n",
      "+ fff\n",
      "5\n",
      "+ fff\n",
      "6\n"
     ]
    }
   ],
   "source": [
    "for i in x:\n",
    "    try:\n",
    "        print(int(i))\n",
    "    except:\n",
    "        print(i,'fff')\n",
    "    "
   ]
  },
  {
   "cell_type": "code",
   "execution_count": 96,
   "id": "766ed28f",
   "metadata": {},
   "outputs": [
    {
     "name": "stdout",
     "output_type": "stream",
     "text": [
      "<class 'str'>\n"
     ]
    }
   ],
   "source": [
    "print(type(x))"
   ]
  },
  {
   "cell_type": "code",
   "execution_count": 98,
   "id": "5862baa0",
   "metadata": {},
   "outputs": [],
   "source": [
    "u=5+5"
   ]
  },
  {
   "cell_type": "code",
   "execution_count": 100,
   "id": "e4ecbfb1",
   "metadata": {},
   "outputs": [
    {
     "data": {
      "text/plain": [
       "int"
      ]
     },
     "execution_count": 100,
     "metadata": {},
     "output_type": "execute_result"
    }
   ],
   "source": [
    "type(u)"
   ]
  },
  {
   "cell_type": "code",
   "execution_count": 104,
   "id": "8b605f49",
   "metadata": {},
   "outputs": [
    {
     "name": "stdout",
     "output_type": "stream",
     "text": [
      "4\n",
      "6\n",
      "5\n"
     ]
    }
   ],
   "source": [
    "a='465'\n",
    "for i in a:\n",
    "    i=int(i)\n",
    "    print(i)"
   ]
  },
  {
   "cell_type": "code",
   "execution_count": 105,
   "id": "be1d29de",
   "metadata": {},
   "outputs": [
    {
     "data": {
      "text/plain": [
       "1"
      ]
     },
     "execution_count": 105,
     "metadata": {},
     "output_type": "execute_result"
    }
   ],
   "source": [
    "5//4"
   ]
  },
  {
   "cell_type": "code",
   "execution_count": 106,
   "id": "45ab0fb1",
   "metadata": {},
   "outputs": [
    {
     "data": {
      "text/plain": [
       "1"
      ]
     },
     "execution_count": 106,
     "metadata": {},
     "output_type": "execute_result"
    }
   ],
   "source": [
    "5//5"
   ]
  },
  {
   "cell_type": "code",
   "execution_count": 109,
   "id": "a4e7d933",
   "metadata": {},
   "outputs": [
    {
     "data": {
      "text/plain": [
       "0"
      ]
     },
     "execution_count": 109,
     "metadata": {},
     "output_type": "execute_result"
    }
   ],
   "source": [
    "5//45"
   ]
  },
  {
   "cell_type": "code",
   "execution_count": 110,
   "id": "85c51b45",
   "metadata": {},
   "outputs": [
    {
     "data": {
      "text/plain": [
       "2"
      ]
     },
     "execution_count": 110,
     "metadata": {},
     "output_type": "execute_result"
    }
   ],
   "source": [
    "5%3"
   ]
  },
  {
   "cell_type": "code",
   "execution_count": 132,
   "id": "aad17ed0",
   "metadata": {},
   "outputs": [
    {
     "data": {
      "text/plain": [
       "'60654'"
      ]
     },
     "execution_count": 132,
     "metadata": {},
     "output_type": "execute_result"
    }
   ],
   "source": [
    "d='606540'\n",
    "d[:-1]"
   ]
  },
  {
   "cell_type": "code",
   "execution_count": 21,
   "id": "acc5e0ac",
   "metadata": {},
   "outputs": [
    {
     "data": {
      "text/plain": [
       "True"
      ]
     },
     "execution_count": 21,
     "metadata": {},
     "output_type": "execute_result"
    }
   ],
   "source": [
    "x=5.55\n",
    "'.' in str(x)"
   ]
  },
  {
   "cell_type": "code",
   "execution_count": 23,
   "id": "4ddc9bc0",
   "metadata": {},
   "outputs": [
    {
     "data": {
      "text/plain": [
       "'5.'"
      ]
     },
     "execution_count": 23,
     "metadata": {},
     "output_type": "execute_result"
    }
   ],
   "source": [
    "x=5\n",
    "g=(str(x)+'.')\n",
    "g"
   ]
  },
  {
   "cell_type": "code",
   "execution_count": 29,
   "id": "5e8f63fa",
   "metadata": {},
   "outputs": [
    {
     "data": {
      "text/plain": [
       "True"
      ]
     },
     "execution_count": 29,
     "metadata": {},
     "output_type": "execute_result"
    }
   ],
   "source": [
    "'/' in '5/4'"
   ]
  },
  {
   "cell_type": "code",
   "execution_count": 43,
   "id": "1ce2a908",
   "metadata": {},
   "outputs": [
    {
     "data": {
      "text/plain": [
       "True"
      ]
     },
     "execution_count": 43,
     "metadata": {},
     "output_type": "execute_result"
    }
   ],
   "source": [
    "('+' or '/' or '-' or '+') in str(str('3+3'))"
   ]
  },
  {
   "cell_type": "code",
   "execution_count": 35,
   "id": "50407f9f",
   "metadata": {},
   "outputs": [
    {
     "data": {
      "text/plain": [
       "True"
      ]
     },
     "execution_count": 35,
     "metadata": {},
     "output_type": "execute_result"
    }
   ],
   "source": [
    "'r' in 'rossy'"
   ]
  },
  {
   "cell_type": "code",
   "execution_count": 36,
   "id": "389ce3b4",
   "metadata": {},
   "outputs": [
    {
     "data": {
      "text/plain": [
       "True"
      ]
     },
     "execution_count": 36,
     "metadata": {},
     "output_type": "execute_result"
    }
   ],
   "source": [
    "'+' in '3+3'"
   ]
  },
  {
   "cell_type": "code",
   "execution_count": 66,
   "id": "82e7380f",
   "metadata": {},
   "outputs": [
    {
     "data": {
      "text/plain": [
       "'+'"
      ]
     },
     "execution_count": 66,
     "metadata": {},
     "output_type": "execute_result"
    }
   ],
   "source": [
    "'+' or '/' or '*' or '-' in '2'"
   ]
  },
  {
   "cell_type": "code",
   "execution_count": 67,
   "id": "d73b0f32",
   "metadata": {},
   "outputs": [
    {
     "data": {
      "text/plain": [
       "False"
      ]
     },
     "execution_count": 67,
     "metadata": {},
     "output_type": "execute_result"
    }
   ],
   "source": [
    "('+' in '3') or ('-' in '3') or ('*' in '3') or ('/' in '3') "
   ]
  },
  {
   "cell_type": "code",
   "execution_count": null,
   "id": "faa2d5e9",
   "metadata": {},
   "outputs": [],
   "source": []
  }
 ],
 "metadata": {
  "kernelspec": {
   "display_name": "Python 3 (ipykernel)",
   "language": "python",
   "name": "python3"
  },
  "language_info": {
   "codemirror_mode": {
    "name": "ipython",
    "version": 3
   },
   "file_extension": ".py",
   "mimetype": "text/x-python",
   "name": "python",
   "nbconvert_exporter": "python",
   "pygments_lexer": "ipython3",
   "version": "3.9.6"
  }
 },
 "nbformat": 4,
 "nbformat_minor": 5
}
