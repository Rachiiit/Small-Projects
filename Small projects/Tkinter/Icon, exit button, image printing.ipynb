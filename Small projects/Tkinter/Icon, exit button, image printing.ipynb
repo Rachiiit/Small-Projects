{
 "cells": [
  {
   "cell_type": "code",
   "execution_count": 1,
   "id": "100c839a",
   "metadata": {},
   "outputs": [],
   "source": [
    "from tkinter import *"
   ]
  },
  {
   "cell_type": "code",
   "execution_count": 3,
   "id": "da03f333",
   "metadata": {},
   "outputs": [],
   "source": [
    "from PIL import Image,ImageTk"
   ]
  },
  {
   "cell_type": "code",
   "execution_count": 18,
   "id": "0da947f8",
   "metadata": {},
   "outputs": [],
   "source": [
    "root=Tk()\n",
    "\n",
    "root.title(\"Rossy\")\n",
    "root.iconbitmap('Capture1.ico')\n",
    "\n",
    "\n",
    "root.mainloop()"
   ]
  },
  {
   "cell_type": "markdown",
   "id": "2d407878",
   "metadata": {},
   "source": [
    "Icon"
   ]
  },
  {
   "cell_type": "code",
   "execution_count": 20,
   "id": "3719b7f3",
   "metadata": {},
   "outputs": [],
   "source": [
    "root=Tk()\n",
    "\n",
    "root.title(\"Rossy\")\n",
    "root.iconbitmap('Capture.ico')\n",
    "\n",
    "\n",
    "root.mainloop()"
   ]
  },
  {
   "cell_type": "markdown",
   "id": "9b07f353",
   "metadata": {},
   "source": [
    "Exit button"
   ]
  },
  {
   "cell_type": "code",
   "execution_count": 7,
   "id": "589f85fc",
   "metadata": {},
   "outputs": [],
   "source": [
    "root=Tk()\n",
    "\n",
    "root.title(\"Rossy\")\n",
    "root.iconbitmap('Capture1.ico')\n",
    "button_exit=Button(root,text='Click to close',command=root.quit)\n",
    "button_exit.pack()\n",
    "root.mainloop()"
   ]
  },
  {
   "cell_type": "markdown",
   "id": "01dc1da6",
   "metadata": {},
   "source": [
    "Image printing"
   ]
  },
  {
   "cell_type": "code",
   "execution_count": null,
   "id": "774413e4",
   "metadata": {},
   "outputs": [],
   "source": [
    "2+2"
   ]
  },
  {
   "cell_type": "code",
   "execution_count": 5,
   "id": "6c0954c2",
   "metadata": {},
   "outputs": [],
   "source": [
    "root=Tk()\n",
    "\n",
    "root.title(\"Rossy's picture\")\n",
    "root.iconbitmap('Capture.ico')\n",
    "\n",
    "my_image=ImageTk.PhotoImage(Image.open('Screenshot_20201128_214253.jpg'))\n",
    "my_label=Label(image=my_image)\n",
    "my_label.pack()\n",
    "button_exit=Button(root,text='Click to exit',command=root.quit)\n",
    "button_exit.pack()\n",
    "root.mainloop()"
   ]
  },
  {
   "cell_type": "code",
   "execution_count": null,
   "id": "1e3e5b49",
   "metadata": {},
   "outputs": [],
   "source": []
  },
  {
   "cell_type": "code",
   "execution_count": null,
   "id": "b9722a20",
   "metadata": {},
   "outputs": [],
   "source": []
  },
  {
   "cell_type": "code",
   "execution_count": null,
   "id": "1b43d0c1",
   "metadata": {},
   "outputs": [],
   "source": []
  },
  {
   "cell_type": "code",
   "execution_count": null,
   "id": "962612fe",
   "metadata": {},
   "outputs": [],
   "source": []
  },
  {
   "cell_type": "code",
   "execution_count": null,
   "id": "8225b6ca",
   "metadata": {},
   "outputs": [],
   "source": []
  },
  {
   "cell_type": "code",
   "execution_count": null,
   "id": "363c01ee",
   "metadata": {},
   "outputs": [],
   "source": [
    "IMG-20201103-WA0032"
   ]
  },
  {
   "cell_type": "code",
   "execution_count": null,
   "id": "17cd0358",
   "metadata": {},
   "outputs": [],
   "source": []
  },
  {
   "cell_type": "code",
   "execution_count": null,
   "id": "5de0e936",
   "metadata": {},
   "outputs": [],
   "source": []
  }
 ],
 "metadata": {
  "kernelspec": {
   "display_name": "Python 3 (ipykernel)",
   "language": "python",
   "name": "python3"
  },
  "language_info": {
   "codemirror_mode": {
    "name": "ipython",
    "version": 3
   },
   "file_extension": ".py",
   "mimetype": "text/x-python",
   "name": "python",
   "nbconvert_exporter": "python",
   "pygments_lexer": "ipython3",
   "version": "3.9.6"
  }
 },
 "nbformat": 4,
 "nbformat_minor": 5
}
