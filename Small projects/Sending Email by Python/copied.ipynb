{
 "cells": [
  {
   "cell_type": "markdown",
   "id": "fa82cc06",
   "metadata": {},
   "source": [
    "https://youtu.be/u2O9bPyHNOE"
   ]
  },
  {
   "cell_type": "code",
   "execution_count": null,
   "id": "56dca668",
   "metadata": {},
   "outputs": [],
   "source": []
  },
  {
   "cell_type": "code",
   "execution_count": 2,
   "id": "2280a272",
   "metadata": {},
   "outputs": [
    {
     "ename": "KeyError",
     "evalue": "None",
     "output_type": "error",
     "traceback": [
      "\u001b[1;31m---------------------------------------------------------------------------\u001b[0m",
      "\u001b[1;31mKeyError\u001b[0m                                  Traceback (most recent call last)",
      "\u001b[1;32m~\\AppData\\Local\\Temp/ipykernel_15852/2569594968.py\u001b[0m in \u001b[0;36m<module>\u001b[1;34m\u001b[0m\n\u001b[0;32m     64\u001b[0m \u001b[1;33m\u001b[0m\u001b[0m\n\u001b[0;32m     65\u001b[0m \u001b[1;33m\u001b[0m\u001b[0m\n\u001b[1;32m---> 66\u001b[1;33m \u001b[0mget_email_info\u001b[0m\u001b[1;33m(\u001b[0m\u001b[1;33m)\u001b[0m\u001b[1;33m\u001b[0m\u001b[1;33m\u001b[0m\u001b[0m\n\u001b[0m",
      "\u001b[1;32m~\\AppData\\Local\\Temp/ipykernel_15852/2569594968.py\u001b[0m in \u001b[0;36mget_email_info\u001b[1;34m()\u001b[0m\n\u001b[0;32m     50\u001b[0m     \u001b[0mtalk\u001b[0m\u001b[1;33m(\u001b[0m\u001b[1;34m'To Whom you want to send email'\u001b[0m\u001b[1;33m)\u001b[0m\u001b[1;33m\u001b[0m\u001b[1;33m\u001b[0m\u001b[0m\n\u001b[0;32m     51\u001b[0m     \u001b[0mname\u001b[0m \u001b[1;33m=\u001b[0m \u001b[0mget_info\u001b[0m\u001b[1;33m(\u001b[0m\u001b[1;33m)\u001b[0m\u001b[1;33m\u001b[0m\u001b[1;33m\u001b[0m\u001b[0m\n\u001b[1;32m---> 52\u001b[1;33m     \u001b[0mreceiver\u001b[0m \u001b[1;33m=\u001b[0m \u001b[0memail_list\u001b[0m\u001b[1;33m[\u001b[0m\u001b[0mname\u001b[0m\u001b[1;33m]\u001b[0m\u001b[1;33m\u001b[0m\u001b[1;33m\u001b[0m\u001b[0m\n\u001b[0m\u001b[0;32m     53\u001b[0m     \u001b[0mprint\u001b[0m\u001b[1;33m(\u001b[0m\u001b[0mreceiver\u001b[0m\u001b[1;33m)\u001b[0m\u001b[1;33m\u001b[0m\u001b[1;33m\u001b[0m\u001b[0m\n\u001b[0;32m     54\u001b[0m     \u001b[0mtalk\u001b[0m\u001b[1;33m(\u001b[0m\u001b[1;34m'What is the subject of your email?'\u001b[0m\u001b[1;33m)\u001b[0m\u001b[1;33m\u001b[0m\u001b[1;33m\u001b[0m\u001b[0m\n",
      "\u001b[1;31mKeyError\u001b[0m: None"
     ]
    }
   ],
   "source": [
    "import smtplib\n",
    "import speech_recognition as sr\n",
    "import pyttsx3\n",
    "from email.message import EmailMessage\n",
    "\n",
    "listener = sr.Recognizer()\n",
    "engine = pyttsx3.init()\n",
    "\n",
    "\n",
    "def talk(text):\n",
    "    engine.say(text)\n",
    "    engine.runAndWait()\n",
    "\n",
    "\n",
    "def get_info():\n",
    "    try:\n",
    "        with sr.Microphone() as source:\n",
    "            print('listening...')\n",
    "            voice = listener.listen(source)\n",
    "            info = listener.recognize_google(voice)\n",
    "            print(info)\n",
    "            return info.lower()\n",
    "    except:\n",
    "        pass\n",
    "\n",
    "\n",
    "def send_email(receiver, subject, message):\n",
    "    server = smtplib.SMTP('smtp.gmail.com', 587)\n",
    "    server.starttls()\n",
    "    # Make sure to give app access in your Google account\n",
    "    server.login('Sender_Email', 'Sender_Email_password')\n",
    "    email = EmailMessage()\n",
    "    email['From'] = 'Sender_Email'\n",
    "    email['To'] = receiver\n",
    "    email['Subject'] = subject\n",
    "    email.set_content(message)\n",
    "    server.send_message(email)\n",
    "\n",
    "\n",
    "email_list = {\n",
    "    'dude': 'COOL_DUDE_EMAIL',\n",
    "    'bts': 'diamond@bts.com',\n",
    "    'pink': 'jennie@blackpink.com',\n",
    "    'lisa': 'lisa@blackpink.com',\n",
    "    'irene': 'irene@redvelvet.com'\n",
    "}\n",
    "\n",
    "\n",
    "def get_email_info():\n",
    "    talk('To Whom you want to send email')\n",
    "    name = get_info()\n",
    "    receiver = email_list[name]\n",
    "    print(receiver)\n",
    "    talk('What is the subject of your email?')\n",
    "    subject = get_info()\n",
    "    talk('Tell me the text in your email')\n",
    "    message = get_info()\n",
    "    send_email(receiver, subject, message)\n",
    "    talk('Hey lazy ass. Your email is sent')\n",
    "    talk('Do you want to send more email?')\n",
    "    send_more = get_info()\n",
    "    if 'yes' in send_more:\n",
    "        get_email_info()\n",
    "\n",
    "\n",
    "get_email_info()"
   ]
  },
  {
   "cell_type": "code",
   "execution_count": null,
   "id": "cc664ba3",
   "metadata": {},
   "outputs": [],
   "source": []
  }
 ],
 "metadata": {
  "kernelspec": {
   "display_name": "Python 3 (ipykernel)",
   "language": "python",
   "name": "python3"
  },
  "language_info": {
   "codemirror_mode": {
    "name": "ipython",
    "version": 3
   },
   "file_extension": ".py",
   "mimetype": "text/x-python",
   "name": "python",
   "nbconvert_exporter": "python",
   "pygments_lexer": "ipython3",
   "version": "3.9.6"
  }
 },
 "nbformat": 4,
 "nbformat_minor": 5
}
