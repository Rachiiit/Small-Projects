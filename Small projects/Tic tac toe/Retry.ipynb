{
 "cells": [
  {
   "cell_type": "code",
   "execution_count": 137,
   "id": "d4b4a6b7",
   "metadata": {},
   "outputs": [],
   "source": [
    "import numpy as np\n",
    "import random\n",
    "from numpy import random\n",
    "import time\n",
    "\n",
    "def board():\n",
    "    e=np.array(['a','b','c','d','e','f','g','h','i'])\n",
    "    global w\n",
    "    w=e.reshape(3,3)\n",
    "    print(w)\n",
    "\n",
    "def TicTacToe():\n",
    "    global winningCondition,drawCondition\n",
    "    winningCondition,drawCondition=False,False\n",
    "    print('''\\nWelcome to play Tic Tac Toe.\n",
    "    First player will play with X and second player will play with O.\n",
    "    In the box, there are alphabets from a to i, write a alphabet to replace your entery.\n",
    "    Player 1 and player 2 will be playing alternatively.''')\n",
    "    board()\n",
    "    global player1,player2\n",
    "    player1=input('Please enter player 1 name: ')\n",
    "    player2=input(\"Please enter player 2 name: \")\n",
    "    player1move()\n",
    "    \n",
    "def checkAvailability(x):\n",
    "    global availability\n",
    "    availability=False\n",
    "    if (x in w)==True:\n",
    "        availability=True\n",
    "    else:\n",
    "        print(\"{} place is already used. Please try again\".format(x))\n",
    "\n",
    "def player1move():\n",
    "    while 53:\n",
    "        if (winningCondition or drawCondition)!=True:\n",
    "            time.sleep(1)\n",
    "            g=input('\\n{}\\'s turn, you are playing X, enter a alphabet from a to i or enter s to stop playing: '.format(player1))\n",
    "            if g.lower()=='a':\n",
    "                w[0,0]='X'\n",
    "                print(w)\n",
    "                checkForWin(player1)\n",
    "                player2move()\n",
    "            elif g.lower()=='b':\n",
    "                w[0,1]='X'\n",
    "                print(w)\n",
    "                checkForWin(player1)\n",
    "                player2move()\n",
    "            elif g.lower()=='c':\n",
    "                w[0,2]='X'\n",
    "                print(w)\n",
    "                checkForWin(player1)\n",
    "                player2move()\n",
    "            elif g.lower()=='d':\n",
    "                w[1,0]='X'\n",
    "                print(w)\n",
    "                checkForWin(player1)\n",
    "                player2move()\n",
    "            elif g.lower()=='e':\n",
    "                w[1,1]='X'\n",
    "                print(w)\n",
    "                checkForWin(player1)\n",
    "                player2move()\n",
    "            elif g.lower()=='f':\n",
    "                w[1,2]='X'\n",
    "                print(w)\n",
    "                checkForWin(player1)\n",
    "                player2move()\n",
    "            elif g.lower()=='g':\n",
    "                w[2,0]='X'\n",
    "                print(w)\n",
    "                checkForWin(player1)\n",
    "                player2move()\n",
    "            elif g.lower()=='h':\n",
    "                w[2,1]='X'\n",
    "                print(w)\n",
    "                checkForWin(player1)\n",
    "                player2move()\n",
    "            elif g.lower()=='i':\n",
    "                w[2,2]='X'\n",
    "                print(w)\n",
    "                checkForWin(player1)\n",
    "                player2move()\n",
    "            elif g.lower()=='s':\n",
    "                thanks()\n",
    "            else:\n",
    "                print('Please enter desire input only.')\n",
    "        else:\n",
    "            break\n",
    "            \n",
    "def player2move():\n",
    "    while 53:\n",
    "        if (winningCondition or drawCondition)!=True:\n",
    "            time.sleep(1)\n",
    "            g=input('\\n{}\\'s turn, you are playing O, enter a alphabet from a to i, enter s to stop playing: '.format(player2))\n",
    "            if g.lower()=='a':\n",
    "                checkAvailability('a')\n",
    "                if availability==True:\n",
    "                    w[0,0]='O'\n",
    "                    print(w)\n",
    "                    checkForWin(player2)\n",
    "                    player1move()\n",
    "            elif g.lower()=='b':\n",
    "                w[0,1]='O'\n",
    "                print(w)\n",
    "                checkForWin(player2)\n",
    "                player1move()\n",
    "            elif g.lower()=='c':\n",
    "                w[0,2]='O'\n",
    "                print(w)\n",
    "                checkForWin(player2)\n",
    "                player1move()\n",
    "            elif g.lower()=='d':\n",
    "                w[1,0]='O'\n",
    "                print(w)\n",
    "                checkForWin(player2)\n",
    "                player1move()\n",
    "            elif g.lower()=='e':\n",
    "                w[1,1]='O'\n",
    "                print(w)\n",
    "                checkForWin(player2)\n",
    "                player1move()\n",
    "            elif g.lower()=='f':\n",
    "                w[1,2]='O'\n",
    "                print(w)\n",
    "                checkForWin(player2)\n",
    "                player1move()\n",
    "            elif g.lower()=='g':\n",
    "                w[2,0]='O'\n",
    "                print(w)\n",
    "                checkForWin(player2)\n",
    "                player1move()\n",
    "            elif g.lower()=='h':\n",
    "                w[2,1]='O'\n",
    "                print(w)\n",
    "                checkForWin(player2)\n",
    "                player1move()\n",
    "            elif g.lower()=='i':\n",
    "                w[2,2]='O'\n",
    "                print(w)\n",
    "                checkForWin(player2)\n",
    "                player1move()\n",
    "            elif g.lower()=='s':\n",
    "                thanks()\n",
    "            else:\n",
    "                print('Please enter desire input only.')\n",
    "        else:\n",
    "            break\n",
    "\n",
    "def thanks():\n",
    "    global winningCondition,drawCondition\n",
    "    winningCondition=True\n",
    "    return 'Thank you for playing.'\n",
    "\n",
    "def checkForWin(winner):\n",
    "    firstRow=w[0,0]==w[0,1]==w[0,2]\n",
    "    secondRow=w[1,0]==w[1,1]==w[1,2]\n",
    "    thirdRow=w[2,0]==w[2,1]==w[2,2]\n",
    "    firstColumn=w[0,0]==w[1,0]==w[2,0]\n",
    "    secondColumn=w[0,1]==w[1,1]==w[2,1]\n",
    "    thirdColumn=w[0,2]==w[1,2]==w[2,2]\n",
    "    lrDiagonal=w[0,0]==w[1,1]==w[2,2]\n",
    "    rlDiagonal=w[0,2]==w[1,1]==w[2,0]\n",
    "    global winningCondition,drawCondition\n",
    "    winningCondition=firstRow or secondRow or thirdRow or firstColumn or secondColumn or thirdColumn or lrDiagonal or rlDiagonal\n",
    "    drawCondition=w[0,0]!='a' and w[0,1]!='b' and w[0,2]!='c' and w[1,0]!='d' and w[1,1]!='e' and w[1,2]!='f' and w[2,0]!='g' and w[2,1]!='h' and w[2,2]!='i'\n",
    "    while 54:\n",
    "        if winningCondition:\n",
    "            print(\"\\nCongratulations, {} have won the match.\".format(winner))\n",
    "            replay=input('\\nWould you like to play again? Enter Y for Yes or anything for No: ')\n",
    "            if replay.lower()=='y':\n",
    "                TicTacToe()\n",
    "            else:\n",
    "                print('\\nThank you for playing.')\n",
    "                break\n",
    "        elif drawCondition:\n",
    "            print('\\nMatch is drawn.')\n",
    "            replay=input('\\nWould you like to play again? Enter Y for Yes or anything for No: ')\n",
    "            if replay.lower()=='y':\n",
    "                TicTacToe()\n",
    "            else:\n",
    "                print('\\nThank you for playing.')     \n",
    "                break\n",
    "        else:\n",
    "            break"
   ]
  },
  {
   "cell_type": "code",
   "execution_count": 138,
   "id": "02acd853",
   "metadata": {},
   "outputs": [
    {
     "name": "stdout",
     "output_type": "stream",
     "text": [
      "\n",
      "Welcome to play Tic Tac Toe.\n",
      "    First player will play with X and second player will play with O.\n",
      "    In the box, there are alphabets from a to i, write a alphabet to replace your entery.\n",
      "    Player 1 and player 2 will be playing alternatively.\n",
      "[['a' 'b' 'c']\n",
      " ['d' 'e' 'f']\n",
      " ['g' 'h' 'i']]\n",
      "Please enter player 1 name: Roshitha\n",
      "Please enter player 2 name: Padmini\n",
      "\n",
      "Roshitha's turn, you are playing X, enter a alphabet from a to i or enter s to stop playing: a\n",
      "[['X' 'b' 'c']\n",
      " ['d' 'e' 'f']\n",
      " ['g' 'h' 'i']]\n",
      "\n",
      "Padmini's turn, you are playing O, enter a alphabet from a to i, enter s to stop playing: a\n",
      "a place is already used. Please try again\n",
      "\n",
      "Padmini's turn, you are playing O, enter a alphabet from a to i, enter s to stop playing: a\n",
      "a place is already used. Please try again\n",
      "\n",
      "Padmini's turn, you are playing O, enter a alphabet from a to i, enter s to stop playing: a\n",
      "a place is already used. Please try again\n",
      "\n",
      "Padmini's turn, you are playing O, enter a alphabet from a to i, enter s to stop playing: d\n",
      "[['X' 'b' 'c']\n",
      " ['O' 'e' 'f']\n",
      " ['g' 'h' 'i']]\n",
      "\n",
      "Roshitha's turn, you are playing X, enter a alphabet from a to i or enter s to stop playing: e\n",
      "[['X' 'b' 'c']\n",
      " ['O' 'X' 'f']\n",
      " ['g' 'h' 'i']]\n",
      "\n",
      "Padmini's turn, you are playing O, enter a alphabet from a to i, enter s to stop playing: h\n",
      "[['X' 'b' 'c']\n",
      " ['O' 'X' 'f']\n",
      " ['g' 'O' 'i']]\n",
      "\n",
      "Roshitha's turn, you are playing X, enter a alphabet from a to i or enter s to stop playing: e\n",
      "[['X' 'b' 'c']\n",
      " ['O' 'X' 'f']\n",
      " ['g' 'O' 'i']]\n",
      "\n",
      "Padmini's turn, you are playing O, enter a alphabet from a to i, enter s to stop playing: a\n",
      "a place is already used. Please try again\n",
      "\n",
      "Padmini's turn, you are playing O, enter a alphabet from a to i, enter s to stop playing: g\n",
      "[['X' 'b' 'c']\n",
      " ['O' 'X' 'f']\n",
      " ['O' 'O' 'i']]\n",
      "\n",
      "Roshitha's turn, you are playing X, enter a alphabet from a to i or enter s to stop playing: i\n",
      "[['X' 'b' 'c']\n",
      " ['O' 'X' 'f']\n",
      " ['O' 'O' 'X']]\n",
      "\n",
      "Congratulations, Roshitha have won the match.\n",
      "\n",
      "Would you like to play again? Enter Y for Yes or anything for No: n\n",
      "\n",
      "Thank you for playing.\n"
     ]
    }
   ],
   "source": [
    "TicTacToe()"
   ]
  },
  {
   "cell_type": "code",
   "execution_count": 43,
   "id": "7a469eaf",
   "metadata": {},
   "outputs": [
    {
     "name": "stdout",
     "output_type": "stream",
     "text": [
      "Would you like to play Tic Tac Toe?\n",
      "Please enter Y for yes or N for no: y\n",
      "\n",
      "Welcome to play Tic Tac Toe.\n",
      "        First player will play with X and second player will play with O.\n",
      "        In the box, there are alphabets from a to i, write a alphabet to replace your entery.\n",
      "        Player 1 and player 2 will be playing alternatively.\n",
      "[['a' 'b' 'c']\n",
      " ['d' 'e' 'f']\n",
      " ['g' 'h' 'i']]\n",
      "Please enter player 1 name: Ashutosh Bhai\n",
      "Please enter player 2 name: Alankrita Yadav\n",
      "Checking False False\n",
      "\n",
      "Ashutosh Bhai's turn, you are playing X, enter a alphabet from a to i or enter s to stop playing: e\n",
      "[['a' 'b' 'c']\n",
      " ['d' 'X' 'f']\n",
      " ['g' 'h' 'i']]\n",
      "Checking False False\n",
      "\n",
      "Alankrita Yadav' turn, you are playing O, enter a alphabet from a to i, enter s to stop playing: c\n",
      "[['a' 'b' 'O']\n",
      " ['d' 'X' 'f']\n",
      " ['g' 'h' 'i']]\n",
      "Checking False False\n",
      "\n",
      "Ashutosh Bhai's turn, you are playing X, enter a alphabet from a to i or enter s to stop playing: h\n",
      "[['a' 'b' 'O']\n",
      " ['d' 'X' 'f']\n",
      " ['g' 'X' 'i']]\n",
      "Checking False False\n",
      "\n",
      "Alankrita Yadav' turn, you are playing O, enter a alphabet from a to i, enter s to stop playing: b\n",
      "[['a' 'O' 'O']\n",
      " ['d' 'X' 'f']\n",
      " ['g' 'X' 'i']]\n",
      "Checking False False\n",
      "\n",
      "Ashutosh Bhai's turn, you are playing X, enter a alphabet from a to i or enter s to stop playing: i\n",
      "[['a' 'O' 'O']\n",
      " ['d' 'X' 'f']\n",
      " ['g' 'X' 'X']]\n",
      "Checking False False\n",
      "\n",
      "Alankrita Yadav' turn, you are playing O, enter a alphabet from a to i, enter s to stop playing: a\n",
      "[['O' 'O' 'O']\n",
      " ['d' 'X' 'f']\n",
      " ['g' 'X' 'X']]\n",
      "\n",
      "Congratulations, Alankrita Yadav have won the match.\n",
      "\n",
      "Would you like to play again? Enter Y for Yes or anything for No: n\n",
      "\n",
      "Thank you for playing.\n"
     ]
    },
    {
     "ename": "KeyboardInterrupt",
     "evalue": "",
     "output_type": "error",
     "traceback": [
      "\u001b[1;31m---------------------------------------------------------------------------\u001b[0m",
      "\u001b[1;31mKeyboardInterrupt\u001b[0m                         Traceback (most recent call last)",
      "\u001b[1;32m~\\AppData\\Local\\Temp/ipykernel_13916/517846230.py\u001b[0m in \u001b[0;36m<module>\u001b[1;34m\u001b[0m\n\u001b[1;32m----> 1\u001b[1;33m \u001b[0mTicTacToe\u001b[0m\u001b[1;33m(\u001b[0m\u001b[1;33m)\u001b[0m\u001b[1;33m\u001b[0m\u001b[1;33m\u001b[0m\u001b[0m\n\u001b[0m",
      "\u001b[1;32m~\\AppData\\Local\\Temp/ipykernel_13916/1935316478.py\u001b[0m in \u001b[0;36mTicTacToe\u001b[1;34m()\u001b[0m\n\u001b[0;32m     12\u001b[0m         \u001b[0mplayer1\u001b[0m\u001b[1;33m=\u001b[0m\u001b[0minput\u001b[0m\u001b[1;33m(\u001b[0m\u001b[1;34m'Please enter player 1 name: '\u001b[0m\u001b[1;33m)\u001b[0m\u001b[1;33m\u001b[0m\u001b[1;33m\u001b[0m\u001b[0m\n\u001b[0;32m     13\u001b[0m         \u001b[0mplayer2\u001b[0m\u001b[1;33m=\u001b[0m\u001b[0minput\u001b[0m\u001b[1;33m(\u001b[0m\u001b[1;34m\"Please enter player 2 name: \"\u001b[0m\u001b[1;33m)\u001b[0m\u001b[1;33m\u001b[0m\u001b[1;33m\u001b[0m\u001b[0m\n\u001b[1;32m---> 14\u001b[1;33m         \u001b[0mplayer1move\u001b[0m\u001b[1;33m(\u001b[0m\u001b[1;33m)\u001b[0m\u001b[1;33m\u001b[0m\u001b[1;33m\u001b[0m\u001b[0m\n\u001b[0m\u001b[0;32m     15\u001b[0m     \u001b[1;32melse\u001b[0m\u001b[1;33m:\u001b[0m\u001b[1;33m\u001b[0m\u001b[1;33m\u001b[0m\u001b[0m\n\u001b[0;32m     16\u001b[0m         \u001b[0mprint\u001b[0m\u001b[1;33m(\u001b[0m\u001b[1;34m\"Thank you.\"\u001b[0m\u001b[1;33m)\u001b[0m\u001b[1;33m\u001b[0m\u001b[1;33m\u001b[0m\u001b[0m\n",
      "\u001b[1;32m~\\AppData\\Local\\Temp/ipykernel_13916/3953802830.py\u001b[0m in \u001b[0;36mplayer1move\u001b[1;34m()\u001b[0m\n\u001b[0;32m     34\u001b[0m                 \u001b[0mcheckForWin\u001b[0m\u001b[1;33m(\u001b[0m\u001b[0mplayer1\u001b[0m\u001b[1;33m)\u001b[0m\u001b[1;33m\u001b[0m\u001b[1;33m\u001b[0m\u001b[0m\n\u001b[0;32m     35\u001b[0m                 \u001b[1;32mif\u001b[0m \u001b[1;33m(\u001b[0m\u001b[0mwinningCondition\u001b[0m \u001b[1;32mor\u001b[0m \u001b[0mdrawCondition\u001b[0m\u001b[1;33m)\u001b[0m\u001b[1;33m!=\u001b[0m\u001b[1;32mTrue\u001b[0m\u001b[1;33m:\u001b[0m\u001b[1;33m\u001b[0m\u001b[1;33m\u001b[0m\u001b[0m\n\u001b[1;32m---> 36\u001b[1;33m                     \u001b[0mplayer2move\u001b[0m\u001b[1;33m(\u001b[0m\u001b[1;33m)\u001b[0m\u001b[1;33m\u001b[0m\u001b[1;33m\u001b[0m\u001b[0m\n\u001b[0m\u001b[0;32m     37\u001b[0m             \u001b[1;32melif\u001b[0m \u001b[0mg\u001b[0m\u001b[1;33m.\u001b[0m\u001b[0mlower\u001b[0m\u001b[1;33m(\u001b[0m\u001b[1;33m)\u001b[0m\u001b[1;33m==\u001b[0m\u001b[1;34m'f'\u001b[0m\u001b[1;33m:\u001b[0m\u001b[1;33m\u001b[0m\u001b[1;33m\u001b[0m\u001b[0m\n\u001b[0;32m     38\u001b[0m                 \u001b[0mw\u001b[0m\u001b[1;33m[\u001b[0m\u001b[1;36m1\u001b[0m\u001b[1;33m,\u001b[0m\u001b[1;36m2\u001b[0m\u001b[1;33m]\u001b[0m\u001b[1;33m=\u001b[0m\u001b[1;34m'X'\u001b[0m\u001b[1;33m\u001b[0m\u001b[1;33m\u001b[0m\u001b[0m\n",
      "\u001b[1;32m~\\AppData\\Local\\Temp/ipykernel_13916/3830324984.py\u001b[0m in \u001b[0;36mplayer2move\u001b[1;34m()\u001b[0m\n\u001b[0;32m     22\u001b[0m                 \u001b[0mcheckForWin\u001b[0m\u001b[1;33m(\u001b[0m\u001b[0mplayer1\u001b[0m\u001b[1;33m)\u001b[0m\u001b[1;33m\u001b[0m\u001b[1;33m\u001b[0m\u001b[0m\n\u001b[0;32m     23\u001b[0m                 \u001b[1;32mif\u001b[0m \u001b[1;33m(\u001b[0m\u001b[0mwinningCondition\u001b[0m \u001b[1;32mor\u001b[0m \u001b[0mdrawCondition\u001b[0m\u001b[1;33m)\u001b[0m\u001b[1;33m!=\u001b[0m\u001b[1;32mTrue\u001b[0m\u001b[1;33m:\u001b[0m\u001b[1;33m\u001b[0m\u001b[1;33m\u001b[0m\u001b[0m\n\u001b[1;32m---> 24\u001b[1;33m                     \u001b[0mplayer1move\u001b[0m\u001b[1;33m(\u001b[0m\u001b[1;33m)\u001b[0m\u001b[1;33m\u001b[0m\u001b[1;33m\u001b[0m\u001b[0m\n\u001b[0m\u001b[0;32m     25\u001b[0m             \u001b[1;32melif\u001b[0m \u001b[0mg\u001b[0m\u001b[1;33m.\u001b[0m\u001b[0mlower\u001b[0m\u001b[1;33m(\u001b[0m\u001b[1;33m)\u001b[0m\u001b[1;33m==\u001b[0m\u001b[1;34m'd'\u001b[0m\u001b[1;33m:\u001b[0m\u001b[1;33m\u001b[0m\u001b[1;33m\u001b[0m\u001b[0m\n\u001b[0;32m     26\u001b[0m                 \u001b[0mw\u001b[0m\u001b[1;33m[\u001b[0m\u001b[1;36m1\u001b[0m\u001b[1;33m,\u001b[0m\u001b[1;36m0\u001b[0m\u001b[1;33m]\u001b[0m\u001b[1;33m=\u001b[0m\u001b[1;34m'O'\u001b[0m\u001b[1;33m\u001b[0m\u001b[1;33m\u001b[0m\u001b[0m\n",
      "\u001b[1;32m~\\AppData\\Local\\Temp/ipykernel_13916/3953802830.py\u001b[0m in \u001b[0;36mplayer1move\u001b[1;34m()\u001b[0m\n\u001b[0;32m     52\u001b[0m                 \u001b[0mcheckForWin\u001b[0m\u001b[1;33m(\u001b[0m\u001b[0mplayer1\u001b[0m\u001b[1;33m)\u001b[0m\u001b[1;33m\u001b[0m\u001b[1;33m\u001b[0m\u001b[0m\n\u001b[0;32m     53\u001b[0m                 \u001b[1;32mif\u001b[0m \u001b[1;33m(\u001b[0m\u001b[0mwinningCondition\u001b[0m \u001b[1;32mor\u001b[0m \u001b[0mdrawCondition\u001b[0m\u001b[1;33m)\u001b[0m\u001b[1;33m!=\u001b[0m\u001b[1;32mTrue\u001b[0m\u001b[1;33m:\u001b[0m\u001b[1;33m\u001b[0m\u001b[1;33m\u001b[0m\u001b[0m\n\u001b[1;32m---> 54\u001b[1;33m                     \u001b[0mplayer2move\u001b[0m\u001b[1;33m(\u001b[0m\u001b[1;33m)\u001b[0m\u001b[1;33m\u001b[0m\u001b[1;33m\u001b[0m\u001b[0m\n\u001b[0m\u001b[0;32m     55\u001b[0m             \u001b[1;32melif\u001b[0m \u001b[0mg\u001b[0m\u001b[1;33m.\u001b[0m\u001b[0mlower\u001b[0m\u001b[1;33m(\u001b[0m\u001b[1;33m)\u001b[0m\u001b[1;33m==\u001b[0m\u001b[1;34m'i'\u001b[0m\u001b[1;33m:\u001b[0m\u001b[1;33m\u001b[0m\u001b[1;33m\u001b[0m\u001b[0m\n\u001b[0;32m     56\u001b[0m                 \u001b[0mw\u001b[0m\u001b[1;33m[\u001b[0m\u001b[1;36m2\u001b[0m\u001b[1;33m,\u001b[0m\u001b[1;36m2\u001b[0m\u001b[1;33m]\u001b[0m\u001b[1;33m=\u001b[0m\u001b[1;34m'X'\u001b[0m\u001b[1;33m\u001b[0m\u001b[1;33m\u001b[0m\u001b[0m\n",
      "\u001b[1;32m~\\AppData\\Local\\Temp/ipykernel_13916/3830324984.py\u001b[0m in \u001b[0;36mplayer2move\u001b[1;34m()\u001b[0m\n\u001b[0;32m     16\u001b[0m                 \u001b[0mcheckForWin\u001b[0m\u001b[1;33m(\u001b[0m\u001b[0mplayer1\u001b[0m\u001b[1;33m)\u001b[0m\u001b[1;33m\u001b[0m\u001b[1;33m\u001b[0m\u001b[0m\n\u001b[0;32m     17\u001b[0m                 \u001b[1;32mif\u001b[0m \u001b[1;33m(\u001b[0m\u001b[0mwinningCondition\u001b[0m \u001b[1;32mor\u001b[0m \u001b[0mdrawCondition\u001b[0m\u001b[1;33m)\u001b[0m\u001b[1;33m!=\u001b[0m\u001b[1;32mTrue\u001b[0m\u001b[1;33m:\u001b[0m\u001b[1;33m\u001b[0m\u001b[1;33m\u001b[0m\u001b[0m\n\u001b[1;32m---> 18\u001b[1;33m                     \u001b[0mplayer1move\u001b[0m\u001b[1;33m(\u001b[0m\u001b[1;33m)\u001b[0m\u001b[1;33m\u001b[0m\u001b[1;33m\u001b[0m\u001b[0m\n\u001b[0m\u001b[0;32m     19\u001b[0m             \u001b[1;32melif\u001b[0m \u001b[0mg\u001b[0m\u001b[1;33m.\u001b[0m\u001b[0mlower\u001b[0m\u001b[1;33m(\u001b[0m\u001b[1;33m)\u001b[0m\u001b[1;33m==\u001b[0m\u001b[1;34m'c'\u001b[0m\u001b[1;33m:\u001b[0m\u001b[1;33m\u001b[0m\u001b[1;33m\u001b[0m\u001b[0m\n\u001b[0;32m     20\u001b[0m                 \u001b[0mw\u001b[0m\u001b[1;33m[\u001b[0m\u001b[1;36m0\u001b[0m\u001b[1;33m,\u001b[0m\u001b[1;36m2\u001b[0m\u001b[1;33m]\u001b[0m\u001b[1;33m=\u001b[0m\u001b[1;34m'O'\u001b[0m\u001b[1;33m\u001b[0m\u001b[1;33m\u001b[0m\u001b[0m\n",
      "\u001b[1;32m~\\AppData\\Local\\Temp/ipykernel_13916/3953802830.py\u001b[0m in \u001b[0;36mplayer1move\u001b[1;34m()\u001b[0m\n\u001b[0;32m     58\u001b[0m                 \u001b[0mcheckForWin\u001b[0m\u001b[1;33m(\u001b[0m\u001b[0mplayer1\u001b[0m\u001b[1;33m)\u001b[0m\u001b[1;33m\u001b[0m\u001b[1;33m\u001b[0m\u001b[0m\n\u001b[0;32m     59\u001b[0m                 \u001b[1;32mif\u001b[0m \u001b[1;33m(\u001b[0m\u001b[0mwinningCondition\u001b[0m \u001b[1;32mor\u001b[0m \u001b[0mdrawCondition\u001b[0m\u001b[1;33m)\u001b[0m\u001b[1;33m!=\u001b[0m\u001b[1;32mTrue\u001b[0m\u001b[1;33m:\u001b[0m\u001b[1;33m\u001b[0m\u001b[1;33m\u001b[0m\u001b[0m\n\u001b[1;32m---> 60\u001b[1;33m                     \u001b[0mplayer2move\u001b[0m\u001b[1;33m(\u001b[0m\u001b[1;33m)\u001b[0m\u001b[1;33m\u001b[0m\u001b[1;33m\u001b[0m\u001b[0m\n\u001b[0m\u001b[0;32m     61\u001b[0m             \u001b[1;32melif\u001b[0m \u001b[0mg\u001b[0m\u001b[1;33m.\u001b[0m\u001b[0mlower\u001b[0m\u001b[1;33m(\u001b[0m\u001b[1;33m)\u001b[0m\u001b[1;33m==\u001b[0m\u001b[1;34m's'\u001b[0m\u001b[1;33m:\u001b[0m\u001b[1;33m\u001b[0m\u001b[1;33m\u001b[0m\u001b[0m\n\u001b[0;32m     62\u001b[0m                 \u001b[0mthanks\u001b[0m\u001b[1;33m(\u001b[0m\u001b[1;33m)\u001b[0m\u001b[1;33m\u001b[0m\u001b[1;33m\u001b[0m\u001b[0m\n",
      "\u001b[1;32m~\\AppData\\Local\\Temp/ipykernel_13916/3830324984.py\u001b[0m in \u001b[0;36mplayer2move\u001b[1;34m()\u001b[0m\n\u001b[0;32m      2\u001b[0m     \u001b[0mtime\u001b[0m\u001b[1;33m.\u001b[0m\u001b[0msleep\u001b[0m\u001b[1;33m(\u001b[0m\u001b[1;36m1\u001b[0m\u001b[1;33m)\u001b[0m\u001b[1;33m\u001b[0m\u001b[1;33m\u001b[0m\u001b[0m\n\u001b[0;32m      3\u001b[0m     \u001b[1;32mwhile\u001b[0m \u001b[1;36m53\u001b[0m\u001b[1;33m:\u001b[0m\u001b[1;33m\u001b[0m\u001b[1;33m\u001b[0m\u001b[0m\n\u001b[1;32m----> 4\u001b[1;33m         \u001b[1;32mif\u001b[0m \u001b[1;33m(\u001b[0m\u001b[0mwinningCondition\u001b[0m \u001b[1;32mor\u001b[0m \u001b[0mdrawCondition\u001b[0m\u001b[1;33m)\u001b[0m\u001b[1;33m!=\u001b[0m\u001b[1;32mTrue\u001b[0m\u001b[1;33m:\u001b[0m\u001b[1;33m\u001b[0m\u001b[1;33m\u001b[0m\u001b[0m\n\u001b[0m\u001b[0;32m      5\u001b[0m             \u001b[0mprint\u001b[0m\u001b[1;33m(\u001b[0m\u001b[1;34m\"Checking\"\u001b[0m\u001b[1;33m,\u001b[0m\u001b[0mwinningCondition\u001b[0m\u001b[1;33m,\u001b[0m\u001b[0mdrawCondition\u001b[0m\u001b[1;33m)\u001b[0m\u001b[1;33m\u001b[0m\u001b[1;33m\u001b[0m\u001b[0m\n\u001b[0;32m      6\u001b[0m             \u001b[0mg\u001b[0m\u001b[1;33m=\u001b[0m\u001b[0minput\u001b[0m\u001b[1;33m(\u001b[0m\u001b[1;34m'\\n{}\\' turn, you are playing O, enter a alphabet from a to i, enter s to stop playing: '\u001b[0m\u001b[1;33m.\u001b[0m\u001b[0mformat\u001b[0m\u001b[1;33m(\u001b[0m\u001b[0mplayer2\u001b[0m\u001b[1;33m)\u001b[0m\u001b[1;33m)\u001b[0m\u001b[1;33m\u001b[0m\u001b[1;33m\u001b[0m\u001b[0m\n",
      "\u001b[1;31mKeyboardInterrupt\u001b[0m: "
     ]
    }
   ],
   "source": [
    "TicTacToe()"
   ]
  },
  {
   "cell_type": "code",
   "execution_count": 119,
   "id": "12a2b2d9",
   "metadata": {},
   "outputs": [],
   "source": [
    "# import numpy as np\n",
    "# import random\n",
    "# from numpy import random\n",
    "# import time\n",
    "\n",
    "# def board():\n",
    "#     e=np.array(['a','b','c','d','e','f','g','h','i'])\n",
    "#     global w\n",
    "#     w=e.reshape(3,3)\n",
    "#     print(w)\n",
    "\n",
    "# def ticTacToe():\n",
    "#     global winningCondition,drawCondition\n",
    "#     winningCondition,drawCondition=False,False\n",
    "#     print('''\\nWelcome to play Tic Tac Toe.\n",
    "#     First player will play with X and second player will play with O.\n",
    "#     In the box, there are alphabets from a to i, write a alphabet to replace your entery.\n",
    "#     Player 1 and player 2 will be playing alternatively.''')\n",
    "#     board()\n",
    "#     global player1,player2\n",
    "#     player1=input('Please enter player 1 name: ')\n",
    "#     player2=input(\"Please enter player 2 name: \")\n",
    "#     player1move()\n",
    "\n",
    "# def player1move():\n",
    "#     while 53:\n",
    "#         if (winningCondition or drawCondition)!=True:\n",
    "#             time.sleep(1)\n",
    "#             g=input('\\n{}\\'s turn, you are playing X, enter a alphabet from a to i or enter s to stop playing: '.format(player1))\n",
    "#             if g.lower()=='a':\n",
    "#                 w[0,0]='X'\n",
    "#                 print(w)\n",
    "#                 checkForWin(player1)\n",
    "#                 player2move()\n",
    "#             elif g.lower()=='b':\n",
    "#                 w[0,1]='X'\n",
    "#                 print(w)\n",
    "#                 checkForWin(player1)\n",
    "#                 player2move()\n",
    "#             elif g.lower()=='c':\n",
    "#                 w[0,2]='X'\n",
    "#                 print(w)\n",
    "#                 checkForWin(player1)\n",
    "#                 player2move()\n",
    "#             elif g.lower()=='d':\n",
    "#                 w[1,0]='X'\n",
    "#                 print(w)\n",
    "#                 checkForWin(player1)\n",
    "#                 player2move()\n",
    "#             elif g.lower()=='e':\n",
    "#                 w[1,1]='X'\n",
    "#                 print(w)\n",
    "#                 checkForWin(player1)\n",
    "#                 player2move()\n",
    "#             elif g.lower()=='f':\n",
    "#                 w[1,2]='X'\n",
    "#                 print(w)\n",
    "#                 checkForWin(player1)\n",
    "#                 player2move()\n",
    "#             elif g.lower()=='g':\n",
    "#                 w[2,0]='X'\n",
    "#                 print(w)\n",
    "#                 checkForWin(player1)\n",
    "#                 player2move()\n",
    "#             elif g.lower()=='h':\n",
    "#                 w[2,1]='X'\n",
    "#                 print(w)\n",
    "#                 checkForWin(player1)\n",
    "#                 player2move()\n",
    "#             elif g.lower()=='i':\n",
    "#                 w[2,2]='X'\n",
    "#                 print(w)\n",
    "#                 checkForWin(player1)\n",
    "#                 player2move()\n",
    "#             elif g.lower()=='s':\n",
    "#                 thanks()\n",
    "#             else:\n",
    "#                 print('Please enter desire input only.')\n",
    "#         else:\n",
    "#             break\n",
    "            \n",
    "# def player2move():\n",
    "#     while 53:\n",
    "#         if (winningCondition or drawCondition)!=True:\n",
    "#             time.sleep(1)\n",
    "#             g=input('\\n{}\\'s turn, you are playing O, enter a alphabet from a to i, enter s to stop playing: '.format(player2))\n",
    "#             if g.lower()=='a':\n",
    "#                 w[0,0]='O'\n",
    "#                 print(w)\n",
    "#                 checkForWin(player2)\n",
    "#                 player1move()\n",
    "#             elif g.lower()=='b':\n",
    "#                 w[0,1]='O'\n",
    "#                 print(w)\n",
    "#                 checkForWin(player2)\n",
    "#                 player1move()\n",
    "#             elif g.lower()=='c':\n",
    "#                 w[0,2]='O'\n",
    "#                 print(w)\n",
    "#                 checkForWin(player2)\n",
    "#                 player1move()\n",
    "#             elif g.lower()=='d':\n",
    "#                 w[1,0]='O'\n",
    "#                 print(w)\n",
    "#                 checkForWin(player2)\n",
    "#                 player1move()\n",
    "#             elif g.lower()=='e':\n",
    "#                 w[1,1]='O'\n",
    "#                 print(w)\n",
    "#                 checkForWin(player2)\n",
    "#                 player1move()\n",
    "#             elif g.lower()=='f':\n",
    "#                 w[1,2]='O'\n",
    "#                 print(w)\n",
    "#                 checkForWin(player2)\n",
    "#                 player1move()\n",
    "#             elif g.lower()=='g':\n",
    "#                 w[2,0]='O'\n",
    "#                 print(w)\n",
    "#                 checkForWin(player2)\n",
    "#                 player1move()\n",
    "#             elif g.lower()=='h':\n",
    "#                 w[2,1]='O'\n",
    "#                 print(w)\n",
    "#                 checkForWin(player2)\n",
    "#                 player1move()\n",
    "#             elif g.lower()=='i':\n",
    "#                 w[2,2]='O'\n",
    "#                 print(w)\n",
    "#                 checkForWin(player2)\n",
    "#                 player1move()\n",
    "#             elif g.lower()=='s':\n",
    "#                 thanks()\n",
    "#             else:\n",
    "#                 print('Please enter desire input only.')\n",
    "#         else:\n",
    "#             break\n",
    "\n",
    "# def thanks():\n",
    "#     global winningCondition,drawCondition\n",
    "#     winningCondition=True\n",
    "#     return 'Thank you for playing.'\n",
    "\n",
    "# def checkForWin(winner):\n",
    "#     firstRow=w[0,0]==w[0,1]==w[0,2]\n",
    "#     secondRow=w[1,0]==w[1,1]==w[1,2]\n",
    "#     thirdRow=w[2,0]==w[2,1]==w[2,2]\n",
    "#     firstColumn=w[0,0]==w[1,0]==w[2,0]\n",
    "#     secondColumn=w[0,1]==w[1,1]==w[2,1]\n",
    "#     thirdColumn=w[0,2]==w[1,2]==w[2,2]\n",
    "#     lrDiagonal=w[0,0]==w[1,1]==w[2,2]\n",
    "#     rlDiagonal=w[0,2]==w[1,1]==w[2,0]\n",
    "#     global winningCondition,drawCondition\n",
    "#     winningCondition=firstRow or secondRow or thirdRow or firstColumn or secondColumn or thirdColumn or lrDiagonal or rlDiagonal\n",
    "#     drawCondition=w[0,0]!='a' and w[0,1]!='b' and w[0,2]!='c' and w[1,0]!='d' and w[1,1]!='e' and w[1,2]!='f' and w[2,0]!='g' and w[2,1]!='h' and w[2,2]!='i'\n",
    "#     while 54:\n",
    "#         if winningCondition:\n",
    "#             print(\"\\nCongratulations, {} have won the match.\".format(winner))\n",
    "#             replay=input('\\nWould you like to play again? Enter Y for Yes or anything for No: ')\n",
    "#             if replay.lower()=='y':\n",
    "#                 TicTacToe()\n",
    "#             else:\n",
    "#                 print('\\nThank you for playing.')\n",
    "#                 break\n",
    "#         elif drawCondition:\n",
    "#             print('\\nMatch is drawn.')\n",
    "#             replay=input('\\nWould you like to play again? Enter Y for Yes or anything for No: ')\n",
    "#             if replay.lower()=='y':\n",
    "#                 TicTacToe()\n",
    "#             else:\n",
    "#                 print('\\nThank you for playing.')     \n",
    "#                 break\n",
    "#         else:\n",
    "#             break"
   ]
  },
  {
   "cell_type": "code",
   "execution_count": 120,
   "id": "7b8ce68a",
   "metadata": {},
   "outputs": [
    {
     "name": "stdout",
     "output_type": "stream",
     "text": [
      "\n",
      "Welcome to play Tic Tac Toe.\n",
      "    First player will play with X and second player will play with O.\n",
      "    In the box, there are alphabets from a to i, write a alphabet to replace your entery.\n",
      "    Player 1 and player 2 will be playing alternatively.\n",
      "[['a' 'b' 'c']\n",
      " ['d' 'e' 'f']\n",
      " ['g' 'h' 'i']]\n",
      "Please enter player 1 name: Roshitha\n",
      "Please enter player 2 name: Padmini\n",
      "\n",
      "Roshitha's turn, you are playing X, enter a alphabet from a to i or enter s to stop playing: a\n",
      "[['X' 'b' 'c']\n",
      " ['d' 'e' 'f']\n",
      " ['g' 'h' 'i']]\n",
      "\n",
      "Padmini's turn, you are playing O, enter a alphabet from a to i, enter s to stop playing: g\n",
      "[['X' 'b' 'c']\n",
      " ['d' 'e' 'f']\n",
      " ['O' 'h' 'i']]\n",
      "\n",
      "Roshitha's turn, you are playing X, enter a alphabet from a to i or enter s to stop playing: e\n",
      "[['X' 'b' 'c']\n",
      " ['d' 'X' 'f']\n",
      " ['O' 'h' 'i']]\n",
      "\n",
      "Padmini's turn, you are playing O, enter a alphabet from a to i, enter s to stop playing: i\n",
      "[['X' 'b' 'c']\n",
      " ['d' 'X' 'f']\n",
      " ['O' 'h' 'O']]\n",
      "\n",
      "Roshitha's turn, you are playing X, enter a alphabet from a to i or enter s to stop playing: h\n",
      "[['X' 'b' 'c']\n",
      " ['d' 'X' 'f']\n",
      " ['O' 'X' 'O']]\n",
      "\n",
      "Padmini's turn, you are playing O, enter a alphabet from a to i, enter s to stop playing: b\n",
      "[['X' 'O' 'c']\n",
      " ['d' 'X' 'f']\n",
      " ['O' 'X' 'O']]\n",
      "\n",
      "Roshitha's turn, you are playing X, enter a alphabet from a to i or enter s to stop playing: d\n",
      "[['X' 'O' 'c']\n",
      " ['X' 'X' 'f']\n",
      " ['O' 'X' 'O']]\n",
      "\n",
      "Padmini's turn, you are playing O, enter a alphabet from a to i, enter s to stop playing: f\n",
      "[['X' 'O' 'c']\n",
      " ['X' 'X' 'O']\n",
      " ['O' 'X' 'O']]\n",
      "\n",
      "Roshitha's turn, you are playing X, enter a alphabet from a to i or enter s to stop playing: c\n",
      "[['X' 'O' 'X']\n",
      " ['X' 'X' 'O']\n",
      " ['O' 'X' 'O']]\n",
      "\n",
      "Match is drawn.\n",
      "\n",
      "Would you like to play again? Enter Y for Yes or anything for No: n\n",
      "\n",
      "Thank you for playing.\n"
     ]
    }
   ],
   "source": [
    "ticTacToe()"
   ]
  },
  {
   "cell_type": "code",
   "execution_count": null,
   "id": "9e5cd3c1",
   "metadata": {},
   "outputs": [],
   "source": []
  },
  {
   "cell_type": "code",
   "execution_count": null,
   "id": "163f2dce",
   "metadata": {},
   "outputs": [],
   "source": []
  },
  {
   "cell_type": "code",
   "execution_count": null,
   "id": "f312c69c",
   "metadata": {},
   "outputs": [],
   "source": []
  },
  {
   "cell_type": "code",
   "execution_count": null,
   "id": "046fa370",
   "metadata": {},
   "outputs": [],
   "source": []
  },
  {
   "cell_type": "code",
   "execution_count": null,
   "id": "c8e052a0",
   "metadata": {},
   "outputs": [],
   "source": []
  },
  {
   "cell_type": "code",
   "execution_count": null,
   "id": "1af94012",
   "metadata": {},
   "outputs": [],
   "source": []
  },
  {
   "cell_type": "code",
   "execution_count": null,
   "id": "2128f1a2",
   "metadata": {},
   "outputs": [],
   "source": []
  },
  {
   "cell_type": "code",
   "execution_count": null,
   "id": "952eb60c",
   "metadata": {},
   "outputs": [],
   "source": []
  },
  {
   "cell_type": "code",
   "execution_count": null,
   "id": "5f7b6510",
   "metadata": {},
   "outputs": [],
   "source": []
  },
  {
   "cell_type": "markdown",
   "id": "dee81a9e",
   "metadata": {},
   "source": [
    "Rough Work"
   ]
  },
  {
   "cell_type": "code",
   "execution_count": 16,
   "id": "ff05c9c5",
   "metadata": {},
   "outputs": [
    {
     "data": {
      "text/plain": [
       "'f'"
      ]
     },
     "execution_count": 16,
     "metadata": {},
     "output_type": "execute_result"
    }
   ],
   "source": [
    "def chek(x):\n",
    "    \n",
    "    y=45\n",
    "    global f\n",
    "    f=x==y\n",
    "    if f==True:\n",
    "        return 'f'\n",
    "    else:\n",
    "        return 'nah'\n",
    "chek(45)"
   ]
  },
  {
   "cell_type": "code",
   "execution_count": 17,
   "id": "bd0497bf",
   "metadata": {},
   "outputs": [
    {
     "name": "stdout",
     "output_type": "stream",
     "text": [
      "nah\n",
      "werew\n"
     ]
    }
   ],
   "source": [
    "def fue():\n",
    "    tetin=chek(48)\n",
    "    print(tetin)\n",
    "    if f==True:\n",
    "        print('we')\n",
    "    elif f==False:\n",
    "        print('werew')\n",
    "fue()"
   ]
  },
  {
   "cell_type": "code",
   "execution_count": 7,
   "id": "841d3dd2",
   "metadata": {},
   "outputs": [
    {
     "ename": "NameError",
     "evalue": "name 'tetin' is not defined",
     "output_type": "error",
     "traceback": [
      "\u001b[1;31m---------------------------------------------------------------------------\u001b[0m",
      "\u001b[1;31mNameError\u001b[0m                                 Traceback (most recent call last)",
      "\u001b[1;32m~\\AppData\\Local\\Temp/ipykernel_13916/3347110987.py\u001b[0m in \u001b[0;36m<module>\u001b[1;34m\u001b[0m\n\u001b[1;32m----> 1\u001b[1;33m \u001b[0mtetin\u001b[0m\u001b[1;33m\u001b[0m\u001b[1;33m\u001b[0m\u001b[0m\n\u001b[0m",
      "\u001b[1;31mNameError\u001b[0m: name 'tetin' is not defined"
     ]
    }
   ],
   "source": [
    "tetin"
   ]
  },
  {
   "cell_type": "code",
   "execution_count": 11,
   "id": "fe02ac41",
   "metadata": {},
   "outputs": [
    {
     "data": {
      "text/plain": [
       "True"
      ]
     },
     "execution_count": 11,
     "metadata": {},
     "output_type": "execute_result"
    }
   ],
   "source": [
    "f"
   ]
  },
  {
   "cell_type": "code",
   "execution_count": 18,
   "id": "8cfc1e7f",
   "metadata": {},
   "outputs": [
    {
     "data": {
      "text/plain": [
       "True"
      ]
     },
     "execution_count": 18,
     "metadata": {},
     "output_type": "execute_result"
    }
   ],
   "source": [
    "True or False"
   ]
  },
  {
   "cell_type": "code",
   "execution_count": 28,
   "id": "47711674",
   "metadata": {},
   "outputs": [],
   "source": [
    "x,y=False,True"
   ]
  },
  {
   "cell_type": "code",
   "execution_count": 29,
   "id": "c62482e1",
   "metadata": {},
   "outputs": [
    {
     "data": {
      "text/plain": [
       "False"
      ]
     },
     "execution_count": 29,
     "metadata": {},
     "output_type": "execute_result"
    }
   ],
   "source": [
    "x"
   ]
  },
  {
   "cell_type": "code",
   "execution_count": 30,
   "id": "15b4b3ff",
   "metadata": {},
   "outputs": [
    {
     "data": {
      "text/plain": [
       "True"
      ]
     },
     "execution_count": 30,
     "metadata": {},
     "output_type": "execute_result"
    }
   ],
   "source": [
    "y"
   ]
  },
  {
   "cell_type": "code",
   "execution_count": 34,
   "id": "26186e67",
   "metadata": {},
   "outputs": [
    {
     "data": {
      "text/plain": [
       "False"
      ]
     },
     "execution_count": 34,
     "metadata": {},
     "output_type": "execute_result"
    }
   ],
   "source": [
    "drawCondition"
   ]
  },
  {
   "cell_type": "code",
   "execution_count": 35,
   "id": "2ee580ee",
   "metadata": {},
   "outputs": [
    {
     "data": {
      "text/plain": [
       "True"
      ]
     },
     "execution_count": 35,
     "metadata": {},
     "output_type": "execute_result"
    }
   ],
   "source": [
    "winningCondition"
   ]
  },
  {
   "cell_type": "code",
   "execution_count": 54,
   "id": "5d1fd6f1",
   "metadata": {},
   "outputs": [],
   "source": [
    "def erg():\n",
    "    global Ashu\n",
    "    Ashu=59\n",
    "    Alan=40"
   ]
  },
  {
   "cell_type": "code",
   "execution_count": 55,
   "id": "80a12f82",
   "metadata": {},
   "outputs": [
    {
     "data": {
      "text/plain": [
       "59"
      ]
     },
     "execution_count": 55,
     "metadata": {},
     "output_type": "execute_result"
    }
   ],
   "source": [
    "Ashu"
   ]
  },
  {
   "cell_type": "code",
   "execution_count": 56,
   "id": "32ecfb96",
   "metadata": {},
   "outputs": [
    {
     "ename": "NameError",
     "evalue": "name 'Alan' is not defined",
     "output_type": "error",
     "traceback": [
      "\u001b[1;31m---------------------------------------------------------------------------\u001b[0m",
      "\u001b[1;31mNameError\u001b[0m                                 Traceback (most recent call last)",
      "\u001b[1;32m~\\AppData\\Local\\Temp/ipykernel_13916/1827407129.py\u001b[0m in \u001b[0;36m<module>\u001b[1;34m\u001b[0m\n\u001b[1;32m----> 1\u001b[1;33m \u001b[0mAlan\u001b[0m\u001b[1;33m\u001b[0m\u001b[1;33m\u001b[0m\u001b[0m\n\u001b[0m",
      "\u001b[1;31mNameError\u001b[0m: name 'Alan' is not defined"
     ]
    }
   ],
   "source": [
    "Alan"
   ]
  },
  {
   "cell_type": "code",
   "execution_count": 102,
   "id": "978f6b7b",
   "metadata": {},
   "outputs": [],
   "source": [
    "def er():\n",
    "    global xyzc\n",
    "    xyzc=45\n"
   ]
  },
  {
   "cell_type": "code",
   "execution_count": 103,
   "id": "d343865a",
   "metadata": {},
   "outputs": [],
   "source": [
    "def ert():\n",
    "    er()\n",
    "    global xyzc\n",
    "    xyzc=1\n",
    "    return 3"
   ]
  },
  {
   "cell_type": "code",
   "execution_count": 104,
   "id": "a8ec40e7",
   "metadata": {},
   "outputs": [
    {
     "data": {
      "text/plain": [
       "3"
      ]
     },
     "execution_count": 104,
     "metadata": {},
     "output_type": "execute_result"
    }
   ],
   "source": [
    "ert()"
   ]
  },
  {
   "cell_type": "code",
   "execution_count": 105,
   "id": "9ba39854",
   "metadata": {},
   "outputs": [
    {
     "data": {
      "text/plain": [
       "1"
      ]
     },
     "execution_count": 105,
     "metadata": {},
     "output_type": "execute_result"
    }
   ],
   "source": [
    "xyzc"
   ]
  },
  {
   "cell_type": "code",
   "execution_count": 81,
   "id": "9c2b15ee",
   "metadata": {},
   "outputs": [],
   "source": [
    "er()"
   ]
  },
  {
   "cell_type": "code",
   "execution_count": 82,
   "id": "22540b10",
   "metadata": {},
   "outputs": [
    {
     "ename": "NameError",
     "evalue": "name 'xy' is not defined",
     "output_type": "error",
     "traceback": [
      "\u001b[1;31m---------------------------------------------------------------------------\u001b[0m",
      "\u001b[1;31mNameError\u001b[0m                                 Traceback (most recent call last)",
      "\u001b[1;32m~\\AppData\\Local\\Temp/ipykernel_13916/3424147140.py\u001b[0m in \u001b[0;36m<module>\u001b[1;34m\u001b[0m\n\u001b[1;32m----> 1\u001b[1;33m \u001b[0mxy\u001b[0m\u001b[1;33m\u001b[0m\u001b[1;33m\u001b[0m\u001b[0m\n\u001b[0m",
      "\u001b[1;31mNameError\u001b[0m: name 'xy' is not defined"
     ]
    }
   ],
   "source": [
    "xy"
   ]
  },
  {
   "cell_type": "code",
   "execution_count": null,
   "id": "356656ad",
   "metadata": {},
   "outputs": [],
   "source": []
  },
  {
   "cell_type": "code",
   "execution_count": 60,
   "id": "8de439e5",
   "metadata": {},
   "outputs": [
    {
     "data": {
      "text/plain": [
       "False"
      ]
     },
     "execution_count": 60,
     "metadata": {},
     "output_type": "execute_result"
    }
   ],
   "source": [
    "winningCondition"
   ]
  },
  {
   "cell_type": "code",
   "execution_count": 61,
   "id": "5c7fb152",
   "metadata": {},
   "outputs": [
    {
     "data": {
      "text/plain": [
       "False"
      ]
     },
     "execution_count": 61,
     "metadata": {},
     "output_type": "execute_result"
    }
   ],
   "source": [
    "drawCondition"
   ]
  },
  {
   "cell_type": "code",
   "execution_count": 122,
   "id": "816e5574",
   "metadata": {},
   "outputs": [
    {
     "data": {
      "text/plain": [
       "array([['X', 'O', 'X'],\n",
       "       ['X', 'X', 'O'],\n",
       "       ['O', 'X', 'O']], dtype='<U1')"
      ]
     },
     "execution_count": 122,
     "metadata": {},
     "output_type": "execute_result"
    }
   ],
   "source": [
    "w"
   ]
  },
  {
   "cell_type": "code",
   "execution_count": 123,
   "id": "2cb10123",
   "metadata": {},
   "outputs": [
    {
     "data": {
      "text/plain": [
       "True"
      ]
     },
     "execution_count": 123,
     "metadata": {},
     "output_type": "execute_result"
    }
   ],
   "source": [
    "'X' in w"
   ]
  },
  {
   "cell_type": "code",
   "execution_count": 124,
   "id": "74340d3f",
   "metadata": {},
   "outputs": [],
   "source": [
    "w[1,1]='a'"
   ]
  },
  {
   "cell_type": "code",
   "execution_count": 125,
   "id": "71c069d8",
   "metadata": {},
   "outputs": [
    {
     "data": {
      "text/plain": [
       "array([['X', 'O', 'X'],\n",
       "       ['X', 'a', 'O'],\n",
       "       ['O', 'X', 'O']], dtype='<U1')"
      ]
     },
     "execution_count": 125,
     "metadata": {},
     "output_type": "execute_result"
    }
   ],
   "source": [
    "w"
   ]
  },
  {
   "cell_type": "code",
   "execution_count": 126,
   "id": "58b2259c",
   "metadata": {},
   "outputs": [
    {
     "data": {
      "text/plain": [
       "True"
      ]
     },
     "execution_count": 126,
     "metadata": {},
     "output_type": "execute_result"
    }
   ],
   "source": [
    "'a' in w"
   ]
  },
  {
   "cell_type": "code",
   "execution_count": 127,
   "id": "36d06b3d",
   "metadata": {},
   "outputs": [
    {
     "data": {
      "text/plain": [
       "False"
      ]
     },
     "execution_count": 127,
     "metadata": {},
     "output_type": "execute_result"
    }
   ],
   "source": [
    "'b' in w"
   ]
  },
  {
   "cell_type": "code",
   "execution_count": 128,
   "id": "fa0f73e1",
   "metadata": {},
   "outputs": [
    {
     "data": {
      "text/plain": [
       "array([['X', 'O', 'X'],\n",
       "       ['X', 'a', 'O'],\n",
       "       ['O', 'X', 'O']], dtype='<U1')"
      ]
     },
     "execution_count": 128,
     "metadata": {},
     "output_type": "execute_result"
    }
   ],
   "source": [
    "w"
   ]
  },
  {
   "cell_type": "code",
   "execution_count": 133,
   "id": "a322cf2f",
   "metadata": {},
   "outputs": [
    {
     "name": "stdout",
     "output_type": "stream",
     "text": [
      "erg\n"
     ]
    },
    {
     "name": "stderr",
     "output_type": "stream",
     "text": [
      "C:\\Users\\rchtp\\AppData\\Local\\Temp/ipykernel_13916/3053236448.py:1: FutureWarning: elementwise comparison failed; returning scalar instead, but in the future will perform elementwise comparison\n",
      "  if 'a' in w ==True:\n"
     ]
    }
   ],
   "source": [
    "if 'a' in w ==True:\n",
    "    print('wer')\n",
    "else:\n",
    "    print('erg')"
   ]
  },
  {
   "cell_type": "code",
   "execution_count": null,
   "id": "476190c7",
   "metadata": {},
   "outputs": [],
   "source": []
  },
  {
   "cell_type": "code",
   "execution_count": null,
   "id": "4b59725d",
   "metadata": {},
   "outputs": [],
   "source": []
  },
  {
   "cell_type": "code",
   "execution_count": null,
   "id": "2438f51a",
   "metadata": {},
   "outputs": [],
   "source": []
  },
  {
   "cell_type": "code",
   "execution_count": null,
   "id": "99d98e7e",
   "metadata": {},
   "outputs": [],
   "source": []
  },
  {
   "cell_type": "code",
   "execution_count": null,
   "id": "8ad0ce92",
   "metadata": {},
   "outputs": [],
   "source": []
  },
  {
   "cell_type": "code",
   "execution_count": null,
   "id": "736a680e",
   "metadata": {},
   "outputs": [],
   "source": []
  },
  {
   "cell_type": "code",
   "execution_count": null,
   "id": "63dda975",
   "metadata": {},
   "outputs": [],
   "source": []
  },
  {
   "cell_type": "code",
   "execution_count": null,
   "id": "f6634476",
   "metadata": {},
   "outputs": [],
   "source": []
  },
  {
   "cell_type": "code",
   "execution_count": null,
   "id": "323a3c91",
   "metadata": {},
   "outputs": [],
   "source": []
  }
 ],
 "metadata": {
  "kernelspec": {
   "display_name": "Python 3 (ipykernel)",
   "language": "python",
   "name": "python3"
  },
  "language_info": {
   "codemirror_mode": {
    "name": "ipython",
    "version": 3
   },
   "file_extension": ".py",
   "mimetype": "text/x-python",
   "name": "python",
   "nbconvert_exporter": "python",
   "pygments_lexer": "ipython3",
   "version": "3.9.6"
  }
 },
 "nbformat": 4,
 "nbformat_minor": 5
}
