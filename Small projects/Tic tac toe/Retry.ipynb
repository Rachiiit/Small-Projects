{
 "cells": [
  {
   "cell_type": "code",
   "execution_count": 141,
   "id": "4db3124b",
   "metadata": {},
   "outputs": [],
   "source": [
    "import numpy as np\n",
    "import random\n",
    "from numpy import random\n",
    "import time\n",
    "\n",
    "def board():\n",
    "    e=np.array(['a','b','c','d','e','f','g','h','i'])\n",
    "    global w\n",
    "    w=e.reshape(3,3)\n",
    "    print(w)\n",
    "\n",
    "def TicTacToe():\n",
    "    global winningCondition,drawCondition\n",
    "    winningCondition,drawCondition=False,False\n",
    "    print('''\\nWelcome to play Tic Tac Toe.\n",
    "    First player will play with X and second player will play with O.\n",
    "    In the box, there are alphabets from a to i, write a alphabet to replace your entery.\n",
    "    Player 1 and player 2 will be playing alternatively.''')\n",
    "    board()\n",
    "    global player1,player2\n",
    "    player1=input('Please enter player 1 name: ')\n",
    "    player2=input(\"Please enter player 2 name: \")\n",
    "    player1move()\n",
    "    \n",
    "def checkAvailability(x):\n",
    "    global availability\n",
    "    availability=False\n",
    "    if (x in w)==True:\n",
    "        availability=True\n",
    "    else:\n",
    "        print(\"'{}' place is already used. Please try again\".format(x))\n",
    "\n",
    "def player1move():\n",
    "    while 53:\n",
    "        if (winningCondition or drawCondition)!=True:\n",
    "            time.sleep(1)\n",
    "            g=input('\\n{}\\'s turn, you are playing X, enter a alphabet from a to i or enter s to stop playing: '.format(player1))\n",
    "            if g.lower()=='a':\n",
    "                checkAvailability('a')\n",
    "                if availability==True:\n",
    "                    w[0,0]='X'\n",
    "                    print(w)\n",
    "                    checkForWin(player1)\n",
    "                    player2move()\n",
    "            elif g.lower()=='b':\n",
    "                checkAvailability('b')\n",
    "                if availability==True:\n",
    "                    w[0,1]='X'\n",
    "                    print(w)\n",
    "                    checkForWin(player1)\n",
    "                    player2move()\n",
    "            elif g.lower()=='c':\n",
    "                checkAvailability('c')\n",
    "                if availability==True:\n",
    "                    w[0,2]='X'\n",
    "                    print(w)\n",
    "                    checkForWin(player1)\n",
    "                    player2move()\n",
    "            elif g.lower()=='d':\n",
    "                checkAvailability('d')\n",
    "                if availability==True:\n",
    "                    w[1,0]='X'\n",
    "                    print(w)\n",
    "                    checkForWin(player1)\n",
    "                    player2move()\n",
    "            elif g.lower()=='e':\n",
    "                checkAvailability('e')\n",
    "                if availability==True:\n",
    "                    w[1,1]='X'\n",
    "                    print(w)\n",
    "                    checkForWin(player1)\n",
    "                    player2move()\n",
    "            elif g.lower()=='f':\n",
    "                checkAvailability('f')\n",
    "                if availability==True:\n",
    "                    w[1,2]='X'\n",
    "                    print(w)\n",
    "                    checkForWin(player1)\n",
    "                    player2move()\n",
    "            elif g.lower()=='g':\n",
    "                checkAvailability('g')\n",
    "                if availability==True:\n",
    "                    w[2,0]='X'\n",
    "                    print(w)\n",
    "                    checkForWin(player1)\n",
    "                    player2move()\n",
    "            elif g.lower()=='h':\n",
    "                checkAvailability('h')\n",
    "                if availability==True:\n",
    "                    w[2,1]='X'\n",
    "                    print(w)\n",
    "                    checkForWin(player1)\n",
    "                    player2move()\n",
    "            elif g.lower()=='i':\n",
    "                checkAvailability('i')\n",
    "                if availability==True:\n",
    "                    w[2,2]='X'\n",
    "                    print(w)\n",
    "                    checkForWin(player1)\n",
    "                    player2move()\n",
    "            elif g.lower()=='s':\n",
    "                thanks()\n",
    "            else:\n",
    "                print('Please enter desire input only.')\n",
    "        else:\n",
    "            break\n",
    "            \n",
    "def player2move():\n",
    "    while 53:\n",
    "        if (winningCondition or drawCondition)!=True:\n",
    "            time.sleep(1)\n",
    "            g=input('\\n{}\\'s turn, you are playing O, enter a alphabet from a to i, enter s to stop playing: '.format(player2))\n",
    "            if g.lower()=='a':\n",
    "                checkAvailability('a')\n",
    "                if availability==True:\n",
    "                    w[0,0]='O'\n",
    "                    print(w)\n",
    "                    checkForWin(player2)\n",
    "                    player1move()\n",
    "            elif g.lower()=='b':\n",
    "                checkAvailability('b')\n",
    "                if availability==True:\n",
    "                    w[0,1]='O'\n",
    "                    print(w)\n",
    "                    checkForWin(player2)\n",
    "                    player1move()\n",
    "            elif g.lower()=='c':\n",
    "                checkAvailability('c')\n",
    "                if availability==True:\n",
    "                    w[0,2]='O'\n",
    "                    print(w)\n",
    "                    checkForWin(player2)\n",
    "                    player1move()\n",
    "            elif g.lower()=='d':\n",
    "                checkAvailability('d')\n",
    "                if availability==True:\n",
    "                    w[1,0]='O'\n",
    "                    print(w)\n",
    "                    checkForWin(player2)\n",
    "                    player1move()\n",
    "            elif g.lower()=='e':\n",
    "                checkAvailability('e')\n",
    "                if availability==True:\n",
    "                    w[1,1]='O'\n",
    "                    print(w)\n",
    "                    checkForWin(player2)\n",
    "                    player1move()\n",
    "            elif g.lower()=='f':\n",
    "                checkAvailability('f')\n",
    "                if availability==True:\n",
    "                    w[1,2]='O'\n",
    "                    print(w)\n",
    "                    checkForWin(player2)\n",
    "                    player1move()\n",
    "            elif g.lower()=='g':\n",
    "                checkAvailability('g')\n",
    "                if availability==True:\n",
    "                    w[2,0]='O'\n",
    "                    print(w)\n",
    "                    checkForWin(player2)\n",
    "                    player1move()\n",
    "            elif g.lower()=='h':\n",
    "                checkAvailability('h')\n",
    "                if availability==True:\n",
    "                    w[2,1]='O'\n",
    "                    print(w)\n",
    "                    checkForWin(player2)\n",
    "                    player1move()\n",
    "            elif g.lower()=='i':\n",
    "                checkAvailability('i')\n",
    "                if availability==True:\n",
    "                    w[2,2]='O'\n",
    "                    print(w)\n",
    "                    checkForWin(player2)\n",
    "                    player1move()\n",
    "            elif g.lower()=='s':\n",
    "                thanks()\n",
    "            else:\n",
    "                print('Please enter desire input only.')\n",
    "        else:\n",
    "            break\n",
    "\n",
    "def thanks():\n",
    "    global winningCondition,drawCondition\n",
    "    winningCondition=True\n",
    "    return 'Thank you for playing.'\n",
    "\n",
    "def checkForWin(winner):\n",
    "    firstRow=w[0,0]==w[0,1]==w[0,2]\n",
    "    secondRow=w[1,0]==w[1,1]==w[1,2]\n",
    "    thirdRow=w[2,0]==w[2,1]==w[2,2]\n",
    "    firstColumn=w[0,0]==w[1,0]==w[2,0]\n",
    "    secondColumn=w[0,1]==w[1,1]==w[2,1]\n",
    "    thirdColumn=w[0,2]==w[1,2]==w[2,2]\n",
    "    lrDiagonal=w[0,0]==w[1,1]==w[2,2]\n",
    "    rlDiagonal=w[0,2]==w[1,1]==w[2,0]\n",
    "    global winningCondition,drawCondition\n",
    "    winningCondition=firstRow or secondRow or thirdRow or firstColumn or secondColumn or thirdColumn or lrDiagonal or rlDiagonal\n",
    "    drawCondition=w[0,0]!='a' and w[0,1]!='b' and w[0,2]!='c' and w[1,0]!='d' and w[1,1]!='e' and w[1,2]!='f' and w[2,0]!='g' and w[2,1]!='h' and w[2,2]!='i'\n",
    "    while 54:\n",
    "        if winningCondition:\n",
    "            print(\"\\nCongratulations, {} have won the match.\".format(winner))\n",
    "            replay=input('\\nWould you like to play again? Enter Y for Yes or anything for No: ')\n",
    "            if replay.lower()=='y':\n",
    "                TicTacToe()\n",
    "            else:\n",
    "                print('\\nThank you for playing.')\n",
    "                break\n",
    "        elif drawCondition:\n",
    "            print('\\nMatch is drawn.')\n",
    "            replay=input('\\nWould you like to play again? Enter Y for Yes or anything for No: ')\n",
    "            if replay.lower()=='y':\n",
    "                TicTacToe()\n",
    "            else:\n",
    "                print('\\nThank you for playing.')     \n",
    "                break\n",
    "        else:\n",
    "            break"
   ]
  },
  {
   "cell_type": "code",
   "execution_count": 143,
   "id": "4dfd6d10",
   "metadata": {},
   "outputs": [
    {
     "name": "stdout",
     "output_type": "stream",
     "text": [
      "\n",
      "Welcome to play Tic Tac Toe.\n",
      "    First player will play with X and second player will play with O.\n",
      "    In the box, there are alphabets from a to i, write a alphabet to replace your entery.\n",
      "    Player 1 and player 2 will be playing alternatively.\n",
      "[['a' 'b' 'c']\n",
      " ['d' 'e' 'f']\n",
      " ['g' 'h' 'i']]\n",
      "Please enter player 1 name: Roshitha\n",
      "Please enter player 2 name: Padmini\n",
      "\n",
      "Roshitha's turn, you are playing X, enter a alphabet from a to i or enter s to stop playing: a\n",
      "[['X' 'b' 'c']\n",
      " ['d' 'e' 'f']\n",
      " ['g' 'h' 'i']]\n",
      "\n",
      "Padmini's turn, you are playing O, enter a alphabet from a to i, enter s to stop playing: a\n",
      "'a' place is already used. Please try again\n",
      "\n",
      "Padmini's turn, you are playing O, enter a alphabet from a to i, enter s to stop playing: s\n"
     ]
    }
   ],
   "source": [
    "TicTacToe()"
   ]
  },
  {
   "cell_type": "code",
   "execution_count": null,
   "id": "7b4d796d",
   "metadata": {},
   "outputs": [],
   "source": []
  },
  {
   "cell_type": "code",
   "execution_count": null,
   "id": "1d17aa4b",
   "metadata": {},
   "outputs": [],
   "source": []
  },
  {
   "cell_type": "code",
   "execution_count": null,
   "id": "51d34a03",
   "metadata": {},
   "outputs": [],
   "source": []
  },
  {
   "cell_type": "code",
   "execution_count": 119,
   "id": "2d7bab1c",
   "metadata": {},
   "outputs": [],
   "source": [
    "# import numpy as np\n",
    "# import random\n",
    "# from numpy import random\n",
    "# import time\n",
    "\n",
    "# def board():\n",
    "#     e=np.array(['a','b','c','d','e','f','g','h','i'])\n",
    "#     global w\n",
    "#     w=e.reshape(3,3)\n",
    "#     print(w)\n",
    "\n",
    "# def ticTacToe():\n",
    "#     global winningCondition,drawCondition\n",
    "#     winningCondition,drawCondition=False,False\n",
    "#     print('''\\nWelcome to play Tic Tac Toe.\n",
    "#     First player will play with X and second player will play with O.\n",
    "#     In the box, there are alphabets from a to i, write a alphabet to replace your entery.\n",
    "#     Player 1 and player 2 will be playing alternatively.''')\n",
    "#     board()\n",
    "#     global player1,player2\n",
    "#     player1=input('Please enter player 1 name: ')\n",
    "#     player2=input(\"Please enter player 2 name: \")\n",
    "#     player1move()\n",
    "\n",
    "# def player1move():\n",
    "#     while 53:\n",
    "#         if (winningCondition or drawCondition)!=True:\n",
    "#             time.sleep(1)\n",
    "#             g=input('\\n{}\\'s turn, you are playing X, enter a alphabet from a to i or enter s to stop playing: '.format(player1))\n",
    "#             if g.lower()=='a':\n",
    "#                 w[0,0]='X'\n",
    "#                 print(w)\n",
    "#                 checkForWin(player1)\n",
    "#                 player2move()\n",
    "#             elif g.lower()=='b':\n",
    "#                 w[0,1]='X'\n",
    "#                 print(w)\n",
    "#                 checkForWin(player1)\n",
    "#                 player2move()\n",
    "#             elif g.lower()=='c':\n",
    "#                 w[0,2]='X'\n",
    "#                 print(w)\n",
    "#                 checkForWin(player1)\n",
    "#                 player2move()\n",
    "#             elif g.lower()=='d':\n",
    "#                 w[1,0]='X'\n",
    "#                 print(w)\n",
    "#                 checkForWin(player1)\n",
    "#                 player2move()\n",
    "#             elif g.lower()=='e':\n",
    "#                 w[1,1]='X'\n",
    "#                 print(w)\n",
    "#                 checkForWin(player1)\n",
    "#                 player2move()\n",
    "#             elif g.lower()=='f':\n",
    "#                 w[1,2]='X'\n",
    "#                 print(w)\n",
    "#                 checkForWin(player1)\n",
    "#                 player2move()\n",
    "#             elif g.lower()=='g':\n",
    "#                 w[2,0]='X'\n",
    "#                 print(w)\n",
    "#                 checkForWin(player1)\n",
    "#                 player2move()\n",
    "#             elif g.lower()=='h':\n",
    "#                 w[2,1]='X'\n",
    "#                 print(w)\n",
    "#                 checkForWin(player1)\n",
    "#                 player2move()\n",
    "#             elif g.lower()=='i':\n",
    "#                 w[2,2]='X'\n",
    "#                 print(w)\n",
    "#                 checkForWin(player1)\n",
    "#                 player2move()\n",
    "#             elif g.lower()=='s':\n",
    "#                 thanks()\n",
    "#             else:\n",
    "#                 print('Please enter desire input only.')\n",
    "#         else:\n",
    "#             break\n",
    "            \n",
    "# def player2move():\n",
    "#     while 53:\n",
    "#         if (winningCondition or drawCondition)!=True:\n",
    "#             time.sleep(1)\n",
    "#             g=input('\\n{}\\'s turn, you are playing O, enter a alphabet from a to i, enter s to stop playing: '.format(player2))\n",
    "#             if g.lower()=='a':\n",
    "#                 w[0,0]='O'\n",
    "#                 print(w)\n",
    "#                 checkForWin(player2)\n",
    "#                 player1move()\n",
    "#             elif g.lower()=='b':\n",
    "#                 w[0,1]='O'\n",
    "#                 print(w)\n",
    "#                 checkForWin(player2)\n",
    "#                 player1move()\n",
    "#             elif g.lower()=='c':\n",
    "#                 w[0,2]='O'\n",
    "#                 print(w)\n",
    "#                 checkForWin(player2)\n",
    "#                 player1move()\n",
    "#             elif g.lower()=='d':\n",
    "#                 w[1,0]='O'\n",
    "#                 print(w)\n",
    "#                 checkForWin(player2)\n",
    "#                 player1move()\n",
    "#             elif g.lower()=='e':\n",
    "#                 w[1,1]='O'\n",
    "#                 print(w)\n",
    "#                 checkForWin(player2)\n",
    "#                 player1move()\n",
    "#             elif g.lower()=='f':\n",
    "#                 w[1,2]='O'\n",
    "#                 print(w)\n",
    "#                 checkForWin(player2)\n",
    "#                 player1move()\n",
    "#             elif g.lower()=='g':\n",
    "#                 w[2,0]='O'\n",
    "#                 print(w)\n",
    "#                 checkForWin(player2)\n",
    "#                 player1move()\n",
    "#             elif g.lower()=='h':\n",
    "#                 w[2,1]='O'\n",
    "#                 print(w)\n",
    "#                 checkForWin(player2)\n",
    "#                 player1move()\n",
    "#             elif g.lower()=='i':\n",
    "#                 w[2,2]='O'\n",
    "#                 print(w)\n",
    "#                 checkForWin(player2)\n",
    "#                 player1move()\n",
    "#             elif g.lower()=='s':\n",
    "#                 thanks()\n",
    "#             else:\n",
    "#                 print('Please enter desire input only.')\n",
    "#         else:\n",
    "#             break\n",
    "\n",
    "# def thanks():\n",
    "#     global winningCondition,drawCondition\n",
    "#     winningCondition=True\n",
    "#     return 'Thank you for playing.'\n",
    "\n",
    "# def checkForWin(winner):\n",
    "#     firstRow=w[0,0]==w[0,1]==w[0,2]\n",
    "#     secondRow=w[1,0]==w[1,1]==w[1,2]\n",
    "#     thirdRow=w[2,0]==w[2,1]==w[2,2]\n",
    "#     firstColumn=w[0,0]==w[1,0]==w[2,0]\n",
    "#     secondColumn=w[0,1]==w[1,1]==w[2,1]\n",
    "#     thirdColumn=w[0,2]==w[1,2]==w[2,2]\n",
    "#     lrDiagonal=w[0,0]==w[1,1]==w[2,2]\n",
    "#     rlDiagonal=w[0,2]==w[1,1]==w[2,0]\n",
    "#     global winningCondition,drawCondition\n",
    "#     winningCondition=firstRow or secondRow or thirdRow or firstColumn or secondColumn or thirdColumn or lrDiagonal or rlDiagonal\n",
    "#     drawCondition=w[0,0]!='a' and w[0,1]!='b' and w[0,2]!='c' and w[1,0]!='d' and w[1,1]!='e' and w[1,2]!='f' and w[2,0]!='g' and w[2,1]!='h' and w[2,2]!='i'\n",
    "#     while 54:\n",
    "#         if winningCondition:\n",
    "#             print(\"\\nCongratulations, {} have won the match.\".format(winner))\n",
    "#             replay=input('\\nWould you like to play again? Enter Y for Yes or anything for No: ')\n",
    "#             if replay.lower()=='y':\n",
    "#                 TicTacToe()\n",
    "#             else:\n",
    "#                 print('\\nThank you for playing.')\n",
    "#                 break\n",
    "#         elif drawCondition:\n",
    "#             print('\\nMatch is drawn.')\n",
    "#             replay=input('\\nWould you like to play again? Enter Y for Yes or anything for No: ')\n",
    "#             if replay.lower()=='y':\n",
    "#                 TicTacToe()\n",
    "#             else:\n",
    "#                 print('\\nThank you for playing.')     \n",
    "#                 break\n",
    "#         else:\n",
    "#             break"
   ]
  },
  {
   "cell_type": "code",
   "execution_count": 120,
   "id": "a3aa9d49",
   "metadata": {},
   "outputs": [
    {
     "name": "stdout",
     "output_type": "stream",
     "text": [
      "\n",
      "Welcome to play Tic Tac Toe.\n",
      "    First player will play with X and second player will play with O.\n",
      "    In the box, there are alphabets from a to i, write a alphabet to replace your entery.\n",
      "    Player 1 and player 2 will be playing alternatively.\n",
      "[['a' 'b' 'c']\n",
      " ['d' 'e' 'f']\n",
      " ['g' 'h' 'i']]\n",
      "Please enter player 1 name: Roshitha\n",
      "Please enter player 2 name: Padmini\n",
      "\n",
      "Roshitha's turn, you are playing X, enter a alphabet from a to i or enter s to stop playing: a\n",
      "[['X' 'b' 'c']\n",
      " ['d' 'e' 'f']\n",
      " ['g' 'h' 'i']]\n",
      "\n",
      "Padmini's turn, you are playing O, enter a alphabet from a to i, enter s to stop playing: g\n",
      "[['X' 'b' 'c']\n",
      " ['d' 'e' 'f']\n",
      " ['O' 'h' 'i']]\n",
      "\n",
      "Roshitha's turn, you are playing X, enter a alphabet from a to i or enter s to stop playing: e\n",
      "[['X' 'b' 'c']\n",
      " ['d' 'X' 'f']\n",
      " ['O' 'h' 'i']]\n",
      "\n",
      "Padmini's turn, you are playing O, enter a alphabet from a to i, enter s to stop playing: i\n",
      "[['X' 'b' 'c']\n",
      " ['d' 'X' 'f']\n",
      " ['O' 'h' 'O']]\n",
      "\n",
      "Roshitha's turn, you are playing X, enter a alphabet from a to i or enter s to stop playing: h\n",
      "[['X' 'b' 'c']\n",
      " ['d' 'X' 'f']\n",
      " ['O' 'X' 'O']]\n",
      "\n",
      "Padmini's turn, you are playing O, enter a alphabet from a to i, enter s to stop playing: b\n",
      "[['X' 'O' 'c']\n",
      " ['d' 'X' 'f']\n",
      " ['O' 'X' 'O']]\n",
      "\n",
      "Roshitha's turn, you are playing X, enter a alphabet from a to i or enter s to stop playing: d\n",
      "[['X' 'O' 'c']\n",
      " ['X' 'X' 'f']\n",
      " ['O' 'X' 'O']]\n",
      "\n",
      "Padmini's turn, you are playing O, enter a alphabet from a to i, enter s to stop playing: f\n",
      "[['X' 'O' 'c']\n",
      " ['X' 'X' 'O']\n",
      " ['O' 'X' 'O']]\n",
      "\n",
      "Roshitha's turn, you are playing X, enter a alphabet from a to i or enter s to stop playing: c\n",
      "[['X' 'O' 'X']\n",
      " ['X' 'X' 'O']\n",
      " ['O' 'X' 'O']]\n",
      "\n",
      "Match is drawn.\n",
      "\n",
      "Would you like to play again? Enter Y for Yes or anything for No: n\n",
      "\n",
      "Thank you for playing.\n"
     ]
    }
   ],
   "source": [
    "ticTacToe()"
   ]
  },
  {
   "cell_type": "code",
   "execution_count": null,
   "id": "e2483821",
   "metadata": {},
   "outputs": [],
   "source": []
  },
  {
   "cell_type": "code",
   "execution_count": null,
   "id": "8591d60a",
   "metadata": {},
   "outputs": [],
   "source": []
  },
  {
   "cell_type": "code",
   "execution_count": null,
   "id": "56eb79c0",
   "metadata": {},
   "outputs": [],
   "source": []
  },
  {
   "cell_type": "code",
   "execution_count": null,
   "id": "25ce3c91",
   "metadata": {},
   "outputs": [],
   "source": []
  },
  {
   "cell_type": "code",
   "execution_count": null,
   "id": "a0d76357",
   "metadata": {},
   "outputs": [],
   "source": []
  },
  {
   "cell_type": "code",
   "execution_count": null,
   "id": "f61cde29",
   "metadata": {},
   "outputs": [],
   "source": []
  },
  {
   "cell_type": "code",
   "execution_count": null,
   "id": "331b4471",
   "metadata": {},
   "outputs": [],
   "source": []
  },
  {
   "cell_type": "code",
   "execution_count": null,
   "id": "95a3de85",
   "metadata": {},
   "outputs": [],
   "source": []
  },
  {
   "cell_type": "code",
   "execution_count": null,
   "id": "a6409711",
   "metadata": {},
   "outputs": [],
   "source": []
  },
  {
   "cell_type": "code",
   "execution_count": null,
   "id": "89e4ffc8",
   "metadata": {},
   "outputs": [],
   "source": []
  },
  {
   "cell_type": "code",
   "execution_count": null,
   "id": "4adc739a",
   "metadata": {},
   "outputs": [],
   "source": []
  },
  {
   "cell_type": "code",
   "execution_count": null,
   "id": "279bf9c3",
   "metadata": {},
   "outputs": [],
   "source": []
  },
  {
   "cell_type": "markdown",
   "id": "b73d1262",
   "metadata": {},
   "source": [
    "Rough Work"
   ]
  },
  {
   "cell_type": "code",
   "execution_count": 16,
   "id": "e7098caf",
   "metadata": {},
   "outputs": [
    {
     "data": {
      "text/plain": [
       "'f'"
      ]
     },
     "execution_count": 16,
     "metadata": {},
     "output_type": "execute_result"
    }
   ],
   "source": [
    "def chek(x):\n",
    "    \n",
    "    y=45\n",
    "    global f\n",
    "    f=x==y\n",
    "    if f==True:\n",
    "        return 'f'\n",
    "    else:\n",
    "        return 'nah'\n",
    "chek(45)"
   ]
  },
  {
   "cell_type": "code",
   "execution_count": 17,
   "id": "6edab9c2",
   "metadata": {},
   "outputs": [
    {
     "name": "stdout",
     "output_type": "stream",
     "text": [
      "nah\n",
      "werew\n"
     ]
    }
   ],
   "source": [
    "def fue():\n",
    "    tetin=chek(48)\n",
    "    print(tetin)\n",
    "    if f==True:\n",
    "        print('we')\n",
    "    elif f==False:\n",
    "        print('werew')\n",
    "fue()"
   ]
  },
  {
   "cell_type": "code",
   "execution_count": 7,
   "id": "23dc754b",
   "metadata": {},
   "outputs": [
    {
     "ename": "NameError",
     "evalue": "name 'tetin' is not defined",
     "output_type": "error",
     "traceback": [
      "\u001b[1;31m---------------------------------------------------------------------------\u001b[0m",
      "\u001b[1;31mNameError\u001b[0m                                 Traceback (most recent call last)",
      "\u001b[1;32m~\\AppData\\Local\\Temp/ipykernel_13916/3347110987.py\u001b[0m in \u001b[0;36m<module>\u001b[1;34m\u001b[0m\n\u001b[1;32m----> 1\u001b[1;33m \u001b[0mtetin\u001b[0m\u001b[1;33m\u001b[0m\u001b[1;33m\u001b[0m\u001b[0m\n\u001b[0m",
      "\u001b[1;31mNameError\u001b[0m: name 'tetin' is not defined"
     ]
    }
   ],
   "source": [
    "tetin"
   ]
  },
  {
   "cell_type": "code",
   "execution_count": 11,
   "id": "dc37e27f",
   "metadata": {},
   "outputs": [
    {
     "data": {
      "text/plain": [
       "True"
      ]
     },
     "execution_count": 11,
     "metadata": {},
     "output_type": "execute_result"
    }
   ],
   "source": [
    "f"
   ]
  },
  {
   "cell_type": "code",
   "execution_count": 18,
   "id": "ae8b41d3",
   "metadata": {},
   "outputs": [
    {
     "data": {
      "text/plain": [
       "True"
      ]
     },
     "execution_count": 18,
     "metadata": {},
     "output_type": "execute_result"
    }
   ],
   "source": [
    "True or False"
   ]
  },
  {
   "cell_type": "code",
   "execution_count": 28,
   "id": "95034d8b",
   "metadata": {},
   "outputs": [],
   "source": [
    "x,y=False,True"
   ]
  },
  {
   "cell_type": "code",
   "execution_count": 29,
   "id": "691c87cd",
   "metadata": {},
   "outputs": [
    {
     "data": {
      "text/plain": [
       "False"
      ]
     },
     "execution_count": 29,
     "metadata": {},
     "output_type": "execute_result"
    }
   ],
   "source": [
    "x"
   ]
  },
  {
   "cell_type": "code",
   "execution_count": 30,
   "id": "d08f5438",
   "metadata": {},
   "outputs": [
    {
     "data": {
      "text/plain": [
       "True"
      ]
     },
     "execution_count": 30,
     "metadata": {},
     "output_type": "execute_result"
    }
   ],
   "source": [
    "y"
   ]
  },
  {
   "cell_type": "code",
   "execution_count": 34,
   "id": "56e37756",
   "metadata": {},
   "outputs": [
    {
     "data": {
      "text/plain": [
       "False"
      ]
     },
     "execution_count": 34,
     "metadata": {},
     "output_type": "execute_result"
    }
   ],
   "source": [
    "drawCondition"
   ]
  },
  {
   "cell_type": "code",
   "execution_count": 35,
   "id": "10a22c21",
   "metadata": {},
   "outputs": [
    {
     "data": {
      "text/plain": [
       "True"
      ]
     },
     "execution_count": 35,
     "metadata": {},
     "output_type": "execute_result"
    }
   ],
   "source": [
    "winningCondition"
   ]
  },
  {
   "cell_type": "code",
   "execution_count": 54,
   "id": "0daa71bd",
   "metadata": {},
   "outputs": [],
   "source": [
    "def erg():\n",
    "    global Ashu\n",
    "    Ashu=59\n",
    "    Alan=40"
   ]
  },
  {
   "cell_type": "code",
   "execution_count": 55,
   "id": "21e5236b",
   "metadata": {},
   "outputs": [
    {
     "data": {
      "text/plain": [
       "59"
      ]
     },
     "execution_count": 55,
     "metadata": {},
     "output_type": "execute_result"
    }
   ],
   "source": [
    "Ashu"
   ]
  },
  {
   "cell_type": "code",
   "execution_count": 56,
   "id": "138bfb4f",
   "metadata": {},
   "outputs": [
    {
     "ename": "NameError",
     "evalue": "name 'Alan' is not defined",
     "output_type": "error",
     "traceback": [
      "\u001b[1;31m---------------------------------------------------------------------------\u001b[0m",
      "\u001b[1;31mNameError\u001b[0m                                 Traceback (most recent call last)",
      "\u001b[1;32m~\\AppData\\Local\\Temp/ipykernel_13916/1827407129.py\u001b[0m in \u001b[0;36m<module>\u001b[1;34m\u001b[0m\n\u001b[1;32m----> 1\u001b[1;33m \u001b[0mAlan\u001b[0m\u001b[1;33m\u001b[0m\u001b[1;33m\u001b[0m\u001b[0m\n\u001b[0m",
      "\u001b[1;31mNameError\u001b[0m: name 'Alan' is not defined"
     ]
    }
   ],
   "source": [
    "Alan"
   ]
  },
  {
   "cell_type": "code",
   "execution_count": 102,
   "id": "a439975d",
   "metadata": {},
   "outputs": [],
   "source": [
    "def er():\n",
    "    global xyzc\n",
    "    xyzc=45\n"
   ]
  },
  {
   "cell_type": "code",
   "execution_count": 103,
   "id": "5616e721",
   "metadata": {},
   "outputs": [],
   "source": [
    "def ert():\n",
    "    er()\n",
    "    global xyzc\n",
    "    xyzc=1\n",
    "    return 3"
   ]
  },
  {
   "cell_type": "code",
   "execution_count": 104,
   "id": "b06e4a19",
   "metadata": {},
   "outputs": [
    {
     "data": {
      "text/plain": [
       "3"
      ]
     },
     "execution_count": 104,
     "metadata": {},
     "output_type": "execute_result"
    }
   ],
   "source": [
    "ert()"
   ]
  },
  {
   "cell_type": "code",
   "execution_count": 105,
   "id": "9a8804c5",
   "metadata": {},
   "outputs": [
    {
     "data": {
      "text/plain": [
       "1"
      ]
     },
     "execution_count": 105,
     "metadata": {},
     "output_type": "execute_result"
    }
   ],
   "source": [
    "xyzc"
   ]
  },
  {
   "cell_type": "code",
   "execution_count": 81,
   "id": "2f1c4261",
   "metadata": {},
   "outputs": [],
   "source": [
    "er()"
   ]
  },
  {
   "cell_type": "code",
   "execution_count": 82,
   "id": "ddd6ff35",
   "metadata": {},
   "outputs": [
    {
     "ename": "NameError",
     "evalue": "name 'xy' is not defined",
     "output_type": "error",
     "traceback": [
      "\u001b[1;31m---------------------------------------------------------------------------\u001b[0m",
      "\u001b[1;31mNameError\u001b[0m                                 Traceback (most recent call last)",
      "\u001b[1;32m~\\AppData\\Local\\Temp/ipykernel_13916/3424147140.py\u001b[0m in \u001b[0;36m<module>\u001b[1;34m\u001b[0m\n\u001b[1;32m----> 1\u001b[1;33m \u001b[0mxy\u001b[0m\u001b[1;33m\u001b[0m\u001b[1;33m\u001b[0m\u001b[0m\n\u001b[0m",
      "\u001b[1;31mNameError\u001b[0m: name 'xy' is not defined"
     ]
    }
   ],
   "source": [
    "xy"
   ]
  },
  {
   "cell_type": "code",
   "execution_count": null,
   "id": "0639126f",
   "metadata": {},
   "outputs": [],
   "source": []
  },
  {
   "cell_type": "code",
   "execution_count": 60,
   "id": "eb3d262c",
   "metadata": {},
   "outputs": [
    {
     "data": {
      "text/plain": [
       "False"
      ]
     },
     "execution_count": 60,
     "metadata": {},
     "output_type": "execute_result"
    }
   ],
   "source": [
    "winningCondition"
   ]
  },
  {
   "cell_type": "code",
   "execution_count": 61,
   "id": "f81f8630",
   "metadata": {},
   "outputs": [
    {
     "data": {
      "text/plain": [
       "False"
      ]
     },
     "execution_count": 61,
     "metadata": {},
     "output_type": "execute_result"
    }
   ],
   "source": [
    "drawCondition"
   ]
  },
  {
   "cell_type": "code",
   "execution_count": 122,
   "id": "8707bcc2",
   "metadata": {},
   "outputs": [
    {
     "data": {
      "text/plain": [
       "array([['X', 'O', 'X'],\n",
       "       ['X', 'X', 'O'],\n",
       "       ['O', 'X', 'O']], dtype='<U1')"
      ]
     },
     "execution_count": 122,
     "metadata": {},
     "output_type": "execute_result"
    }
   ],
   "source": [
    "w"
   ]
  },
  {
   "cell_type": "code",
   "execution_count": 123,
   "id": "1f017435",
   "metadata": {},
   "outputs": [
    {
     "data": {
      "text/plain": [
       "True"
      ]
     },
     "execution_count": 123,
     "metadata": {},
     "output_type": "execute_result"
    }
   ],
   "source": [
    "'X' in w"
   ]
  },
  {
   "cell_type": "code",
   "execution_count": 124,
   "id": "6901ddbb",
   "metadata": {},
   "outputs": [],
   "source": [
    "w[1,1]='a'"
   ]
  },
  {
   "cell_type": "code",
   "execution_count": 125,
   "id": "5e9a024c",
   "metadata": {},
   "outputs": [
    {
     "data": {
      "text/plain": [
       "array([['X', 'O', 'X'],\n",
       "       ['X', 'a', 'O'],\n",
       "       ['O', 'X', 'O']], dtype='<U1')"
      ]
     },
     "execution_count": 125,
     "metadata": {},
     "output_type": "execute_result"
    }
   ],
   "source": [
    "w"
   ]
  },
  {
   "cell_type": "code",
   "execution_count": 126,
   "id": "0e586335",
   "metadata": {},
   "outputs": [
    {
     "data": {
      "text/plain": [
       "True"
      ]
     },
     "execution_count": 126,
     "metadata": {},
     "output_type": "execute_result"
    }
   ],
   "source": [
    "'a' in w"
   ]
  },
  {
   "cell_type": "code",
   "execution_count": 127,
   "id": "30c65a6c",
   "metadata": {},
   "outputs": [
    {
     "data": {
      "text/plain": [
       "False"
      ]
     },
     "execution_count": 127,
     "metadata": {},
     "output_type": "execute_result"
    }
   ],
   "source": [
    "'b' in w"
   ]
  },
  {
   "cell_type": "code",
   "execution_count": 128,
   "id": "2fbe4300",
   "metadata": {},
   "outputs": [
    {
     "data": {
      "text/plain": [
       "array([['X', 'O', 'X'],\n",
       "       ['X', 'a', 'O'],\n",
       "       ['O', 'X', 'O']], dtype='<U1')"
      ]
     },
     "execution_count": 128,
     "metadata": {},
     "output_type": "execute_result"
    }
   ],
   "source": [
    "w"
   ]
  },
  {
   "cell_type": "code",
   "execution_count": 133,
   "id": "739341d7",
   "metadata": {},
   "outputs": [
    {
     "name": "stdout",
     "output_type": "stream",
     "text": [
      "erg\n"
     ]
    },
    {
     "name": "stderr",
     "output_type": "stream",
     "text": [
      "C:\\Users\\rchtp\\AppData\\Local\\Temp/ipykernel_13916/3053236448.py:1: FutureWarning: elementwise comparison failed; returning scalar instead, but in the future will perform elementwise comparison\n",
      "  if 'a' in w ==True:\n"
     ]
    }
   ],
   "source": [
    "if 'a' in w ==True:\n",
    "    print('wer')\n",
    "else:\n",
    "    print('erg')"
   ]
  },
  {
   "cell_type": "code",
   "execution_count": null,
   "id": "7be5d70e",
   "metadata": {},
   "outputs": [],
   "source": []
  },
  {
   "cell_type": "code",
   "execution_count": null,
   "id": "a589a03d",
   "metadata": {},
   "outputs": [],
   "source": []
  },
  {
   "cell_type": "code",
   "execution_count": null,
   "id": "644d453c",
   "metadata": {},
   "outputs": [],
   "source": []
  },
  {
   "cell_type": "code",
   "execution_count": null,
   "id": "f229b4f6",
   "metadata": {},
   "outputs": [],
   "source": []
  },
  {
   "cell_type": "code",
   "execution_count": null,
   "id": "ac4cd6a0",
   "metadata": {},
   "outputs": [],
   "source": []
  },
  {
   "cell_type": "code",
   "execution_count": null,
   "id": "d9e1ed9a",
   "metadata": {},
   "outputs": [],
   "source": []
  },
  {
   "cell_type": "code",
   "execution_count": null,
   "id": "ff96028f",
   "metadata": {},
   "outputs": [],
   "source": []
  },
  {
   "cell_type": "code",
   "execution_count": null,
   "id": "027c3e73",
   "metadata": {},
   "outputs": [],
   "source": []
  },
  {
   "cell_type": "code",
   "execution_count": null,
   "id": "34d35c88",
   "metadata": {},
   "outputs": [],
   "source": []
  }
 ],
 "metadata": {
  "kernelspec": {
   "display_name": "Python 3 (ipykernel)",
   "language": "python",
   "name": "python3"
  },
  "language_info": {
   "codemirror_mode": {
    "name": "ipython",
    "version": 3
   },
   "file_extension": ".py",
   "mimetype": "text/x-python",
   "name": "python",
   "nbconvert_exporter": "python",
   "pygments_lexer": "ipython3",
   "version": "3.9.6"
  }
 },
 "nbformat": 4,
 "nbformat_minor": 5
}
