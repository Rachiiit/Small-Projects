{
 "cells": [
  {
   "cell_type": "code",
   "execution_count": 2,
   "id": "e6654506",
   "metadata": {},
   "outputs": [
    {
     "name": "stdout",
     "output_type": "stream",
     "text": [
      "Python is fantastic\n",
      "Python is awesome\n"
     ]
    }
   ],
   "source": [
    "x = \"awesome\"\n",
    "\n",
    "def myfunc():\n",
    "  x = \"fantastic\"\n",
    "  print(\"Python is \" + x)\n",
    "\n",
    "myfunc()\n",
    "\n",
    "print(\"Python is \" + x)"
   ]
  },
  {
   "cell_type": "code",
   "execution_count": 4,
   "id": "02c23604",
   "metadata": {},
   "outputs": [
    {
     "name": "stdout",
     "output_type": "stream",
     "text": [
      "Python is fantastic\n"
     ]
    }
   ],
   "source": [
    "def myfunc():\n",
    "  global x\n",
    "  x = \"fantastic\"\n",
    "\n",
    "myfunc()\n",
    "\n",
    "print(\"Python is \" + x)"
   ]
  },
  {
   "cell_type": "code",
   "execution_count": 11,
   "id": "486c8a59",
   "metadata": {},
   "outputs": [
    {
     "name": "stdout",
     "output_type": "stream",
     "text": [
      "Enter: 54\n"
     ]
    },
    {
     "data": {
      "text/plain": [
       "'waah'"
      ]
     },
     "execution_count": 11,
     "metadata": {},
     "output_type": "execute_result"
    }
   ],
   "source": [
    "def er():\n",
    "    if x>3:\n",
    "        return 'na'\n",
    "    else:\n",
    "        return 'haan'\n",
    "def rt():\n",
    "    if x>4:\n",
    "        return 'waah'\n",
    "    else:\n",
    "        return 'ew'\n",
    "def sd():\n",
    "    while 43:\n",
    "        global x\n",
    "        x=int(input('Enter: '))\n",
    "        if x>45:\n",
    "            s=rt()\n",
    "            return s\n",
    "        else:\n",
    "            e=er()\n",
    "            return e\n",
    "sd()"
   ]
  },
  {
   "cell_type": "code",
   "execution_count": 15,
   "id": "3bb4d6d4",
   "metadata": {},
   "outputs": [],
   "source": [
    "def re():\n",
    "    while True:\n",
    "        if x>4:\n",
    "            return 3\n",
    "        elif x<2:\n",
    "            return 23\n",
    "        else:\n",
    "            break\n",
    "x=3\n",
    "def ertt():\n",
    "    d=re()\n",
    "    return d\n",
    "ertt()"
   ]
  },
  {
   "cell_type": "code",
   "execution_count": 9,
   "id": "93c61855",
   "metadata": {},
   "outputs": [
    {
     "data": {
      "text/plain": [
       "'werw'"
      ]
     },
     "execution_count": 9,
     "metadata": {},
     "output_type": "execute_result"
    }
   ],
   "source": [
    "def etg():\n",
    "    return 'werw'\n",
    "etg()"
   ]
  },
  {
   "cell_type": "code",
   "execution_count": 13,
   "id": "f113da4e",
   "metadata": {},
   "outputs": [],
   "source": [
    "import numpy as np"
   ]
  },
  {
   "cell_type": "code",
   "execution_count": 19,
   "id": "e3f0dff0",
   "metadata": {},
   "outputs": [
    {
     "name": "stdout",
     "output_type": "stream",
     "text": [
      "\n",
      "Welcome to play Tic Tac Toe.\n",
      "    First player will play with X and second player will play with O.\n",
      "    In the box, there are alphabets from a to i, write a alphabet to replace your entery.\n",
      "    Player 1 and player 2 will be playing alternatively.\n",
      "[['a' 'b' 'c']\n",
      " ['d' 'e' 'f']\n",
      " ['g' 'h' 'i']]\n",
      "\n",
      "Enter a alphabet from a to i: a\n",
      "[['X' 'b' 'c']\n",
      " ['d' 'e' 'f']\n",
      " ['g' 'h' 'i']]\n",
      "\n",
      "Enter a alphabet from a to i: d\n",
      "[['X' 'b' 'c']\n",
      " ['O' 'e' 'f']\n",
      " ['g' 'h' 'i']]\n",
      "\n",
      "Enter a alphabet from a to i: e\n",
      "[['X' 'b' 'c']\n",
      " ['O' 'X' 'f']\n",
      " ['g' 'h' 'i']]\n",
      "\n",
      "Enter a alphabet from a to i: g\n",
      "[['X' 'b' 'c']\n",
      " ['O' 'X' 'f']\n",
      " ['O' 'h' 'i']]\n",
      "\n",
      "Enter a alphabet from a to i: i\n",
      "[['X' 'b' 'c']\n",
      " ['O' 'X' 'f']\n",
      " ['O' 'h' 'X']]\n",
      "Congratulations, X have won the match.\n",
      "\n",
      "Would you like to play again? Enter Y for Yes or anything for No: n\n",
      "\n",
      "Thank you for playing.\n",
      "Thank you for playing..\n",
      "Congratulations, X have won the match.\n"
     ]
    },
    {
     "ename": "KeyboardInterrupt",
     "evalue": "Interrupted by user",
     "output_type": "error",
     "traceback": [
      "\u001b[1;31m---------------------------------------------------------------------------\u001b[0m",
      "\u001b[1;31mKeyboardInterrupt\u001b[0m                         Traceback (most recent call last)",
      "\u001b[1;32m~\\AppData\\Local\\Temp/ipykernel_14252/4036832026.py\u001b[0m in \u001b[0;36m<module>\u001b[1;34m\u001b[0m\n\u001b[0;32m    208\u001b[0m             \u001b[0mprint\u001b[0m\u001b[1;33m(\u001b[0m\u001b[1;34m'Please enter desire input only.'\u001b[0m\u001b[1;33m)\u001b[0m\u001b[1;33m\u001b[0m\u001b[1;33m\u001b[0m\u001b[0m\n\u001b[0;32m    209\u001b[0m \u001b[1;33m\u001b[0m\u001b[0m\n\u001b[1;32m--> 210\u001b[1;33m \u001b[0mTicTacToe\u001b[0m\u001b[1;33m(\u001b[0m\u001b[1;33m)\u001b[0m\u001b[1;33m\u001b[0m\u001b[1;33m\u001b[0m\u001b[0m\n\u001b[0m",
      "\u001b[1;32m~\\AppData\\Local\\Temp/ipykernel_14252/4036832026.py\u001b[0m in \u001b[0;36mTicTacToe\u001b[1;34m()\u001b[0m\n\u001b[0;32m     10\u001b[0m     Player 1 and player 2 will be playing alternatively.''')\n\u001b[0;32m     11\u001b[0m     \u001b[0mboard\u001b[0m\u001b[1;33m(\u001b[0m\u001b[1;33m)\u001b[0m\u001b[1;33m\u001b[0m\u001b[1;33m\u001b[0m\u001b[0m\n\u001b[1;32m---> 12\u001b[1;33m     \u001b[0mplayer1move\u001b[0m\u001b[1;33m(\u001b[0m\u001b[1;33m)\u001b[0m\u001b[1;33m\u001b[0m\u001b[1;33m\u001b[0m\u001b[0m\n\u001b[0m\u001b[0;32m     13\u001b[0m \u001b[1;33m\u001b[0m\u001b[0m\n\u001b[0;32m     14\u001b[0m \u001b[1;33m\u001b[0m\u001b[0m\n",
      "\u001b[1;32m~\\AppData\\Local\\Temp/ipykernel_14252/4036832026.py\u001b[0m in \u001b[0;36mplayer1move\u001b[1;34m()\u001b[0m\n\u001b[0;32m    112\u001b[0m             \u001b[0mprint\u001b[0m\u001b[1;33m(\u001b[0m\u001b[0mw\u001b[0m\u001b[1;33m)\u001b[0m\u001b[1;33m\u001b[0m\u001b[1;33m\u001b[0m\u001b[0m\n\u001b[0;32m    113\u001b[0m             \u001b[0mcheckForWin\u001b[0m\u001b[1;33m(\u001b[0m\u001b[1;33m)\u001b[0m\u001b[1;33m\u001b[0m\u001b[1;33m\u001b[0m\u001b[0m\n\u001b[1;32m--> 114\u001b[1;33m             \u001b[0mplayer2move\u001b[0m\u001b[1;33m(\u001b[0m\u001b[1;33m)\u001b[0m\u001b[1;33m\u001b[0m\u001b[1;33m\u001b[0m\u001b[0m\n\u001b[0m\u001b[0;32m    115\u001b[0m         \u001b[1;32melif\u001b[0m \u001b[0mg\u001b[0m\u001b[1;33m.\u001b[0m\u001b[0mlower\u001b[0m\u001b[1;33m(\u001b[0m\u001b[1;33m)\u001b[0m\u001b[1;33m==\u001b[0m\u001b[1;34m'b'\u001b[0m\u001b[1;33m:\u001b[0m\u001b[1;33m\u001b[0m\u001b[1;33m\u001b[0m\u001b[0m\n\u001b[0;32m    116\u001b[0m             \u001b[0mw\u001b[0m\u001b[1;33m[\u001b[0m\u001b[1;36m0\u001b[0m\u001b[1;33m]\u001b[0m\u001b[1;33m[\u001b[0m\u001b[1;36m1\u001b[0m\u001b[1;33m]\u001b[0m\u001b[1;33m=\u001b[0m\u001b[1;34m'X'\u001b[0m\u001b[1;33m\u001b[0m\u001b[1;33m\u001b[0m\u001b[0m\n",
      "\u001b[1;32m~\\AppData\\Local\\Temp/ipykernel_14252/4036832026.py\u001b[0m in \u001b[0;36mplayer2move\u001b[1;34m()\u001b[0m\n\u001b[0;32m    179\u001b[0m             \u001b[0mprint\u001b[0m\u001b[1;33m(\u001b[0m\u001b[0mw\u001b[0m\u001b[1;33m)\u001b[0m\u001b[1;33m\u001b[0m\u001b[1;33m\u001b[0m\u001b[0m\n\u001b[0;32m    180\u001b[0m             \u001b[0mcheckForWin\u001b[0m\u001b[1;33m(\u001b[0m\u001b[1;33m)\u001b[0m\u001b[1;33m\u001b[0m\u001b[1;33m\u001b[0m\u001b[0m\n\u001b[1;32m--> 181\u001b[1;33m             \u001b[0mplayer1move\u001b[0m\u001b[1;33m(\u001b[0m\u001b[1;33m)\u001b[0m\u001b[1;33m\u001b[0m\u001b[1;33m\u001b[0m\u001b[0m\n\u001b[0m\u001b[0;32m    182\u001b[0m         \u001b[1;32melif\u001b[0m \u001b[0mg\u001b[0m\u001b[1;33m.\u001b[0m\u001b[0mlower\u001b[0m\u001b[1;33m(\u001b[0m\u001b[1;33m)\u001b[0m\u001b[1;33m==\u001b[0m\u001b[1;34m'e'\u001b[0m\u001b[1;33m:\u001b[0m\u001b[1;33m\u001b[0m\u001b[1;33m\u001b[0m\u001b[0m\n\u001b[0;32m    183\u001b[0m             \u001b[0mw\u001b[0m\u001b[1;33m[\u001b[0m\u001b[1;36m1\u001b[0m\u001b[1;33m]\u001b[0m\u001b[1;33m[\u001b[0m\u001b[1;36m1\u001b[0m\u001b[1;33m]\u001b[0m\u001b[1;33m=\u001b[0m\u001b[1;34m'O'\u001b[0m\u001b[1;33m\u001b[0m\u001b[1;33m\u001b[0m\u001b[0m\n",
      "\u001b[1;32m~\\AppData\\Local\\Temp/ipykernel_14252/4036832026.py\u001b[0m in \u001b[0;36mplayer1move\u001b[1;34m()\u001b[0m\n\u001b[0;32m    132\u001b[0m             \u001b[0mprint\u001b[0m\u001b[1;33m(\u001b[0m\u001b[0mw\u001b[0m\u001b[1;33m)\u001b[0m\u001b[1;33m\u001b[0m\u001b[1;33m\u001b[0m\u001b[0m\n\u001b[0;32m    133\u001b[0m             \u001b[0mcheckForWin\u001b[0m\u001b[1;33m(\u001b[0m\u001b[1;33m)\u001b[0m\u001b[1;33m\u001b[0m\u001b[1;33m\u001b[0m\u001b[0m\n\u001b[1;32m--> 134\u001b[1;33m             \u001b[0mplayer2move\u001b[0m\u001b[1;33m(\u001b[0m\u001b[1;33m)\u001b[0m\u001b[1;33m\u001b[0m\u001b[1;33m\u001b[0m\u001b[0m\n\u001b[0m\u001b[0;32m    135\u001b[0m         \u001b[1;32melif\u001b[0m \u001b[0mg\u001b[0m\u001b[1;33m.\u001b[0m\u001b[0mlower\u001b[0m\u001b[1;33m(\u001b[0m\u001b[1;33m)\u001b[0m\u001b[1;33m==\u001b[0m\u001b[1;34m'f'\u001b[0m\u001b[1;33m:\u001b[0m\u001b[1;33m\u001b[0m\u001b[1;33m\u001b[0m\u001b[0m\n\u001b[0;32m    136\u001b[0m             \u001b[0mw\u001b[0m\u001b[1;33m[\u001b[0m\u001b[1;36m1\u001b[0m\u001b[1;33m]\u001b[0m\u001b[1;33m[\u001b[0m\u001b[1;36m2\u001b[0m\u001b[1;33m]\u001b[0m\u001b[1;33m=\u001b[0m\u001b[1;34m'X'\u001b[0m\u001b[1;33m\u001b[0m\u001b[1;33m\u001b[0m\u001b[0m\n",
      "\u001b[1;32m~\\AppData\\Local\\Temp/ipykernel_14252/4036832026.py\u001b[0m in \u001b[0;36mplayer2move\u001b[1;34m()\u001b[0m\n\u001b[0;32m    194\u001b[0m             \u001b[0mprint\u001b[0m\u001b[1;33m(\u001b[0m\u001b[0mw\u001b[0m\u001b[1;33m)\u001b[0m\u001b[1;33m\u001b[0m\u001b[1;33m\u001b[0m\u001b[0m\n\u001b[0;32m    195\u001b[0m             \u001b[0mcheckForWin\u001b[0m\u001b[1;33m(\u001b[0m\u001b[1;33m)\u001b[0m\u001b[1;33m\u001b[0m\u001b[1;33m\u001b[0m\u001b[0m\n\u001b[1;32m--> 196\u001b[1;33m             \u001b[0mplayer1move\u001b[0m\u001b[1;33m(\u001b[0m\u001b[1;33m)\u001b[0m\u001b[1;33m\u001b[0m\u001b[1;33m\u001b[0m\u001b[0m\n\u001b[0m\u001b[0;32m    197\u001b[0m         \u001b[1;32melif\u001b[0m \u001b[0mg\u001b[0m\u001b[1;33m.\u001b[0m\u001b[0mlower\u001b[0m\u001b[1;33m(\u001b[0m\u001b[1;33m)\u001b[0m\u001b[1;33m==\u001b[0m\u001b[1;34m'h'\u001b[0m\u001b[1;33m:\u001b[0m\u001b[1;33m\u001b[0m\u001b[1;33m\u001b[0m\u001b[0m\n\u001b[0;32m    198\u001b[0m             \u001b[0mw\u001b[0m\u001b[1;33m[\u001b[0m\u001b[1;36m2\u001b[0m\u001b[1;33m]\u001b[0m\u001b[1;33m[\u001b[0m\u001b[1;36m1\u001b[0m\u001b[1;33m]\u001b[0m\u001b[1;33m=\u001b[0m\u001b[1;34m'O'\u001b[0m\u001b[1;33m\u001b[0m\u001b[1;33m\u001b[0m\u001b[0m\n",
      "\u001b[1;32m~\\AppData\\Local\\Temp/ipykernel_14252/4036832026.py\u001b[0m in \u001b[0;36mplayer1move\u001b[1;34m()\u001b[0m\n\u001b[0;32m    151\u001b[0m             \u001b[0mw\u001b[0m\u001b[1;33m[\u001b[0m\u001b[1;36m2\u001b[0m\u001b[1;33m]\u001b[0m\u001b[1;33m[\u001b[0m\u001b[1;36m2\u001b[0m\u001b[1;33m]\u001b[0m\u001b[1;33m=\u001b[0m\u001b[1;34m'X'\u001b[0m\u001b[1;33m\u001b[0m\u001b[1;33m\u001b[0m\u001b[0m\n\u001b[0;32m    152\u001b[0m             \u001b[0mprint\u001b[0m\u001b[1;33m(\u001b[0m\u001b[0mw\u001b[0m\u001b[1;33m)\u001b[0m\u001b[1;33m\u001b[0m\u001b[1;33m\u001b[0m\u001b[0m\n\u001b[1;32m--> 153\u001b[1;33m             \u001b[0mcheckForWin\u001b[0m\u001b[1;33m(\u001b[0m\u001b[1;33m)\u001b[0m\u001b[1;33m\u001b[0m\u001b[1;33m\u001b[0m\u001b[0m\n\u001b[0m\u001b[0;32m    154\u001b[0m             \u001b[0mplayer2move\u001b[0m\u001b[1;33m(\u001b[0m\u001b[1;33m)\u001b[0m\u001b[1;33m\u001b[0m\u001b[1;33m\u001b[0m\u001b[0m\n\u001b[0;32m    155\u001b[0m         \u001b[1;32melse\u001b[0m\u001b[1;33m:\u001b[0m\u001b[1;33m\u001b[0m\u001b[1;33m\u001b[0m\u001b[0m\n",
      "\u001b[1;32m~\\AppData\\Local\\Temp/ipykernel_14252/4036832026.py\u001b[0m in \u001b[0;36mcheckForWin\u001b[1;34m()\u001b[0m\n\u001b[0;32m     75\u001b[0m                 \u001b[1;32melif\u001b[0m \u001b[0mlrDiagonal\u001b[0m\u001b[1;33m:\u001b[0m\u001b[1;33m\u001b[0m\u001b[1;33m\u001b[0m\u001b[0m\n\u001b[0;32m     76\u001b[0m                     \u001b[0mprint\u001b[0m\u001b[1;33m(\u001b[0m\u001b[1;34m'Congratulations, {} have won the match.'\u001b[0m\u001b[1;33m.\u001b[0m\u001b[0mformat\u001b[0m\u001b[1;33m(\u001b[0m\u001b[0mw\u001b[0m\u001b[1;33m[\u001b[0m\u001b[1;36m1\u001b[0m\u001b[1;33m]\u001b[0m\u001b[1;33m[\u001b[0m\u001b[1;36m1\u001b[0m\u001b[1;33m]\u001b[0m\u001b[1;33m)\u001b[0m\u001b[1;33m)\u001b[0m\u001b[1;33m\u001b[0m\u001b[1;33m\u001b[0m\u001b[0m\n\u001b[1;32m---> 77\u001b[1;33m                     \u001b[0mreplay\u001b[0m\u001b[1;33m=\u001b[0m\u001b[0minput\u001b[0m\u001b[1;33m(\u001b[0m\u001b[1;34m'\\nWould you like to play again? Enter Y for Yes or anything for No: '\u001b[0m\u001b[1;33m)\u001b[0m\u001b[1;33m\u001b[0m\u001b[1;33m\u001b[0m\u001b[0m\n\u001b[0m\u001b[0;32m     78\u001b[0m                     \u001b[1;32mif\u001b[0m \u001b[0mreplay\u001b[0m\u001b[1;33m.\u001b[0m\u001b[0mlower\u001b[0m\u001b[1;33m(\u001b[0m\u001b[1;33m)\u001b[0m\u001b[1;33m==\u001b[0m\u001b[1;34m'y'\u001b[0m\u001b[1;33m:\u001b[0m\u001b[1;33m\u001b[0m\u001b[1;33m\u001b[0m\u001b[0m\n\u001b[0;32m     79\u001b[0m                         \u001b[0mTicTacToe\u001b[0m\u001b[1;33m(\u001b[0m\u001b[1;33m)\u001b[0m\u001b[1;33m\u001b[0m\u001b[1;33m\u001b[0m\u001b[0m\n",
      "\u001b[1;32mc:\\users\\rchtp\\appdata\\local\\programs\\python\\python39\\lib\\site-packages\\ipykernel\\kernelbase.py\u001b[0m in \u001b[0;36mraw_input\u001b[1;34m(self, prompt)\u001b[0m\n\u001b[0;32m   1004\u001b[0m                 \u001b[1;34m\"raw_input was called, but this frontend does not support input requests.\"\u001b[0m\u001b[1;33m\u001b[0m\u001b[1;33m\u001b[0m\u001b[0m\n\u001b[0;32m   1005\u001b[0m             )\n\u001b[1;32m-> 1006\u001b[1;33m         return self._input_request(\n\u001b[0m\u001b[0;32m   1007\u001b[0m             \u001b[0mstr\u001b[0m\u001b[1;33m(\u001b[0m\u001b[0mprompt\u001b[0m\u001b[1;33m)\u001b[0m\u001b[1;33m,\u001b[0m\u001b[1;33m\u001b[0m\u001b[1;33m\u001b[0m\u001b[0m\n\u001b[0;32m   1008\u001b[0m             \u001b[0mself\u001b[0m\u001b[1;33m.\u001b[0m\u001b[0m_parent_ident\u001b[0m\u001b[1;33m[\u001b[0m\u001b[1;34m\"shell\"\u001b[0m\u001b[1;33m]\u001b[0m\u001b[1;33m,\u001b[0m\u001b[1;33m\u001b[0m\u001b[1;33m\u001b[0m\u001b[0m\n",
      "\u001b[1;32mc:\\users\\rchtp\\appdata\\local\\programs\\python\\python39\\lib\\site-packages\\ipykernel\\kernelbase.py\u001b[0m in \u001b[0;36m_input_request\u001b[1;34m(self, prompt, ident, parent, password)\u001b[0m\n\u001b[0;32m   1049\u001b[0m             \u001b[1;32mexcept\u001b[0m \u001b[0mKeyboardInterrupt\u001b[0m\u001b[1;33m:\u001b[0m\u001b[1;33m\u001b[0m\u001b[1;33m\u001b[0m\u001b[0m\n\u001b[0;32m   1050\u001b[0m                 \u001b[1;31m# re-raise KeyboardInterrupt, to truncate traceback\u001b[0m\u001b[1;33m\u001b[0m\u001b[1;33m\u001b[0m\u001b[1;33m\u001b[0m\u001b[0m\n\u001b[1;32m-> 1051\u001b[1;33m                 \u001b[1;32mraise\u001b[0m \u001b[0mKeyboardInterrupt\u001b[0m\u001b[1;33m(\u001b[0m\u001b[1;34m\"Interrupted by user\"\u001b[0m\u001b[1;33m)\u001b[0m \u001b[1;32mfrom\u001b[0m \u001b[1;32mNone\u001b[0m\u001b[1;33m\u001b[0m\u001b[1;33m\u001b[0m\u001b[0m\n\u001b[0m\u001b[0;32m   1052\u001b[0m             \u001b[1;32mexcept\u001b[0m \u001b[0mException\u001b[0m\u001b[1;33m:\u001b[0m\u001b[1;33m\u001b[0m\u001b[1;33m\u001b[0m\u001b[0m\n\u001b[0;32m   1053\u001b[0m                 \u001b[0mself\u001b[0m\u001b[1;33m.\u001b[0m\u001b[0mlog\u001b[0m\u001b[1;33m.\u001b[0m\u001b[0mwarning\u001b[0m\u001b[1;33m(\u001b[0m\u001b[1;34m\"Invalid Message:\"\u001b[0m\u001b[1;33m,\u001b[0m \u001b[0mexc_info\u001b[0m\u001b[1;33m=\u001b[0m\u001b[1;32mTrue\u001b[0m\u001b[1;33m)\u001b[0m\u001b[1;33m\u001b[0m\u001b[1;33m\u001b[0m\u001b[0m\n",
      "\u001b[1;31mKeyboardInterrupt\u001b[0m: Interrupted by user"
     ]
    }
   ],
   "source": [
    "def board():\n",
    "    e=np.array(['a','b','c','d','e','f','g','h','i'])\n",
    "    global w\n",
    "    w=e.reshape(3,3)\n",
    "    print(w)\n",
    "def TicTacToe():\n",
    "    print('''\\nWelcome to play Tic Tac Toe.\n",
    "    First player will play with X and second player will play with O.\n",
    "    In the box, there are alphabets from a to i, write a alphabet to replace your entery.\n",
    "    Player 1 and player 2 will be playing alternatively.''')\n",
    "    board()\n",
    "    player1move()\n",
    "    \n",
    "    \n",
    "def checkForWin():\n",
    "    firstRow=w[0][0]==w[0][1]==w[0][2]\n",
    "    secondRow=w[1][0]==w[1][1]==w[1][2]\n",
    "    thirdRow=w[2][0]==w[2][1]==w[2][2]\n",
    "    firstColumn=w[0][0]==w[1][0]==w[2][0]\n",
    "    secondColumn=w[0][1]==w[1][1]==w[2][1]\n",
    "    thirdColumn=w[0][2]==w[1][2]==w[2][2]\n",
    "    lrDiagonal=w[0][0]==w[1][1]==w[2][2]\n",
    "    rlDiagonal=w[0][2]==w[1][1]==w[2][0]\n",
    "    while 54:\n",
    "        if firstRow or secondRow or thirdRow or firstColumn or secondColumn or thirdColumn or lrDiagonal or rlDiagonal:\n",
    "            while 23:\n",
    "                if firstRow:\n",
    "                    print('\\nCongratulations, {} have won the match.'.format(w[0][1]))\n",
    "                    replay=input('\\nWould you like to play again? Enter Y for Yes or anything for No: ')\n",
    "                    if replay.lower()=='y':\n",
    "                        TicTacToe()\n",
    "                    else:\n",
    "                        print('\\nThank you for playing.')\n",
    "                        break\n",
    "                elif secondRow:\n",
    "                    print('\\nCongratulations, {} have won the match.'.format(w[1][1]))\n",
    "                    replay=input('\\nWould you like to play again? Enter Y for Yes or anything for No: ')\n",
    "                    if replay.lower()=='y':\n",
    "                        TicTacToe()\n",
    "                    else:\n",
    "                        print('\\nThank you for playing.')\n",
    "                        break\n",
    "                elif thirdRow:\n",
    "                    print('\\nCongratulations, {} have won the match.'.format(w[2][1]))\n",
    "                    replay=input('\\nWould you like to play again? Enter Y for Yes or anything for No: ')\n",
    "                    if replay.lower()=='y':\n",
    "                        TicTacToe()\n",
    "                    else:\n",
    "                        print('\\nThank you for playing.')\n",
    "                        break\n",
    "                elif firstColumn:\n",
    "                    print('\\nCongratulations, {} have won the match.'.format(w[1][0]))\n",
    "                    replay=input('\\nWould you like to play again? Enter Y for Yes or anything for No: ')\n",
    "                    if replay.lower()=='y':\n",
    "                        TicTacToe()\n",
    "                    else:\n",
    "                        print('\\nThank you for playing.')\n",
    "                        break\n",
    "                elif secondColumn:\n",
    "                    print('\\nCongratulations, {} have won the match.'.format(w[1][1]))\n",
    "                    replay=input('\\nWould you like to play again? Enter Y for Yes or anything for No: ')\n",
    "                    if replay.lower()=='y':\n",
    "                        TicTacToe()\n",
    "                    else:\n",
    "                        print('\\nThank you for playing.')\n",
    "                        break\n",
    "                elif thirdColumn:\n",
    "                    print('\\nCongratulations, {} have won the match.'.format(w[1][2]))\n",
    "                    replay=input('\\nWould you like to play again? Enter Y for Yes or anything for No: ')\n",
    "                    if replay.lower()=='y':\n",
    "                        TicTacToe()\n",
    "                    else:\n",
    "                        print('\\nThank you for playing.')\n",
    "                        break\n",
    "                elif lrDiagonal:\n",
    "                    print('Congratulations, {} have won the match.'.format(w[1][1]))\n",
    "                    replay=input('\\nWould you like to play again? Enter Y for Yes or anything for No: ')\n",
    "                    if replay.lower()=='y':\n",
    "                        TicTacToe()\n",
    "                    else:\n",
    "                        print('\\nThank you for playing.')\n",
    "                        break\n",
    "                elif rlDiagonal:\n",
    "                    print('\\nCongratulations, {} have won the match.'.format(w[1][1]))\n",
    "                    replay=input('Would you like to play again? Enter Y for Yes or anything for No: ')\n",
    "                    if replay.lower()=='y':\n",
    "                        TicTacToe()\n",
    "                    else:\n",
    "                        print('\\nThank you for playing.')\n",
    "                        break\n",
    "        elif w[0][0]!='a' and w[0][1]!='b' and w[0][2]!='c' and w[1][0]!='d' and w[1][1]!='e' and w[1][2]!='f' and w[2][0]!='g' and w[2][1]!='h' and w[2][2]!='i':\n",
    "            print('\\nMatch is drawn.')\n",
    "            replay=input('\\nWould you like to play again? Enter Y for Yes or anything for No: ')\n",
    "            if replay.lower()=='y':\n",
    "                TicTacToe()\n",
    "            else:\n",
    "                print('\\nThank you for playing.')     \n",
    "                break\n",
    "        else:\n",
    "            break\n",
    "\n",
    "            \n",
    "def player1move():\n",
    "    while 53:\n",
    "        g=input('\\nEnter a alphabet from a to i: ')\n",
    "        if g.lower()=='a':\n",
    "            w[0][0]='X'\n",
    "            print(w)\n",
    "            checkForWin()\n",
    "            player2move()\n",
    "        elif g.lower()=='b':\n",
    "            w[0][1]='X'\n",
    "            print(w)\n",
    "            checkForWin()\n",
    "            player2move()\n",
    "        elif g.lower()=='c':\n",
    "            w[0][2]='X'\n",
    "            print(w)\n",
    "            checkForWin()\n",
    "            player2move()\n",
    "        elif g.lower()=='d':\n",
    "            w[1][0]='X'\n",
    "            print(w)\n",
    "            checkForWin()\n",
    "            player2move()\n",
    "        elif g.lower()=='e':\n",
    "            w[1][1]='X'\n",
    "            print(w)\n",
    "            checkForWin()\n",
    "            player2move()\n",
    "        elif g.lower()=='f':\n",
    "            w[1][2]='X'\n",
    "            print(w)\n",
    "            checkForWin()\n",
    "            player2move()\n",
    "        elif g.lower()=='g':\n",
    "            w[2][0]='X'\n",
    "            print(w)\n",
    "            checkForWin()\n",
    "            player2move()\n",
    "        elif g.lower()=='h':\n",
    "            w[2][1]='X'\n",
    "            print(w)\n",
    "            checkForWin()\n",
    "            player2move()\n",
    "        elif g.lower()=='i':\n",
    "            w[2][2]='X'\n",
    "            print(w)\n",
    "            checkForWin()\n",
    "            player2move()\n",
    "        else:\n",
    "            print('Please enter desire input only.')\n",
    "\n",
    "            \n",
    "def player2move():\n",
    "    while 53:\n",
    "        g=input('\\nEnter a alphabet from a to i: ')\n",
    "        if g.lower()=='a':\n",
    "            w[0][0]='O'\n",
    "            print(w)\n",
    "            checkForWin()\n",
    "            player1move()\n",
    "        elif g.lower()=='b':\n",
    "            w[0][1]='O'\n",
    "            print(w)\n",
    "            checkForWin()\n",
    "            player1move()\n",
    "        elif g.lower()=='c':\n",
    "            w[0][2]='O'\n",
    "            print(w)\n",
    "            checkForWin()\n",
    "            player1move()\n",
    "        elif g.lower()=='d':\n",
    "            w[1][0]='O'\n",
    "            print(w)\n",
    "            checkForWin()\n",
    "            player1move()\n",
    "        elif g.lower()=='e':\n",
    "            w[1][1]='O'\n",
    "            print(w)\n",
    "            checkForWin()\n",
    "            player1move()\n",
    "        elif g.lower()=='f':\n",
    "            w[1][2]='O'\n",
    "            print(w)\n",
    "            checkForWin()\n",
    "            player1move()\n",
    "        elif g.lower()=='g':\n",
    "            w[2][0]='O'\n",
    "            print(w)\n",
    "            checkForWin()\n",
    "            player1move()\n",
    "        elif g.lower()=='h':\n",
    "            w[2][1]='O'\n",
    "            print(w)\n",
    "            checkForWin()\n",
    "            player1move()\n",
    "        elif g.lower()=='i':\n",
    "            w[2][2]='O'\n",
    "            print(w)\n",
    "            checkForWin()\n",
    "            player1move()\n",
    "        else:\n",
    "            print('Please enter desire input only.')\n",
    "            \n",
    "TicTacToe()            "
   ]
  },
  {
   "cell_type": "code",
   "execution_count": 20,
   "id": "caf903c4",
   "metadata": {},
   "outputs": [],
   "source": [
    "import numpy as np"
   ]
  },
  {
   "cell_type": "code",
   "execution_count": 21,
   "id": "81ed0ec1",
   "metadata": {},
   "outputs": [
    {
     "name": "stdout",
     "output_type": "stream",
     "text": [
      "\n",
      "Welcome to play Tic Tac Toe.\n",
      "    First player will play with X and second player will play with O.\n",
      "    In the box, there are alphabets from a to i, write a alphabet to replace your entery.\n",
      "    Player 1 and player 2 will be playing alternatively.\n",
      "[['a' 'b' 'c']\n",
      " ['d' 'e' 'f']\n",
      " ['g' 'h' 'i']]\n",
      "\n",
      "Enter a alphabet from a to i: a\n",
      "[['X' 'b' 'c']\n",
      " ['d' 'e' 'f']\n",
      " ['g' 'h' 'i']]\n",
      "None\n",
      "\n",
      "Enter a alphabet from a to i: f\n",
      "[['X' 'b' 'c']\n",
      " ['d' 'e' 'O']\n",
      " ['g' 'h' 'i']]\n",
      "\n",
      "Enter a alphabet from a to i: r\n",
      "Please enter desire input only.\n",
      "\n",
      "Enter a alphabet from a to i: x\n",
      "Please enter desire input only.\n"
     ]
    },
    {
     "ename": "KeyboardInterrupt",
     "evalue": "Interrupted by user",
     "output_type": "error",
     "traceback": [
      "\u001b[1;31m---------------------------------------------------------------------------\u001b[0m",
      "\u001b[1;31mKeyboardInterrupt\u001b[0m                         Traceback (most recent call last)",
      "\u001b[1;32m~\\AppData\\Local\\Temp/ipykernel_14252/2946692807.py\u001b[0m in \u001b[0;36m<module>\u001b[1;34m\u001b[0m\n\u001b[0;32m    205\u001b[0m             \u001b[0mprint\u001b[0m\u001b[1;33m(\u001b[0m\u001b[1;34m'Please enter desire input only.'\u001b[0m\u001b[1;33m)\u001b[0m\u001b[1;33m\u001b[0m\u001b[1;33m\u001b[0m\u001b[0m\n\u001b[0;32m    206\u001b[0m \u001b[1;33m\u001b[0m\u001b[0m\n\u001b[1;32m--> 207\u001b[1;33m \u001b[0mTicTacToe\u001b[0m\u001b[1;33m(\u001b[0m\u001b[1;33m)\u001b[0m\u001b[1;33m\u001b[0m\u001b[1;33m\u001b[0m\u001b[0m\n\u001b[0m",
      "\u001b[1;32m~\\AppData\\Local\\Temp/ipykernel_14252/2946692807.py\u001b[0m in \u001b[0;36mTicTacToe\u001b[1;34m()\u001b[0m\n\u001b[0;32m     10\u001b[0m     Player 1 and player 2 will be playing alternatively.''')\n\u001b[0;32m     11\u001b[0m     \u001b[0mboard\u001b[0m\u001b[1;33m(\u001b[0m\u001b[1;33m)\u001b[0m\u001b[1;33m\u001b[0m\u001b[1;33m\u001b[0m\u001b[0m\n\u001b[1;32m---> 12\u001b[1;33m     \u001b[0mplayer1move\u001b[0m\u001b[1;33m(\u001b[0m\u001b[1;33m)\u001b[0m\u001b[1;33m\u001b[0m\u001b[1;33m\u001b[0m\u001b[0m\n\u001b[0m\u001b[0;32m     13\u001b[0m \u001b[1;33m\u001b[0m\u001b[0m\n\u001b[0;32m     14\u001b[0m \u001b[1;33m\u001b[0m\u001b[0m\n",
      "\u001b[1;32m~\\AppData\\Local\\Temp/ipykernel_14252/2946692807.py\u001b[0m in \u001b[0;36mplayer1move\u001b[1;34m()\u001b[0m\n\u001b[0;32m    109\u001b[0m             \u001b[0me\u001b[0m\u001b[1;33m=\u001b[0m\u001b[0mcheckForWin\u001b[0m\u001b[1;33m(\u001b[0m\u001b[1;33m)\u001b[0m\u001b[1;33m\u001b[0m\u001b[1;33m\u001b[0m\u001b[0m\n\u001b[0;32m    110\u001b[0m             \u001b[0mprint\u001b[0m\u001b[1;33m(\u001b[0m\u001b[0me\u001b[0m\u001b[1;33m)\u001b[0m\u001b[1;33m\u001b[0m\u001b[1;33m\u001b[0m\u001b[0m\n\u001b[1;32m--> 111\u001b[1;33m             \u001b[0mplayer2move\u001b[0m\u001b[1;33m(\u001b[0m\u001b[1;33m)\u001b[0m\u001b[1;33m\u001b[0m\u001b[1;33m\u001b[0m\u001b[0m\n\u001b[0m\u001b[0;32m    112\u001b[0m         \u001b[1;32melif\u001b[0m \u001b[0mg\u001b[0m\u001b[1;33m.\u001b[0m\u001b[0mlower\u001b[0m\u001b[1;33m(\u001b[0m\u001b[1;33m)\u001b[0m\u001b[1;33m==\u001b[0m\u001b[1;34m'b'\u001b[0m\u001b[1;33m:\u001b[0m\u001b[1;33m\u001b[0m\u001b[1;33m\u001b[0m\u001b[0m\n\u001b[0;32m    113\u001b[0m             \u001b[0mw\u001b[0m\u001b[1;33m[\u001b[0m\u001b[1;36m0\u001b[0m\u001b[1;33m]\u001b[0m\u001b[1;33m[\u001b[0m\u001b[1;36m1\u001b[0m\u001b[1;33m]\u001b[0m\u001b[1;33m=\u001b[0m\u001b[1;34m'X'\u001b[0m\u001b[1;33m\u001b[0m\u001b[1;33m\u001b[0m\u001b[0m\n",
      "\u001b[1;32m~\\AppData\\Local\\Temp/ipykernel_14252/2946692807.py\u001b[0m in \u001b[0;36mplayer2move\u001b[1;34m()\u001b[0m\n\u001b[0;32m    186\u001b[0m             \u001b[0mprint\u001b[0m\u001b[1;33m(\u001b[0m\u001b[0mw\u001b[0m\u001b[1;33m)\u001b[0m\u001b[1;33m\u001b[0m\u001b[1;33m\u001b[0m\u001b[0m\n\u001b[0;32m    187\u001b[0m             \u001b[0mcheckForWin\u001b[0m\u001b[1;33m(\u001b[0m\u001b[1;33m)\u001b[0m\u001b[1;33m\u001b[0m\u001b[1;33m\u001b[0m\u001b[0m\n\u001b[1;32m--> 188\u001b[1;33m             \u001b[0mplayer1move\u001b[0m\u001b[1;33m(\u001b[0m\u001b[1;33m)\u001b[0m\u001b[1;33m\u001b[0m\u001b[1;33m\u001b[0m\u001b[0m\n\u001b[0m\u001b[0;32m    189\u001b[0m         \u001b[1;32melif\u001b[0m \u001b[0mg\u001b[0m\u001b[1;33m.\u001b[0m\u001b[0mlower\u001b[0m\u001b[1;33m(\u001b[0m\u001b[1;33m)\u001b[0m\u001b[1;33m==\u001b[0m\u001b[1;34m'g'\u001b[0m\u001b[1;33m:\u001b[0m\u001b[1;33m\u001b[0m\u001b[1;33m\u001b[0m\u001b[0m\n\u001b[0;32m    190\u001b[0m             \u001b[0mw\u001b[0m\u001b[1;33m[\u001b[0m\u001b[1;36m2\u001b[0m\u001b[1;33m]\u001b[0m\u001b[1;33m[\u001b[0m\u001b[1;36m0\u001b[0m\u001b[1;33m]\u001b[0m\u001b[1;33m=\u001b[0m\u001b[1;34m'O'\u001b[0m\u001b[1;33m\u001b[0m\u001b[1;33m\u001b[0m\u001b[0m\n",
      "\u001b[1;32m~\\AppData\\Local\\Temp/ipykernel_14252/2946692807.py\u001b[0m in \u001b[0;36mplayer1move\u001b[1;34m()\u001b[0m\n\u001b[0;32m    103\u001b[0m \u001b[1;32mdef\u001b[0m \u001b[0mplayer1move\u001b[0m\u001b[1;33m(\u001b[0m\u001b[1;33m)\u001b[0m\u001b[1;33m:\u001b[0m\u001b[1;33m\u001b[0m\u001b[1;33m\u001b[0m\u001b[0m\n\u001b[0;32m    104\u001b[0m     \u001b[1;32mwhile\u001b[0m \u001b[1;36m53\u001b[0m\u001b[1;33m:\u001b[0m\u001b[1;33m\u001b[0m\u001b[1;33m\u001b[0m\u001b[0m\n\u001b[1;32m--> 105\u001b[1;33m         \u001b[0mg\u001b[0m\u001b[1;33m=\u001b[0m\u001b[0minput\u001b[0m\u001b[1;33m(\u001b[0m\u001b[1;34m'\\nEnter a alphabet from a to i: '\u001b[0m\u001b[1;33m)\u001b[0m\u001b[1;33m\u001b[0m\u001b[1;33m\u001b[0m\u001b[0m\n\u001b[0m\u001b[0;32m    106\u001b[0m         \u001b[1;32mif\u001b[0m \u001b[0mg\u001b[0m\u001b[1;33m.\u001b[0m\u001b[0mlower\u001b[0m\u001b[1;33m(\u001b[0m\u001b[1;33m)\u001b[0m\u001b[1;33m==\u001b[0m\u001b[1;34m'a'\u001b[0m\u001b[1;33m:\u001b[0m\u001b[1;33m\u001b[0m\u001b[1;33m\u001b[0m\u001b[0m\n\u001b[0;32m    107\u001b[0m             \u001b[0mw\u001b[0m\u001b[1;33m[\u001b[0m\u001b[1;36m0\u001b[0m\u001b[1;33m]\u001b[0m\u001b[1;33m[\u001b[0m\u001b[1;36m0\u001b[0m\u001b[1;33m]\u001b[0m\u001b[1;33m=\u001b[0m\u001b[1;34m'X'\u001b[0m\u001b[1;33m\u001b[0m\u001b[1;33m\u001b[0m\u001b[0m\n",
      "\u001b[1;32mc:\\users\\rchtp\\appdata\\local\\programs\\python\\python39\\lib\\site-packages\\ipykernel\\kernelbase.py\u001b[0m in \u001b[0;36mraw_input\u001b[1;34m(self, prompt)\u001b[0m\n\u001b[0;32m   1004\u001b[0m                 \u001b[1;34m\"raw_input was called, but this frontend does not support input requests.\"\u001b[0m\u001b[1;33m\u001b[0m\u001b[1;33m\u001b[0m\u001b[0m\n\u001b[0;32m   1005\u001b[0m             )\n\u001b[1;32m-> 1006\u001b[1;33m         return self._input_request(\n\u001b[0m\u001b[0;32m   1007\u001b[0m             \u001b[0mstr\u001b[0m\u001b[1;33m(\u001b[0m\u001b[0mprompt\u001b[0m\u001b[1;33m)\u001b[0m\u001b[1;33m,\u001b[0m\u001b[1;33m\u001b[0m\u001b[1;33m\u001b[0m\u001b[0m\n\u001b[0;32m   1008\u001b[0m             \u001b[0mself\u001b[0m\u001b[1;33m.\u001b[0m\u001b[0m_parent_ident\u001b[0m\u001b[1;33m[\u001b[0m\u001b[1;34m\"shell\"\u001b[0m\u001b[1;33m]\u001b[0m\u001b[1;33m,\u001b[0m\u001b[1;33m\u001b[0m\u001b[1;33m\u001b[0m\u001b[0m\n",
      "\u001b[1;32mc:\\users\\rchtp\\appdata\\local\\programs\\python\\python39\\lib\\site-packages\\ipykernel\\kernelbase.py\u001b[0m in \u001b[0;36m_input_request\u001b[1;34m(self, prompt, ident, parent, password)\u001b[0m\n\u001b[0;32m   1049\u001b[0m             \u001b[1;32mexcept\u001b[0m \u001b[0mKeyboardInterrupt\u001b[0m\u001b[1;33m:\u001b[0m\u001b[1;33m\u001b[0m\u001b[1;33m\u001b[0m\u001b[0m\n\u001b[0;32m   1050\u001b[0m                 \u001b[1;31m# re-raise KeyboardInterrupt, to truncate traceback\u001b[0m\u001b[1;33m\u001b[0m\u001b[1;33m\u001b[0m\u001b[1;33m\u001b[0m\u001b[0m\n\u001b[1;32m-> 1051\u001b[1;33m                 \u001b[1;32mraise\u001b[0m \u001b[0mKeyboardInterrupt\u001b[0m\u001b[1;33m(\u001b[0m\u001b[1;34m\"Interrupted by user\"\u001b[0m\u001b[1;33m)\u001b[0m \u001b[1;32mfrom\u001b[0m \u001b[1;32mNone\u001b[0m\u001b[1;33m\u001b[0m\u001b[1;33m\u001b[0m\u001b[0m\n\u001b[0m\u001b[0;32m   1052\u001b[0m             \u001b[1;32mexcept\u001b[0m \u001b[0mException\u001b[0m\u001b[1;33m:\u001b[0m\u001b[1;33m\u001b[0m\u001b[1;33m\u001b[0m\u001b[0m\n\u001b[0;32m   1053\u001b[0m                 \u001b[0mself\u001b[0m\u001b[1;33m.\u001b[0m\u001b[0mlog\u001b[0m\u001b[1;33m.\u001b[0m\u001b[0mwarning\u001b[0m\u001b[1;33m(\u001b[0m\u001b[1;34m\"Invalid Message:\"\u001b[0m\u001b[1;33m,\u001b[0m \u001b[0mexc_info\u001b[0m\u001b[1;33m=\u001b[0m\u001b[1;32mTrue\u001b[0m\u001b[1;33m)\u001b[0m\u001b[1;33m\u001b[0m\u001b[1;33m\u001b[0m\u001b[0m\n",
      "\u001b[1;31mKeyboardInterrupt\u001b[0m: Interrupted by user"
     ]
    }
   ],
   "source": [
    "def board():\n",
    "    e=np.array(['a','b','c','d','e','f','g','h','i'])\n",
    "    global w\n",
    "    w=e.reshape(3,3)\n",
    "    print(w)\n",
    "def TicTacToe():\n",
    "    print('''\\nWelcome to play Tic Tac Toe.\n",
    "    First player will play with X and second player will play with O.\n",
    "    In the box, there are alphabets from a to i, write a alphabet to replace your entery.\n",
    "    Player 1 and player 2 will be playing alternatively.''')\n",
    "    board()\n",
    "    player1move()\n",
    "    \n",
    "    \n",
    "def checkForWin():\n",
    "    firstRow=w[0][0]==w[0][1]==w[0][2]\n",
    "    secondRow=w[1][0]==w[1][1]==w[1][2]\n",
    "    thirdRow=w[2][0]==w[2][1]==w[2][2]\n",
    "    firstColumn=w[0][0]==w[1][0]==w[2][0]\n",
    "    secondColumn=w[0][1]==w[1][1]==w[2][1]\n",
    "    thirdColumn=w[0][2]==w[1][2]==w[2][2]\n",
    "    lrDiagonal=w[0][0]==w[1][1]==w[2][2]\n",
    "    rlDiagonal=w[0][2]==w[1][1]==w[2][0]\n",
    "    while 54:\n",
    "        if firstRow or secondRow or thirdRow or firstColumn or secondColumn or thirdColumn or lrDiagonal or rlDiagonal:\n",
    "            while 23:\n",
    "                if firstRow:\n",
    "                    print('\\nCongratulations, {} have won the match.'.format(w[0][1]))\n",
    "                    replay=input('\\nWould you like to play again? Enter Y for Yes or anything for No: ')\n",
    "                    if replay.lower()=='y':\n",
    "                        TicTacToe()\n",
    "                    else:\n",
    "                        print('\\nThank you for playing.')\n",
    "                        break\n",
    "                elif secondRow:\n",
    "                    print('\\nCongratulations, {} have won the match.'.format(w[1][1]))\n",
    "                    replay=input('\\nWould you like to play again? Enter Y for Yes or anything for No: ')\n",
    "                    if replay.lower()=='y':\n",
    "                        TicTacToe()\n",
    "                    else:\n",
    "                        print('\\nThank you for playing.')\n",
    "                        break\n",
    "                elif thirdRow:\n",
    "                    print('\\nCongratulations, {} have won the match.'.format(w[2][1]))\n",
    "                    replay=input('\\nWould you like to play again? Enter Y for Yes or anything for No: ')\n",
    "                    if replay.lower()=='y':\n",
    "                        TicTacToe()\n",
    "                    else:\n",
    "                        print('\\nThank you for playing.')\n",
    "                        break\n",
    "                elif firstColumn:\n",
    "                    print('\\nCongratulations, {} have won the match.'.format(w[1][0]))\n",
    "                    replay=input('\\nWould you like to play again? Enter Y for Yes or anything for No: ')\n",
    "                    if replay.lower()=='y':\n",
    "                        TicTacToe()\n",
    "                    else:\n",
    "                        print('\\nThank you for playing.')\n",
    "                        break\n",
    "                elif secondColumn:\n",
    "                    print('\\nCongratulations, {} have won the match.'.format(w[1][1]))\n",
    "                    replay=input('\\nWould you like to play again? Enter Y for Yes or anything for No: ')\n",
    "                    if replay.lower()=='y':\n",
    "                        TicTacToe()\n",
    "                    else:\n",
    "                        print('\\nThank you for playing.')\n",
    "                        break\n",
    "                elif thirdColumn:\n",
    "                    print('\\nCongratulations, {} have won the match.'.format(w[1][2]))\n",
    "                    replay=input('\\nWould you like to play again? Enter Y for Yes or anything for No: ')\n",
    "                    if replay.lower()=='y':\n",
    "                        TicTacToe()\n",
    "                    else:\n",
    "                        print('\\nThank you for playing.')\n",
    "                        break\n",
    "                elif lrDiagonal:\n",
    "                    print('Congratulations, {} have won the match.'.format(w[1][1]))\n",
    "                    replay=input('\\nWould you like to play again? Enter Y for Yes or anything for No: ')\n",
    "                    if replay.lower()=='y':\n",
    "                        TicTacToe()\n",
    "                    else:\n",
    "                        print('\\nThank you for playing.')\n",
    "                        break\n",
    "                elif rlDiagonal:\n",
    "                    print('\\nCongratulations, {} have won the match.'.format(w[1][1]))\n",
    "                    replay=input('Would you like to play again? Enter Y for Yes or anything for No: ')\n",
    "                    if replay.lower()=='y':\n",
    "                        TicTacToe()\n",
    "                    else:\n",
    "                        print('\\nThank you for playing.')\n",
    "                        break\n",
    "        elif w[0][0]!='a' and w[0][1]!='b' and w[0][2]!='c' and w[1][0]!='d' and w[1][1]!='e' and w[1][2]!='f' and w[2][0]!='g' and w[2][1]!='h' and w[2][2]!='i':\n",
    "            print('\\nMatch is drawn.')\n",
    "            replay=input('\\nWould you like to play again? Enter Y for Yes or anything for No: ')\n",
    "            if replay.lower()=='y':\n",
    "                TicTacToe()\n",
    "            else:\n",
    "                print('\\nThank you for playing.')     \n",
    "                break\n",
    "        else:\n",
    "            break\n",
    "\n",
    "            \n",
    "def player1move():\n",
    "    while 53:\n",
    "        g=input('\\nEnter a alphabet from a to i: ')\n",
    "        if g.lower()=='a':\n",
    "            w[0][0]='X'\n",
    "            print(w)\n",
    "            e=checkForWin()\n",
    "            print(e)\n",
    "            player2move()\n",
    "        elif g.lower()=='b':\n",
    "            w[0][1]='X'\n",
    "            print(w)\n",
    "            checkForWin()\n",
    "            player2move()\n",
    "        elif g.lower()=='c':\n",
    "            w[0][2]='X'\n",
    "            print(w)\n",
    "            checkForWin()\n",
    "            player2move()\n",
    "        elif g.lower()=='d':\n",
    "            w[1][0]='X'\n",
    "            print(w)\n",
    "            checkForWin()\n",
    "            player2move()\n",
    "        elif g.lower()=='e':\n",
    "            w[1][1]='X'\n",
    "            print(w)\n",
    "            checkForWin()\n",
    "            player2move()\n",
    "        elif g.lower()=='f':\n",
    "            w[1][2]='X'\n",
    "            print(w)\n",
    "            checkForWin()\n",
    "            player2move()\n",
    "        elif g.lower()=='g':\n",
    "            w[2][0]='X'\n",
    "            print(w)\n",
    "            checkForWin()\n",
    "            player2move()\n",
    "        elif g.lower()=='h':\n",
    "            w[2][1]='X'\n",
    "            print(w)\n",
    "            checkForWin()\n",
    "            player2move()\n",
    "        elif g.lower()=='i':\n",
    "            w[2][2]='X'\n",
    "            print(w)\n",
    "            checkForWin()\n",
    "            player2move()\n",
    "        else:\n",
    "            print('Please enter desire input only.')\n",
    "\n",
    "            \n",
    "def player2move():\n",
    "    while 53:\n",
    "        g=input('\\nEnter a alphabet from a to i: ')\n",
    "        if g.lower()=='a':\n",
    "            w[0][0]='O'\n",
    "            print(w)\n",
    "            checkForWin()\n",
    "            player1move()\n",
    "        elif g.lower()=='b':\n",
    "            w[0][1]='O'\n",
    "            print(w)\n",
    "            checkForWin()\n",
    "            player1move()\n",
    "        elif g.lower()=='c':\n",
    "            w[0][2]='O'\n",
    "            print(w)\n",
    "            checkForWin()\n",
    "            player1move()\n",
    "        elif g.lower()=='d':\n",
    "            w[1][0]='O'\n",
    "            print(w)\n",
    "            checkForWin()\n",
    "            player1move()\n",
    "        elif g.lower()=='e':\n",
    "            w[1][1]='O'\n",
    "            print(w)\n",
    "            checkForWin()\n",
    "            player1move()\n",
    "        elif g.lower()=='f':\n",
    "            w[1][2]='O'\n",
    "            print(w)\n",
    "            checkForWin()\n",
    "            player1move()\n",
    "        elif g.lower()=='g':\n",
    "            w[2][0]='O'\n",
    "            print(w)\n",
    "            checkForWin()\n",
    "            player1move()\n",
    "        elif g.lower()=='h':\n",
    "            w[2][1]='O'\n",
    "            print(w)\n",
    "            checkForWin()\n",
    "            player1move()\n",
    "        elif g.lower()=='i':\n",
    "            w[2][2]='O'\n",
    "            print(w)\n",
    "            checkForWin()\n",
    "            player1move()\n",
    "        else:\n",
    "            print('Please enter desire input only.')\n",
    "            \n",
    "TicTacToe()            "
   ]
  },
  {
   "cell_type": "code",
   "execution_count": 22,
   "id": "cfb1bc21",
   "metadata": {},
   "outputs": [
    {
     "name": "stdout",
     "output_type": "stream",
     "text": [
      "erera\n",
      "3\n"
     ]
    }
   ],
   "source": [
    "x=input('erer')\n",
    "r=3\n",
    "print(r)"
   ]
  },
  {
   "cell_type": "code",
   "execution_count": 23,
   "id": "58c2c0c7",
   "metadata": {},
   "outputs": [
    {
     "name": "stdout",
     "output_type": "stream",
     "text": [
      "were\n"
     ]
    }
   ],
   "source": [
    "c=print('were')"
   ]
  },
  {
   "cell_type": "code",
   "execution_count": 24,
   "id": "070a7e6e",
   "metadata": {},
   "outputs": [],
   "source": [
    "c=\"we{}wef\".format(2)\n"
   ]
  },
  {
   "cell_type": "code",
   "execution_count": 25,
   "id": "ebc4fd98",
   "metadata": {},
   "outputs": [
    {
     "name": "stdout",
     "output_type": "stream",
     "text": [
      "we2wef\n"
     ]
    }
   ],
   "source": [
    "print(c)"
   ]
  },
  {
   "cell_type": "code",
   "execution_count": 26,
   "id": "bea176da",
   "metadata": {},
   "outputs": [
    {
     "data": {
      "text/plain": [
       "3"
      ]
     },
     "execution_count": 26,
     "metadata": {},
     "output_type": "execute_result"
    }
   ],
   "source": [
    "def ert():\n",
    "    return 3\n",
    "    print('jo')\n",
    "ert()"
   ]
  },
  {
   "cell_type": "code",
   "execution_count": 40,
   "id": "531ba929",
   "metadata": {},
   "outputs": [
    {
     "name": "stdout",
     "output_type": "stream",
     "text": [
      "enter marks: 234\n",
      "Enter achievement: wef\n"
     ]
    }
   ],
   "source": [
    "def hello():\n",
    "    while True:\n",
    "        if x>=33:\n",
    "            return 'passed'\n",
    "        else:\n",
    "            break\n",
    "\n",
    "def sports():\n",
    "    s=input('Enter achievement: ')\n",
    "    return s\n",
    "def marks():\n",
    "    global x\n",
    "    x=int(input(\"enter marks: \"))\n",
    "    d=hello()\n",
    "    if d=='passed':\n",
    "        sports()\n",
    "\n",
    "marks()"
   ]
  },
  {
   "cell_type": "code",
   "execution_count": 44,
   "id": "4f58f3f3",
   "metadata": {},
   "outputs": [],
   "source": [
    "s=np.array([1,12,3,4])"
   ]
  },
  {
   "cell_type": "code",
   "execution_count": 45,
   "id": "a82f31ac",
   "metadata": {},
   "outputs": [
    {
     "data": {
      "text/plain": [
       "array([[ 1, 12],\n",
       "       [ 3,  4]])"
      ]
     },
     "execution_count": 45,
     "metadata": {},
     "output_type": "execute_result"
    }
   ],
   "source": [
    "sd=s.reshape(2,2)\n",
    "sd"
   ]
  },
  {
   "cell_type": "code",
   "execution_count": 47,
   "id": "60429426",
   "metadata": {},
   "outputs": [
    {
     "data": {
      "text/plain": [
       "4"
      ]
     },
     "execution_count": 47,
     "metadata": {},
     "output_type": "execute_result"
    }
   ],
   "source": [
    "sd[1][1]"
   ]
  },
  {
   "cell_type": "code",
   "execution_count": 48,
   "id": "ac5324bf",
   "metadata": {},
   "outputs": [
    {
     "data": {
      "text/plain": [
       "4"
      ]
     },
     "execution_count": 48,
     "metadata": {},
     "output_type": "execute_result"
    }
   ],
   "source": [
    "sd[1,1]"
   ]
  },
  {
   "cell_type": "code",
   "execution_count": 52,
   "id": "81739f2c",
   "metadata": {},
   "outputs": [
    {
     "name": "stdout",
     "output_type": "stream",
     "text": [
      "egre\n"
     ]
    }
   ],
   "source": [
    "x=3640687060\n",
    "y='2'\n",
    "if (x and y)!=4:\n",
    "    print('egre')"
   ]
  },
  {
   "cell_type": "code",
   "execution_count": 70,
   "id": "2f3f7884",
   "metadata": {},
   "outputs": [
    {
     "name": "stdout",
     "output_type": "stream",
     "text": [
      "import math\n",
      "wer\n"
     ]
    }
   ],
   "source": [
    "def er():\n",
    "    print('wer')\n",
    "def we():\n",
    "    x=1\n",
    "    a=eri()\n",
    "    if x==1:\n",
    "        er()\n",
    "def eri():\n",
    "    global c\n",
    "    c=\"import math\"\n",
    "    print(c)\n",
    "we()"
   ]
  },
  {
   "cell_type": "code",
   "execution_count": 67,
   "id": "564e3418",
   "metadata": {},
   "outputs": [
    {
     "name": "stdout",
     "output_type": "stream",
     "text": [
      "2.718281828459045\n"
     ]
    }
   ],
   "source": [
    "def eri():\n",
    "    global c\n",
    "    c=\"import math\"\n",
    "    print(math.e)\n",
    "er()\n",
    "# math.pi"
   ]
  },
  {
   "cell_type": "code",
   "execution_count": 65,
   "id": "d4ff283e",
   "metadata": {},
   "outputs": [
    {
     "ename": "SyntaxError",
     "evalue": "invalid syntax (Temp/ipykernel_14252/3283379846.py, line 1)",
     "output_type": "error",
     "traceback": [
      "\u001b[1;36m  File \u001b[1;32m\"C:\\Users\\rchtp\\AppData\\Local\\Temp/ipykernel_14252/3283379846.py\"\u001b[1;36m, line \u001b[1;32m1\u001b[0m\n\u001b[1;33m    c=import math\u001b[0m\n\u001b[1;37m      ^\u001b[0m\n\u001b[1;31mSyntaxError\u001b[0m\u001b[1;31m:\u001b[0m invalid syntax\n"
     ]
    }
   ],
   "source": [
    "c=import math\n",
    "print(c)"
   ]
  },
  {
   "cell_type": "code",
   "execution_count": 135,
   "id": "b8d1d4c3",
   "metadata": {},
   "outputs": [],
   "source": [
    "import time"
   ]
  },
  {
   "cell_type": "code",
   "execution_count": 136,
   "id": "35e4e5dd",
   "metadata": {},
   "outputs": [
    {
     "name": "stdout",
     "output_type": "stream",
     "text": [
      "eg\n",
      "erg\n"
     ]
    }
   ],
   "source": [
    "print('eg')\n",
    "time.sleep(1)\n",
    "print('erg')"
   ]
  },
  {
   "cell_type": "code",
   "execution_count": null,
   "id": "ec0e3259",
   "metadata": {},
   "outputs": [],
   "source": []
  },
  {
   "cell_type": "code",
   "execution_count": 169,
   "id": "c820fda5",
   "metadata": {},
   "outputs": [
    {
     "name": "stdout",
     "output_type": "stream",
     "text": [
      "\n",
      "Welcome to play Tic Tac Toe.\n",
      "    First player will play with X and second player will play with O.\n",
      "    In the box, there are alphabets from a to i, write a alphabet to replace your entery.\n",
      "    Player 1 and player 2 will be playing alternatively.\n",
      "[['a' 'b' 'c']\n",
      " ['d' 'e' 'f']\n",
      " ['g' 'h' 'i']]\n",
      "Please enter player 1 name: Roshitha\n",
      "Please enter player 2 name: Padmini\n",
      "\n",
      "Roshitha's turn, you are playing X, enter a alphabet from a to i or enter s to stop playing: a\n",
      "[['X' 'b' 'c']\n",
      " ['d' 'e' 'f']\n",
      " ['g' 'h' 'i']]\n",
      "\n",
      "Padmini' turn, you are playing O, enter a alphabet from a to i, enter s to stop playing: b\n",
      "[['X' 'O' 'c']\n",
      " ['d' 'e' 'f']\n",
      " ['g' 'h' 'i']]\n",
      "\n",
      "Roshitha's turn, you are playing X, enter a alphabet from a to i or enter s to stop playing: d\n",
      "[['X' 'O' 'c']\n",
      " ['X' 'e' 'f']\n",
      " ['g' 'h' 'i']]\n",
      "\n",
      "Padmini' turn, you are playing O, enter a alphabet from a to i, enter s to stop playing: e\n",
      "[['X' 'O' 'c']\n",
      " ['X' 'O' 'f']\n",
      " ['g' 'h' 'i']]\n",
      "\n",
      "Roshitha's turn, you are playing X, enter a alphabet from a to i or enter s to stop playing: g\n",
      "[['X' 'O' 'c']\n",
      " ['X' 'O' 'f']\n",
      " ['X' 'h' 'i']]\n",
      "\n",
      "Congratulations, Roshitha have won the match.\n",
      "\n",
      "Would you like to play again? Enter Y for Yes or anything for No: n\n",
      "\n",
      "Thank you for playing.\n",
      "by g checking if breaking\n",
      "by main 1 checking if breaking\n",
      "\n",
      "Padmini' turn, you are playing O, enter a alphabet from a to i, enter s to stop playing: a\n",
      "[['O' 'O' 'c']\n",
      " ['X' 'O' 'f']\n",
      " ['X' 'h' 'i']]\n",
      "\n",
      "Roshitha's turn, you are playing X, enter a alphabet from a to i or enter s to stop playing: a\n",
      "[['X' 'O' 'c']\n",
      " ['X' 'O' 'f']\n",
      " ['X' 'h' 'i']]\n",
      "\n",
      "Congratulations, Roshitha have won the match.\n",
      "\n",
      "Would you like to play again? Enter Y for Yes or anything for No: a\n",
      "\n",
      "Thank you for playing.\n",
      "by a checking if breaking\n",
      "by main 1 checking if breaking\n"
     ]
    },
    {
     "ename": "KeyboardInterrupt",
     "evalue": "Interrupted by user",
     "output_type": "error",
     "traceback": [
      "\u001b[1;31m---------------------------------------------------------------------------\u001b[0m",
      "\u001b[1;31mKeyboardInterrupt\u001b[0m                         Traceback (most recent call last)",
      "\u001b[1;32m~\\AppData\\Local\\Temp/ipykernel_14252/3234683821.py\u001b[0m in \u001b[0;36m<module>\u001b[1;34m\u001b[0m\n\u001b[0;32m    286\u001b[0m \u001b[1;33m\u001b[0m\u001b[0m\n\u001b[0;32m    287\u001b[0m \u001b[1;32mimport\u001b[0m \u001b[0mnumpy\u001b[0m \u001b[1;32mas\u001b[0m \u001b[0mnp\u001b[0m\u001b[1;33m\u001b[0m\u001b[1;33m\u001b[0m\u001b[0m\n\u001b[1;32m--> 288\u001b[1;33m \u001b[0mTicTacToe\u001b[0m\u001b[1;33m(\u001b[0m\u001b[1;33m)\u001b[0m\u001b[1;33m\u001b[0m\u001b[1;33m\u001b[0m\u001b[0m\n\u001b[0m",
      "\u001b[1;32m~\\AppData\\Local\\Temp/ipykernel_14252/3234683821.py\u001b[0m in \u001b[0;36mTicTacToe\u001b[1;34m()\u001b[0m\n\u001b[0;32m     16\u001b[0m     \u001b[0mwinningCondition\u001b[0m\u001b[1;33m=\u001b[0m\u001b[1;32mFalse\u001b[0m\u001b[1;33m\u001b[0m\u001b[1;33m\u001b[0m\u001b[0m\n\u001b[0;32m     17\u001b[0m     \u001b[0mdrawCondition\u001b[0m\u001b[1;33m=\u001b[0m\u001b[1;32mFalse\u001b[0m\u001b[1;33m\u001b[0m\u001b[1;33m\u001b[0m\u001b[0m\n\u001b[1;32m---> 18\u001b[1;33m     \u001b[0mplayer1move\u001b[0m\u001b[1;33m(\u001b[0m\u001b[1;33m)\u001b[0m\u001b[1;33m\u001b[0m\u001b[1;33m\u001b[0m\u001b[0m\n\u001b[0m\u001b[0;32m     19\u001b[0m \u001b[1;33m\u001b[0m\u001b[0m\n\u001b[0;32m     20\u001b[0m \u001b[1;33m\u001b[0m\u001b[0m\n",
      "\u001b[1;32m~\\AppData\\Local\\Temp/ipykernel_14252/3234683821.py\u001b[0m in \u001b[0;36mplayer1move\u001b[1;34m()\u001b[0m\n\u001b[0;32m     80\u001b[0m                         \u001b[1;32mbreak\u001b[0m\u001b[1;33m\u001b[0m\u001b[1;33m\u001b[0m\u001b[0m\n\u001b[0;32m     81\u001b[0m                     \u001b[1;32melse\u001b[0m\u001b[1;33m:\u001b[0m\u001b[1;33m\u001b[0m\u001b[1;33m\u001b[0m\u001b[0m\n\u001b[1;32m---> 82\u001b[1;33m                         \u001b[0mplayer2move\u001b[0m\u001b[1;33m(\u001b[0m\u001b[1;33m)\u001b[0m\u001b[1;33m\u001b[0m\u001b[1;33m\u001b[0m\u001b[0m\n\u001b[0m\u001b[0;32m     83\u001b[0m \u001b[1;31m#                     if testing!=True:\u001b[0m\u001b[1;33m\u001b[0m\u001b[1;33m\u001b[0m\u001b[1;33m\u001b[0m\u001b[0m\n\u001b[0;32m     84\u001b[0m \u001b[1;31m#                         player2move()\u001b[0m\u001b[1;33m\u001b[0m\u001b[1;33m\u001b[0m\u001b[1;33m\u001b[0m\u001b[0m\n",
      "\u001b[1;32m~\\AppData\\Local\\Temp/ipykernel_14252/3234683821.py\u001b[0m in \u001b[0;36mplayer2move\u001b[1;34m()\u001b[0m\n\u001b[0;32m    205\u001b[0m                         \u001b[1;32mbreak\u001b[0m\u001b[1;33m\u001b[0m\u001b[1;33m\u001b[0m\u001b[0m\n\u001b[0;32m    206\u001b[0m                     \u001b[1;32melse\u001b[0m\u001b[1;33m:\u001b[0m\u001b[1;33m\u001b[0m\u001b[1;33m\u001b[0m\u001b[0m\n\u001b[1;32m--> 207\u001b[1;33m                         \u001b[0mplayer1move\u001b[0m\u001b[1;33m(\u001b[0m\u001b[1;33m)\u001b[0m\u001b[1;33m\u001b[0m\u001b[1;33m\u001b[0m\u001b[0m\n\u001b[0m\u001b[0;32m    208\u001b[0m                 \u001b[1;32melif\u001b[0m \u001b[0mg\u001b[0m\u001b[1;33m.\u001b[0m\u001b[0mlower\u001b[0m\u001b[1;33m(\u001b[0m\u001b[1;33m)\u001b[0m\u001b[1;33m==\u001b[0m\u001b[1;34m'c'\u001b[0m\u001b[1;33m:\u001b[0m\u001b[1;33m\u001b[0m\u001b[1;33m\u001b[0m\u001b[0m\n\u001b[0;32m    209\u001b[0m                     \u001b[0mw\u001b[0m\u001b[1;33m[\u001b[0m\u001b[1;36m0\u001b[0m\u001b[1;33m]\u001b[0m\u001b[1;33m[\u001b[0m\u001b[1;36m2\u001b[0m\u001b[1;33m]\u001b[0m\u001b[1;33m=\u001b[0m\u001b[1;34m'O'\u001b[0m\u001b[1;33m\u001b[0m\u001b[1;33m\u001b[0m\u001b[0m\n",
      "\u001b[1;32m~\\AppData\\Local\\Temp/ipykernel_14252/3234683821.py\u001b[0m in \u001b[0;36mplayer1move\u001b[1;34m()\u001b[0m\n\u001b[0;32m    114\u001b[0m                         \u001b[1;32mbreak\u001b[0m\u001b[1;33m\u001b[0m\u001b[1;33m\u001b[0m\u001b[0m\n\u001b[0;32m    115\u001b[0m                     \u001b[1;32melse\u001b[0m\u001b[1;33m:\u001b[0m\u001b[1;33m\u001b[0m\u001b[1;33m\u001b[0m\u001b[0m\n\u001b[1;32m--> 116\u001b[1;33m                         \u001b[0mplayer2move\u001b[0m\u001b[1;33m(\u001b[0m\u001b[1;33m)\u001b[0m\u001b[1;33m\u001b[0m\u001b[1;33m\u001b[0m\u001b[0m\n\u001b[0m\u001b[0;32m    117\u001b[0m \u001b[1;31m#                     if testing!=True:\u001b[0m\u001b[1;33m\u001b[0m\u001b[1;33m\u001b[0m\u001b[1;33m\u001b[0m\u001b[0m\n\u001b[0;32m    118\u001b[0m \u001b[1;31m#                         player2move()\u001b[0m\u001b[1;33m\u001b[0m\u001b[1;33m\u001b[0m\u001b[1;33m\u001b[0m\u001b[0m\n",
      "\u001b[1;32m~\\AppData\\Local\\Temp/ipykernel_14252/3234683821.py\u001b[0m in \u001b[0;36mplayer2move\u001b[1;34m()\u001b[0m\n\u001b[0;32m    183\u001b[0m         \u001b[1;32melse\u001b[0m\u001b[1;33m:\u001b[0m\u001b[1;33m\u001b[0m\u001b[1;33m\u001b[0m\u001b[0m\n\u001b[0;32m    184\u001b[0m             \u001b[1;32mwhile\u001b[0m \u001b[1;36m53\u001b[0m\u001b[1;33m:\u001b[0m\u001b[1;33m\u001b[0m\u001b[1;33m\u001b[0m\u001b[0m\n\u001b[1;32m--> 185\u001b[1;33m                 \u001b[0mg\u001b[0m\u001b[1;33m=\u001b[0m\u001b[0minput\u001b[0m\u001b[1;33m(\u001b[0m\u001b[1;34m'\\n{}\\' turn, you are playing O, enter a alphabet from a to i, enter s to stop playing: '\u001b[0m\u001b[1;33m.\u001b[0m\u001b[0mformat\u001b[0m\u001b[1;33m(\u001b[0m\u001b[0mplayer2\u001b[0m\u001b[1;33m)\u001b[0m\u001b[1;33m)\u001b[0m\u001b[1;33m\u001b[0m\u001b[1;33m\u001b[0m\u001b[0m\n\u001b[0m\u001b[0;32m    186\u001b[0m                 \u001b[1;32mif\u001b[0m \u001b[0mg\u001b[0m\u001b[1;33m.\u001b[0m\u001b[0mlower\u001b[0m\u001b[1;33m(\u001b[0m\u001b[1;33m)\u001b[0m\u001b[1;33m==\u001b[0m\u001b[1;34m's'\u001b[0m\u001b[1;33m:\u001b[0m\u001b[1;33m\u001b[0m\u001b[1;33m\u001b[0m\u001b[0m\n\u001b[0;32m    187\u001b[0m                     \u001b[0mprint\u001b[0m\u001b[1;33m(\u001b[0m\u001b[1;34m'stopping'\u001b[0m\u001b[1;33m)\u001b[0m\u001b[1;33m\u001b[0m\u001b[1;33m\u001b[0m\u001b[0m\n",
      "\u001b[1;32mc:\\users\\rchtp\\appdata\\local\\programs\\python\\python39\\lib\\site-packages\\ipykernel\\kernelbase.py\u001b[0m in \u001b[0;36mraw_input\u001b[1;34m(self, prompt)\u001b[0m\n\u001b[0;32m   1004\u001b[0m                 \u001b[1;34m\"raw_input was called, but this frontend does not support input requests.\"\u001b[0m\u001b[1;33m\u001b[0m\u001b[1;33m\u001b[0m\u001b[0m\n\u001b[0;32m   1005\u001b[0m             )\n\u001b[1;32m-> 1006\u001b[1;33m         return self._input_request(\n\u001b[0m\u001b[0;32m   1007\u001b[0m             \u001b[0mstr\u001b[0m\u001b[1;33m(\u001b[0m\u001b[0mprompt\u001b[0m\u001b[1;33m)\u001b[0m\u001b[1;33m,\u001b[0m\u001b[1;33m\u001b[0m\u001b[1;33m\u001b[0m\u001b[0m\n\u001b[0;32m   1008\u001b[0m             \u001b[0mself\u001b[0m\u001b[1;33m.\u001b[0m\u001b[0m_parent_ident\u001b[0m\u001b[1;33m[\u001b[0m\u001b[1;34m\"shell\"\u001b[0m\u001b[1;33m]\u001b[0m\u001b[1;33m,\u001b[0m\u001b[1;33m\u001b[0m\u001b[1;33m\u001b[0m\u001b[0m\n",
      "\u001b[1;32mc:\\users\\rchtp\\appdata\\local\\programs\\python\\python39\\lib\\site-packages\\ipykernel\\kernelbase.py\u001b[0m in \u001b[0;36m_input_request\u001b[1;34m(self, prompt, ident, parent, password)\u001b[0m\n\u001b[0;32m   1049\u001b[0m             \u001b[1;32mexcept\u001b[0m \u001b[0mKeyboardInterrupt\u001b[0m\u001b[1;33m:\u001b[0m\u001b[1;33m\u001b[0m\u001b[1;33m\u001b[0m\u001b[0m\n\u001b[0;32m   1050\u001b[0m                 \u001b[1;31m# re-raise KeyboardInterrupt, to truncate traceback\u001b[0m\u001b[1;33m\u001b[0m\u001b[1;33m\u001b[0m\u001b[1;33m\u001b[0m\u001b[0m\n\u001b[1;32m-> 1051\u001b[1;33m                 \u001b[1;32mraise\u001b[0m \u001b[0mKeyboardInterrupt\u001b[0m\u001b[1;33m(\u001b[0m\u001b[1;34m\"Interrupted by user\"\u001b[0m\u001b[1;33m)\u001b[0m \u001b[1;32mfrom\u001b[0m \u001b[1;32mNone\u001b[0m\u001b[1;33m\u001b[0m\u001b[1;33m\u001b[0m\u001b[0m\n\u001b[0m\u001b[0;32m   1052\u001b[0m             \u001b[1;32mexcept\u001b[0m \u001b[0mException\u001b[0m\u001b[1;33m:\u001b[0m\u001b[1;33m\u001b[0m\u001b[1;33m\u001b[0m\u001b[0m\n\u001b[0;32m   1053\u001b[0m                 \u001b[0mself\u001b[0m\u001b[1;33m.\u001b[0m\u001b[0mlog\u001b[0m\u001b[1;33m.\u001b[0m\u001b[0mwarning\u001b[0m\u001b[1;33m(\u001b[0m\u001b[1;34m\"Invalid Message:\"\u001b[0m\u001b[1;33m,\u001b[0m \u001b[0mexc_info\u001b[0m\u001b[1;33m=\u001b[0m\u001b[1;32mTrue\u001b[0m\u001b[1;33m)\u001b[0m\u001b[1;33m\u001b[0m\u001b[1;33m\u001b[0m\u001b[0m\n",
      "\u001b[1;31mKeyboardInterrupt\u001b[0m: Interrupted by user"
     ]
    },
    {
     "name": "stdout",
     "output_type": "stream",
     "text": [
      "\n",
      "Padmini' turn, you are playing O, enter a alphabet from a to i, enter s to stop playing: a\n"
     ]
    }
   ],
   "source": [
    "def board():\n",
    "    e=np.array(['a','b','c','d','e','f','g','h','i'])\n",
    "    global w\n",
    "    w=e.reshape(3,3)\n",
    "    print(w)\n",
    "def TicTacToe():\n",
    "    print('''\\nWelcome to play Tic Tac Toe.\n",
    "    First player will play with X and second player will play with O.\n",
    "    In the box, there are alphabets from a to i, write a alphabet to replace your entery.\n",
    "    Player 1 and player 2 will be playing alternatively.''')\n",
    "    board()\n",
    "    global player1,player2\n",
    "    player1=input('Please enter player 1 name: ')\n",
    "    player2=input(\"Please enter player 2 name: \")\n",
    "    global winningCondition,drawCondition\n",
    "    winningCondition=False\n",
    "    drawCondition=False\n",
    "    player1move()\n",
    "    \n",
    "    \n",
    "def checkForWin(winner):\n",
    "    global winningCondition,drawCondition,firstRow,firstColumn,secondRow,secondColumn,thirdRow,thirdColumn,lrDiagonal,rlDiagonal\n",
    "    firstRow=w[0][0]==w[0][1]==w[0][2]\n",
    "    secondRow=w[1][0]==w[1][1]==w[1][2]\n",
    "    thirdRow=w[2][0]==w[2][1]==w[2][2]\n",
    "    firstColumn=w[0][0]==w[1][0]==w[2][0]\n",
    "    secondColumn=w[0][1]==w[1][1]==w[2][1]\n",
    "    thirdColumn=w[0][2]==w[1][2]==w[2][2]\n",
    "    lrDiagonal=w[0][0]==w[1][1]==w[2][2]\n",
    "    rlDiagonal=w[0][2]==w[1][1]==w[2][0]\n",
    "    winningCondition=firstRow or secondRow or thirdRow or firstColumn or secondColumn or thirdColumn or lrDiagonal or rlDiagonal\n",
    "    drawCondition=w[0][0]!='a' and w[0][1]!='b' and w[0][2]!='c' and w[1][0]!='d' and w[1][1]!='e' and w[1][2]!='f' and w[2][0]!='g' and w[2][1]!='h' and w[2][2]!='i'\n",
    "    while 54:\n",
    "        if winningCondition:\n",
    "            print(\"\\nCongratulations, {} have won the match.\".format(winner))\n",
    "            replay=input('\\nWould you like to play again? Enter Y for Yes or anything for No: ')\n",
    "            if replay.lower()=='y':\n",
    "                TicTacToe()\n",
    "            else:\n",
    "                print('\\nThank you for playing.')\n",
    "                break\n",
    "        elif drawCondition:\n",
    "            print('\\nMatch is drawn.')\n",
    "            replay=input('\\nWould you like to play again? Enter Y for Yes or anything for No: ')\n",
    "            if replay.lower()=='y':\n",
    "                TicTacToe()\n",
    "            else:\n",
    "                print('\\nThank you for playing.')     \n",
    "                break\n",
    "        else:\n",
    "            break\n",
    "\n",
    "            \n",
    "def thanks():\n",
    "    return 'Thank you for playing.'\n",
    "\n",
    "            \n",
    "            \n",
    "def player1move():\n",
    "    while 23:\n",
    "        if (winningCondition or drawCondition)==True:\n",
    "            print('by main 1 checking if breaking')\n",
    "            break\n",
    "        else:\n",
    "            while 53:\n",
    "                g=input('\\n{}\\'s turn, you are playing X, enter a alphabet from a to i or enter s to stop playing: '.format(player1))\n",
    "                if (winningCondition or drawCondition)==True:\n",
    "                    print('checking if breaking')\n",
    "                    break\n",
    "                elif g.lower()=='s':\n",
    "                    print('stopping')\n",
    "        #             thanks()\n",
    "                    break\n",
    "                if g.lower()=='a':\n",
    "                    w[0][0]='X'\n",
    "                    print(w)\n",
    "                    testing=checkForWin(player1)\n",
    "                    if (winningCondition or drawCondition)==True:\n",
    "                        print('by a checking if breaking')\n",
    "                        break\n",
    "                    else:\n",
    "                        player2move()\n",
    "#                     if testing!=True:\n",
    "#                         player2move()\n",
    "\n",
    "                elif g.lower()=='b':\n",
    "                    w[0][1]='X'\n",
    "                    print(w)\n",
    "                    testing=checkForWin(player1)\n",
    "                    if (winningCondition or drawCondition)==True:\n",
    "                        print('by b checking if breaking')\n",
    "                        break\n",
    "                    else:\n",
    "                        player2move()\n",
    "#                     if testing!=True:\n",
    "#                         player2move()\n",
    "                elif g.lower()=='c':\n",
    "                    w[0][2]='X'\n",
    "                    print(w)\n",
    "                    testing=checkForWin(player1)\n",
    "                    if (winningCondition or drawCondition)==True:\n",
    "                        print('by c checking if breaking')\n",
    "                        break\n",
    "                    else:\n",
    "                        player2move()\n",
    "#                     if testing!=True:\n",
    "#                         player2move()\n",
    "                elif g.lower()=='d':\n",
    "                    w[1][0]='X'\n",
    "                    print(w)\n",
    "                    testing=checkForWin(player1)\n",
    "                    if (winningCondition or drawCondition)==True:\n",
    "                        print('by d checking if breaking')\n",
    "                        break\n",
    "                    else:\n",
    "                        player2move()\n",
    "#                     if testing!=True:\n",
    "#                         player2move()\n",
    "                elif g.lower()=='e':\n",
    "                    w[1][1]='X'\n",
    "                    print(w)\n",
    "                    testing=checkForWin(player1)\n",
    "                    if (winningCondition or drawCondition)==True:\n",
    "                        print('by e checking if breaking')\n",
    "                        break\n",
    "                    else:\n",
    "                        player2move()\n",
    "#                     if testing!=True:\n",
    "#                         player2move()\n",
    "                elif g.lower()=='f':\n",
    "                    w[1][2]='X'\n",
    "                    print(w)\n",
    "                    testing=checkForWin(player1)\n",
    "                    if (winningCondition or drawCondition)==True:\n",
    "                        print('by f checking if breaking')\n",
    "                        break\n",
    "                    else:\n",
    "                        player2move()\n",
    "#                     if testing!=True:\n",
    "#                         player2move()\n",
    "                elif g.lower()=='g':\n",
    "                    w[2][0]='X'\n",
    "                    print(w)\n",
    "                    testing=checkForWin(player1)\n",
    "                    if (winningCondition or drawCondition)==True:\n",
    "                        print('by g checking if breaking')\n",
    "                        break\n",
    "                    else:\n",
    "                        player2move()\n",
    "#                     if testing!=True:\n",
    "#                         player2move()\n",
    "                elif g.lower()=='h':\n",
    "                    w[2][1]='X'\n",
    "                    print(w)\n",
    "                    testing=checkForWin(player1)\n",
    "                    if (winningCondition or drawCondition)==True:\n",
    "                        print('by h checking if breaking')\n",
    "                        break\n",
    "                    else:\n",
    "                        player2move()\n",
    "#                     if testing!=True:\n",
    "#                         player2move()\n",
    "                elif g.lower()=='i':\n",
    "                    w[2][2]='X'\n",
    "                    print(w)\n",
    "                    testing=checkForWin(player1)\n",
    "                    if (winningCondition or drawCondition)==True:\n",
    "                        print('by i checking if breaking')\n",
    "                        break\n",
    "                    else:\n",
    "                        player2move()\n",
    "#                     if testing!=True:\n",
    "#                         player2move()\n",
    "                else:\n",
    "                    print('Please enter desire input only.')\n",
    "\n",
    "            \n",
    "def player2move():\n",
    "    while 23:\n",
    "        if (winningCondition or drawCondition)==True:\n",
    "            print('by main 2 checking if breaking')\n",
    "            break\n",
    "        else:\n",
    "            while 53:\n",
    "                g=input('\\n{}\\' turn, you are playing O, enter a alphabet from a to i, enter s to stop playing: '.format(player2))\n",
    "                if g.lower()=='s':\n",
    "                    print('stopping')\n",
    "        #             thanks()\n",
    "                    break\n",
    "                elif g.lower()=='a':\n",
    "                    w[0][0]='O'\n",
    "                    print(w)\n",
    "                    testing=checkForWin(player2)\n",
    "                    if (winningCondition or drawCondition)==True:\n",
    "                        print('by a checking if breaking')\n",
    "                        break\n",
    "                    else:\n",
    "                        player1move()\n",
    "                elif g.lower()=='b':\n",
    "                    w[0][1]='O'\n",
    "                    print(w)\n",
    "                    testing=checkForWin(player2)\n",
    "                    if (winningCondition or drawCondition)==True:\n",
    "                        print('by b checking if breaking')\n",
    "                        break\n",
    "                    else:\n",
    "                        player1move()\n",
    "                elif g.lower()=='c':\n",
    "                    w[0][2]='O'\n",
    "                    print(w)\n",
    "                    testing=checkForWin(player2)\n",
    "#                     if testing!=True:\n",
    "#                         player1move()\n",
    "                    if (winningCondition or drawCondition)==True:\n",
    "                        print('by c checking if breaking')\n",
    "                        break\n",
    "                    else:\n",
    "                        player1move()\n",
    "                elif g.lower()=='d':\n",
    "                    w[1][0]='O'\n",
    "                    print(w)\n",
    "                    testing=checkForWin(player2)\n",
    "#                     if testing!=True:\n",
    "#                         player1move()\n",
    "                    if (winningCondition or drawCondition)==True:\n",
    "                        print('by d checking if breaking')\n",
    "                        break\n",
    "                    else:\n",
    "                        player1move()\n",
    "                elif g.lower()=='e':\n",
    "                    w[1][1]='O'\n",
    "                    print(w)\n",
    "                    testing=checkForWin(player2)\n",
    "#                     if testing!=True:\n",
    "#                         player1move()\n",
    "                    if (winningCondition or drawCondition)==True:\n",
    "                        print('by e checking if breaking')\n",
    "                        break\n",
    "                    else:\n",
    "                        player1move()\n",
    "                elif g.lower()=='f':\n",
    "                    w[1][2]='O'\n",
    "                    print(w)\n",
    "                    testing=checkForWin(player2)\n",
    "#                     if testing!=True:\n",
    "#                         player1move()\n",
    "                    if (winningCondition or drawCondition)==True:\n",
    "                        print('by f checking if breaking')\n",
    "                        break\n",
    "                    else:\n",
    "                        player1move()\n",
    "                elif g.lower()=='g':\n",
    "                    w[2][0]='O'\n",
    "                    print(w)\n",
    "                    testing=checkForWin(player2)\n",
    "#                     if testing!=True:\n",
    "#                         player1move()\n",
    "                    if (winningCondition or drawCondition)==True:\n",
    "                        print('by g checking if breaking')\n",
    "                        break\n",
    "                    else:\n",
    "                        player1move()\n",
    "                elif g.lower()=='h':\n",
    "                    w[2][1]='O'\n",
    "                    print(w)\n",
    "                    testing=checkForWin(player2)\n",
    "#                     if testing!=True:\n",
    "#                         player1move()\n",
    "                    if (winningCondition or drawCondition)==True:\n",
    "                        print('by h checking if breaking')\n",
    "                        break\n",
    "                    else:\n",
    "                        player1move()\n",
    "                elif g.lower()=='i':\n",
    "                    w[2][2]='O'\n",
    "                    print(w)\n",
    "                    testing=checkForWin(player2)\n",
    "#                     print(testing)\n",
    "                    if (winningCondition or drawCondition)==True:\n",
    "                        print('by i checking if breaking')\n",
    "                        break\n",
    "                    else:\n",
    "                        player1move()\n",
    "                else:\n",
    "                    print('Please enter desire input only.')\n",
    "\n",
    "import numpy as np\n",
    "TicTacToe()            "
   ]
  },
  {
   "cell_type": "code",
   "execution_count": 153,
   "id": "afbad720",
   "metadata": {},
   "outputs": [
    {
     "name": "stdout",
     "output_type": "stream",
     "text": [
      "\n",
      "Congratulations, 54 have won the match.\n",
      "\n",
      "Would you like to play again? Enter Y for Yes or anything for No: n\n",
      "\n",
      "Thank you for playing.\n"
     ]
    }
   ],
   "source": [
    "winner=54\n",
    "winningCondition=firstRow or secondRow or thirdRow or firstColumn or secondColumn or thirdColumn or lrDiagonal or rlDiagonal\n",
    "drawCondition=w[0][0]!='a' and w[0][1]!='b' and w[0][2]!='c' and w[1][0]!='d' and w[1][1]!='e' and w[1][2]!='f' and w[2][0]!='g' and w[2][1]!='h' and w[2][2]!='i'\n",
    "\n",
    "while 54:\n",
    "        if winningCondition:\n",
    "            print(\"\\nCongratulations, {} have won the match.\".format(winner))\n",
    "            replay=input('\\nWould you like to play again? Enter Y for Yes or anything for No: ')\n",
    "            if replay.lower()=='y':\n",
    "                TicTacToe()\n",
    "            else:\n",
    "                print('\\nThank you for playing.')\n",
    "                break\n",
    "        else:\n",
    "            print('er')"
   ]
  },
  {
   "cell_type": "code",
   "execution_count": 159,
   "id": "ca8edec5",
   "metadata": {},
   "outputs": [
    {
     "ename": "NameError",
     "evalue": "name 'testing' is not defined",
     "output_type": "error",
     "traceback": [
      "\u001b[1;31m---------------------------------------------------------------------------\u001b[0m",
      "\u001b[1;31mNameError\u001b[0m                                 Traceback (most recent call last)",
      "\u001b[1;32m~\\AppData\\Local\\Temp/ipykernel_14252/4003044685.py\u001b[0m in \u001b[0;36m<module>\u001b[1;34m\u001b[0m\n\u001b[1;32m----> 1\u001b[1;33m \u001b[0mtesting\u001b[0m\u001b[1;33m\u001b[0m\u001b[1;33m\u001b[0m\u001b[0m\n\u001b[0m",
      "\u001b[1;31mNameError\u001b[0m: name 'testing' is not defined"
     ]
    }
   ],
   "source": [
    "testing"
   ]
  },
  {
   "cell_type": "code",
   "execution_count": 152,
   "id": "fe3be03d",
   "metadata": {},
   "outputs": [
    {
     "data": {
      "text/plain": [
       "array([['X', 'O', 'c'],\n",
       "       ['X', 'O', 'f'],\n",
       "       ['X', 'h', 'i']], dtype='<U1')"
      ]
     },
     "execution_count": 152,
     "metadata": {},
     "output_type": "execute_result"
    }
   ],
   "source": [
    "w"
   ]
  },
  {
   "cell_type": "code",
   "execution_count": 139,
   "id": "d45b7b18",
   "metadata": {},
   "outputs": [
    {
     "data": {
      "text/plain": [
       "True"
      ]
     },
     "execution_count": 139,
     "metadata": {},
     "output_type": "execute_result"
    }
   ],
   "source": [
    "winningCondition=False\n",
    "drawCondition=False"
   ]
  },
  {
   "cell_type": "code",
   "execution_count": 170,
   "id": "c93c01f4",
   "metadata": {},
   "outputs": [
    {
     "data": {
      "text/plain": [
       "True"
      ]
     },
     "execution_count": 170,
     "metadata": {},
     "output_type": "execute_result"
    }
   ],
   "source": [
    "winningCondition"
   ]
  },
  {
   "cell_type": "code",
   "execution_count": 171,
   "id": "1bc7a935",
   "metadata": {},
   "outputs": [
    {
     "data": {
      "text/plain": [
       "False"
      ]
     },
     "execution_count": 171,
     "metadata": {},
     "output_type": "execute_result"
    }
   ],
   "source": [
    "drawCondition"
   ]
  },
  {
   "cell_type": "code",
   "execution_count": 81,
   "id": "46d58c33",
   "metadata": {},
   "outputs": [
    {
     "name": "stdout",
     "output_type": "stream",
     "text": [
      "erg\n"
     ]
    }
   ],
   "source": [
    "if (winningCondition or drawCondition)!=True:\n",
    "    print('erg')"
   ]
  },
  {
   "cell_type": "code",
   "execution_count": 83,
   "id": "cd901ec6",
   "metadata": {},
   "outputs": [
    {
     "data": {
      "text/plain": [
       "array([['X', 'X', 'c'],\n",
       "       ['O', 'O', 'X'],\n",
       "       ['g', 'X', 'i']], dtype='<U1')"
      ]
     },
     "execution_count": 83,
     "metadata": {},
     "output_type": "execute_result"
    }
   ],
   "source": [
    "w"
   ]
  },
  {
   "cell_type": "code",
   "execution_count": 84,
   "id": "e34cc418",
   "metadata": {},
   "outputs": [],
   "source": [
    "w[0,0]='a'\n",
    "w[0,1]='b'\n",
    "w[1,0]='d'\n",
    "w[1,1]='e'\n",
    "w[1,2]='f'\n",
    "w[2,1]='h'"
   ]
  },
  {
   "cell_type": "code",
   "execution_count": 85,
   "id": "cf8c5110",
   "metadata": {},
   "outputs": [
    {
     "data": {
      "text/plain": [
       "array([['a', 'b', 'c'],\n",
       "       ['d', 'e', 'f'],\n",
       "       ['g', 'h', 'i']], dtype='<U1')"
      ]
     },
     "execution_count": 85,
     "metadata": {},
     "output_type": "execute_result"
    }
   ],
   "source": [
    "w"
   ]
  },
  {
   "cell_type": "code",
   "execution_count": null,
   "id": "98ba536b",
   "metadata": {},
   "outputs": [],
   "source": [
    "for x in range(3):\n",
    "    for y in range(3):\n",
    "        if w[x,y]"
   ]
  },
  {
   "cell_type": "code",
   "execution_count": 87,
   "id": "67b1e710",
   "metadata": {},
   "outputs": [
    {
     "data": {
      "text/plain": [
       "(array([], dtype=int64), array([], dtype=int64))"
      ]
     },
     "execution_count": 87,
     "metadata": {},
     "output_type": "execute_result"
    }
   ],
   "source": [
    "np.where(w=='z')"
   ]
  },
  {
   "cell_type": "code",
   "execution_count": 93,
   "id": "33623ce5",
   "metadata": {},
   "outputs": [
    {
     "data": {
      "text/plain": [
       "[array(['a', 'b', 'c', 'd', 'e', 'f', 'g', 'h', 'i'], dtype='<U1')]"
      ]
     },
     "execution_count": 93,
     "metadata": {},
     "output_type": "execute_result"
    }
   ],
   "source": [
    "s=(w.reshape(1,9))\n",
    "x=s.tolist()\n",
    "q=x[0]\n",
    "for x in q:\n",
    "    if x=='f':\n",
    "        print('d')"
   ]
  },
  {
   "cell_type": "code",
   "execution_count": 101,
   "id": "cc7a41a2",
   "metadata": {},
   "outputs": [
    {
     "ename": "AttributeError",
     "evalue": "'list' object has no attribute 'find'",
     "output_type": "error",
     "traceback": [
      "\u001b[1;31m---------------------------------------------------------------------------\u001b[0m",
      "\u001b[1;31mAttributeError\u001b[0m                            Traceback (most recent call last)",
      "\u001b[1;32m~\\AppData\\Local\\Temp/ipykernel_14252/175132601.py\u001b[0m in \u001b[0;36m<module>\u001b[1;34m\u001b[0m\n\u001b[1;32m----> 1\u001b[1;33m \u001b[0mq\u001b[0m\u001b[1;33m.\u001b[0m\u001b[0mfind\u001b[0m\u001b[1;33m(\u001b[0m\u001b[1;34m'a'\u001b[0m\u001b[1;33m)\u001b[0m\u001b[1;33m\u001b[0m\u001b[1;33m\u001b[0m\u001b[0m\n\u001b[0m",
      "\u001b[1;31mAttributeError\u001b[0m: 'list' object has no attribute 'find'"
     ]
    }
   ],
   "source": [
    "q.find('a')"
   ]
  },
  {
   "cell_type": "code",
   "execution_count": 103,
   "id": "51d0806c",
   "metadata": {},
   "outputs": [
    {
     "ename": "ValueError",
     "evalue": "'z' is not in list",
     "output_type": "error",
     "traceback": [
      "\u001b[1;31m---------------------------------------------------------------------------\u001b[0m",
      "\u001b[1;31mValueError\u001b[0m                                Traceback (most recent call last)",
      "\u001b[1;32m~\\AppData\\Local\\Temp/ipykernel_14252/439401101.py\u001b[0m in \u001b[0;36m<module>\u001b[1;34m\u001b[0m\n\u001b[1;32m----> 1\u001b[1;33m \u001b[0mq\u001b[0m\u001b[1;33m.\u001b[0m\u001b[0mindex\u001b[0m\u001b[1;33m(\u001b[0m\u001b[1;34m'z'\u001b[0m\u001b[1;33m)\u001b[0m\u001b[1;33m\u001b[0m\u001b[1;33m\u001b[0m\u001b[0m\n\u001b[0m",
      "\u001b[1;31mValueError\u001b[0m: 'z' is not in list"
     ]
    }
   ],
   "source": [
    "q.index('z')"
   ]
  },
  {
   "cell_type": "code",
   "execution_count": 107,
   "id": "3bec4334",
   "metadata": {},
   "outputs": [
    {
     "data": {
      "text/plain": [
       "2"
      ]
     },
     "execution_count": 107,
     "metadata": {},
     "output_type": "execute_result"
    }
   ],
   "source": [
    "s='wefwe ew'\n",
    "s.find('f')"
   ]
  },
  {
   "cell_type": "code",
   "execution_count": 108,
   "id": "13689f78",
   "metadata": {},
   "outputs": [
    {
     "data": {
      "text/plain": [
       "[array(['a', 'b', 'c', 'd', 'e', 'f', 'g', 'h', 'i'], dtype='<U1')]"
      ]
     },
     "execution_count": 108,
     "metadata": {},
     "output_type": "execute_result"
    }
   ],
   "source": [
    "f"
   ]
  },
  {
   "cell_type": "code",
   "execution_count": 109,
   "id": "dff463f7",
   "metadata": {},
   "outputs": [
    {
     "data": {
      "text/plain": [
       "['a', 'b', 'c', 'd', 'e', 'f', 'g', 'h', 'i']"
      ]
     },
     "execution_count": 109,
     "metadata": {},
     "output_type": "execute_result"
    }
   ],
   "source": [
    "q"
   ]
  },
  {
   "cell_type": "code",
   "execution_count": 111,
   "id": "b5baaf1a",
   "metadata": {},
   "outputs": [
    {
     "name": "stdout",
     "output_type": "stream",
     "text": [
      "d\n"
     ]
    }
   ],
   "source": [
    "for x in q:\n",
    "    if x=='f':\n",
    "        print('d')\n",
    "    "
   ]
  },
  {
   "cell_type": "code",
   "execution_count": 112,
   "id": "235db35e",
   "metadata": {},
   "outputs": [
    {
     "data": {
      "text/plain": [
       "array([['a', 'b', 'c'],\n",
       "       ['d', 'e', 'f'],\n",
       "       ['g', 'h', 'i']], dtype='<U1')"
      ]
     },
     "execution_count": 112,
     "metadata": {},
     "output_type": "execute_result"
    }
   ],
   "source": [
    "w"
   ]
  },
  {
   "cell_type": "code",
   "execution_count": 120,
   "id": "8c60e30c",
   "metadata": {},
   "outputs": [],
   "source": [
    "\n",
    "def overwriteprevention(check):\n",
    "    s=(w.reshape(1,9))\n",
    "    x=s.tolist()\n",
    "    q=x[0]\n",
    "    v=str(check)\n",
    "    for x in q:\n",
    "        if x==check:\n",
    "            print('waah')\n",
    "            break\n",
    "        else:\n",
    "            print(\"Place is occupied, please retry.\")"
   ]
  },
  {
   "cell_type": "code",
   "execution_count": 123,
   "id": "d84b1308",
   "metadata": {},
   "outputs": [
    {
     "name": "stdout",
     "output_type": "stream",
     "text": [
      "enterf\n",
      "Place is occupied, please retry.\n",
      "Place is occupied, please retry.\n",
      "Place is occupied, please retry.\n",
      "Place is occupied, please retry.\n",
      "Place is occupied, please retry.\n",
      "waah\n"
     ]
    }
   ],
   "source": [
    "d=input('enter')\n",
    "overwriteprevention(d)"
   ]
  },
  {
   "cell_type": "code",
   "execution_count": 122,
   "id": "88fd3872",
   "metadata": {},
   "outputs": [
    {
     "data": {
      "text/plain": [
       "['a', 'b', 'c', 'd', 'e', 'f', 'g', 'h', 'i']"
      ]
     },
     "execution_count": 122,
     "metadata": {},
     "output_type": "execute_result"
    }
   ],
   "source": [
    "q"
   ]
  },
  {
   "cell_type": "code",
   "execution_count": null,
   "id": "454efdd1",
   "metadata": {},
   "outputs": [],
   "source": []
  }
 ],
 "metadata": {
  "kernelspec": {
   "display_name": "Python 3 (ipykernel)",
   "language": "python",
   "name": "python3"
  },
  "language_info": {
   "codemirror_mode": {
    "name": "ipython",
    "version": 3
   },
   "file_extension": ".py",
   "mimetype": "text/x-python",
   "name": "python",
   "nbconvert_exporter": "python",
   "pygments_lexer": "ipython3",
   "version": "3.9.6"
  }
 },
 "nbformat": 4,
 "nbformat_minor": 5
}
