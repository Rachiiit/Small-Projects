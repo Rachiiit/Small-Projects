{
 "cells": [
  {
   "cell_type": "code",
   "execution_count": 1,
   "id": "80f81b94",
   "metadata": {},
   "outputs": [],
   "source": [
    "import numpy as np\n",
    "import random\n",
    "from numpy import random"
   ]
  },
  {
   "cell_type": "code",
   "execution_count": 1,
   "id": "fa071cc7",
   "metadata": {},
   "outputs": [
    {
     "name": "stdout",
     "output_type": "stream",
     "text": [
      "\n",
      "Welcome to play Tic Tac Toe.\n",
      "    First player will play with X and second player will play with O.\n",
      "    In the box, there are alphabets from a to i, write a alphabet to replace your entery.\n",
      "    Player 1 and player 2 will be playing alternatively.\n"
     ]
    },
    {
     "ename": "NameError",
     "evalue": "name 'np' is not defined",
     "output_type": "error",
     "traceback": [
      "\u001b[1;31m---------------------------------------------------------------------------\u001b[0m",
      "\u001b[1;31mNameError\u001b[0m                                 Traceback (most recent call last)",
      "\u001b[1;32m~\\AppData\\Local\\Temp/ipykernel_20156/381987895.py\u001b[0m in \u001b[0;36m<module>\u001b[1;34m\u001b[0m\n\u001b[0;32m    200\u001b[0m             \u001b[0mprint\u001b[0m\u001b[1;33m(\u001b[0m\u001b[1;34m'Please enter desire input only.'\u001b[0m\u001b[1;33m)\u001b[0m\u001b[1;33m\u001b[0m\u001b[1;33m\u001b[0m\u001b[0m\n\u001b[0;32m    201\u001b[0m \u001b[1;33m\u001b[0m\u001b[0m\n\u001b[1;32m--> 202\u001b[1;33m \u001b[0mTicTacToe\u001b[0m\u001b[1;33m(\u001b[0m\u001b[1;33m)\u001b[0m\u001b[1;33m\u001b[0m\u001b[1;33m\u001b[0m\u001b[0m\n\u001b[0m",
      "\u001b[1;32m~\\AppData\\Local\\Temp/ipykernel_20156/381987895.py\u001b[0m in \u001b[0;36mTicTacToe\u001b[1;34m()\u001b[0m\n\u001b[0;32m      8\u001b[0m     \u001b[0mIn\u001b[0m \u001b[0mthe\u001b[0m \u001b[0mbox\u001b[0m\u001b[1;33m,\u001b[0m \u001b[0mthere\u001b[0m \u001b[0mare\u001b[0m \u001b[0malphabets\u001b[0m \u001b[1;32mfrom\u001b[0m \u001b[0ma\u001b[0m \u001b[0mto\u001b[0m \u001b[0mi\u001b[0m\u001b[1;33m,\u001b[0m \u001b[0mwrite\u001b[0m \u001b[0ma\u001b[0m \u001b[0malphabet\u001b[0m \u001b[0mto\u001b[0m \u001b[0mreplace\u001b[0m \u001b[0myour\u001b[0m \u001b[0mentery\u001b[0m\u001b[1;33m.\u001b[0m\u001b[1;33m\u001b[0m\u001b[1;33m\u001b[0m\u001b[0m\n\u001b[0;32m      9\u001b[0m     Player 1 and player 2 will be playing alternatively.''')\n\u001b[1;32m---> 10\u001b[1;33m     \u001b[0mboard\u001b[0m\u001b[1;33m(\u001b[0m\u001b[1;33m)\u001b[0m\u001b[1;33m\u001b[0m\u001b[1;33m\u001b[0m\u001b[0m\n\u001b[0m\u001b[0;32m     11\u001b[0m     \u001b[0mplayer1move\u001b[0m\u001b[1;33m(\u001b[0m\u001b[1;33m)\u001b[0m\u001b[1;33m\u001b[0m\u001b[1;33m\u001b[0m\u001b[0m\n\u001b[0;32m     12\u001b[0m \u001b[1;33m\u001b[0m\u001b[0m\n",
      "\u001b[1;32m~\\AppData\\Local\\Temp/ipykernel_20156/381987895.py\u001b[0m in \u001b[0;36mboard\u001b[1;34m()\u001b[0m\n\u001b[0;32m      1\u001b[0m \u001b[1;32mdef\u001b[0m \u001b[0mboard\u001b[0m\u001b[1;33m(\u001b[0m\u001b[1;33m)\u001b[0m\u001b[1;33m:\u001b[0m\u001b[1;33m\u001b[0m\u001b[1;33m\u001b[0m\u001b[0m\n\u001b[1;32m----> 2\u001b[1;33m     \u001b[0me\u001b[0m\u001b[1;33m=\u001b[0m\u001b[0mnp\u001b[0m\u001b[1;33m.\u001b[0m\u001b[0marray\u001b[0m\u001b[1;33m(\u001b[0m\u001b[1;33m[\u001b[0m\u001b[1;34m'a'\u001b[0m\u001b[1;33m,\u001b[0m\u001b[1;34m'b'\u001b[0m\u001b[1;33m,\u001b[0m\u001b[1;34m'c'\u001b[0m\u001b[1;33m,\u001b[0m\u001b[1;34m'd'\u001b[0m\u001b[1;33m,\u001b[0m\u001b[1;34m'e'\u001b[0m\u001b[1;33m,\u001b[0m\u001b[1;34m'f'\u001b[0m\u001b[1;33m,\u001b[0m\u001b[1;34m'g'\u001b[0m\u001b[1;33m,\u001b[0m\u001b[1;34m'h'\u001b[0m\u001b[1;33m,\u001b[0m\u001b[1;34m'i'\u001b[0m\u001b[1;33m]\u001b[0m\u001b[1;33m)\u001b[0m\u001b[1;33m\u001b[0m\u001b[1;33m\u001b[0m\u001b[0m\n\u001b[0m\u001b[0;32m      3\u001b[0m     \u001b[0mw\u001b[0m\u001b[1;33m=\u001b[0m\u001b[0me\u001b[0m\u001b[1;33m.\u001b[0m\u001b[0mreshape\u001b[0m\u001b[1;33m(\u001b[0m\u001b[1;36m3\u001b[0m\u001b[1;33m,\u001b[0m\u001b[1;36m3\u001b[0m\u001b[1;33m)\u001b[0m\u001b[1;33m\u001b[0m\u001b[1;33m\u001b[0m\u001b[0m\n\u001b[0;32m      4\u001b[0m     \u001b[0mprint\u001b[0m\u001b[1;33m(\u001b[0m\u001b[0mw\u001b[0m\u001b[1;33m)\u001b[0m\u001b[1;33m\u001b[0m\u001b[1;33m\u001b[0m\u001b[0m\n\u001b[0;32m      5\u001b[0m \u001b[1;32mdef\u001b[0m \u001b[0mTicTacToe\u001b[0m\u001b[1;33m(\u001b[0m\u001b[1;33m)\u001b[0m\u001b[1;33m:\u001b[0m\u001b[1;33m\u001b[0m\u001b[1;33m\u001b[0m\u001b[0m\n",
      "\u001b[1;31mNameError\u001b[0m: name 'np' is not defined"
     ]
    }
   ],
   "source": [
    "def board():\n",
    "    e=np.array(['a','b','c','d','e','f','g','h','i'])\n",
    "    w=e.reshape(3,3)\n",
    "    print(w)\n",
    "def TicTacToe():\n",
    "    print('''\\nWelcome to play Tic Tac Toe.\n",
    "    First player will play with X and second player will play with O.\n",
    "    In the box, there are alphabets from a to i, write a alphabet to replace your entery.\n",
    "    Player 1 and player 2 will be playing alternatively.''')\n",
    "    board()\n",
    "    player1move()\n",
    "    \n",
    "    \n",
    "def checkForWin():\n",
    "    firstRow=w[0][0]==w[0][1]==w[0][2]\n",
    "    secondRow=w[1][0]==w[1][1]==w[1][2]\n",
    "    thirdRow=w[2][0]==w[2][1]==w[2][2]\n",
    "    firstColumn=w[0][0]==w[1][0]==w[2][0]\n",
    "    secondColumn=w[0][1]==w[1][1]==w[2][1]\n",
    "    thirdColumn=w[0][2]==w[1][2]==w[2][2]\n",
    "    lrDiagonal=w[0][0]==w[1][1]==w[2][2]\n",
    "    rlDiagonal=w[0][2]==w[1][1]==w[2][0]\n",
    "#     while 54:\n",
    "    if firstRow or secondRow or thirdRow or firstColumn or secondColumn or thirdColumn or lrDiagonal or rlDiagonal:\n",
    "        if firstRow:\n",
    "            print('\\nCongratulations, {} have won the match.'.format(w[0][1]))\n",
    "            replay=input('\\nWould you like to play again? Enter Y for Yes or anything for No: ')\n",
    "            if replay.lower()=='y':\n",
    "                TicTacToe()\n",
    "            else:\n",
    "                print('\\nThank you for playing.')\n",
    "#                     break\n",
    "        elif secondRow:\n",
    "            print('\\nCongratulations, {} have won the match.'.format(w[1][1]))\n",
    "            replay=input('\\nWould you like to play again? Enter Y for Yes or anything for No: ')\n",
    "            if replay.lower()=='y':\n",
    "                TicTacToe()\n",
    "            else:\n",
    "                print('\\nThank you for playing.')\n",
    "#                     break\n",
    "        elif thirdRow:\n",
    "            print('\\nCongratulations, {} have won the match.'.format(w[2][1]))\n",
    "            replay=input('\\nWould you like to play again? Enter Y for Yes or anything for No: ')\n",
    "            if replay.lower()=='y':\n",
    "                TicTacToe()\n",
    "            else:\n",
    "                print('\\nThank you for playing.')\n",
    "#                     break\n",
    "        elif firstColumn:\n",
    "            print('\\nCongratulations, {} have won the match.'.format(w[1][0]))\n",
    "            replay=input('\\nWould you like to play again? Enter Y for Yes or anything for No: ')\n",
    "            if replay.lower()=='y':\n",
    "                TicTacToe()\n",
    "            else:\n",
    "                print('\\nThank you for playing.')\n",
    "#                     break\n",
    "        elif secondColumn:\n",
    "            print('\\nCongratulations, {} have won the match.'.format(w[1][1]))\n",
    "            replay=input('\\nWould you like to play again? Enter Y for Yes or anything for No: ')\n",
    "            if replay.lower()=='y':\n",
    "                TicTacToe()\n",
    "            else:\n",
    "                print('\\nThank you for playing.')\n",
    "#                     break\n",
    "        elif thirdColumn:\n",
    "            print('\\nCongratulations, {} have won the match.'.format(w[1][2]))\n",
    "            replay=input('\\nWould you like to play again? Enter Y for Yes or anything for No: ')\n",
    "            if replay.lower()=='y':\n",
    "                TicTacToe()\n",
    "            else:\n",
    "                print('\\nThank you for playing.')\n",
    "#                     break\n",
    "        elif lrDiagonal:\n",
    "            print('Congratulations, {} have won the match.'.format(w[1][1]))\n",
    "            replay=input('\\nWould you like to play again? Enter Y for Yes or anything for No: ')\n",
    "            if replay.lower()=='y':\n",
    "                TicTacToe()\n",
    "            else:\n",
    "                print('\\nThank you for playing.')\n",
    "#                     break\n",
    "        elif rlDiagonal:\n",
    "            print('\\nCongratulations, {} have won the match.'.format(w[1][1]))\n",
    "            replay=input('Would you like to play again? Enter Y for Yes or anything for No: ')\n",
    "            if replay.lower()=='y':\n",
    "                TicTacToe()\n",
    "            else:\n",
    "                print('\\nThank you for playing.')\n",
    "#                     break\n",
    "    elif w[0][0]!='a' and w[0][1]!='b' and w[0][2]!='c' and w[1][0]!='d' and w[1][1]!='e' and w[1][2]!='f' and w[2][0]!='g' and w[2][1]!='h' and w[2][2]!='i':\n",
    "        print('\\nMatch is drawn.')\n",
    "        replay=input('\\nWould you like to play again? Enter Y for Yes or anything for No: ')\n",
    "        if replay.lower()=='y':\n",
    "            TicTacToe()\n",
    "        else:\n",
    "            print('\\nThank you for playing.')     \n",
    "#                 break\n",
    "\n",
    "            \n",
    "def player1move():\n",
    "    while 53:\n",
    "        g=input('\\nEnter a alphabet from a to i: ')\n",
    "        if g.lower()=='a':\n",
    "            w[0][0]='X'\n",
    "            print(w)\n",
    "            checkForWin()\n",
    "            player2move()\n",
    "        elif g.lower()=='b':\n",
    "            w[0][1]='X'\n",
    "            print(w)\n",
    "            checkForWin()\n",
    "            player2move()\n",
    "        elif g.lower()=='c':\n",
    "            w[0][2]='X'\n",
    "            print(w)\n",
    "            checkForWin()\n",
    "            player2move()\n",
    "        elif g.lower()=='d':\n",
    "            w[1][0]='X'\n",
    "            print(w)\n",
    "            checkForWin()\n",
    "            player2move()\n",
    "        elif g.lower()=='e':\n",
    "            w[1][1]='X'\n",
    "            print(w)\n",
    "            checkForWin()\n",
    "            player2move()\n",
    "        elif g.lower()=='f':\n",
    "            w[1][2]='X'\n",
    "            print(w)\n",
    "            checkForWin()\n",
    "            player2move()\n",
    "        elif g.lower()=='g':\n",
    "            w[2][0]='X'\n",
    "            print(w)\n",
    "            checkForWin()\n",
    "            player2move()\n",
    "        elif g.lower()=='h':\n",
    "            w[2][1]='X'\n",
    "            print(w)\n",
    "            checkForWin()\n",
    "            player2move()\n",
    "        elif g.lower()=='i':\n",
    "            w[2][2]='X'\n",
    "            print(w)\n",
    "            checkForWin()\n",
    "            player2move()\n",
    "        else:\n",
    "            print('Please enter desire input only.')\n",
    "\n",
    "            \n",
    "def player2move():\n",
    "    while 53:\n",
    "        g=input('\\nEnter a alphabet from a to i: ')\n",
    "        if g.lower()=='a':\n",
    "            w[0][0]='O'\n",
    "            print(w)\n",
    "            checkForWin()\n",
    "            player1move()\n",
    "        elif g.lower()=='b':\n",
    "            w[0][1]='O'\n",
    "            print(w)\n",
    "            checkForWin()\n",
    "            player1move()\n",
    "        elif g.lower()=='c':\n",
    "            w[0][2]='O'\n",
    "            print(w)\n",
    "            checkForWin()\n",
    "            player1move()\n",
    "        elif g.lower()=='d':\n",
    "            w[1][0]='O'\n",
    "            print(w)\n",
    "            checkForWin()\n",
    "            player1move()\n",
    "        elif g.lower()=='e':\n",
    "            w[1][1]='O'\n",
    "            print(w)\n",
    "            checkForWin()\n",
    "            player1move()\n",
    "        elif g.lower()=='f':\n",
    "            w[1][2]='O'\n",
    "            print(w)\n",
    "            checkForWin()\n",
    "            player1move()\n",
    "        elif g.lower()=='g':\n",
    "            w[2][0]='O'\n",
    "            print(w)\n",
    "            checkForWin()\n",
    "            player1move()\n",
    "        elif g.lower()=='h':\n",
    "            w[2][1]='O'\n",
    "            print(w)\n",
    "            checkForWin()\n",
    "            player1move()\n",
    "        elif g.lower()=='i':\n",
    "            w[2][2]='O'\n",
    "            print(w)\n",
    "            checkForWin()\n",
    "            player1move()\n",
    "        else:\n",
    "            print('Please enter desire input only.')\n",
    "            \n",
    "TicTacToe()            "
   ]
  },
  {
   "cell_type": "code",
   "execution_count": null,
   "id": "f6b88f50",
   "metadata": {},
   "outputs": [],
   "source": [
    "np.random([5,2])"
   ]
  },
  {
   "cell_type": "code",
   "execution_count": null,
   "id": "0960b533",
   "metadata": {},
   "outputs": [],
   "source": [
    "random.rand()"
   ]
  },
  {
   "cell_type": "code",
   "execution_count": null,
   "id": "a0cb1ec4",
   "metadata": {},
   "outputs": [],
   "source": []
  },
  {
   "cell_type": "code",
   "execution_count": null,
   "id": "22d9124d",
   "metadata": {},
   "outputs": [],
   "source": [
    "random.randint(1,5)"
   ]
  },
  {
   "cell_type": "code",
   "execution_count": null,
   "id": "970267c7",
   "metadata": {},
   "outputs": [],
   "source": [
    "d=np.array([1,2,3])"
   ]
  },
  {
   "cell_type": "code",
   "execution_count": null,
   "id": "4bd45baf",
   "metadata": {},
   "outputs": [],
   "source": [
    "rossy=list(d)\n",
    "rossy"
   ]
  },
  {
   "cell_type": "code",
   "execution_count": null,
   "id": "cbaaab08",
   "metadata": {},
   "outputs": [],
   "source": []
  },
  {
   "cell_type": "code",
   "execution_count": null,
   "id": "4fcee397",
   "metadata": {},
   "outputs": [],
   "source": [
    "import pygame"
   ]
  },
  {
   "cell_type": "code",
   "execution_count": 14,
   "id": "ee170d76",
   "metadata": {},
   "outputs": [],
   "source": [
    "import pygame as pg,sys\n",
    "from pygame.locals import *\n",
    "import time\n",
    "#initialize global variables\n",
    "XO = 'x'\n",
    "winner = None\n",
    "draw = False\n",
    "width = 400\n",
    "height = 400\n",
    "white = (255, 255, 255)\n",
    "line_color = (10,10,10)\n",
    "#TicTacToe 3x3 board\n",
    "TTT = [[None]*3,[None]*3,[None]*3]\n"
   ]
  },
  {
   "cell_type": "code",
   "execution_count": null,
   "id": "437d27dd",
   "metadata": {},
   "outputs": [],
   "source": [
    "i,j,cb=(2,6,8)"
   ]
  },
  {
   "cell_type": "code",
   "execution_count": null,
   "id": "2ef2921e",
   "metadata": {},
   "outputs": [],
   "source": [
    "i"
   ]
  },
  {
   "cell_type": "code",
   "execution_count": null,
   "id": "7105e475",
   "metadata": {},
   "outputs": [],
   "source": [
    "cb"
   ]
  },
  {
   "cell_type": "code",
   "execution_count": 4,
   "id": "0951ed7e",
   "metadata": {},
   "outputs": [
    {
     "name": "stdout",
     "output_type": "stream",
     "text": [
      "[[0 0 0]\n",
      " [0 0 0]\n",
      " [0 0 0]]\n",
      "Player 1's turn\n",
      "x-coordinates: 2\n",
      "y-coordinates: 2\n",
      "Board after 1 move\n",
      "[[0 0 0]\n",
      " [0 1 0]\n",
      " [0 0 0]]\n",
      "Player 2's turn\n",
      "x-coordinates: 1\n",
      "y-coordinates: 1\n",
      "Board after 2 move\n",
      "[[2 0 0]\n",
      " [0 1 0]\n",
      " [0 0 0]]\n",
      "Player 1's turn\n",
      "x-coordinates: 1\n",
      "y-coordinates: 2\n",
      "Board after 3 move\n",
      "[[2 1 0]\n",
      " [0 1 0]\n",
      " [0 0 0]]\n",
      "Player 2's turn\n",
      "x-coordinates: 2\n",
      "y-coordinates: 1\n",
      "Board after 4 move\n",
      "[[2 1 0]\n",
      " [2 1 0]\n",
      " [0 0 0]]\n",
      "Player 1's turn\n",
      "x-coordinates: 2\n",
      "y-coordinates: 1\n",
      "Wrong Input! Try Again\n",
      "Player 1's turn\n",
      "x-coordinates: 3\n",
      "y-coordinates: 1\n",
      "Board after 5 move\n",
      "[[2 1 0]\n",
      " [2 1 0]\n",
      " [1 0 0]]\n",
      "Player 2's turn\n",
      "x-coordinates: 3\n",
      "y-coordinates: 3\n",
      "Board after 6 move\n",
      "[[2 1 0]\n",
      " [2 1 0]\n",
      " [1 0 2]]\n",
      "Player 1's turn\n",
      "x-coordinates: 3\n",
      "y-coordinates: 2\n",
      "Board after 7 move\n",
      "[[2 1 0]\n",
      " [2 1 0]\n",
      " [1 1 2]]\n",
      "Player 2's turn\n",
      "x-coordinates: 1\n",
      "y-coordinates: 3\n",
      "Board after 8 move\n",
      "[[2 1 2]\n",
      " [2 1 0]\n",
      " [1 1 2]]\n",
      "Player 1's turn\n",
      "x-coordinates: 2\n",
      "y-coordinates: 3\n",
      "Board after 9 move\n",
      "[[2 1 2]\n",
      " [2 1 1]\n",
      " [1 1 2]]\n",
      "Winner is: -1\n"
     ]
    }
   ],
   "source": [
    "import numpy as np\n",
    "\n",
    "def create_board():\n",
    "    return (np.array([[0, 0, 0],\n",
    "                      [0, 0, 0],\n",
    "                      [0, 0, 0]]))\n",
    "\n",
    "\n",
    "def coordinates(board, player):\n",
    "    i, j, cn = (-1, -1, 0)\n",
    "    while (i > 3 or i < 0 or j < 0 or j > 3) or (board[i][j] != 0):\n",
    "        if cn > 0:\n",
    "            print(\"Wrong Input! Try Again\")\n",
    "        print(\"Player {}'s turn\".format(player))\n",
    "        i = int(input(\"x-coordinates: \"))\n",
    "        j = int(input(\"y-coordinates: \"))\n",
    "        i = i - 1\n",
    "        j = j - 1\n",
    "        cn = cn + 1\n",
    "    board[i][j] = player\n",
    "    return board\n",
    "\n",
    "\n",
    "def row_win(board, player):\n",
    "    for x in range(len(board)):\n",
    "        win = True\n",
    "\n",
    "        for y in range(len(board)):\n",
    "            if board[x, y] != player:\n",
    "                win = False\n",
    "                continue\n",
    "    return win\n",
    "\n",
    "\n",
    "def col_win(board, player):\n",
    "    for x in range(len(board)):\n",
    "        win = True\n",
    "\n",
    "        for y in range(len(board)):\n",
    "            if board[y][x] != player:\n",
    "                win = False\n",
    "                continue\n",
    "\n",
    "    return win\n",
    "\n",
    "\n",
    "def diag_win(board, player):\n",
    "    win = True\n",
    "    y = 0\n",
    "    for x in range(len(board)):\n",
    "        if board[x][x] != player:\n",
    "            win = False\n",
    "    if win:\n",
    "        return win\n",
    "    win = True\n",
    "    if win:\n",
    "        for x in range(len(board)):\n",
    "            y = len(board) - 1 - x\n",
    "            if board[x][y] != player:\n",
    "                win = False\n",
    "    return win\n",
    "\n",
    "\n",
    "def evaluate(board):\n",
    "    winner = 0\n",
    "\n",
    "    for player in [1, 2]:\n",
    "        if (row_win(board, player) or\n",
    "                col_win(board, player) or\n",
    "                diag_win(board, player)):\n",
    "            winner = player\n",
    "\n",
    "    if np.all(board != 0) and winner == 0:\n",
    "        winner = -1\n",
    "    return winner\n",
    "\n",
    "\n",
    "def play_game():\n",
    "    board, winner, counter = create_board(), 0, 1\n",
    "    print(board)\n",
    "    while winner == 0:\n",
    "        for player in [1, 2]:\n",
    "            board = coordinates(board, player)\n",
    "            print(\"Board after \" + str(counter) + \" move\")\n",
    "            print(board)\n",
    "            counter += 1\n",
    "            winner = evaluate(board)\n",
    "            if winner != 0:\n",
    "                break\n",
    "    return winner\n",
    "\n",
    "print(\"Winner is: \" + str(play_game()))"
   ]
  },
  {
   "cell_type": "code",
   "execution_count": null,
   "id": "34f64900",
   "metadata": {},
   "outputs": [],
   "source": [
    "f=np.array([' ',' ',' ',\n",
    "           ' ',' ',' ',\n",
    "           ' ',' ',' '])"
   ]
  },
  {
   "cell_type": "code",
   "execution_count": null,
   "id": "75df5521",
   "metadata": {},
   "outputs": [],
   "source": [
    "f"
   ]
  },
  {
   "cell_type": "code",
   "execution_count": null,
   "id": "489e85ea",
   "metadata": {},
   "outputs": [],
   "source": [
    "f.shape"
   ]
  },
  {
   "cell_type": "code",
   "execution_count": null,
   "id": "07baae57",
   "metadata": {},
   "outputs": [],
   "source": [
    "f1=f.reshape(3,3)\n",
    "f1"
   ]
  },
  {
   "cell_type": "code",
   "execution_count": null,
   "id": "1f0a1d03",
   "metadata": {},
   "outputs": [],
   "source": [
    "n=np.array([1,2,3,4,5,6,7,8,9])"
   ]
  },
  {
   "cell_type": "code",
   "execution_count": null,
   "id": "0aab9bd3",
   "metadata": {},
   "outputs": [],
   "source": [
    "n1=n.reshape(3,3)\n",
    "n1"
   ]
  },
  {
   "cell_type": "code",
   "execution_count": null,
   "id": "8bf74b20",
   "metadata": {},
   "outputs": [],
   "source": [
    "n1[1][2]=4"
   ]
  },
  {
   "cell_type": "code",
   "execution_count": null,
   "id": "d3be4d0d",
   "metadata": {},
   "outputs": [],
   "source": [
    "f"
   ]
  },
  {
   "cell_type": "code",
   "execution_count": null,
   "id": "3fd50d61",
   "metadata": {},
   "outputs": [],
   "source": [
    "n1"
   ]
  },
  {
   "cell_type": "code",
   "execution_count": null,
   "id": "967b4421",
   "metadata": {},
   "outputs": [],
   "source": [
    "def x_turn():\n",
    "    while 354:\n",
    "        x=int(input('Enter no. of row between 0 and 2: '))\n",
    "        y=int(input('Enter no. of column between 0 and 2: '))\n",
    "        f1[x][y]='X'\n",
    "        print(f1)\n",
    "        y_turn()"
   ]
  },
  {
   "cell_type": "code",
   "execution_count": null,
   "id": "995b974e",
   "metadata": {},
   "outputs": [],
   "source": [
    "def y_turn():\n",
    "    while 354:\n",
    "        x=int(input('Enter no. of row between 0 and 2: '))\n",
    "        y=int(input('Enter no. of column between 0 and 2: '))\n",
    "        f1[x][y]='O'\n",
    "        print(f1)\n",
    "        x_turn()"
   ]
  },
  {
   "cell_type": "code",
   "execution_count": null,
   "id": "c37940f8",
   "metadata": {},
   "outputs": [],
   "source": [
    "f1"
   ]
  },
  {
   "cell_type": "code",
   "execution_count": null,
   "id": "f0b44c9d",
   "metadata": {},
   "outputs": [],
   "source": [
    "x_turn()"
   ]
  },
  {
   "cell_type": "code",
   "execution_count": null,
   "id": "9187bd00",
   "metadata": {},
   "outputs": [],
   "source": [
    "for i in range(0,3):\n",
    "    for j in range(0,3):\n",
    "        if f1[i][j]!=' ':\n",
    "            print(i,j,'yes')"
   ]
  },
  {
   "cell_type": "code",
   "execution_count": null,
   "id": "105b2bef",
   "metadata": {},
   "outputs": [],
   "source": [
    "len(f1)-1"
   ]
  },
  {
   "cell_type": "code",
   "execution_count": null,
   "id": "56c9c17b",
   "metadata": {},
   "outputs": [],
   "source": [
    "f1"
   ]
  },
  {
   "cell_type": "code",
   "execution_count": null,
   "id": "760f2a75",
   "metadata": {},
   "outputs": [],
   "source": [
    "e=np.array([' ','|',' ','|',' ','_','_','_','_','_',' ','|',' ','|',' ','_','_','_','_','_',' ','|',' ','|',' '])"
   ]
  },
  {
   "cell_type": "code",
   "execution_count": null,
   "id": "ad5658b7",
   "metadata": {},
   "outputs": [],
   "source": [
    "e"
   ]
  },
  {
   "cell_type": "code",
   "execution_count": null,
   "id": "df32bf98",
   "metadata": {},
   "outputs": [],
   "source": [
    "e.shape"
   ]
  },
  {
   "cell_type": "code",
   "execution_count": null,
   "id": "129c76eb",
   "metadata": {},
   "outputs": [],
   "source": [
    "e.reshape(5,5)"
   ]
  },
  {
   "cell_type": "code",
   "execution_count": null,
   "id": "ebf46afe",
   "metadata": {},
   "outputs": [],
   "source": [
    "f1"
   ]
  },
  {
   "cell_type": "code",
   "execution_count": null,
   "id": "2ef117f7",
   "metadata": {},
   "outputs": [],
   "source": [
    "f"
   ]
  },
  {
   "cell_type": "code",
   "execution_count": null,
   "id": "8f7b3226",
   "metadata": {},
   "outputs": [],
   "source": [
    "for i in range(3):\n",
    "    for j in range(3):\n",
    "        if f1[i][j]=='X':\n",
    "            print(i,j)"
   ]
  },
  {
   "cell_type": "code",
   "execution_count": null,
   "id": "788af0dd",
   "metadata": {},
   "outputs": [],
   "source": [
    "len(f1)"
   ]
  },
  {
   "cell_type": "code",
   "execution_count": null,
   "id": "8c0c3e97",
   "metadata": {},
   "outputs": [],
   "source": [
    "r=np.array([' ',' ',' ',\n",
    "           ' ',' ',' ',\n",
    "           ' ',' ',' '])"
   ]
  },
  {
   "cell_type": "code",
   "execution_count": null,
   "id": "256765d3",
   "metadata": {},
   "outputs": [],
   "source": [
    "ro=r.reshape(3,3)"
   ]
  },
  {
   "cell_type": "code",
   "execution_count": null,
   "id": "9af26410",
   "metadata": {},
   "outputs": [],
   "source": [
    "ro"
   ]
  },
  {
   "cell_type": "code",
   "execution_count": null,
   "id": "49da5cec",
   "metadata": {},
   "outputs": [],
   "source": [
    "def checkForWin():\n",
    "    firstRow=w[0][0]==w[0][1]==w[0][2]\n",
    "    secondRow=w[1][0]==w[1][1]==w[1][2]\n",
    "    thirdRow=w[2][0]==w[2][1]==w[2][2]\n",
    "    firstColumn=w[0][0]==w[1][0]==w[2][0]\n",
    "    secondColumn=w[0][1]==w[1][1]==w[2][1]\n",
    "    thirdColumn=w[0][2]==w[1][2]==w[2][2]\n",
    "    lrDiagonal=w[0][0]==w[1][1]==w[2][2]\n",
    "    rlDiagonal=w[0][2]==w[1][1]==w[2][0]\n",
    "    if firstRow or secondRow or thirdRow or firstColumn or secondColumn or thirdColumn or lrDiagonal or rlDiagonal:\n",
    "        if firstRow:\n",
    "            print('\\nCongratulations, {} have won the match.'.format(w[0][1]))\n",
    "            replay=input('\\nWould you like to play again? Enter Y for Yes or anything for No: ')\n",
    "            if replay.lower()=='y':\n",
    "                TicTacToe()\n",
    "            else:\n",
    "                print('\\nThank you for playing.')\n",
    "        elif secondRow:\n",
    "            print('\\nCongratulations, {} have won the match.'.format(w[1][1]))\n",
    "            replay=input('\\nWould you like to play again? Enter Y for Yes or anything for No: ')\n",
    "            if replay.lower()=='y':\n",
    "                TicTacToe()\n",
    "            else:\n",
    "                print('\\nThank you for playing.')\n",
    "        elif thirdRow:\n",
    "            print('\\nCongratulations, {} have won the match.'.format(w[2][1]))\n",
    "            replay=input('\\nWould you like to play again? Enter Y for Yes or anything for No: ')\n",
    "            if replay.lower()=='y':\n",
    "                TicTacToe()\n",
    "            else:\n",
    "                print('\\nThank you for playing.')\n",
    "        elif firstColumn:\n",
    "            print('\\nCongratulations, {} have won the match.'.format(w[1][0]))\n",
    "            replay=input('\\nWould you like to play again? Enter Y for Yes or anything for No: ')\n",
    "            if replay.lower()=='y':\n",
    "                TicTacToe()\n",
    "            else:\n",
    "                print('\\nThank you for playing.')\n",
    "        elif secondColumn:\n",
    "            print('\\nCongratulations, {} have won the match.'.format(w[1][1]))\n",
    "            replay=input('\\nWould you like to play again? Enter Y for Yes or anything for No: ')\n",
    "            if replay.lower()=='y':\n",
    "                TicTacToe()\n",
    "            else:\n",
    "                print('\\nThank you for playing.')\n",
    "        elif thirdColumn:\n",
    "            print('\\nCongratulations, {} have won the match.'.format(w[1][2]))\n",
    "            replay=input('\\nWould you like to play again? Enter Y for Yes or anything for No: ')\n",
    "            if replay.lower()=='y':\n",
    "                TicTacToe()\n",
    "            else:\n",
    "                print('\\nThank you for playing.')\n",
    "        elif lrDiagonal:\n",
    "            print('Congratulations, {} have won the match.'.format(w[1][1]))\n",
    "            replay=input('\\mWould you like to play again? Enter Y for Yes or anything for No: ')\n",
    "            if replay.lower()=='y':\n",
    "                TicTacToe()\n",
    "            else:\n",
    "                print('\\nThank you for playing.')\n",
    "        elif rlDiagonal:\n",
    "            print('\\nCongratulations, {} have won the match.'.format(w[1][1]))\n",
    "            replay=input('Would you like to play again? Enter Y for Yes or anything for No: ')\n",
    "            if replay.lower()=='y':\n",
    "                TicTacToe()\n",
    "            else:\n",
    "                print('\\nThank you for playing.')\n",
    "    elif w[0][0]!='a' and w[0][1]!='b' and w[0][2]!='c' and w[1][0]!='d' and w[1][1]!='e' and w[1][2]!='f' and w[2][0]!='g' and w[2][1]!='h' and w[2][2]!='i':\n",
    "        print('\\nMatch is drawn.')\n",
    "        replay=input('\\nWould you like to play again? Enter Y for Yes or anything for No: ')\n",
    "        if replay.lower()=='y':\n",
    "            TicTacToe()\n",
    "        else:\n",
    "            print('\\nThank you for playing.')               "
   ]
  },
  {
   "cell_type": "code",
   "execution_count": null,
   "id": "f30266f6",
   "metadata": {},
   "outputs": [],
   "source": [
    "print(w)\n",
    "checkForWin()"
   ]
  },
  {
   "cell_type": "code",
   "execution_count": null,
   "id": "06694240",
   "metadata": {},
   "outputs": [],
   "source": []
  },
  {
   "cell_type": "code",
   "execution_count": null,
   "id": "ae65bc91",
   "metadata": {},
   "outputs": [],
   "source": []
  },
  {
   "cell_type": "code",
   "execution_count": null,
   "id": "551a8bb7",
   "metadata": {},
   "outputs": [],
   "source": [
    "x=y=z=0\n",
    "x"
   ]
  },
  {
   "cell_type": "code",
   "execution_count": null,
   "id": "220c0cb5",
   "metadata": {},
   "outputs": [],
   "source": [
    "if x==y==0:\n",
    "    print('rg')"
   ]
  },
  {
   "cell_type": "code",
   "execution_count": null,
   "id": "998b0626",
   "metadata": {},
   "outputs": [],
   "source": [
    "checkForWin()"
   ]
  },
  {
   "cell_type": "code",
   "execution_count": null,
   "id": "f44a22fd",
   "metadata": {},
   "outputs": [],
   "source": [
    "ro[0][2]"
   ]
  },
  {
   "cell_type": "code",
   "execution_count": null,
   "id": "231c552c",
   "metadata": {},
   "outputs": [],
   "source": [
    "ro[2][2]"
   ]
  },
  {
   "cell_type": "code",
   "execution_count": null,
   "id": "f48b447d",
   "metadata": {},
   "outputs": [],
   "source": [
    "def checkForWinning():\n",
    "    if ro[0][0]==ro[0][1] and ro[0][1]==r[0][2]:\n",
    "        print('Congratulations, {} have won the match.'.format(x))"
   ]
  },
  {
   "cell_type": "code",
   "execution_count": null,
   "id": "5b80695b",
   "metadata": {},
   "outputs": [],
   "source": [
    "checkForWinning()"
   ]
  },
  {
   "cell_type": "code",
   "execution_count": null,
   "id": "ca8a8cd8",
   "metadata": {},
   "outputs": [],
   "source": [
    " or ro[1][0]==ro[1][1]==r[1][2] or ro[2][0]==ro[2][1]==r[2][2] or  ro[0][0]==ro[1][0]==r[2][0] or ro[0][1]==ro[1][1]==r[2][1] or ro[0][2]==ro[1][2]==r[2][2] or ro[0][0]==r[1][1]==ro[2][2] or ro[0][2]==r[1][1]==r[2][0]"
   ]
  },
  {
   "cell_type": "code",
   "execution_count": null,
   "id": "cd18c50e",
   "metadata": {},
   "outputs": [],
   "source": [
    "ro[0][0]"
   ]
  },
  {
   "cell_type": "code",
   "execution_count": null,
   "id": "957dd4d2",
   "metadata": {},
   "outputs": [],
   "source": [
    "ro[0][1]"
   ]
  },
  {
   "cell_type": "code",
   "execution_count": null,
   "id": "50adaae3",
   "metadata": {},
   "outputs": [],
   "source": [
    "r[0][2]"
   ]
  },
  {
   "cell_type": "code",
   "execution_count": null,
   "id": "8b80db3c",
   "metadata": {},
   "outputs": [],
   "source": [
    "ro.shape"
   ]
  },
  {
   "cell_type": "code",
   "execution_count": null,
   "id": "576d2016",
   "metadata": {},
   "outputs": [],
   "source": [
    "ro[0][2]"
   ]
  },
  {
   "cell_type": "code",
   "execution_count": null,
   "id": "2e4f3a11",
   "metadata": {},
   "outputs": [],
   "source": [
    "x=5\n",
    "y=6\n",
    "z=4\n",
    "a=x==4\n",
    "b=y==6\n",
    "if a or b:\n",
    "    print('f')\n",
    "    print(a,b)"
   ]
  },
  {
   "cell_type": "code",
   "execution_count": null,
   "id": "1163c27d",
   "metadata": {},
   "outputs": [],
   "source": [
    "ro"
   ]
  },
  {
   "cell_type": "code",
   "execution_count": null,
   "id": "7be40b43",
   "metadata": {},
   "outputs": [],
   "source": [
    "e=np.array(['a','b','c','d','e','f','g','h','i'])\n",
    "w=e.reshape(3,3)\n",
    "w"
   ]
  },
  {
   "cell_type": "code",
   "execution_count": null,
   "id": "d71b3fa8",
   "metadata": {},
   "outputs": [],
   "source": [
    "e=np.array(['a','b','c','d','e','f','g','h','i'])\n",
    "w=e.reshape(3,3)\n",
    "print(w)\n",
    "TicTacToe()"
   ]
  },
  {
   "cell_type": "code",
   "execution_count": null,
   "id": "839f349c",
   "metadata": {},
   "outputs": [],
   "source": [
    "w"
   ]
  },
  {
   "cell_type": "code",
   "execution_count": null,
   "id": "c82fde86",
   "metadata": {},
   "outputs": [],
   "source": [
    "result =np.where(w=='h')"
   ]
  },
  {
   "cell_type": "code",
   "execution_count": null,
   "id": "ce1d02f3",
   "metadata": {},
   "outputs": [],
   "source": [
    "print(result)"
   ]
  },
  {
   "cell_type": "code",
   "execution_count": null,
   "id": "de5abf47",
   "metadata": {},
   "outputs": [],
   "source": []
  },
  {
   "cell_type": "code",
   "execution_count": null,
   "id": "9168a97a",
   "metadata": {},
   "outputs": [],
   "source": []
  },
  {
   "cell_type": "code",
   "execution_count": null,
   "id": "1d790cbe",
   "metadata": {},
   "outputs": [],
   "source": []
  },
  {
   "cell_type": "code",
   "execution_count": null,
   "id": "5741ead1",
   "metadata": {},
   "outputs": [],
   "source": []
  },
  {
   "cell_type": "code",
   "execution_count": null,
   "id": "f6dacfde",
   "metadata": {},
   "outputs": [],
   "source": []
  },
  {
   "cell_type": "code",
   "execution_count": null,
   "id": "6b72db28",
   "metadata": {},
   "outputs": [],
   "source": []
  },
  {
   "cell_type": "code",
   "execution_count": null,
   "id": "59e70675",
   "metadata": {},
   "outputs": [],
   "source": []
  },
  {
   "cell_type": "code",
   "execution_count": null,
   "id": "abc37430",
   "metadata": {},
   "outputs": [],
   "source": []
  },
  {
   "cell_type": "code",
   "execution_count": null,
   "id": "60aa637f",
   "metadata": {},
   "outputs": [],
   "source": [
    "e=np.array(['a','b','c','d','e','f','g','h','i'])\n",
    "w=e.reshape(3,3)\n",
    "print(w)\n",
    "TicTacToe()"
   ]
  },
  {
   "cell_type": "code",
   "execution_count": null,
   "id": "60281828",
   "metadata": {},
   "outputs": [],
   "source": [
    "e=np.array(['a','b','c','d','e','f','g','h','i'])\n",
    "w=e.reshape(3,3)\n",
    "print(w)\n",
    "TicTacToe()"
   ]
  },
  {
   "cell_type": "code",
   "execution_count": null,
   "id": "0001e51e",
   "metadata": {},
   "outputs": [],
   "source": [
    "TicTacToe()"
   ]
  },
  {
   "cell_type": "code",
   "execution_count": null,
   "id": "f6d62e68",
   "metadata": {},
   "outputs": [],
   "source": [
    "rossy_Kassi_Padmini=45"
   ]
  },
  {
   "cell_type": "code",
   "execution_count": null,
   "id": "98b8282f",
   "metadata": {},
   "outputs": [],
   "source": [
    "def kamini():\n",
    "    rossy=24\n",
    "    return rossy, rossy_Kassi_Padmini"
   ]
  },
  {
   "cell_type": "code",
   "execution_count": null,
   "id": "7c3dd840",
   "metadata": {},
   "outputs": [],
   "source": [
    "kamini()"
   ]
  },
  {
   "cell_type": "code",
   "execution_count": null,
   "id": "87b90d2d",
   "metadata": {},
   "outputs": [],
   "source": [
    "print(rossy)"
   ]
  },
  {
   "cell_type": "code",
   "execution_count": null,
   "id": "125352fd",
   "metadata": {},
   "outputs": [],
   "source": [
    "h=24\n",
    "r=45.24\n",
    "def commutepay(h,r):\n",
    "    return 'Rossy work worth is: ',h*r"
   ]
  },
  {
   "cell_type": "code",
   "execution_count": null,
   "id": "66c03953",
   "metadata": {},
   "outputs": [],
   "source": [
    "commutepay(354,10000)"
   ]
  },
  {
   "cell_type": "code",
   "execution_count": 3,
   "id": "3b82c025",
   "metadata": {},
   "outputs": [
    {
     "ename": "NameError",
     "evalue": "name 'f' is not defined",
     "output_type": "error",
     "traceback": [
      "\u001b[1;31m---------------------------------------------------------------------------\u001b[0m",
      "\u001b[1;31mNameError\u001b[0m                                 Traceback (most recent call last)",
      "\u001b[1;32m~\\AppData\\Local\\Temp/ipykernel_3912/1813693306.py\u001b[0m in \u001b[0;36m<module>\u001b[1;34m\u001b[0m\n\u001b[0;32m      4\u001b[0m \u001b[1;32mdef\u001b[0m \u001b[0mrt\u001b[0m\u001b[1;33m(\u001b[0m\u001b[1;33m)\u001b[0m\u001b[1;33m:\u001b[0m\u001b[1;33m\u001b[0m\u001b[1;33m\u001b[0m\u001b[0m\n\u001b[0;32m      5\u001b[0m     \u001b[0mprint\u001b[0m\u001b[1;33m(\u001b[0m\u001b[0mf\u001b[0m\u001b[1;33m)\u001b[0m\u001b[1;33m\u001b[0m\u001b[1;33m\u001b[0m\u001b[0m\n\u001b[1;32m----> 6\u001b[1;33m \u001b[0mehi\u001b[0m\u001b[1;33m(\u001b[0m\u001b[1;33m)\u001b[0m\u001b[1;33m\u001b[0m\u001b[1;33m\u001b[0m\u001b[0m\n\u001b[0m",
      "\u001b[1;32m~\\AppData\\Local\\Temp/ipykernel_3912/1813693306.py\u001b[0m in \u001b[0;36mehi\u001b[1;34m()\u001b[0m\n\u001b[0;32m      1\u001b[0m \u001b[1;32mdef\u001b[0m \u001b[0mehi\u001b[0m\u001b[1;33m(\u001b[0m\u001b[1;33m)\u001b[0m\u001b[1;33m:\u001b[0m\u001b[1;33m\u001b[0m\u001b[1;33m\u001b[0m\u001b[0m\n\u001b[0;32m      2\u001b[0m     \u001b[0mf\u001b[0m\u001b[1;33m=\u001b[0m\u001b[1;36m23\u001b[0m\u001b[1;33m\u001b[0m\u001b[1;33m\u001b[0m\u001b[0m\n\u001b[1;32m----> 3\u001b[1;33m     \u001b[0mrt\u001b[0m\u001b[1;33m(\u001b[0m\u001b[1;33m)\u001b[0m\u001b[1;33m\u001b[0m\u001b[1;33m\u001b[0m\u001b[0m\n\u001b[0m\u001b[0;32m      4\u001b[0m \u001b[1;32mdef\u001b[0m \u001b[0mrt\u001b[0m\u001b[1;33m(\u001b[0m\u001b[1;33m)\u001b[0m\u001b[1;33m:\u001b[0m\u001b[1;33m\u001b[0m\u001b[1;33m\u001b[0m\u001b[0m\n\u001b[0;32m      5\u001b[0m     \u001b[0mprint\u001b[0m\u001b[1;33m(\u001b[0m\u001b[0mf\u001b[0m\u001b[1;33m)\u001b[0m\u001b[1;33m\u001b[0m\u001b[1;33m\u001b[0m\u001b[0m\n",
      "\u001b[1;32m~\\AppData\\Local\\Temp/ipykernel_3912/1813693306.py\u001b[0m in \u001b[0;36mrt\u001b[1;34m()\u001b[0m\n\u001b[0;32m      3\u001b[0m     \u001b[0mrt\u001b[0m\u001b[1;33m(\u001b[0m\u001b[1;33m)\u001b[0m\u001b[1;33m\u001b[0m\u001b[1;33m\u001b[0m\u001b[0m\n\u001b[0;32m      4\u001b[0m \u001b[1;32mdef\u001b[0m \u001b[0mrt\u001b[0m\u001b[1;33m(\u001b[0m\u001b[1;33m)\u001b[0m\u001b[1;33m:\u001b[0m\u001b[1;33m\u001b[0m\u001b[1;33m\u001b[0m\u001b[0m\n\u001b[1;32m----> 5\u001b[1;33m     \u001b[0mprint\u001b[0m\u001b[1;33m(\u001b[0m\u001b[0mf\u001b[0m\u001b[1;33m)\u001b[0m\u001b[1;33m\u001b[0m\u001b[1;33m\u001b[0m\u001b[0m\n\u001b[0m\u001b[0;32m      6\u001b[0m \u001b[0mehi\u001b[0m\u001b[1;33m(\u001b[0m\u001b[1;33m)\u001b[0m\u001b[1;33m\u001b[0m\u001b[1;33m\u001b[0m\u001b[0m\n",
      "\u001b[1;31mNameError\u001b[0m: name 'f' is not defined"
     ]
    }
   ],
   "source": [
    "def ehi():\n",
    "    f=23\n",
    "    rt()\n",
    "def rt():\n",
    "    print(f)\n",
    "ehi()"
   ]
  },
  {
   "cell_type": "code",
   "execution_count": 15,
   "id": "c122058f",
   "metadata": {},
   "outputs": [
    {
     "name": "stdout",
     "output_type": "stream",
     "text": [
      "What is the first player name? Rossy\n",
      "What is the second player name? Gunnu\n",
      "{1: 'Rossy', 2: 'Gunnu'}\n",
      "Start Game:\n",
      "\n",
      "[[0 0 0]\n",
      " [0 0 0]\n",
      " [0 0 0]]\n",
      "\n",
      "Chance of Rossy\n",
      "Which Row you want to mark? 1\n",
      "Which Column you want to mark? 2\n",
      "Board after Rossy's move\n",
      "[[0 0 0]\n",
      " [0 0 1]\n",
      " [0 0 0]]\n",
      "\n",
      "Chance of Gunnu\n",
      "Which Row you want to mark? 1\n",
      "Which Column you want to mark? 1\n",
      "Board after Gunnu's move\n",
      "[[0 0 0]\n",
      " [0 2 1]\n",
      " [0 0 0]]\n",
      "\n",
      "Chance of Rossy\n",
      "Which Row you want to mark? 0\n",
      "Which Column you want to mark? 2\n",
      "Board after Rossy's move\n",
      "[[0 0 1]\n",
      " [0 2 1]\n",
      " [0 0 0]]\n",
      "\n",
      "Chance of Gunnu\n",
      "Which Row you want to mark? 1\n",
      "Which Column you want to mark? 0\n",
      "Board after Gunnu's move\n",
      "[[0 0 1]\n",
      " [2 2 1]\n",
      " [0 0 0]]\n",
      "\n",
      "Chance of Rossy\n",
      "Which Row you want to mark? 0\n",
      "Which Column you want to mark? 2\n",
      "\n",
      "This position is already marked, try again\n",
      "Which Row you want to mark? 2\n",
      "Which Column you want to mark? 2\n",
      "Board after Rossy's move\n",
      "[[0 0 1]\n",
      " [2 2 1]\n",
      " [0 0 1]]\n",
      "\n",
      "Winner is: Rossy\n"
     ]
    }
   ],
   "source": [
    "#Harshil Sir's\n",
    "\n",
    "import numpy as np \n",
    "import random \n",
    "from time import sleep \n",
    "\n",
    "# Creates an empty board \n",
    "def initializeBoard(): \n",
    "    return(np.array([[0, 0, 0], \n",
    "                     [0, 0, 0], \n",
    "                     [0, 0, 0]]))\n",
    "\n",
    "def checkPossibility(board, r, c):\n",
    "    if(board[r][c] == 0):\n",
    "        return True\n",
    "    else:\n",
    "        return False\n",
    "\n",
    "def playersName():\n",
    "    firstPlayer = (str(input(\"What is the first player name? \")))\n",
    "    secondPlayer = (str(input(\"What is the second player name? \")))\n",
    "    playersDict = {1: firstPlayer, 2: secondPlayer}\n",
    "    print(playersDict)\n",
    "    return playersDict\n",
    "\n",
    "def markPosition(board, player):\n",
    "    possible = False\n",
    "    while(possible != True):\n",
    "        r = int(input(\"Which Row you want to mark? \"))\n",
    "        c = int(input(\"Which Column you want to mark? \"))\n",
    "        possible = checkPossibility(board, r, c)\n",
    "        if possible:\n",
    "            board[r][c] = player\n",
    "        else:\n",
    "            print(\"\\nThis position is already marked, try again\")\n",
    "    return board\n",
    "#player = 2\n",
    "#board = markPosition(board, player)\n",
    "\n",
    "# Checks whether the player has three of their marks in a horizontal row \n",
    "def rowWin(board, player): \n",
    "    for x in range(len(board)): \n",
    "        win = True\n",
    "        for y in range(len(board)): \n",
    "            if board[x, y] != player: \n",
    "                win = False\n",
    "                continue\n",
    "        if win == True: \n",
    "            return(win) \n",
    "    return(win) \n",
    "\n",
    "# Checks whether the player has three of their marks in a vertical row \n",
    "def colWin(board, player): \n",
    "    for x in range(len(board)): \n",
    "        win = True\n",
    "        for y in range(len(board)): \n",
    "            if board[y][x] != player: \n",
    "                win = False\n",
    "                continue\n",
    "        if win == True: \n",
    "            return(win) \n",
    "    return(win)\n",
    "\n",
    "# Checks whether the player has three of their marks in a diagonal row \n",
    "def diaWin(board, player): \n",
    "    win = True\n",
    "    for x in range(len(board)): \n",
    "        if board[x, x] != player: \n",
    "            win = False\n",
    "    return(win)\n",
    "\n",
    "# Evaluates whether there is a winner or a tie \n",
    "def evaluate(board): \n",
    "\twinner = 0\n",
    "\t\n",
    "\tfor player in [1, 2]: \n",
    "\t\tif (rowWin(board, player) or colWin(board,player) or diaWin(board,player)): \t\n",
    "\t\t\twinner = player \t\n",
    "\tif np.all(board != 0) and winner == 0: \n",
    "\t\twinner = -1\n",
    "\treturn winner \n",
    "\n",
    "def playGame(playersDict): \n",
    "    board = initializeBoard()\n",
    "    print(\"Start Game:\\n\")\n",
    "    print(board) \n",
    "    sleep(1)\n",
    "    winner, counter = 0, 1\n",
    "    while winner == 0: \n",
    "        for player in [1, 2]: \n",
    "            print(\"\\nChance of \" + playersDict[player])\n",
    "            board = markPosition(board, player) \n",
    "            print(\"Board after \" + playersDict[player] + \"'s move\") \n",
    "            print(board) \n",
    "            sleep(0.5) \n",
    "            counter += 1\n",
    "            winner = evaluate(board) \n",
    "            if winner != 0: \n",
    "                break\n",
    "    return(winner)\n",
    "\n",
    "playersDict = playersName()\n",
    "Winner = playGame(playersDict)\n",
    "print(\"\\nWinner is: \" + str(playersDict[Winner])) \n"
   ]
  },
  {
   "cell_type": "code",
   "execution_count": 16,
   "id": "271aa910",
   "metadata": {},
   "outputs": [
    {
     "name": "stdout",
     "output_type": "stream",
     "text": [
      "[['a' 'b' 'c']\n",
      " ['d' 'e' 'f']\n",
      " ['g' 'h' 'i']]\n"
     ]
    }
   ],
   "source": [
    "e=np.array(['a','b','c','d','e','f','g','h','i'])\n",
    "w=e.reshape(3,3)\n",
    "print(w)\n"
   ]
  },
  {
   "cell_type": "code",
   "execution_count": 17,
   "id": "9e4cb9ff",
   "metadata": {},
   "outputs": [
    {
     "data": {
      "text/plain": [
       "'i'"
      ]
     },
     "execution_count": 17,
     "metadata": {},
     "output_type": "execute_result"
    }
   ],
   "source": [
    "w[2,2]"
   ]
  },
  {
   "cell_type": "code",
   "execution_count": 19,
   "id": "1ecf87ce",
   "metadata": {},
   "outputs": [
    {
     "name": "stdout",
     "output_type": "stream",
     "text": [
      "erg\n",
      "ergrg\n"
     ]
    }
   ],
   "source": [
    "from time import sleep\n",
    "print('erg')\n",
    "sleep(5)\n",
    "print('ergrg')"
   ]
  },
  {
   "cell_type": "code",
   "execution_count": 20,
   "id": "010ca6e5",
   "metadata": {},
   "outputs": [
    {
     "data": {
      "text/plain": [
       "time.struct_time(tm_year=1970, tm_mon=1, tm_mday=1, tm_hour=0, tm_min=0, tm_sec=0, tm_wday=3, tm_yday=1, tm_isdst=0)"
      ]
     },
     "execution_count": 20,
     "metadata": {},
     "output_type": "execute_result"
    }
   ],
   "source": [
    "time.gmtime(0)"
   ]
  },
  {
   "cell_type": "code",
   "execution_count": 24,
   "id": "835bc3fb",
   "metadata": {},
   "outputs": [
    {
     "name": "stdout",
     "output_type": "stream",
     "text": [
      "Fri Nov  5 18:37:26 2021\n",
      "Fri Nov  5 18:37:28 2021\n",
      "Fri Nov  5 18:37:30 2021\n",
      "Fri Nov  5 18:37:32 2021\n",
      "Fri Nov  5 18:37:34 2021\n"
     ]
    }
   ],
   "source": [
    "for x in range(5):\n",
    "    print(time.ctime())\n",
    "    sleep(2)"
   ]
  },
  {
   "cell_type": "code",
   "execution_count": 23,
   "id": "600c7a23",
   "metadata": {},
   "outputs": [
    {
     "data": {
      "text/plain": [
       "'Fri Nov  5 18:37:03 2021'"
      ]
     },
     "execution_count": 23,
     "metadata": {},
     "output_type": "execute_result"
    }
   ],
   "source": [
    "time.ctime()"
   ]
  },
  {
   "cell_type": "code",
   "execution_count": 29,
   "id": "6e16a10f",
   "metadata": {},
   "outputs": [
    {
     "name": "stdout",
     "output_type": "stream",
     "text": [
      "[array([3, 5, 6], dtype=int64)]\n"
     ]
    }
   ],
   "source": [
    "import numpy as np\n",
    "\n",
    "arr = np.array([1, 2, 3, 4, 5, 4, 4])\n",
    "\n",
    "x = np.where(arr == 4)\n",
    "c=list(x)\n",
    "print(c)"
   ]
  },
  {
   "cell_type": "code",
   "execution_count": 37,
   "id": "7386a11a",
   "metadata": {},
   "outputs": [
    {
     "name": "stdout",
     "output_type": "stream",
     "text": [
      "2\n"
     ]
    }
   ],
   "source": [
    "import numpy as np\n",
    "\n",
    "arr = np.array([6, 7, 8, 9])\n",
    "# arR=arr.reshape(2,2)\n",
    "# print(arR)\n",
    "x = np.searchsorted(arr, 8)\n",
    "\n",
    "print(x)"
   ]
  },
  {
   "cell_type": "code",
   "execution_count": 40,
   "id": "5f4380b5",
   "metadata": {},
   "outputs": [
    {
     "name": "stdout",
     "output_type": "stream",
     "text": [
      "3\n"
     ]
    }
   ],
   "source": [
    "import numpy as np\n",
    "\n",
    "arr = np.array([6, 7, 8, 9])\n",
    "\n",
    "x = np.searchsorted(arr, 8, side='right')\n",
    "\n",
    "print(x)"
   ]
  },
  {
   "cell_type": "code",
   "execution_count": 42,
   "id": "a91431f9",
   "metadata": {},
   "outputs": [
    {
     "name": "stdout",
     "output_type": "stream",
     "text": [
      "[1 2 4]\n"
     ]
    }
   ],
   "source": [
    "\n",
    "import numpy as np\n",
    "\n",
    "arr = np.array([1, 3, 7, 7])\n",
    "\n",
    "x = np.searchsorted(arr, [2, 4, 61])\n",
    "\n",
    "print(x)"
   ]
  },
  {
   "cell_type": "code",
   "execution_count": 43,
   "id": "c91ba15f",
   "metadata": {},
   "outputs": [
    {
     "data": {
      "text/plain": [
       "array([['a', 'b', 'c'],\n",
       "       ['d', 'e', 'f'],\n",
       "       ['g', 'h', 'i']], dtype='<U1')"
      ]
     },
     "execution_count": 43,
     "metadata": {},
     "output_type": "execute_result"
    }
   ],
   "source": [
    "w"
   ]
  },
  {
   "cell_type": "code",
   "execution_count": 44,
   "id": "049cef9b",
   "metadata": {},
   "outputs": [
    {
     "data": {
      "text/plain": [
       "(array([2], dtype=int64), array([0], dtype=int64))"
      ]
     },
     "execution_count": 44,
     "metadata": {},
     "output_type": "execute_result"
    }
   ],
   "source": [
    "np.where(w=='g')"
   ]
  },
  {
   "cell_type": "code",
   "execution_count": 45,
   "id": "35fcb7e6",
   "metadata": {},
   "outputs": [
    {
     "ename": "UnboundLocalError",
     "evalue": "local variable 'c' referenced before assignment",
     "output_type": "error",
     "traceback": [
      "\u001b[1;31m---------------------------------------------------------------------------\u001b[0m",
      "\u001b[1;31mUnboundLocalError\u001b[0m                         Traceback (most recent call last)",
      "\u001b[1;32m~\\AppData\\Local\\Temp/ipykernel_3912/416596633.py\u001b[0m in \u001b[0;36m<module>\u001b[1;34m\u001b[0m\n\u001b[0;32m      3\u001b[0m     \u001b[0mc\u001b[0m\u001b[1;33m+=\u001b[0m\u001b[1;36m4\u001b[0m\u001b[1;33m\u001b[0m\u001b[1;33m\u001b[0m\u001b[0m\n\u001b[0;32m      4\u001b[0m     \u001b[1;32mreturn\u001b[0m \u001b[0mc\u001b[0m\u001b[1;33m\u001b[0m\u001b[1;33m\u001b[0m\u001b[0m\n\u001b[1;32m----> 5\u001b[1;33m \u001b[0meree\u001b[0m\u001b[1;33m(\u001b[0m\u001b[1;33m)\u001b[0m\u001b[1;33m\u001b[0m\u001b[1;33m\u001b[0m\u001b[0m\n\u001b[0m",
      "\u001b[1;32m~\\AppData\\Local\\Temp/ipykernel_3912/416596633.py\u001b[0m in \u001b[0;36meree\u001b[1;34m()\u001b[0m\n\u001b[0;32m      1\u001b[0m \u001b[0mc\u001b[0m\u001b[1;33m=\u001b[0m\u001b[1;36m2\u001b[0m\u001b[1;33m\u001b[0m\u001b[1;33m\u001b[0m\u001b[0m\n\u001b[0;32m      2\u001b[0m \u001b[1;32mdef\u001b[0m \u001b[0meree\u001b[0m\u001b[1;33m(\u001b[0m\u001b[1;33m)\u001b[0m\u001b[1;33m:\u001b[0m\u001b[1;33m\u001b[0m\u001b[1;33m\u001b[0m\u001b[0m\n\u001b[1;32m----> 3\u001b[1;33m     \u001b[0mc\u001b[0m\u001b[1;33m+=\u001b[0m\u001b[1;36m4\u001b[0m\u001b[1;33m\u001b[0m\u001b[1;33m\u001b[0m\u001b[0m\n\u001b[0m\u001b[0;32m      4\u001b[0m     \u001b[1;32mreturn\u001b[0m \u001b[0mc\u001b[0m\u001b[1;33m\u001b[0m\u001b[1;33m\u001b[0m\u001b[0m\n\u001b[0;32m      5\u001b[0m \u001b[0meree\u001b[0m\u001b[1;33m(\u001b[0m\u001b[1;33m)\u001b[0m\u001b[1;33m\u001b[0m\u001b[1;33m\u001b[0m\u001b[0m\n",
      "\u001b[1;31mUnboundLocalError\u001b[0m: local variable 'c' referenced before assignment"
     ]
    }
   ],
   "source": [
    "c=2\n",
    "def eree():\n",
    "    c+=4\n",
    "    return c\n",
    "eree()"
   ]
  },
  {
   "cell_type": "code",
   "execution_count": null,
   "id": "5f4ac367",
   "metadata": {},
   "outputs": [],
   "source": []
  }
 ],
 "metadata": {
  "kernelspec": {
   "display_name": "Python 3 (ipykernel)",
   "language": "python",
   "name": "python3"
  },
  "language_info": {
   "codemirror_mode": {
    "name": "ipython",
    "version": 3
   },
   "file_extension": ".py",
   "mimetype": "text/x-python",
   "name": "python",
   "nbconvert_exporter": "python",
   "pygments_lexer": "ipython3",
   "version": "3.9.6"
  }
 },
 "nbformat": 4,
 "nbformat_minor": 5
}
