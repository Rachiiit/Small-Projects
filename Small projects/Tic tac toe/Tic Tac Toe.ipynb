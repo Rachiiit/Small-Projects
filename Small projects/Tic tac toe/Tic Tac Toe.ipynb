{
 "cells": [
  {
   "cell_type": "code",
   "execution_count": 17,
   "id": "80f81b94",
   "metadata": {},
   "outputs": [],
   "source": [
    "import numpy as np\n",
    "import random\n",
    "from numpy import random\n",
    "import time"
   ]
  },
  {
   "cell_type": "code",
   "execution_count": 19,
   "id": "fa071cc7",
   "metadata": {},
   "outputs": [
    {
     "name": "stdout",
     "output_type": "stream",
     "text": [
      "\n",
      "Welcome to play Tic Tac Toe.\n",
      "    First player will play with X and second player will play with O.\n",
      "    In the box, there are alphabets from a to i, write a alphabet to replace your entery.\n",
      "    Player 1 and player 2 will be playing alternatively.\n",
      "[['a' 'b' 'c']\n",
      " ['d' 'e' 'f']\n",
      " ['g' 'h' 'i']]\n",
      "Please enter player 1 name: Roshitha\n",
      "Please enter player 2 name: Padmini\n",
      "\n",
      "Roshitha's turn, you are playing X, enter a alphabet from a to i or enter s to stop playing: a\n",
      "[['X' 'b' 'c']\n",
      " ['d' 'e' 'f']\n",
      " ['g' 'h' 'i']]\n",
      "\n",
      "Padmini' turn, you are playing O, enter a alphabet from a to i, enter s to stop playing: b\n",
      "[['X' 'O' 'c']\n",
      " ['d' 'e' 'f']\n",
      " ['g' 'h' 'i']]\n",
      "\n",
      "Roshitha's turn, you are playing X, enter a alphabet from a to i or enter s to stop playing: d\n",
      "[['X' 'O' 'c']\n",
      " ['X' 'e' 'f']\n",
      " ['g' 'h' 'i']]\n",
      "\n",
      "Padmini' turn, you are playing O, enter a alphabet from a to i, enter s to stop playing: e\n",
      "[['X' 'O' 'c']\n",
      " ['X' 'O' 'f']\n",
      " ['g' 'h' 'i']]\n",
      "\n",
      "Roshitha's turn, you are playing X, enter a alphabet from a to i or enter s to stop playing: f\n",
      "[['X' 'O' 'c']\n",
      " ['X' 'O' 'X']\n",
      " ['g' 'h' 'i']]\n",
      "\n",
      "Padmini' turn, you are playing O, enter a alphabet from a to i, enter s to stop playing: h\n",
      "[['X' 'O' 'c']\n",
      " ['X' 'O' 'X']\n",
      " ['g' 'O' 'i']]\n",
      "\n",
      "Congratulations, Padmini have won the match.\n",
      "\n",
      "Would you like to play again? Enter Y for Yes or anything for No: n\n",
      "\n",
      "Thank you for playing.\n"
     ]
    },
    {
     "ename": "KeyboardInterrupt",
     "evalue": "Interrupted by user",
     "output_type": "error",
     "traceback": [
      "\u001b[1;31m---------------------------------------------------------------------------\u001b[0m",
      "\u001b[1;31mKeyboardInterrupt\u001b[0m                         Traceback (most recent call last)",
      "\u001b[1;32m~\\AppData\\Local\\Temp/ipykernel_5372/203944165.py\u001b[0m in \u001b[0;36m<module>\u001b[1;34m\u001b[0m\n\u001b[0;32m    191\u001b[0m             \u001b[0mprint\u001b[0m\u001b[1;33m(\u001b[0m\u001b[1;34m'Please enter desire input only.'\u001b[0m\u001b[1;33m)\u001b[0m\u001b[1;33m\u001b[0m\u001b[1;33m\u001b[0m\u001b[0m\n\u001b[0;32m    192\u001b[0m \u001b[1;33m\u001b[0m\u001b[0m\n\u001b[1;32m--> 193\u001b[1;33m \u001b[0mTicTacToe\u001b[0m\u001b[1;33m(\u001b[0m\u001b[1;33m)\u001b[0m\u001b[1;33m\u001b[0m\u001b[1;33m\u001b[0m\u001b[0m\n\u001b[0m",
      "\u001b[1;32m~\\AppData\\Local\\Temp/ipykernel_5372/203944165.py\u001b[0m in \u001b[0;36mTicTacToe\u001b[1;34m()\u001b[0m\n\u001b[0;32m     13\u001b[0m     \u001b[0mplayer1\u001b[0m\u001b[1;33m=\u001b[0m\u001b[0minput\u001b[0m\u001b[1;33m(\u001b[0m\u001b[1;34m'Please enter player 1 name: '\u001b[0m\u001b[1;33m)\u001b[0m\u001b[1;33m\u001b[0m\u001b[1;33m\u001b[0m\u001b[0m\n\u001b[0;32m     14\u001b[0m     \u001b[0mplayer2\u001b[0m\u001b[1;33m=\u001b[0m\u001b[0minput\u001b[0m\u001b[1;33m(\u001b[0m\u001b[1;34m\"Please enter player 2 name: \"\u001b[0m\u001b[1;33m)\u001b[0m\u001b[1;33m\u001b[0m\u001b[1;33m\u001b[0m\u001b[0m\n\u001b[1;32m---> 15\u001b[1;33m     \u001b[0mplayer1move\u001b[0m\u001b[1;33m(\u001b[0m\u001b[1;33m)\u001b[0m\u001b[1;33m\u001b[0m\u001b[1;33m\u001b[0m\u001b[0m\n\u001b[0m\u001b[0;32m     16\u001b[0m \u001b[1;33m\u001b[0m\u001b[0m\n\u001b[0;32m     17\u001b[0m \u001b[1;33m\u001b[0m\u001b[0m\n",
      "\u001b[1;32m~\\AppData\\Local\\Temp/ipykernel_5372/203944165.py\u001b[0m in \u001b[0;36mplayer1move\u001b[1;34m()\u001b[0m\n\u001b[0;32m     73\u001b[0m             \u001b[0mtesting\u001b[0m\u001b[1;33m=\u001b[0m\u001b[0mcheckForWin\u001b[0m\u001b[1;33m(\u001b[0m\u001b[0mplayer1\u001b[0m\u001b[1;33m)\u001b[0m\u001b[1;33m\u001b[0m\u001b[1;33m\u001b[0m\u001b[0m\n\u001b[0;32m     74\u001b[0m             \u001b[1;32mif\u001b[0m \u001b[0mtesting\u001b[0m\u001b[1;33m!=\u001b[0m\u001b[1;32mTrue\u001b[0m\u001b[1;33m:\u001b[0m\u001b[1;33m\u001b[0m\u001b[1;33m\u001b[0m\u001b[0m\n\u001b[1;32m---> 75\u001b[1;33m                 \u001b[0mplayer2move\u001b[0m\u001b[1;33m(\u001b[0m\u001b[1;33m)\u001b[0m\u001b[1;33m\u001b[0m\u001b[1;33m\u001b[0m\u001b[0m\n\u001b[0m\u001b[0;32m     76\u001b[0m         \u001b[1;32melif\u001b[0m \u001b[0mg\u001b[0m\u001b[1;33m.\u001b[0m\u001b[0mlower\u001b[0m\u001b[1;33m(\u001b[0m\u001b[1;33m)\u001b[0m\u001b[1;33m==\u001b[0m\u001b[1;34m'b'\u001b[0m\u001b[1;33m:\u001b[0m\u001b[1;33m\u001b[0m\u001b[1;33m\u001b[0m\u001b[0m\n\u001b[0;32m     77\u001b[0m             \u001b[0mw\u001b[0m\u001b[1;33m[\u001b[0m\u001b[1;36m0\u001b[0m\u001b[1;33m]\u001b[0m\u001b[1;33m[\u001b[0m\u001b[1;36m1\u001b[0m\u001b[1;33m]\u001b[0m\u001b[1;33m=\u001b[0m\u001b[1;34m'X'\u001b[0m\u001b[1;33m\u001b[0m\u001b[1;33m\u001b[0m\u001b[0m\n",
      "\u001b[1;32m~\\AppData\\Local\\Temp/ipykernel_5372/203944165.py\u001b[0m in \u001b[0;36mplayer2move\u001b[1;34m()\u001b[0m\n\u001b[0;32m    143\u001b[0m             \u001b[0mtesting\u001b[0m\u001b[1;33m=\u001b[0m\u001b[0mcheckForWin\u001b[0m\u001b[1;33m(\u001b[0m\u001b[0mplayer2\u001b[0m\u001b[1;33m)\u001b[0m\u001b[1;33m\u001b[0m\u001b[1;33m\u001b[0m\u001b[0m\n\u001b[0;32m    144\u001b[0m             \u001b[1;32mif\u001b[0m \u001b[0mtesting\u001b[0m\u001b[1;33m!=\u001b[0m\u001b[1;32mTrue\u001b[0m\u001b[1;33m:\u001b[0m\u001b[1;33m\u001b[0m\u001b[1;33m\u001b[0m\u001b[0m\n\u001b[1;32m--> 145\u001b[1;33m                 \u001b[0mplayer1move\u001b[0m\u001b[1;33m(\u001b[0m\u001b[1;33m)\u001b[0m\u001b[1;33m\u001b[0m\u001b[1;33m\u001b[0m\u001b[0m\n\u001b[0m\u001b[0;32m    146\u001b[0m         \u001b[1;32melif\u001b[0m \u001b[0mg\u001b[0m\u001b[1;33m.\u001b[0m\u001b[0mlower\u001b[0m\u001b[1;33m(\u001b[0m\u001b[1;33m)\u001b[0m\u001b[1;33m==\u001b[0m\u001b[1;34m'c'\u001b[0m\u001b[1;33m:\u001b[0m\u001b[1;33m\u001b[0m\u001b[1;33m\u001b[0m\u001b[0m\n\u001b[0;32m    147\u001b[0m             \u001b[0mw\u001b[0m\u001b[1;33m[\u001b[0m\u001b[1;36m0\u001b[0m\u001b[1;33m]\u001b[0m\u001b[1;33m[\u001b[0m\u001b[1;36m2\u001b[0m\u001b[1;33m]\u001b[0m\u001b[1;33m=\u001b[0m\u001b[1;34m'O'\u001b[0m\u001b[1;33m\u001b[0m\u001b[1;33m\u001b[0m\u001b[0m\n",
      "\u001b[1;32m~\\AppData\\Local\\Temp/ipykernel_5372/203944165.py\u001b[0m in \u001b[0;36mplayer1move\u001b[1;34m()\u001b[0m\n\u001b[0;32m     91\u001b[0m             \u001b[0mtesting\u001b[0m\u001b[1;33m=\u001b[0m\u001b[0mcheckForWin\u001b[0m\u001b[1;33m(\u001b[0m\u001b[0mplayer1\u001b[0m\u001b[1;33m)\u001b[0m\u001b[1;33m\u001b[0m\u001b[1;33m\u001b[0m\u001b[0m\n\u001b[0;32m     92\u001b[0m             \u001b[1;32mif\u001b[0m \u001b[0mtesting\u001b[0m\u001b[1;33m!=\u001b[0m\u001b[1;32mTrue\u001b[0m\u001b[1;33m:\u001b[0m\u001b[1;33m\u001b[0m\u001b[1;33m\u001b[0m\u001b[0m\n\u001b[1;32m---> 93\u001b[1;33m                 \u001b[0mplayer2move\u001b[0m\u001b[1;33m(\u001b[0m\u001b[1;33m)\u001b[0m\u001b[1;33m\u001b[0m\u001b[1;33m\u001b[0m\u001b[0m\n\u001b[0m\u001b[0;32m     94\u001b[0m         \u001b[1;32melif\u001b[0m \u001b[0mg\u001b[0m\u001b[1;33m.\u001b[0m\u001b[0mlower\u001b[0m\u001b[1;33m(\u001b[0m\u001b[1;33m)\u001b[0m\u001b[1;33m==\u001b[0m\u001b[1;34m'e'\u001b[0m\u001b[1;33m:\u001b[0m\u001b[1;33m\u001b[0m\u001b[1;33m\u001b[0m\u001b[0m\n\u001b[0;32m     95\u001b[0m             \u001b[0mw\u001b[0m\u001b[1;33m[\u001b[0m\u001b[1;36m1\u001b[0m\u001b[1;33m]\u001b[0m\u001b[1;33m[\u001b[0m\u001b[1;36m1\u001b[0m\u001b[1;33m]\u001b[0m\u001b[1;33m=\u001b[0m\u001b[1;34m'X'\u001b[0m\u001b[1;33m\u001b[0m\u001b[1;33m\u001b[0m\u001b[0m\n",
      "\u001b[1;32m~\\AppData\\Local\\Temp/ipykernel_5372/203944165.py\u001b[0m in \u001b[0;36mplayer2move\u001b[1;34m()\u001b[0m\n\u001b[0;32m    161\u001b[0m             \u001b[0mtesting\u001b[0m\u001b[1;33m=\u001b[0m\u001b[0mcheckForWin\u001b[0m\u001b[1;33m(\u001b[0m\u001b[0mplayer2\u001b[0m\u001b[1;33m)\u001b[0m\u001b[1;33m\u001b[0m\u001b[1;33m\u001b[0m\u001b[0m\n\u001b[0;32m    162\u001b[0m             \u001b[1;32mif\u001b[0m \u001b[0mtesting\u001b[0m\u001b[1;33m!=\u001b[0m\u001b[1;32mTrue\u001b[0m\u001b[1;33m:\u001b[0m\u001b[1;33m\u001b[0m\u001b[1;33m\u001b[0m\u001b[0m\n\u001b[1;32m--> 163\u001b[1;33m                 \u001b[0mplayer1move\u001b[0m\u001b[1;33m(\u001b[0m\u001b[1;33m)\u001b[0m\u001b[1;33m\u001b[0m\u001b[1;33m\u001b[0m\u001b[0m\n\u001b[0m\u001b[0;32m    164\u001b[0m         \u001b[1;32melif\u001b[0m \u001b[0mg\u001b[0m\u001b[1;33m.\u001b[0m\u001b[0mlower\u001b[0m\u001b[1;33m(\u001b[0m\u001b[1;33m)\u001b[0m\u001b[1;33m==\u001b[0m\u001b[1;34m'f'\u001b[0m\u001b[1;33m:\u001b[0m\u001b[1;33m\u001b[0m\u001b[1;33m\u001b[0m\u001b[0m\n\u001b[0;32m    165\u001b[0m             \u001b[0mw\u001b[0m\u001b[1;33m[\u001b[0m\u001b[1;36m1\u001b[0m\u001b[1;33m]\u001b[0m\u001b[1;33m[\u001b[0m\u001b[1;36m2\u001b[0m\u001b[1;33m]\u001b[0m\u001b[1;33m=\u001b[0m\u001b[1;34m'O'\u001b[0m\u001b[1;33m\u001b[0m\u001b[1;33m\u001b[0m\u001b[0m\n",
      "\u001b[1;32m~\\AppData\\Local\\Temp/ipykernel_5372/203944165.py\u001b[0m in \u001b[0;36mplayer1move\u001b[1;34m()\u001b[0m\n\u001b[0;32m    103\u001b[0m             \u001b[0mtesting\u001b[0m\u001b[1;33m=\u001b[0m\u001b[0mcheckForWin\u001b[0m\u001b[1;33m(\u001b[0m\u001b[0mplayer1\u001b[0m\u001b[1;33m)\u001b[0m\u001b[1;33m\u001b[0m\u001b[1;33m\u001b[0m\u001b[0m\n\u001b[0;32m    104\u001b[0m             \u001b[1;32mif\u001b[0m \u001b[0mtesting\u001b[0m\u001b[1;33m!=\u001b[0m\u001b[1;32mTrue\u001b[0m\u001b[1;33m:\u001b[0m\u001b[1;33m\u001b[0m\u001b[1;33m\u001b[0m\u001b[0m\n\u001b[1;32m--> 105\u001b[1;33m                 \u001b[0mplayer2move\u001b[0m\u001b[1;33m(\u001b[0m\u001b[1;33m)\u001b[0m\u001b[1;33m\u001b[0m\u001b[1;33m\u001b[0m\u001b[0m\n\u001b[0m\u001b[0;32m    106\u001b[0m         \u001b[1;32melif\u001b[0m \u001b[0mg\u001b[0m\u001b[1;33m.\u001b[0m\u001b[0mlower\u001b[0m\u001b[1;33m(\u001b[0m\u001b[1;33m)\u001b[0m\u001b[1;33m==\u001b[0m\u001b[1;34m'g'\u001b[0m\u001b[1;33m:\u001b[0m\u001b[1;33m\u001b[0m\u001b[1;33m\u001b[0m\u001b[0m\n\u001b[0;32m    107\u001b[0m             \u001b[0mw\u001b[0m\u001b[1;33m[\u001b[0m\u001b[1;36m2\u001b[0m\u001b[1;33m]\u001b[0m\u001b[1;33m[\u001b[0m\u001b[1;36m0\u001b[0m\u001b[1;33m]\u001b[0m\u001b[1;33m=\u001b[0m\u001b[1;34m'X'\u001b[0m\u001b[1;33m\u001b[0m\u001b[1;33m\u001b[0m\u001b[0m\n",
      "\u001b[1;32m~\\AppData\\Local\\Temp/ipykernel_5372/203944165.py\u001b[0m in \u001b[0;36mplayer2move\u001b[1;34m()\u001b[0m\n\u001b[0;32m    179\u001b[0m             \u001b[0mtesting\u001b[0m\u001b[1;33m=\u001b[0m\u001b[0mcheckForWin\u001b[0m\u001b[1;33m(\u001b[0m\u001b[0mplayer2\u001b[0m\u001b[1;33m)\u001b[0m\u001b[1;33m\u001b[0m\u001b[1;33m\u001b[0m\u001b[0m\n\u001b[0;32m    180\u001b[0m             \u001b[1;32mif\u001b[0m \u001b[0mtesting\u001b[0m\u001b[1;33m!=\u001b[0m\u001b[1;32mTrue\u001b[0m\u001b[1;33m:\u001b[0m\u001b[1;33m\u001b[0m\u001b[1;33m\u001b[0m\u001b[0m\n\u001b[1;32m--> 181\u001b[1;33m                 \u001b[0mplayer1move\u001b[0m\u001b[1;33m(\u001b[0m\u001b[1;33m)\u001b[0m\u001b[1;33m\u001b[0m\u001b[1;33m\u001b[0m\u001b[0m\n\u001b[0m\u001b[0;32m    182\u001b[0m         \u001b[1;32melif\u001b[0m \u001b[0mg\u001b[0m\u001b[1;33m.\u001b[0m\u001b[0mlower\u001b[0m\u001b[1;33m(\u001b[0m\u001b[1;33m)\u001b[0m\u001b[1;33m==\u001b[0m\u001b[1;34m'i'\u001b[0m\u001b[1;33m:\u001b[0m\u001b[1;33m\u001b[0m\u001b[1;33m\u001b[0m\u001b[0m\n\u001b[0;32m    183\u001b[0m             \u001b[0mw\u001b[0m\u001b[1;33m[\u001b[0m\u001b[1;36m2\u001b[0m\u001b[1;33m]\u001b[0m\u001b[1;33m[\u001b[0m\u001b[1;36m2\u001b[0m\u001b[1;33m]\u001b[0m\u001b[1;33m=\u001b[0m\u001b[1;34m'O'\u001b[0m\u001b[1;33m\u001b[0m\u001b[1;33m\u001b[0m\u001b[0m\n",
      "\u001b[1;32m~\\AppData\\Local\\Temp/ipykernel_5372/203944165.py\u001b[0m in \u001b[0;36mplayer1move\u001b[1;34m()\u001b[0m\n\u001b[0;32m     67\u001b[0m     \u001b[0mtime\u001b[0m\u001b[1;33m.\u001b[0m\u001b[0msleep\u001b[0m\u001b[1;33m(\u001b[0m\u001b[1;36m1\u001b[0m\u001b[1;33m)\u001b[0m\u001b[1;33m\u001b[0m\u001b[1;33m\u001b[0m\u001b[0m\n\u001b[0;32m     68\u001b[0m     \u001b[1;32mwhile\u001b[0m \u001b[1;36m53\u001b[0m\u001b[1;33m:\u001b[0m\u001b[1;33m\u001b[0m\u001b[1;33m\u001b[0m\u001b[0m\n\u001b[1;32m---> 69\u001b[1;33m         \u001b[0mg\u001b[0m\u001b[1;33m=\u001b[0m\u001b[0minput\u001b[0m\u001b[1;33m(\u001b[0m\u001b[1;34m'\\n{}\\'s turn, you are playing X, enter a alphabet from a to i or enter s to stop playing: '\u001b[0m\u001b[1;33m.\u001b[0m\u001b[0mformat\u001b[0m\u001b[1;33m(\u001b[0m\u001b[0mplayer1\u001b[0m\u001b[1;33m)\u001b[0m\u001b[1;33m)\u001b[0m\u001b[1;33m\u001b[0m\u001b[1;33m\u001b[0m\u001b[0m\n\u001b[0m\u001b[0;32m     70\u001b[0m         \u001b[1;32mif\u001b[0m \u001b[0mg\u001b[0m\u001b[1;33m.\u001b[0m\u001b[0mlower\u001b[0m\u001b[1;33m(\u001b[0m\u001b[1;33m)\u001b[0m\u001b[1;33m==\u001b[0m\u001b[1;34m'a'\u001b[0m\u001b[1;33m:\u001b[0m\u001b[1;33m\u001b[0m\u001b[1;33m\u001b[0m\u001b[0m\n\u001b[0;32m     71\u001b[0m             \u001b[0mw\u001b[0m\u001b[1;33m[\u001b[0m\u001b[1;36m0\u001b[0m\u001b[1;33m]\u001b[0m\u001b[1;33m[\u001b[0m\u001b[1;36m0\u001b[0m\u001b[1;33m]\u001b[0m\u001b[1;33m=\u001b[0m\u001b[1;34m'X'\u001b[0m\u001b[1;33m\u001b[0m\u001b[1;33m\u001b[0m\u001b[0m\n",
      "\u001b[1;32mc:\\users\\rchtp\\appdata\\local\\programs\\python\\python39\\lib\\site-packages\\ipykernel\\kernelbase.py\u001b[0m in \u001b[0;36mraw_input\u001b[1;34m(self, prompt)\u001b[0m\n\u001b[0;32m   1004\u001b[0m                 \u001b[1;34m\"raw_input was called, but this frontend does not support input requests.\"\u001b[0m\u001b[1;33m\u001b[0m\u001b[1;33m\u001b[0m\u001b[0m\n\u001b[0;32m   1005\u001b[0m             )\n\u001b[1;32m-> 1006\u001b[1;33m         return self._input_request(\n\u001b[0m\u001b[0;32m   1007\u001b[0m             \u001b[0mstr\u001b[0m\u001b[1;33m(\u001b[0m\u001b[0mprompt\u001b[0m\u001b[1;33m)\u001b[0m\u001b[1;33m,\u001b[0m\u001b[1;33m\u001b[0m\u001b[1;33m\u001b[0m\u001b[0m\n\u001b[0;32m   1008\u001b[0m             \u001b[0mself\u001b[0m\u001b[1;33m.\u001b[0m\u001b[0m_parent_ident\u001b[0m\u001b[1;33m[\u001b[0m\u001b[1;34m\"shell\"\u001b[0m\u001b[1;33m]\u001b[0m\u001b[1;33m,\u001b[0m\u001b[1;33m\u001b[0m\u001b[1;33m\u001b[0m\u001b[0m\n",
      "\u001b[1;32mc:\\users\\rchtp\\appdata\\local\\programs\\python\\python39\\lib\\site-packages\\ipykernel\\kernelbase.py\u001b[0m in \u001b[0;36m_input_request\u001b[1;34m(self, prompt, ident, parent, password)\u001b[0m\n\u001b[0;32m   1049\u001b[0m             \u001b[1;32mexcept\u001b[0m \u001b[0mKeyboardInterrupt\u001b[0m\u001b[1;33m:\u001b[0m\u001b[1;33m\u001b[0m\u001b[1;33m\u001b[0m\u001b[0m\n\u001b[0;32m   1050\u001b[0m                 \u001b[1;31m# re-raise KeyboardInterrupt, to truncate traceback\u001b[0m\u001b[1;33m\u001b[0m\u001b[1;33m\u001b[0m\u001b[1;33m\u001b[0m\u001b[0m\n\u001b[1;32m-> 1051\u001b[1;33m                 \u001b[1;32mraise\u001b[0m \u001b[0mKeyboardInterrupt\u001b[0m\u001b[1;33m(\u001b[0m\u001b[1;34m\"Interrupted by user\"\u001b[0m\u001b[1;33m)\u001b[0m \u001b[1;32mfrom\u001b[0m \u001b[1;32mNone\u001b[0m\u001b[1;33m\u001b[0m\u001b[1;33m\u001b[0m\u001b[0m\n\u001b[0m\u001b[0;32m   1052\u001b[0m             \u001b[1;32mexcept\u001b[0m \u001b[0mException\u001b[0m\u001b[1;33m:\u001b[0m\u001b[1;33m\u001b[0m\u001b[1;33m\u001b[0m\u001b[0m\n\u001b[0;32m   1053\u001b[0m                 \u001b[0mself\u001b[0m\u001b[1;33m.\u001b[0m\u001b[0mlog\u001b[0m\u001b[1;33m.\u001b[0m\u001b[0mwarning\u001b[0m\u001b[1;33m(\u001b[0m\u001b[1;34m\"Invalid Message:\"\u001b[0m\u001b[1;33m,\u001b[0m \u001b[0mexc_info\u001b[0m\u001b[1;33m=\u001b[0m\u001b[1;32mTrue\u001b[0m\u001b[1;33m)\u001b[0m\u001b[1;33m\u001b[0m\u001b[1;33m\u001b[0m\u001b[0m\n",
      "\u001b[1;31mKeyboardInterrupt\u001b[0m: Interrupted by user"
     ]
    }
   ],
   "source": [
    "def board():\n",
    "    e=np.array(['a','b','c','d','e','f','g','h','i'])\n",
    "    global w\n",
    "    w=e.reshape(3,3)\n",
    "    print(w)\n",
    "def TicTacToe():\n",
    "    print('''\\nWelcome to play Tic Tac Toe.\n",
    "    First player will play with X and second player will play with O.\n",
    "    In the box, there are alphabets from a to i, write a alphabet to replace your entery.\n",
    "    Player 1 and player 2 will be playing alternatively.''')\n",
    "    board()\n",
    "    global player1,player2\n",
    "    player1=input('Please enter player 1 name: ')\n",
    "    player2=input(\"Please enter player 2 name: \")\n",
    "    player1move()\n",
    "    \n",
    "    \n",
    "def checkForWin(winner):\n",
    "    firstRow=w[0][0]==w[0][1]==w[0][2]\n",
    "    secondRow=w[1][0]==w[1][1]==w[1][2]\n",
    "    thirdRow=w[2][0]==w[2][1]==w[2][2]\n",
    "    firstColumn=w[0][0]==w[1][0]==w[2][0]\n",
    "    secondColumn=w[0][1]==w[1][1]==w[2][1]\n",
    "    thirdColumn=w[0][2]==w[1][2]==w[2][2]\n",
    "    lrDiagonal=w[0][0]==w[1][1]==w[2][2]\n",
    "    rlDiagonal=w[0][2]==w[1][1]==w[2][0]\n",
    "    global winningCondition,drawCondition\n",
    "    winningCondition=firstRow or secondRow or thirdRow or firstColumn or secondColumn or thirdColumn or lrDiagonal or rlDiagonal\n",
    "    drawCondition=w[0][0]!='a' and w[0][1]!='b' and w[0][2]!='c' and w[1][0]!='d' and w[1][1]!='e' and w[1][2]!='f' and w[2][0]!='g' and w[2][1]!='h' and w[2][2]!='i'\n",
    "    while 54:\n",
    "        if winningCondition:\n",
    "            print(\"\\nCongratulations, {} have won the match.\".format(winner))\n",
    "            replay=input('\\nWould you like to play again? Enter Y for Yes or anything for No: ')\n",
    "            if replay.lower()=='y':\n",
    "                TicTacToe()\n",
    "            else:\n",
    "                print('\\nThank you for playing.')\n",
    "                break\n",
    "        elif drawCondition:\n",
    "            print('\\nMatch is drawn.')\n",
    "            replay=input('\\nWould you like to play again? Enter Y for Yes or anything for No: ')\n",
    "            if replay.lower()=='y':\n",
    "                TicTacToe()\n",
    "            else:\n",
    "                print('\\nThank you for playing.')     \n",
    "                break\n",
    "        else:\n",
    "            break\n",
    "\n",
    "            \n",
    "def thanks():\n",
    "    return 'Thank you for playing.'\n",
    "\n",
    "\n",
    "def overwriteprevention(check):\n",
    "    s=(w.reshape(1,9))\n",
    "    x=s.tolist()\n",
    "    q=x[0]\n",
    "    for x in q:\n",
    "        if x==check:\n",
    "            break\n",
    "        else:\n",
    "            print(\"Place is occupied, please retry.\")\n",
    "            \n",
    "            \n",
    "def player1move():\n",
    "    time.sleep(1)\n",
    "    while 53:\n",
    "        g=input('\\n{}\\'s turn, you are playing X, enter a alphabet from a to i or enter s to stop playing: '.format(player1))\n",
    "        if g.lower()=='a':\n",
    "            w[0][0]='X'\n",
    "            print(w)\n",
    "            testing=checkForWin(player1)\n",
    "            if testing!=True:\n",
    "                player2move()\n",
    "        elif g.lower()=='b':\n",
    "            w[0][1]='X'\n",
    "            print(w)\n",
    "            testing=checkForWin(player1)\n",
    "            if testing!=True:\n",
    "                player2move()\n",
    "        elif g.lower()=='c':\n",
    "            w[0][2]='X'\n",
    "            print(w)\n",
    "            testing=checkForWin(player1)\n",
    "            if testing!=True:\n",
    "                player2move()\n",
    "        elif g.lower()=='d':\n",
    "            w[1][0]='X'\n",
    "            print(w)\n",
    "            testing=checkForWin(player1)\n",
    "            if testing!=True:\n",
    "                player2move()\n",
    "        elif g.lower()=='e':\n",
    "            w[1][1]='X'\n",
    "            print(w)\n",
    "            testing=checkForWin(player1)\n",
    "            if testing!=True:\n",
    "                player2move()\n",
    "        elif g.lower()=='f':\n",
    "            w[1][2]='X'\n",
    "            print(w)\n",
    "            testing=checkForWin(player1)\n",
    "            if testing!=True:\n",
    "                player2move()\n",
    "        elif g.lower()=='g':\n",
    "            w[2][0]='X'\n",
    "            print(w)\n",
    "            testing=checkForWin(player1)\n",
    "            if testing!=True:\n",
    "                player2move()\n",
    "        elif g.lower()=='h':\n",
    "            w[2][1]='X'\n",
    "            print(w)\n",
    "            testing=checkForWin(player1)\n",
    "            if testing!=True:\n",
    "                player2move()\n",
    "        elif g.lower()=='i':\n",
    "            w[2][2]='X'\n",
    "            print(w)\n",
    "            testing=checkForWin(player1)\n",
    "            if testing!=True:\n",
    "                player2move()\n",
    "        elif g.lower()=='s':\n",
    "            thanks()\n",
    "        else:\n",
    "            print('Please enter desire input only.')\n",
    "\n",
    "            \n",
    "def player2move():\n",
    "    time.sleep(1)\n",
    "    while 53:\n",
    "        g=input('\\n{}\\' turn, you are playing O, enter a alphabet from a to i, enter s to stop playing: '.format(player2))\n",
    "        if g.lower()=='a':\n",
    "            w[0][0]='O'\n",
    "            print(w)\n",
    "            testing=checkForWin(player2)\n",
    "            if testing!=True:\n",
    "                player1move()\n",
    "        elif g.lower()=='b':\n",
    "            w[0][1]='O'\n",
    "            print(w)\n",
    "            testing=checkForWin(player2)\n",
    "            if testing!=True:\n",
    "                player1move()\n",
    "        elif g.lower()=='c':\n",
    "            w[0][2]='O'\n",
    "            print(w)\n",
    "            testing=checkForWin(player2)\n",
    "            if testing!=True:\n",
    "                player1move()\n",
    "        elif g.lower()=='d':\n",
    "            w[1][0]='O'\n",
    "            print(w)\n",
    "            testing=checkForWin(player2)\n",
    "            if testing!=True:\n",
    "                player1move()\n",
    "        elif g.lower()=='e':\n",
    "            w[1][1]='O'\n",
    "            print(w)\n",
    "            testing=checkForWin(player2)\n",
    "            if testing!=True:\n",
    "                player1move()\n",
    "        elif g.lower()=='f':\n",
    "            w[1][2]='O'\n",
    "            print(w)\n",
    "            testing=checkForWin(player2)\n",
    "            if testing!=True:\n",
    "                player1move()\n",
    "        elif g.lower()=='g':\n",
    "            w[2][0]='O'\n",
    "            print(w)\n",
    "            testing=checkForWin(player2)\n",
    "            if testing!=True:\n",
    "                player1move()\n",
    "        elif g.lower()=='h':\n",
    "            w[2][1]='O'\n",
    "            print(w)\n",
    "            testing=checkForWin(player2)\n",
    "            if testing!=True:\n",
    "                player1move()\n",
    "        elif g.lower()=='i':\n",
    "            w[2][2]='O'\n",
    "            print(w)\n",
    "            testing=checkForWin(player2)\n",
    "            if testing!=True:\n",
    "                player1move()\n",
    "        elif g.lower()=='s':\n",
    "            thanks()\n",
    "        else:\n",
    "            print('Please enter desire input only.')\n",
    "            \n",
    "TicTacToe()            "
   ]
  },
  {
   "cell_type": "code",
   "execution_count": null,
   "id": "f6b88f50",
   "metadata": {},
   "outputs": [],
   "source": [
    "np.random([5,2])"
   ]
  },
  {
   "cell_type": "code",
   "execution_count": null,
   "id": "0960b533",
   "metadata": {},
   "outputs": [],
   "source": [
    "random.rand()"
   ]
  },
  {
   "cell_type": "code",
   "execution_count": 11,
   "id": "a0cb1ec4",
   "metadata": {},
   "outputs": [
    {
     "data": {
      "text/plain": [
       "array([['X', 'O', 'c'],\n",
       "       ['X', 'O', 'f'],\n",
       "       ['X', 'h', 'i']], dtype='<U1')"
      ]
     },
     "execution_count": 11,
     "metadata": {},
     "output_type": "execute_result"
    }
   ],
   "source": [
    "w"
   ]
  },
  {
   "cell_type": "code",
   "execution_count": 20,
   "id": "41a63495",
   "metadata": {},
   "outputs": [
    {
     "data": {
      "text/plain": [
       "False"
      ]
     },
     "execution_count": 20,
     "metadata": {},
     "output_type": "execute_result"
    }
   ],
   "source": [
    "(winningCondition or drawCondition)!=True"
   ]
  },
  {
   "cell_type": "code",
   "execution_count": 21,
   "id": "fc3dd208",
   "metadata": {},
   "outputs": [
    {
     "data": {
      "text/plain": [
       "True"
      ]
     },
     "execution_count": 21,
     "metadata": {},
     "output_type": "execute_result"
    }
   ],
   "source": [
    "winningCondition"
   ]
  },
  {
   "cell_type": "code",
   "execution_count": 22,
   "id": "5b5ec02b",
   "metadata": {},
   "outputs": [
    {
     "data": {
      "text/plain": [
       "False"
      ]
     },
     "execution_count": 22,
     "metadata": {},
     "output_type": "execute_result"
    }
   ],
   "source": [
    "drawCondition"
   ]
  },
  {
   "cell_type": "code",
   "execution_count": 23,
   "id": "431ba468",
   "metadata": {},
   "outputs": [
    {
     "data": {
      "text/plain": [
       "array([['X', 'O', 'c'],\n",
       "       ['X', 'O', 'X'],\n",
       "       ['g', 'O', 'i']], dtype='<U1')"
      ]
     },
     "execution_count": 23,
     "metadata": {},
     "output_type": "execute_result"
    }
   ],
   "source": [
    "w\n"
   ]
  },
  {
   "cell_type": "code",
   "execution_count": null,
   "id": "22d9124d",
   "metadata": {},
   "outputs": [],
   "source": [
    "random.randint(1,5)"
   ]
  },
  {
   "cell_type": "code",
   "execution_count": null,
   "id": "970267c7",
   "metadata": {},
   "outputs": [],
   "source": [
    "d=np.array([1,2,3])"
   ]
  },
  {
   "cell_type": "code",
   "execution_count": null,
   "id": "4bd45baf",
   "metadata": {},
   "outputs": [],
   "source": [
    "rossy=list(d)\n",
    "rossy"
   ]
  },
  {
   "cell_type": "code",
   "execution_count": 7,
   "id": "cbaaab08",
   "metadata": {},
   "outputs": [
    {
     "name": "stdout",
     "output_type": "stream",
     "text": [
      "ewweg2 sffe\n"
     ]
    }
   ],
   "source": [
    "d=2\n",
    "print('ewweg{} sffe'.format(d))"
   ]
  },
  {
   "cell_type": "code",
   "execution_count": null,
   "id": "4fcee397",
   "metadata": {},
   "outputs": [],
   "source": [
    "import pygame"
   ]
  },
  {
   "cell_type": "code",
   "execution_count": null,
   "id": "ee170d76",
   "metadata": {},
   "outputs": [],
   "source": [
    "import pygame as pg,sys\n",
    "from pygame.locals import *\n",
    "import time\n",
    "#initialize global variables\n",
    "XO = 'x'\n",
    "winner = None\n",
    "draw = False\n",
    "width = 400\n",
    "height = 400\n",
    "white = (255, 255, 255)\n",
    "line_color = (10,10,10)\n",
    "#TicTacToe 3x3 board\n",
    "TTT = [[None]*3,[None]*3,[None]*3]\n"
   ]
  },
  {
   "cell_type": "code",
   "execution_count": null,
   "id": "437d27dd",
   "metadata": {},
   "outputs": [],
   "source": [
    "i,j,cb=(2,6,8)"
   ]
  },
  {
   "cell_type": "code",
   "execution_count": null,
   "id": "2ef2921e",
   "metadata": {},
   "outputs": [],
   "source": [
    "i"
   ]
  },
  {
   "cell_type": "code",
   "execution_count": null,
   "id": "7105e475",
   "metadata": {},
   "outputs": [],
   "source": [
    "cb"
   ]
  },
  {
   "cell_type": "code",
   "execution_count": null,
   "id": "0951ed7e",
   "metadata": {},
   "outputs": [],
   "source": [
    "import numpy as np\n",
    "\n",
    "def create_board():\n",
    "    return (np.array([[0, 0, 0],\n",
    "                      [0, 0, 0],\n",
    "                      [0, 0, 0]]))\n",
    "\n",
    "\n",
    "def coordinates(board, player):\n",
    "    i, j, cn = (-1, -1, 0)\n",
    "    while (i > 3 or i < 0 or j < 0 or j > 3) or (board[i][j] != 0):\n",
    "        if cn > 0:\n",
    "            print(\"Wrong Input! Try Again\")\n",
    "        print(\"Player {}'s turn\".format(player))\n",
    "        i = int(input(\"x-coordinates: \"))\n",
    "        j = int(input(\"y-coordinates: \"))\n",
    "        i = i - 1\n",
    "        j = j - 1\n",
    "        cn = cn + 1\n",
    "    board[i][j] = player\n",
    "    return board\n",
    "\n",
    "\n",
    "def row_win(board, player):\n",
    "    for x in range(len(board)):\n",
    "        win = True\n",
    "\n",
    "        for y in range(len(board)):\n",
    "            if board[x, y] != player:\n",
    "                win = False\n",
    "                continue\n",
    "    return win\n",
    "\n",
    "\n",
    "def col_win(board, player):\n",
    "    for x in range(len(board)):\n",
    "        win = True\n",
    "\n",
    "        for y in range(len(board)):\n",
    "            if board[y][x] != player:\n",
    "                win = False\n",
    "                continue\n",
    "\n",
    "    return win\n",
    "\n",
    "\n",
    "def diag_win(board, player):\n",
    "    win = True\n",
    "    y = 0\n",
    "    for x in range(len(board)):\n",
    "        if board[x][x] != player:\n",
    "            win = False\n",
    "    if win:\n",
    "        return win\n",
    "    win = True\n",
    "    if win:\n",
    "        for x in range(len(board)):\n",
    "            y = len(board) - 1 - x\n",
    "            if board[x][y] != player:\n",
    "                win = False\n",
    "    return win\n",
    "\n",
    "\n",
    "def evaluate(board):\n",
    "    winner = 0\n",
    "\n",
    "    for player in [1, 2]:\n",
    "        if (row_win(board, player) or\n",
    "                col_win(board, player) or\n",
    "                diag_win(board, player)):\n",
    "            winner = player\n",
    "\n",
    "    if np.all(board != 0) and winner == 0:\n",
    "        winner = -1\n",
    "    return winner\n",
    "\n",
    "\n",
    "def play_game():\n",
    "    board, winner, counter = create_board(), 0, 1\n",
    "    print(board)\n",
    "    while winner == 0:\n",
    "        for player in [1, 2]:\n",
    "            board = coordinates(board, player)\n",
    "            print(\"Board after \" + str(counter) + \" move\")\n",
    "            print(board)\n",
    "            counter += 1\n",
    "            winner = evaluate(board)\n",
    "            if winner != 0:\n",
    "                break\n",
    "    return winner\n",
    "\n",
    "print(\"Winner is: \" + str(play_game()))"
   ]
  },
  {
   "cell_type": "code",
   "execution_count": null,
   "id": "34f64900",
   "metadata": {},
   "outputs": [],
   "source": [
    "f=np.array([' ',' ',' ',\n",
    "           ' ',' ',' ',\n",
    "           ' ',' ',' '])"
   ]
  },
  {
   "cell_type": "code",
   "execution_count": null,
   "id": "75df5521",
   "metadata": {},
   "outputs": [],
   "source": [
    "f"
   ]
  },
  {
   "cell_type": "code",
   "execution_count": null,
   "id": "489e85ea",
   "metadata": {},
   "outputs": [],
   "source": [
    "f.shape"
   ]
  },
  {
   "cell_type": "code",
   "execution_count": null,
   "id": "07baae57",
   "metadata": {},
   "outputs": [],
   "source": [
    "f1=f.reshape(3,3)\n",
    "f1"
   ]
  },
  {
   "cell_type": "code",
   "execution_count": null,
   "id": "1f0a1d03",
   "metadata": {},
   "outputs": [],
   "source": [
    "n=np.array([1,2,3,4,5,6,7,8,9])"
   ]
  },
  {
   "cell_type": "code",
   "execution_count": null,
   "id": "0aab9bd3",
   "metadata": {},
   "outputs": [],
   "source": [
    "n1=n.reshape(3,3)\n",
    "n1"
   ]
  },
  {
   "cell_type": "code",
   "execution_count": null,
   "id": "8bf74b20",
   "metadata": {},
   "outputs": [],
   "source": [
    "n1[1][2]=4"
   ]
  },
  {
   "cell_type": "code",
   "execution_count": null,
   "id": "d3be4d0d",
   "metadata": {},
   "outputs": [],
   "source": [
    "f"
   ]
  },
  {
   "cell_type": "code",
   "execution_count": null,
   "id": "3fd50d61",
   "metadata": {},
   "outputs": [],
   "source": [
    "n1"
   ]
  },
  {
   "cell_type": "code",
   "execution_count": null,
   "id": "967b4421",
   "metadata": {},
   "outputs": [],
   "source": [
    "def x_turn():\n",
    "    while 354:\n",
    "        x=int(input('Enter no. of row between 0 and 2: '))\n",
    "        y=int(input('Enter no. of column between 0 and 2: '))\n",
    "        f1[x][y]='X'\n",
    "        print(f1)\n",
    "        y_turn()"
   ]
  },
  {
   "cell_type": "code",
   "execution_count": null,
   "id": "995b974e",
   "metadata": {},
   "outputs": [],
   "source": [
    "def y_turn():\n",
    "    while 354:\n",
    "        x=int(input('Enter no. of row between 0 and 2: '))\n",
    "        y=int(input('Enter no. of column between 0 and 2: '))\n",
    "        f1[x][y]='O'\n",
    "        print(f1)\n",
    "        x_turn()"
   ]
  },
  {
   "cell_type": "code",
   "execution_count": null,
   "id": "c37940f8",
   "metadata": {},
   "outputs": [],
   "source": [
    "f1"
   ]
  },
  {
   "cell_type": "code",
   "execution_count": null,
   "id": "f0b44c9d",
   "metadata": {},
   "outputs": [],
   "source": [
    "x_turn()"
   ]
  },
  {
   "cell_type": "code",
   "execution_count": null,
   "id": "9187bd00",
   "metadata": {},
   "outputs": [],
   "source": [
    "for i in range(0,3):\n",
    "    for j in range(0,3):\n",
    "        if f1[i][j]!=' ':\n",
    "            print(i,j,'yes')"
   ]
  },
  {
   "cell_type": "code",
   "execution_count": null,
   "id": "105b2bef",
   "metadata": {},
   "outputs": [],
   "source": [
    "len(f1)-1"
   ]
  },
  {
   "cell_type": "code",
   "execution_count": null,
   "id": "56c9c17b",
   "metadata": {},
   "outputs": [],
   "source": [
    "f1"
   ]
  },
  {
   "cell_type": "code",
   "execution_count": null,
   "id": "760f2a75",
   "metadata": {},
   "outputs": [],
   "source": [
    "e=np.array([' ','|',' ','|',' ','_','_','_','_','_',' ','|',' ','|',' ','_','_','_','_','_',' ','|',' ','|',' '])"
   ]
  },
  {
   "cell_type": "code",
   "execution_count": null,
   "id": "ad5658b7",
   "metadata": {},
   "outputs": [],
   "source": [
    "e"
   ]
  },
  {
   "cell_type": "code",
   "execution_count": null,
   "id": "df32bf98",
   "metadata": {},
   "outputs": [],
   "source": [
    "e.shape"
   ]
  },
  {
   "cell_type": "code",
   "execution_count": null,
   "id": "129c76eb",
   "metadata": {},
   "outputs": [],
   "source": [
    "e.reshape(5,5)"
   ]
  },
  {
   "cell_type": "code",
   "execution_count": null,
   "id": "ebf46afe",
   "metadata": {},
   "outputs": [],
   "source": [
    "f1"
   ]
  },
  {
   "cell_type": "code",
   "execution_count": null,
   "id": "2ef117f7",
   "metadata": {},
   "outputs": [],
   "source": [
    "f"
   ]
  },
  {
   "cell_type": "code",
   "execution_count": null,
   "id": "8f7b3226",
   "metadata": {},
   "outputs": [],
   "source": [
    "for i in range(3):\n",
    "    for j in range(3):\n",
    "        if f1[i][j]=='X':\n",
    "            print(i,j)"
   ]
  },
  {
   "cell_type": "code",
   "execution_count": null,
   "id": "788af0dd",
   "metadata": {},
   "outputs": [],
   "source": [
    "len(f1)"
   ]
  },
  {
   "cell_type": "code",
   "execution_count": null,
   "id": "8c0c3e97",
   "metadata": {},
   "outputs": [],
   "source": [
    "r=np.array([' ',' ',' ',\n",
    "           ' ',' ',' ',\n",
    "           ' ',' ',' '])"
   ]
  },
  {
   "cell_type": "code",
   "execution_count": null,
   "id": "256765d3",
   "metadata": {},
   "outputs": [],
   "source": [
    "ro=r.reshape(3,3)"
   ]
  },
  {
   "cell_type": "code",
   "execution_count": null,
   "id": "9af26410",
   "metadata": {},
   "outputs": [],
   "source": [
    "ro"
   ]
  },
  {
   "cell_type": "code",
   "execution_count": null,
   "id": "49da5cec",
   "metadata": {},
   "outputs": [],
   "source": [
    "# def checkForWin():\n",
    "#     firstRow=w[0][0]==w[0][1]==w[0][2]\n",
    "#     secondRow=w[1][0]==w[1][1]==w[1][2]\n",
    "#     thirdRow=w[2][0]==w[2][1]==w[2][2]\n",
    "#     firstColumn=w[0][0]==w[1][0]==w[2][0]\n",
    "#     secondColumn=w[0][1]==w[1][1]==w[2][1]\n",
    "#     thirdColumn=w[0][2]==w[1][2]==w[2][2]\n",
    "#     lrDiagonal=w[0][0]==w[1][1]==w[2][2]\n",
    "#     rlDiagonal=w[0][2]==w[1][1]==w[2][0]\n",
    "#     if firstRow or secondRow or thirdRow or firstColumn or secondColumn or thirdColumn or lrDiagonal or rlDiagonal:\n",
    "#         if firstRow:\n",
    "#             print('\\nCongratulations, {} have won the match.'.format(w[0][1]))\n",
    "#             replay=input('\\nWould you like to play again? Enter Y for Yes or anything for No: ')\n",
    "#             if replay.lower()=='y':\n",
    "#                 TicTacToe()\n",
    "#             else:\n",
    "#                 print('\\nThank you for playing.')\n",
    "#         elif secondRow:\n",
    "#             print('\\nCongratulations, {} have won the match.'.format(w[1][1]))\n",
    "#             replay=input('\\nWould you like to play again? Enter Y for Yes or anything for No: ')\n",
    "#             if replay.lower()=='y':\n",
    "#                 TicTacToe()\n",
    "#             else:\n",
    "#                 print('\\nThank you for playing.')\n",
    "#         elif thirdRow:\n",
    "#             print('\\nCongratulations, {} have won the match.'.format(w[2][1]))\n",
    "#             replay=input('\\nWould you like to play again? Enter Y for Yes or anything for No: ')\n",
    "#             if replay.lower()=='y':\n",
    "#                 TicTacToe()\n",
    "#             else:\n",
    "#                 print('\\nThank you for playing.')\n",
    "#         elif firstColumn:\n",
    "#             print('\\nCongratulations, {} have won the match.'.format(w[1][0]))\n",
    "#             replay=input('\\nWould you like to play again? Enter Y for Yes or anything for No: ')\n",
    "#             if replay.lower()=='y':\n",
    "#                 TicTacToe()\n",
    "#             else:\n",
    "#                 print('\\nThank you for playing.')\n",
    "#         elif secondColumn:\n",
    "#             print('\\nCongratulations, {} have won the match.'.format(w[1][1]))\n",
    "#             replay=input('\\nWould you like to play again? Enter Y for Yes or anything for No: ')\n",
    "#             if replay.lower()=='y':\n",
    "#                 TicTacToe()\n",
    "#             else:\n",
    "#                 print('\\nThank you for playing.')\n",
    "#         elif thirdColumn:\n",
    "#             print('\\nCongratulations, {} have won the match.'.format(w[1][2]))\n",
    "#             replay=input('\\nWould you like to play again? Enter Y for Yes or anything for No: ')\n",
    "#             if replay.lower()=='y':\n",
    "#                 TicTacToe()\n",
    "#             else:\n",
    "#                 print('\\nThank you for playing.')\n",
    "#         elif lrDiagonal:\n",
    "#             print('Congratulations, {} have won the match.'.format(w[1][1]))\n",
    "#             replay=input('\\mWould you like to play again? Enter Y for Yes or anything for No: ')\n",
    "#             if replay.lower()=='y':\n",
    "#                 TicTacToe()\n",
    "#             else:\n",
    "#                 print('\\nThank you for playing.')\n",
    "#         elif rlDiagonal:\n",
    "#             print('\\nCongratulations, {} have won the match.'.format(w[1][1]))\n",
    "#             replay=input('Would you like to play again? Enter Y for Yes or anything for No: ')\n",
    "#             if replay.lower()=='y':\n",
    "#                 TicTacToe()\n",
    "#             else:\n",
    "#                 print('\\nThank you for playing.')\n",
    "#     elif w[0][0]!='a' and w[0][1]!='b' and w[0][2]!='c' and w[1][0]!='d' and w[1][1]!='e' and w[1][2]!='f' and w[2][0]!='g' and w[2][1]!='h' and w[2][2]!='i':\n",
    "#         print('\\nMatch is drawn.')\n",
    "#         replay=input('\\nWould you like to play again? Enter Y for Yes or anything for No: ')\n",
    "#         if replay.lower()=='y':\n",
    "#             TicTacToe()\n",
    "#         else:\n",
    "#             print('\\nThank you for playing.')               "
   ]
  },
  {
   "cell_type": "code",
   "execution_count": null,
   "id": "f30266f6",
   "metadata": {},
   "outputs": [],
   "source": [
    "print(w)\n",
    "checkForWin()"
   ]
  },
  {
   "cell_type": "code",
   "execution_count": null,
   "id": "06694240",
   "metadata": {},
   "outputs": [],
   "source": []
  },
  {
   "cell_type": "code",
   "execution_count": null,
   "id": "ae65bc91",
   "metadata": {},
   "outputs": [],
   "source": []
  },
  {
   "cell_type": "code",
   "execution_count": null,
   "id": "551a8bb7",
   "metadata": {},
   "outputs": [],
   "source": [
    "x=y=z=0\n",
    "x"
   ]
  },
  {
   "cell_type": "code",
   "execution_count": null,
   "id": "220c0cb5",
   "metadata": {},
   "outputs": [],
   "source": [
    "if x==y==0:\n",
    "    print('rg')"
   ]
  },
  {
   "cell_type": "code",
   "execution_count": null,
   "id": "998b0626",
   "metadata": {},
   "outputs": [],
   "source": [
    "checkForWin()"
   ]
  },
  {
   "cell_type": "code",
   "execution_count": null,
   "id": "f44a22fd",
   "metadata": {},
   "outputs": [],
   "source": [
    "ro[0][2]"
   ]
  },
  {
   "cell_type": "code",
   "execution_count": null,
   "id": "231c552c",
   "metadata": {},
   "outputs": [],
   "source": [
    "ro[2][2]"
   ]
  },
  {
   "cell_type": "code",
   "execution_count": null,
   "id": "f48b447d",
   "metadata": {},
   "outputs": [],
   "source": [
    "def checkForWinning():\n",
    "    if ro[0][0]==ro[0][1] and ro[0][1]==r[0][2]:\n",
    "        print('Congratulations, {} have won the match.'.format(x))"
   ]
  },
  {
   "cell_type": "code",
   "execution_count": null,
   "id": "5b80695b",
   "metadata": {},
   "outputs": [],
   "source": [
    "checkForWinning()"
   ]
  },
  {
   "cell_type": "code",
   "execution_count": null,
   "id": "ca8a8cd8",
   "metadata": {},
   "outputs": [],
   "source": [
    " or ro[1][0]==ro[1][1]==r[1][2] or ro[2][0]==ro[2][1]==r[2][2] or  ro[0][0]==ro[1][0]==r[2][0] or ro[0][1]==ro[1][1]==r[2][1] or ro[0][2]==ro[1][2]==r[2][2] or ro[0][0]==r[1][1]==ro[2][2] or ro[0][2]==r[1][1]==r[2][0]"
   ]
  },
  {
   "cell_type": "code",
   "execution_count": null,
   "id": "cd18c50e",
   "metadata": {},
   "outputs": [],
   "source": [
    "ro[0][0]"
   ]
  },
  {
   "cell_type": "code",
   "execution_count": null,
   "id": "957dd4d2",
   "metadata": {},
   "outputs": [],
   "source": [
    "ro[0][1]"
   ]
  },
  {
   "cell_type": "code",
   "execution_count": null,
   "id": "50adaae3",
   "metadata": {},
   "outputs": [],
   "source": [
    "r[0][2]"
   ]
  },
  {
   "cell_type": "code",
   "execution_count": null,
   "id": "8b80db3c",
   "metadata": {},
   "outputs": [],
   "source": [
    "ro.shape"
   ]
  },
  {
   "cell_type": "code",
   "execution_count": null,
   "id": "576d2016",
   "metadata": {},
   "outputs": [],
   "source": [
    "ro[0][2]"
   ]
  },
  {
   "cell_type": "code",
   "execution_count": null,
   "id": "2e4f3a11",
   "metadata": {},
   "outputs": [],
   "source": [
    "x=5\n",
    "y=6\n",
    "z=4\n",
    "a=x==4\n",
    "b=y==6\n",
    "if a or b:\n",
    "    print('f')\n",
    "    print(a,b)"
   ]
  },
  {
   "cell_type": "code",
   "execution_count": null,
   "id": "1163c27d",
   "metadata": {},
   "outputs": [],
   "source": [
    "ro"
   ]
  },
  {
   "cell_type": "code",
   "execution_count": null,
   "id": "7be40b43",
   "metadata": {},
   "outputs": [],
   "source": [
    "e=np.array(['a','b','c','d','e','f','g','h','i'])\n",
    "w=e.reshape(3,3)\n",
    "w"
   ]
  },
  {
   "cell_type": "code",
   "execution_count": null,
   "id": "d71b3fa8",
   "metadata": {},
   "outputs": [],
   "source": [
    "e=np.array(['a','b','c','d','e','f','g','h','i'])\n",
    "w=e.reshape(3,3)\n",
    "print(w)\n",
    "TicTacToe()"
   ]
  },
  {
   "cell_type": "code",
   "execution_count": null,
   "id": "839f349c",
   "metadata": {},
   "outputs": [],
   "source": [
    "w"
   ]
  },
  {
   "cell_type": "code",
   "execution_count": null,
   "id": "c82fde86",
   "metadata": {},
   "outputs": [],
   "source": [
    "result =np.where(w=='h')"
   ]
  },
  {
   "cell_type": "code",
   "execution_count": null,
   "id": "ce1d02f3",
   "metadata": {},
   "outputs": [],
   "source": [
    "print(result)"
   ]
  },
  {
   "cell_type": "code",
   "execution_count": null,
   "id": "de5abf47",
   "metadata": {},
   "outputs": [],
   "source": []
  },
  {
   "cell_type": "code",
   "execution_count": null,
   "id": "9168a97a",
   "metadata": {},
   "outputs": [],
   "source": []
  },
  {
   "cell_type": "code",
   "execution_count": null,
   "id": "1d790cbe",
   "metadata": {},
   "outputs": [],
   "source": []
  },
  {
   "cell_type": "code",
   "execution_count": null,
   "id": "5741ead1",
   "metadata": {},
   "outputs": [],
   "source": []
  },
  {
   "cell_type": "code",
   "execution_count": null,
   "id": "f6dacfde",
   "metadata": {},
   "outputs": [],
   "source": []
  },
  {
   "cell_type": "code",
   "execution_count": null,
   "id": "6b72db28",
   "metadata": {},
   "outputs": [],
   "source": []
  },
  {
   "cell_type": "code",
   "execution_count": null,
   "id": "59e70675",
   "metadata": {},
   "outputs": [],
   "source": []
  },
  {
   "cell_type": "code",
   "execution_count": null,
   "id": "abc37430",
   "metadata": {},
   "outputs": [],
   "source": []
  },
  {
   "cell_type": "code",
   "execution_count": null,
   "id": "60aa637f",
   "metadata": {},
   "outputs": [],
   "source": [
    "e=np.array(['a','b','c','d','e','f','g','h','i'])\n",
    "w=e.reshape(3,3)\n",
    "print(w)\n",
    "TicTacToe()"
   ]
  },
  {
   "cell_type": "code",
   "execution_count": null,
   "id": "60281828",
   "metadata": {},
   "outputs": [],
   "source": [
    "e=np.array(['a','b','c','d','e','f','g','h','i'])\n",
    "w=e.reshape(3,3)\n",
    "print(w)\n",
    "TicTacToe()"
   ]
  },
  {
   "cell_type": "code",
   "execution_count": null,
   "id": "0001e51e",
   "metadata": {},
   "outputs": [],
   "source": [
    "TicTacToe()"
   ]
  },
  {
   "cell_type": "code",
   "execution_count": null,
   "id": "f6d62e68",
   "metadata": {},
   "outputs": [],
   "source": [
    "rossy_Kassi_Padmini=45"
   ]
  },
  {
   "cell_type": "code",
   "execution_count": null,
   "id": "98b8282f",
   "metadata": {},
   "outputs": [],
   "source": [
    "def kamini():\n",
    "    rossy=24\n",
    "    return rossy, rossy_Kassi_Padmini"
   ]
  },
  {
   "cell_type": "code",
   "execution_count": null,
   "id": "7c3dd840",
   "metadata": {},
   "outputs": [],
   "source": [
    "kamini()"
   ]
  },
  {
   "cell_type": "code",
   "execution_count": null,
   "id": "87b90d2d",
   "metadata": {},
   "outputs": [],
   "source": [
    "print(rossy)"
   ]
  },
  {
   "cell_type": "code",
   "execution_count": null,
   "id": "125352fd",
   "metadata": {},
   "outputs": [],
   "source": [
    "h=24\n",
    "r=45.24\n",
    "def commutepay(h,r):\n",
    "    return 'Rossy work worth is: ',h*r"
   ]
  },
  {
   "cell_type": "code",
   "execution_count": null,
   "id": "66c03953",
   "metadata": {},
   "outputs": [],
   "source": [
    "commutepay(354,10000)"
   ]
  },
  {
   "cell_type": "code",
   "execution_count": null,
   "id": "3b82c025",
   "metadata": {},
   "outputs": [],
   "source": [
    "def ehi():\n",
    "    f=23\n",
    "    rt()\n",
    "def rt():\n",
    "    print(f)\n",
    "ehi()"
   ]
  },
  {
   "cell_type": "code",
   "execution_count": null,
   "id": "c122058f",
   "metadata": {},
   "outputs": [],
   "source": [
    "#Harshil Sir's\n",
    "\n",
    "import numpy as np \n",
    "import random \n",
    "from time import sleep \n",
    "\n",
    "# Creates an empty board \n",
    "def initializeBoard(): \n",
    "    return(np.array([[0, 0, 0], \n",
    "                     [0, 0, 0], \n",
    "                     [0, 0, 0]]))\n",
    "\n",
    "def checkPossibility(board, r, c):\n",
    "    if(board[r][c] == 0):\n",
    "        return True\n",
    "    else:\n",
    "        return False\n",
    "\n",
    "def playersName():\n",
    "    firstPlayer = (str(input(\"What is the first player name? \")))\n",
    "    secondPlayer = (str(input(\"What is the second player name? \")))\n",
    "    playersDict = {1: firstPlayer, 2: secondPlayer}\n",
    "    print(playersDict)\n",
    "    return playersDict\n",
    "\n",
    "def markPosition(board, player):\n",
    "    possible = False\n",
    "    while(possible != True):\n",
    "        r = int(input(\"Which Row you want to mark? \"))\n",
    "        c = int(input(\"Which Column you want to mark? \"))\n",
    "        possible = checkPossibility(board, r, c)\n",
    "        if possible:\n",
    "            board[r][c] = player\n",
    "        else:\n",
    "            print(\"\\nThis position is already marked, try again\")\n",
    "    return board\n",
    "#player = 2\n",
    "#board = markPosition(board, player)\n",
    "\n",
    "# Checks whether the player has three of their marks in a horizontal row \n",
    "def rowWin(board, player): \n",
    "    for x in range(len(board)): \n",
    "        win = True\n",
    "        for y in range(len(board)): \n",
    "            if board[x, y] != player: \n",
    "                win = False\n",
    "                continue\n",
    "        if win == True: \n",
    "            return(win) \n",
    "    return(win) \n",
    "\n",
    "# Checks whether the player has three of their marks in a vertical row \n",
    "def colWin(board, player): \n",
    "    for x in range(len(board)): \n",
    "        win = True\n",
    "        for y in range(len(board)): \n",
    "            if board[y][x] != player: \n",
    "                win = False\n",
    "                continue\n",
    "        if win == True: \n",
    "            return(win) \n",
    "    return(win)\n",
    "\n",
    "# Checks whether the player has three of their marks in a diagonal row \n",
    "def diaWin(board, player): \n",
    "    win = True\n",
    "    for x in range(len(board)): \n",
    "        if board[x, x] != player: \n",
    "            win = False\n",
    "    return(win)\n",
    "\n",
    "# Evaluates whether there is a winner or a tie \n",
    "def evaluate(board): \n",
    "\twinner = 0\n",
    "\t\n",
    "\tfor player in [1, 2]: \n",
    "\t\tif (rowWin(board, player) or colWin(board,player) or diaWin(board,player)): \t\n",
    "\t\t\twinner = player \t\n",
    "\tif np.all(board != 0) and winner == 0: \n",
    "\t\twinner = -1\n",
    "\treturn winner \n",
    "\n",
    "def playGame(playersDict): \n",
    "    board = initializeBoard()\n",
    "    print(\"Start Game:\\n\")\n",
    "    print(board) \n",
    "    sleep(1)\n",
    "    winner, counter = 0, 1\n",
    "    while winner == 0: \n",
    "        for player in [1, 2]: \n",
    "            print(\"\\nChance of \" + playersDict[player])\n",
    "            board = markPosition(board, player) \n",
    "            print(\"Board after \" + playersDict[player] + \"'s move\") \n",
    "            print(board) \n",
    "            sleep(0.5) \n",
    "            counter += 1\n",
    "            winner = evaluate(board) \n",
    "            if winner != 0: \n",
    "                break\n",
    "    return(winner)\n",
    "\n",
    "playersDict = playersName()\n",
    "Winner = playGame(playersDict)\n",
    "print(\"\\nWinner is: \" + str(playersDict[Winner])) \n"
   ]
  },
  {
   "cell_type": "code",
   "execution_count": null,
   "id": "271aa910",
   "metadata": {},
   "outputs": [],
   "source": [
    "e=np.array(['a','b','c','d','e','f','g','h','i'])\n",
    "w=e.reshape(3,3)\n",
    "print(w)\n"
   ]
  },
  {
   "cell_type": "code",
   "execution_count": null,
   "id": "9e4cb9ff",
   "metadata": {},
   "outputs": [],
   "source": [
    "w[2,2]"
   ]
  },
  {
   "cell_type": "code",
   "execution_count": null,
   "id": "1ecf87ce",
   "metadata": {},
   "outputs": [],
   "source": [
    "from time import sleep\n",
    "print('erg')\n",
    "sleep(5)\n",
    "print('ergrg')"
   ]
  },
  {
   "cell_type": "code",
   "execution_count": null,
   "id": "010ca6e5",
   "metadata": {},
   "outputs": [],
   "source": [
    "time.gmtime(0)"
   ]
  },
  {
   "cell_type": "code",
   "execution_count": null,
   "id": "835bc3fb",
   "metadata": {},
   "outputs": [],
   "source": [
    "for x in range(5):\n",
    "    print(time.ctime())\n",
    "    sleep(2)"
   ]
  },
  {
   "cell_type": "code",
   "execution_count": null,
   "id": "600c7a23",
   "metadata": {},
   "outputs": [],
   "source": [
    "time.ctime()"
   ]
  },
  {
   "cell_type": "code",
   "execution_count": null,
   "id": "6e16a10f",
   "metadata": {},
   "outputs": [],
   "source": [
    "import numpy as np\n",
    "\n",
    "arr = np.array([1, 2, 3, 4, 5, 4, 4])\n",
    "\n",
    "x = np.where(arr == 4)\n",
    "c=list(x)\n",
    "print(c)"
   ]
  },
  {
   "cell_type": "code",
   "execution_count": null,
   "id": "7386a11a",
   "metadata": {},
   "outputs": [],
   "source": [
    "import numpy as np\n",
    "\n",
    "arr = np.array([6, 7, 8, 9])\n",
    "# arR=arr.reshape(2,2)\n",
    "# print(arR)\n",
    "x = np.searchsorted(arr, 8)\n",
    "\n",
    "print(x)"
   ]
  },
  {
   "cell_type": "code",
   "execution_count": null,
   "id": "5f4380b5",
   "metadata": {},
   "outputs": [],
   "source": [
    "import numpy as np\n",
    "\n",
    "arr = np.array([6, 7, 8, 9])\n",
    "\n",
    "x = np.searchsorted(arr, 8, side='right')\n",
    "\n",
    "print(x)"
   ]
  },
  {
   "cell_type": "code",
   "execution_count": null,
   "id": "a91431f9",
   "metadata": {},
   "outputs": [],
   "source": [
    "\n",
    "import numpy as np\n",
    "\n",
    "arr = np.array([1, 3, 7, 7])\n",
    "\n",
    "x = np.searchsorted(arr, [2, 4, 61])\n",
    "\n",
    "print(x)"
   ]
  },
  {
   "cell_type": "code",
   "execution_count": null,
   "id": "c91ba15f",
   "metadata": {},
   "outputs": [],
   "source": [
    "w"
   ]
  },
  {
   "cell_type": "code",
   "execution_count": null,
   "id": "049cef9b",
   "metadata": {},
   "outputs": [],
   "source": [
    "np.where(w=='g')"
   ]
  },
  {
   "cell_type": "code",
   "execution_count": null,
   "id": "35fcb7e6",
   "metadata": {},
   "outputs": [],
   "source": [
    "c=2\n",
    "def eree():\n",
    "    c+=4\n",
    "    return c\n",
    "eree()"
   ]
  },
  {
   "cell_type": "code",
   "execution_count": null,
   "id": "5f4ac367",
   "metadata": {},
   "outputs": [],
   "source": []
  }
 ],
 "metadata": {
  "kernelspec": {
   "display_name": "Python 3 (ipykernel)",
   "language": "python",
   "name": "python3"
  },
  "language_info": {
   "codemirror_mode": {
    "name": "ipython",
    "version": 3
   },
   "file_extension": ".py",
   "mimetype": "text/x-python",
   "name": "python",
   "nbconvert_exporter": "python",
   "pygments_lexer": "ipython3",
   "version": "3.9.6"
  }
 },
 "nbformat": 4,
 "nbformat_minor": 5
}
