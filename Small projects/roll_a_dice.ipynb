{
 "cells": [
  {
   "cell_type": "code",
   "execution_count": 7,
   "id": "489639be",
   "metadata": {},
   "outputs": [
    {
     "name": "stdout",
     "output_type": "stream",
     "text": [
      "\n",
      "To roll press R, else press Q for quit: r\n",
      "5\n",
      "\n",
      "To roll press R, else press Q for quit: r\n",
      "1\n",
      "\n",
      "To roll press R, else press Q for quit: r\n",
      "1\n",
      "\n",
      "To roll press R, else press Q for quit: r\n",
      "1\n",
      "\n",
      "To roll press R, else press Q for quit: r\n",
      "6\n",
      "\n",
      "To roll press R, else press Q for quit: r\n",
      "5\n",
      "\n",
      "To roll press R, else press Q for quit: r\n",
      "4\n",
      "\n",
      "To roll press R, else press Q for quit: q\n",
      "\n",
      "Thank you for playing.\n"
     ]
    }
   ],
   "source": [
    "import random\n",
    "def roll_a_dice():\n",
    "    while True:\n",
    "        g=input('\\nTo roll press R, else press Q for quit: ')\n",
    "        d=random.randint(1,6)\n",
    "        if g.lower()=='r':\n",
    "            print(d)\n",
    "        elif g.lower()=='q':\n",
    "            print('\\nThank you for playing.')\n",
    "            break\n",
    "        else:\n",
    "            print('\\nPlease `enter either R or Q')\n",
    "\n",
    "roll_a_dice()"
   ]
  }
 ],
 "metadata": {
  "kernelspec": {
   "display_name": "Python 3 (ipykernel)",
   "language": "python",
   "name": "python3"
  },
  "language_info": {
   "codemirror_mode": {
    "name": "ipython",
    "version": 3
   },
   "file_extension": ".py",
   "mimetype": "text/x-python",
   "name": "python",
   "nbconvert_exporter": "python",
   "pygments_lexer": "ipython3",
   "version": "3.9.6"
  }
 },
 "nbformat": 4,
 "nbformat_minor": 5
}
