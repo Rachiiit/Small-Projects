{
 "cells": [
  {
   "cell_type": "code",
   "execution_count": 3,
   "id": "5a9bb434",
   "metadata": {},
   "outputs": [],
   "source": [
    "import numpy as np\n",
    "import pandas as pd"
   ]
  },
  {
   "cell_type": "code",
   "execution_count": 4,
   "id": "d2322097",
   "metadata": {},
   "outputs": [],
   "source": [
    "import matplotlib.pyplot as plt\n",
    "import seaborn as sns"
   ]
  },
  {
   "cell_type": "code",
   "execution_count": 5,
   "id": "c5ac5926",
   "metadata": {},
   "outputs": [
    {
     "data": {
      "text/plain": [
       "<function seaborn.matrix.heatmap(data, *, vmin=None, vmax=None, cmap=None, center=None, robust=False, annot=None, fmt='.2g', annot_kws=None, linewidths=0, linecolor='white', cbar=True, cbar_kws=None, cbar_ax=None, square=False, xticklabels='auto', yticklabels='auto', mask=None, ax=None, **kwargs)>"
      ]
     },
     "execution_count": 5,
     "metadata": {},
     "output_type": "execute_result"
    }
   ],
   "source": [
    "sns.heatmap"
   ]
  },
  {
   "cell_type": "code",
   "execution_count": 6,
   "id": "42b67881",
   "metadata": {},
   "outputs": [
    {
     "data": {
      "text/plain": [
       "0"
      ]
     },
     "execution_count": 6,
     "metadata": {},
     "output_type": "execute_result"
    }
   ],
   "source": [
    "round(0.4)"
   ]
  },
  {
   "cell_type": "code",
   "execution_count": 7,
   "id": "9173f322",
   "metadata": {},
   "outputs": [
    {
     "data": {
      "text/plain": [
       "0"
      ]
     },
     "execution_count": 7,
     "metadata": {},
     "output_type": "execute_result"
    }
   ],
   "source": [
    "round(0.5)"
   ]
  },
  {
   "cell_type": "code",
   "execution_count": 8,
   "id": "fde0589d",
   "metadata": {},
   "outputs": [
    {
     "data": {
      "text/plain": [
       "1"
      ]
     },
     "execution_count": 8,
     "metadata": {},
     "output_type": "execute_result"
    }
   ],
   "source": [
    "round(0.51)"
   ]
  },
  {
   "cell_type": "code",
   "execution_count": 9,
   "id": "9efcc77a",
   "metadata": {},
   "outputs": [
    {
     "data": {
      "text/plain": [
       "1"
      ]
     },
     "execution_count": 9,
     "metadata": {},
     "output_type": "execute_result"
    }
   ],
   "source": [
    "round(0.505)"
   ]
  },
  {
   "cell_type": "code",
   "execution_count": 10,
   "id": "e3f37a74",
   "metadata": {},
   "outputs": [
    {
     "data": {
      "text/plain": [
       "2"
      ]
     },
     "execution_count": 10,
     "metadata": {},
     "output_type": "execute_result"
    }
   ],
   "source": [
    "round(1.51)"
   ]
  },
  {
   "cell_type": "code",
   "execution_count": 11,
   "id": "62b30317",
   "metadata": {},
   "outputs": [
    {
     "data": {
      "text/plain": [
       "'C:\\\\Users\\\\rchtp\\\\Desktop\\\\Rachit Python Skillslash Practice\\\\Small projects\\\\Credit Risk'"
      ]
     },
     "execution_count": 11,
     "metadata": {},
     "output_type": "execute_result"
    }
   ],
   "source": [
    "pwd"
   ]
  },
  {
   "cell_type": "code",
   "execution_count": 17,
   "id": "b6099979",
   "metadata": {},
   "outputs": [],
   "source": [
    "df=pd.read_excel('C:/Users/rchtp/Desktop/Rachit Python Skillslash Practice/Small projects/Credit Risk/Credit_Risk_PD_Model_Dataset.xlsx')"
   ]
  },
  {
   "cell_type": "code",
   "execution_count": 18,
   "id": "48ba8673",
   "metadata": {},
   "outputs": [
    {
     "data": {
      "text/html": [
       "<div>\n",
       "<style scoped>\n",
       "    .dataframe tbody tr th:only-of-type {\n",
       "        vertical-align: middle;\n",
       "    }\n",
       "\n",
       "    .dataframe tbody tr th {\n",
       "        vertical-align: top;\n",
       "    }\n",
       "\n",
       "    .dataframe thead th {\n",
       "        text-align: right;\n",
       "    }\n",
       "</style>\n",
       "<table border=\"1\" class=\"dataframe\">\n",
       "  <thead>\n",
       "    <tr style=\"text-align: right;\">\n",
       "      <th></th>\n",
       "      <th>Industry</th>\n",
       "      <th>CASH_AND_CASH_EQUIVALENTS_floored1</th>\n",
       "      <th>COST_OF_GOODS_SOLD_1</th>\n",
       "      <th>CURRENT_ASSETS_1</th>\n",
       "      <th>CURRENT_LIABILITIES_1</th>\n",
       "      <th>DEPRECIATION_1</th>\n",
       "      <th>EBITDA_1</th>\n",
       "      <th>FIXED_AND_NON_CURRENT_ASSETS_1</th>\n",
       "      <th>GROSS_PROFIT_1</th>\n",
       "      <th>INTEREST_EXPENSE_1</th>\n",
       "      <th>...</th>\n",
       "      <th>EBITDA_to_Interest_1</th>\n",
       "      <th>EBITDA_to_curr_liab_1</th>\n",
       "      <th>Cash_to_Total_assets_1</th>\n",
       "      <th>Current_Ratio_1</th>\n",
       "      <th>Liquidity_Ratio_1</th>\n",
       "      <th>Curr_to_Total_Assets_1</th>\n",
       "      <th>Gross_Margin_perc_1</th>\n",
       "      <th>Net_Income_Margin_1</th>\n",
       "      <th>Total_Liab_to_Total_Assets_2_1</th>\n",
       "      <th>Default</th>\n",
       "    </tr>\n",
       "  </thead>\n",
       "  <tbody>\n",
       "    <tr>\n",
       "      <th>0</th>\n",
       "      <td>Wholesale</td>\n",
       "      <td>323773.0</td>\n",
       "      <td>NaN</td>\n",
       "      <td>476381.0</td>\n",
       "      <td>516192.0</td>\n",
       "      <td>78247.0</td>\n",
       "      <td>357842.0</td>\n",
       "      <td>1953656.0</td>\n",
       "      <td>2527734.0</td>\n",
       "      <td>59291.0</td>\n",
       "      <td>...</td>\n",
       "      <td>6.0353</td>\n",
       "      <td>0.6932</td>\n",
       "      <td>0.1332</td>\n",
       "      <td>0.9229</td>\n",
       "      <td>0.8626</td>\n",
       "      <td>0.1960</td>\n",
       "      <td>NaN</td>\n",
       "      <td>5.9466</td>\n",
       "      <td>-0.0501</td>\n",
       "      <td>0.0</td>\n",
       "    </tr>\n",
       "    <tr>\n",
       "      <th>1</th>\n",
       "      <td>EduArtsHealthSocial</td>\n",
       "      <td>18593.0</td>\n",
       "      <td>11753.0</td>\n",
       "      <td>21913.0</td>\n",
       "      <td>257405.0</td>\n",
       "      <td>6988.0</td>\n",
       "      <td>42274.0</td>\n",
       "      <td>668688.0</td>\n",
       "      <td>124057.0</td>\n",
       "      <td>6456.0</td>\n",
       "      <td>...</td>\n",
       "      <td>6.5479</td>\n",
       "      <td>0.1642</td>\n",
       "      <td>0.0269</td>\n",
       "      <td>0.0851</td>\n",
       "      <td>NaN</td>\n",
       "      <td>0.0317</td>\n",
       "      <td>91.3457</td>\n",
       "      <td>21.2275</td>\n",
       "      <td>-0.0472</td>\n",
       "      <td>0.0</td>\n",
       "    </tr>\n",
       "    <tr>\n",
       "      <th>2</th>\n",
       "      <td>Retail</td>\n",
       "      <td>202720.0</td>\n",
       "      <td>3420276.0</td>\n",
       "      <td>665190.0</td>\n",
       "      <td>373352.0</td>\n",
       "      <td>76899.0</td>\n",
       "      <td>406223.0</td>\n",
       "      <td>542187.0</td>\n",
       "      <td>1577802.0</td>\n",
       "      <td>11742.0</td>\n",
       "      <td>...</td>\n",
       "      <td>34.5947</td>\n",
       "      <td>1.0880</td>\n",
       "      <td>0.1679</td>\n",
       "      <td>1.7817</td>\n",
       "      <td>0.7335</td>\n",
       "      <td>0.5509</td>\n",
       "      <td>31.5682</td>\n",
       "      <td>5.4611</td>\n",
       "      <td>-0.3119</td>\n",
       "      <td>1.0</td>\n",
       "    </tr>\n",
       "    <tr>\n",
       "      <th>3</th>\n",
       "      <td>Agriculture - Other</td>\n",
       "      <td>87515.0</td>\n",
       "      <td>7905311.0</td>\n",
       "      <td>1820195.0</td>\n",
       "      <td>2153519.0</td>\n",
       "      <td>702651.0</td>\n",
       "      <td>675750.0</td>\n",
       "      <td>7409750.0</td>\n",
       "      <td>3242324.0</td>\n",
       "      <td>88218.0</td>\n",
       "      <td>...</td>\n",
       "      <td>7.6600</td>\n",
       "      <td>0.3138</td>\n",
       "      <td>0.0095</td>\n",
       "      <td>0.8452</td>\n",
       "      <td>0.2709</td>\n",
       "      <td>0.1972</td>\n",
       "      <td>29.0853</td>\n",
       "      <td>-1.0327</td>\n",
       "      <td>-0.0209</td>\n",
       "      <td>0.0</td>\n",
       "    </tr>\n",
       "    <tr>\n",
       "      <th>4</th>\n",
       "      <td>EduArtsHealthSocial</td>\n",
       "      <td>272938.0</td>\n",
       "      <td>237933.0</td>\n",
       "      <td>381958.0</td>\n",
       "      <td>681622.0</td>\n",
       "      <td>NaN</td>\n",
       "      <td>-515748.0</td>\n",
       "      <td>7395426.0</td>\n",
       "      <td>540762.0</td>\n",
       "      <td>179654.0</td>\n",
       "      <td>...</td>\n",
       "      <td>-2.8708</td>\n",
       "      <td>-0.7566</td>\n",
       "      <td>0.0351</td>\n",
       "      <td>0.5604</td>\n",
       "      <td>0.5241</td>\n",
       "      <td>0.0491</td>\n",
       "      <td>69.4446</td>\n",
       "      <td>-89.3035</td>\n",
       "      <td>-0.0241</td>\n",
       "      <td>0.0</td>\n",
       "    </tr>\n",
       "  </tbody>\n",
       "</table>\n",
       "<p>5 rows × 39 columns</p>\n",
       "</div>"
      ],
      "text/plain": [
       "              Industry  CASH_AND_CASH_EQUIVALENTS_floored1  \\\n",
       "0            Wholesale                            323773.0   \n",
       "1  EduArtsHealthSocial                             18593.0   \n",
       "2               Retail                            202720.0   \n",
       "3  Agriculture - Other                             87515.0   \n",
       "4  EduArtsHealthSocial                            272938.0   \n",
       "\n",
       "   COST_OF_GOODS_SOLD_1  CURRENT_ASSETS_1  CURRENT_LIABILITIES_1  \\\n",
       "0                   NaN          476381.0               516192.0   \n",
       "1               11753.0           21913.0               257405.0   \n",
       "2             3420276.0          665190.0               373352.0   \n",
       "3             7905311.0         1820195.0              2153519.0   \n",
       "4              237933.0          381958.0               681622.0   \n",
       "\n",
       "   DEPRECIATION_1  EBITDA_1  FIXED_AND_NON_CURRENT_ASSETS_1  GROSS_PROFIT_1  \\\n",
       "0         78247.0  357842.0                       1953656.0       2527734.0   \n",
       "1          6988.0   42274.0                        668688.0        124057.0   \n",
       "2         76899.0  406223.0                        542187.0       1577802.0   \n",
       "3        702651.0  675750.0                       7409750.0       3242324.0   \n",
       "4             NaN -515748.0                       7395426.0        540762.0   \n",
       "\n",
       "   INTEREST_EXPENSE_1  ...  EBITDA_to_Interest_1  EBITDA_to_curr_liab_1  \\\n",
       "0             59291.0  ...                6.0353                 0.6932   \n",
       "1              6456.0  ...                6.5479                 0.1642   \n",
       "2             11742.0  ...               34.5947                 1.0880   \n",
       "3             88218.0  ...                7.6600                 0.3138   \n",
       "4            179654.0  ...               -2.8708                -0.7566   \n",
       "\n",
       "   Cash_to_Total_assets_1  Current_Ratio_1  Liquidity_Ratio_1  \\\n",
       "0                  0.1332           0.9229             0.8626   \n",
       "1                  0.0269           0.0851                NaN   \n",
       "2                  0.1679           1.7817             0.7335   \n",
       "3                  0.0095           0.8452             0.2709   \n",
       "4                  0.0351           0.5604             0.5241   \n",
       "\n",
       "   Curr_to_Total_Assets_1  Gross_Margin_perc_1  Net_Income_Margin_1  \\\n",
       "0                  0.1960                  NaN               5.9466   \n",
       "1                  0.0317              91.3457              21.2275   \n",
       "2                  0.5509              31.5682               5.4611   \n",
       "3                  0.1972              29.0853              -1.0327   \n",
       "4                  0.0491              69.4446             -89.3035   \n",
       "\n",
       "   Total_Liab_to_Total_Assets_2_1  Default  \n",
       "0                         -0.0501      0.0  \n",
       "1                         -0.0472      0.0  \n",
       "2                         -0.3119      1.0  \n",
       "3                         -0.0209      0.0  \n",
       "4                         -0.0241      0.0  \n",
       "\n",
       "[5 rows x 39 columns]"
      ]
     },
     "execution_count": 18,
     "metadata": {},
     "output_type": "execute_result"
    }
   ],
   "source": [
    "df.head()"
   ]
  },
  {
   "cell_type": "code",
   "execution_count": 19,
   "id": "bb0210f5",
   "metadata": {},
   "outputs": [
    {
     "ename": "NameError",
     "evalue": "name 'df_credit_rsk' is not defined",
     "output_type": "error",
     "traceback": [
      "\u001b[1;31m---------------------------------------------------------------------------\u001b[0m",
      "\u001b[1;31mNameError\u001b[0m                                 Traceback (most recent call last)",
      "\u001b[1;32m~\\AppData\\Local\\Temp/ipykernel_43732/3751832892.py\u001b[0m in \u001b[0;36m<module>\u001b[1;34m\u001b[0m\n\u001b[0;32m      6\u001b[0m \u001b[1;32mfrom\u001b[0m \u001b[0mpandas_profiling\u001b[0m\u001b[1;33m.\u001b[0m\u001b[0mutils\u001b[0m\u001b[1;33m.\u001b[0m\u001b[0mcache\u001b[0m \u001b[1;32mimport\u001b[0m \u001b[0mcache_file\u001b[0m\u001b[1;33m\u001b[0m\u001b[1;33m\u001b[0m\u001b[0m\n\u001b[0;32m      7\u001b[0m \u001b[1;33m\u001b[0m\u001b[0m\n\u001b[1;32m----> 8\u001b[1;33m \u001b[0mprofile\u001b[0m \u001b[1;33m=\u001b[0m \u001b[0mProfileReport\u001b[0m\u001b[1;33m(\u001b[0m\u001b[0mdf_credit_rsk\u001b[0m\u001b[1;33m,\u001b[0m\u001b[0mexplorative\u001b[0m \u001b[1;33m=\u001b[0m \u001b[1;32mTrue\u001b[0m\u001b[1;33m)\u001b[0m\u001b[1;33m\u001b[0m\u001b[1;33m\u001b[0m\u001b[0m\n\u001b[0m\u001b[0;32m      9\u001b[0m \u001b[0mprofile\u001b[0m\u001b[1;33m.\u001b[0m\u001b[0mto_notebook_iframe\u001b[0m\u001b[1;33m(\u001b[0m\u001b[1;33m)\u001b[0m\u001b[1;33m\u001b[0m\u001b[1;33m\u001b[0m\u001b[0m\n",
      "\u001b[1;31mNameError\u001b[0m: name 'df_credit_rsk' is not defined"
     ]
    }
   ],
   "source": [
    "#Explore data set with Pandas profiler : \n",
    "\n",
    "import pandas_profiling\n",
    "from ipywidgets import interact, Button\n",
    "from pandas_profiling import ProfileReport\n",
    "from pandas_profiling.utils.cache import cache_file\n",
    "\n",
    "profile = ProfileReport(df_credit_rsk,explorative = True)\n",
    "profile.to_notebook_iframe()"
   ]
  },
  {
   "cell_type": "code",
   "execution_count": null,
   "id": "81b06ee0",
   "metadata": {},
   "outputs": [],
   "source": []
  }
 ],
 "metadata": {
  "kernelspec": {
   "display_name": "Python 3 (ipykernel)",
   "language": "python",
   "name": "python3"
  },
  "language_info": {
   "codemirror_mode": {
    "name": "ipython",
    "version": 3
   },
   "file_extension": ".py",
   "mimetype": "text/x-python",
   "name": "python",
   "nbconvert_exporter": "python",
   "pygments_lexer": "ipython3",
   "version": "3.9.6"
  }
 },
 "nbformat": 4,
 "nbformat_minor": 5
}
