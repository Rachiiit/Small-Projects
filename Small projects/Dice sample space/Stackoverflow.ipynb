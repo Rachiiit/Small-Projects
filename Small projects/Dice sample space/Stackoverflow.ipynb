{
 "cells": [
  {
   "cell_type": "markdown",
   "id": "e555c7fd",
   "metadata": {},
   "source": [
    "https://stackoverflow.com/questions/66577412/im-trying-to-do-a-program-that-shows-the-sample-space-of-throwing-n-dices"
   ]
  },
  {
   "cell_type": "code",
   "execution_count": 1,
   "id": "aab87137",
   "metadata": {},
   "outputs": [
    {
     "name": "stdout",
     "output_type": "stream",
     "text": [
      "Enter the no. of dice thrown: 2\n",
      "[[1, 1], [1, 2], [1, 3], [1, 4], [1, 5], [1, 6], [2, 1], [2, 2], [2, 3], [2, 4], [2, 5], [2, 6], [3, 1], [3, 2], [3, 3], [3, 4], [3, 5], [3, 6], [4, 1], [4, 2], [4, 3], [4, 4], [4, 5], [4, 6], [5, 1], [5, 2], [5, 3], [5, 4], [5, 5], [5, 6], [6, 1], [6, 2], [6, 3], [6, 4], [6, 5], [6, 6]]\n"
     ]
    }
   ],
   "source": [
    "x=int(input(\"Enter the no. of dice thrown: \"))\n",
    "def foo(n, rolls=[], roll=[]):\n",
    "    if n > 0:\n",
    "        for i in range(1,7):\n",
    "            foo(n-1, rolls, roll+[i])\n",
    "    else:\n",
    "       rolls.append(roll)\n",
    "    return rolls\n",
    "\n",
    "print(foo(x))"
   ]
  }
 ],
 "metadata": {
  "kernelspec": {
   "display_name": "Python 3 (ipykernel)",
   "language": "python",
   "name": "python3"
  },
  "language_info": {
   "codemirror_mode": {
    "name": "ipython",
    "version": 3
   },
   "file_extension": ".py",
   "mimetype": "text/x-python",
   "name": "python",
   "nbconvert_exporter": "python",
   "pygments_lexer": "ipython3",
   "version": "3.9.6"
  }
 },
 "nbformat": 4,
 "nbformat_minor": 5
}
