{
 "cells": [
  {
   "cell_type": "code",
   "execution_count": 1,
   "id": "be8279b5",
   "metadata": {},
   "outputs": [
    {
     "name": "stdout",
     "output_type": "stream",
     "text": [
      "\n",
      "To flip a coin, please F or press S to stop: f\n",
      "\n",
      "Heads\n",
      "\n",
      "To flip a coin, please F or press S to stop: f\n",
      "\n",
      "Heads\n",
      "\n",
      "To flip a coin, please F or press S to stop: f\n",
      "\n",
      "Tails\n",
      "\n",
      "To flip a coin, please F or press S to stop: f\n",
      "\n",
      "Tails\n",
      "\n",
      "To flip a coin, please F or press S to stop: f\n",
      "\n",
      "Heads\n",
      "\n",
      "To flip a coin, please F or press S to stop: f\n",
      "\n",
      "Tails\n",
      "\n",
      "To flip a coin, please F or press S to stop: f\n",
      "\n",
      "Tails\n",
      "\n",
      "To flip a coin, please F or press S to stop: f\n",
      "\n",
      "Heads\n",
      "\n",
      "To flip a coin, please F or press S to stop: f\n",
      "\n",
      "Tails\n",
      "\n",
      "To flip a coin, please F or press S to stop: f\n",
      "\n",
      "Heads\n",
      "\n",
      "To flip a coin, please F or press S to stop: s\n",
      "\n",
      "Thank you\n"
     ]
    }
   ],
   "source": [
    "import random\n",
    "def toss_a_coin():\n",
    "    while True:\n",
    "        g=input('\\nTo flip a coin, please F or press S to stop: ')\n",
    "        d=random.randint(1,2)\n",
    "        if g.lower()=='f':\n",
    "            if d==1:\n",
    "                print('\\nHeads')\n",
    "            else:\n",
    "                print('\\nTails')\n",
    "        elif g.lower()=='s':\n",
    "            print('\\nThank you')\n",
    "            break\n",
    "        else:\n",
    "            print('\\nPlease enter either F or S only.')\n",
    "\n",
    "toss_a_coin()"
   ]
  }
 ],
 "metadata": {
  "kernelspec": {
   "display_name": "Python 3 (ipykernel)",
   "language": "python",
   "name": "python3"
  },
  "language_info": {
   "codemirror_mode": {
    "name": "ipython",
    "version": 3
   },
   "file_extension": ".py",
   "mimetype": "text/x-python",
   "name": "python",
   "nbconvert_exporter": "python",
   "pygments_lexer": "ipython3",
   "version": "3.9.6"
  }
 },
 "nbformat": 4,
 "nbformat_minor": 5
}
