{
 "cells": [
  {
   "cell_type": "code",
   "execution_count": 176,
   "id": "2970d619",
   "metadata": {},
   "outputs": [],
   "source": [
    "d={\"Roshitha\":123456,\"Rossy\":'654321',\"Roshu\":112233,\"Kassi\":332211,\"Padmini\":789987,\"Rosh\":987789}\n",
    "# d={\"Roshitha\":'123456',\"Rossy\":'654321',\"Roshu\":'112233',\"Kassi\":'332211',\"Padmini\":'789987',\"Rosh\":'987789'}\n",
    "#this commented can be used instead because we'll be taking input that will be always string, but to make it universal, see the\n",
    "#solution below."
   ]
  },
  {
   "cell_type": "code",
   "execution_count": 3,
   "id": "05eac0a3",
   "metadata": {},
   "outputs": [
    {
     "data": {
      "text/plain": [
       "654321"
      ]
     },
     "execution_count": 3,
     "metadata": {},
     "output_type": "execute_result"
    }
   ],
   "source": [
    "d.get(\"Rossy\")"
   ]
  },
  {
   "cell_type": "code",
   "execution_count": 4,
   "id": "14a88104",
   "metadata": {},
   "outputs": [
    {
     "data": {
      "text/plain": [
       "332211"
      ]
     },
     "execution_count": 4,
     "metadata": {},
     "output_type": "execute_result"
    }
   ],
   "source": [
    "d['Kassi']\n"
   ]
  },
  {
   "cell_type": "code",
   "execution_count": 135,
   "id": "8d0fc132",
   "metadata": {},
   "outputs": [
    {
     "data": {
      "text/plain": [
       "10"
      ]
     },
     "execution_count": 135,
     "metadata": {},
     "output_type": "execute_result"
    }
   ],
   "source": [
    "5+5"
   ]
  },
  {
   "cell_type": "code",
   "execution_count": 5,
   "id": "4f88decf",
   "metadata": {},
   "outputs": [
    {
     "data": {
      "text/plain": [
       "{'Roshitha': 123456,\n",
       " 'Rossy': 654321,\n",
       " 'Roshu': 112233,\n",
       " 'Kassi': 332211,\n",
       " 'Padmini': 789987,\n",
       " 'Rosh': 987789}"
      ]
     },
     "execution_count": 5,
     "metadata": {},
     "output_type": "execute_result"
    }
   ],
   "source": [
    "d"
   ]
  },
  {
   "cell_type": "code",
   "execution_count": 8,
   "id": "20562641",
   "metadata": {},
   "outputs": [
    {
     "name": "stdout",
     "output_type": "stream",
     "text": [
      "Please enter your username: Rosh\n",
      "Enter password: 987789\n",
      "You are now signed in.\n"
     ]
    }
   ],
   "source": [
    "while(1):\n",
    "    f=input(\"Please enter your username: \")\n",
    "    if d.get(f) == None:\n",
    "        print(\"Username doesn't exists with us.\")\n",
    "    else:\n",
    "        passw=input(\"Enter password: \")\n",
    "        if passw == d.get(f):\n",
    "            print(\"You are now signed in.\")\n",
    "            break\n",
    "        else:\n",
    "            print(\"Try again.\")"
   ]
  },
  {
   "cell_type": "code",
   "execution_count": 10,
   "id": "e0bb3d0b",
   "metadata": {},
   "outputs": [
    {
     "name": "stdout",
     "output_type": "stream",
     "text": [
      "dict_values([123456, 654321, 112233, 332211, 789987, 987789])\n"
     ]
    }
   ],
   "source": [
    "print(d.values())"
   ]
  },
  {
   "cell_type": "code",
   "execution_count": 261,
   "id": "6a38325e",
   "metadata": {},
   "outputs": [],
   "source": [
    "#log out, feedback, rating out of 5, confirm password"
   ]
  },
  {
   "cell_type": "code",
   "execution_count": 49,
   "id": "e328d99d",
   "metadata": {},
   "outputs": [
    {
     "name": "stdout",
     "output_type": "stream",
     "text": [
      "Enter s wef\n"
     ]
    },
    {
     "ename": "ValueError",
     "evalue": "invalid literal for int() with base 10: 'wef'",
     "output_type": "error",
     "traceback": [
      "\u001b[1;31m---------------------------------------------------------------------------\u001b[0m",
      "\u001b[1;31mValueError\u001b[0m                                Traceback (most recent call last)",
      "\u001b[1;32m~\\AppData\\Local\\Temp/ipykernel_23792/1437705547.py\u001b[0m in \u001b[0;36m<module>\u001b[1;34m\u001b[0m\n\u001b[1;32m----> 1\u001b[1;33m \u001b[0mx\u001b[0m\u001b[1;33m=\u001b[0m\u001b[0mint\u001b[0m\u001b[1;33m(\u001b[0m\u001b[0minput\u001b[0m\u001b[1;33m(\u001b[0m\u001b[1;34m'Enter s '\u001b[0m\u001b[1;33m)\u001b[0m\u001b[1;33m)\u001b[0m\u001b[1;33m\u001b[0m\u001b[1;33m\u001b[0m\u001b[0m\n\u001b[0m\u001b[0;32m      2\u001b[0m \u001b[0mz\u001b[0m\u001b[1;33m=\u001b[0m\u001b[0mx\u001b[0m\u001b[1;33m.\u001b[0m\u001b[0mlower\u001b[0m\u001b[1;33m(\u001b[0m\u001b[1;33m)\u001b[0m\u001b[1;33m\u001b[0m\u001b[1;33m\u001b[0m\u001b[0m\n\u001b[0;32m      3\u001b[0m \u001b[0my\u001b[0m\u001b[1;33m=\u001b[0m\u001b[0mz\u001b[0m\u001b[1;33m.\u001b[0m\u001b[0mfind\u001b[0m\u001b[1;33m(\u001b[0m\u001b[1;34m's'\u001b[0m\u001b[1;33m)\u001b[0m\u001b[1;33m\u001b[0m\u001b[1;33m\u001b[0m\u001b[0m\n\u001b[0;32m      4\u001b[0m \u001b[0my\u001b[0m\u001b[1;33m\u001b[0m\u001b[1;33m\u001b[0m\u001b[0m\n\u001b[0;32m      5\u001b[0m \u001b[0mx\u001b[0m\u001b[1;33m.\u001b[0m\u001b[0misdigit\u001b[0m\u001b[1;33m(\u001b[0m\u001b[1;33m)\u001b[0m\u001b[1;33m\u001b[0m\u001b[1;33m\u001b[0m\u001b[0m\n",
      "\u001b[1;31mValueError\u001b[0m: invalid literal for int() with base 10: 'wef'"
     ]
    }
   ],
   "source": [
    "x=int(input('Enter s '))\n",
    "z=x.lower()\n",
    "y=z.find('s')\n",
    "y\n",
    "x.isdigit()"
   ]
  },
  {
   "cell_type": "markdown",
   "id": "e59aeb9e",
   "metadata": {},
   "source": [
    "### Final"
   ]
  },
  {
   "cell_type": "code",
   "execution_count": 292,
   "id": "41099cde",
   "metadata": {},
   "outputs": [],
   "source": [
    "def main(d):\n",
    "    while(1):\n",
    "        mode = input('''Choose one:\n",
    "        Press U if you want to sign up\n",
    "        press I if you want to sign in\n",
    "        press S if you want to stop here: ''')\n",
    "        \n",
    "        if mode.lower()=='u':\n",
    "            print(\"\\nProcessing to sign up...\")\n",
    "            signup(d)\n",
    "            return d\n",
    "        elif mode.lower()=='i':\n",
    "            print(\"\\nGet your credential ready.\")\n",
    "            signin(d)\n",
    "            return d\n",
    "        elif mode.lower()=='s':\n",
    "            print(\"\\nOkay stopped, thank you for visiting, bye-bye! Take care :)\")\n",
    "            break\n",
    "        else:\n",
    "            print(\"\\nIncorrect input, try again from the given options only.\")\n",
    "main(d)"
   ]
  },
  {
   "cell_type": "code",
   "execution_count": 290,
   "id": "64347bec",
   "metadata": {},
   "outputs": [],
   "source": [
    "def signup(d):\n",
    "    while(1):\n",
    "        us=input(\"Create a new username: \")\n",
    "        if us not in d:\n",
    "            if us.find(' ')==-1 and us.find('|')==-1:\n",
    "                \n",
    "                alpha='abcdefghijklmnopqrstuvwxyz'\n",
    "                while(1):\n",
    "                    pw=input(\"Create a new password with full strength of at least 8 character with one small, capital, special character and number: \")\n",
    "                    pwg=input(\"Confirm your password: \")\n",
    "                    if pw==pwg:\n",
    "                        if len(pw)>=8:\n",
    "                            print(\"\\nBoth password are matching, proceeding to sign up.\")\n",
    "                            chc=alc=cac=nuc=0\n",
    "                            for x in pw:\n",
    "                                if x in '''`~!@#$%^&*()_+=-₹,./;'[]\\|}{\":?><''':\n",
    "                                    chc+=1\n",
    "                                elif x in alpha:  #we could use isalpha but have to take care of upper and lower both.\n",
    "                                    alc+=1\n",
    "                                elif x in alpha.upper():\n",
    "                                    cac+=1\n",
    "                                elif x.isdigit():\n",
    "                                    nuc+=1\n",
    "                            if chc!=0 and alc!=0 and cac!=0 and nuc!=0:\n",
    "                                print(\"\\Your password Strength is good. Preparing signin up.\")\n",
    "                                print(pw)\n",
    "                                d[us]=pw     #d.update({us:pw})\n",
    "                                print(\"\\nSign up successfully.\")\n",
    "                                while(1):\n",
    "                                    print(\"\\nWould you like you sign in now?\")\n",
    "                                    si=input(\"\"\"Please press Y for yes\n",
    "                                    Please press N for no.\"\"\")\n",
    "                                    if si.lower()=='y':\n",
    "                                        print(\"Opening sign in page for you\\n\")\n",
    "                                        signin(d)\n",
    "                                    elif si.lower()=='n':\n",
    "                                        print(\"\\nOkay, bye-bye. See you soon.\")\n",
    "                                        return\n",
    "                                    else:\n",
    "                                        print(\"\\nPlease enter either Y or N only.\")\n",
    "                            else:\n",
    "                                print(\"Please note that password should be of at least 8 characters in which at least one capital letter, one small letter, one number and one special chachater is neccessary to meet password strength.\")\n",
    "                        else:\n",
    "                            print(\"Password should be of at least 8 digit, please try again.\")\n",
    "                    else:\n",
    "                        print(\"Your passwords are not matching, please try again.\")\n",
    "            else:\n",
    "                print(\"Please note that there shouldn't be space and '|' in the username, try again.\")\n",
    "        else:\n",
    "            print(\"User name already exists.\")\n",
    "# signup(d)\n",
    "#I am unsure where to use return d though, so haven't used."
   ]
  },
  {
   "cell_type": "code",
   "execution_count": 279,
   "id": "0c67f08b",
   "metadata": {},
   "outputs": [],
   "source": [
    "#Password Stregthening\n",
    "def passcheck(d):\n",
    "    alpha='abcdefghijklmnopqrstuvwxyz'\n",
    "    while(1):\n",
    "        pw=input(\"Create a new password: \")\n",
    "        if len(pw)>=8:\n",
    "            chc=alc=cac=nuc=0\n",
    "            for x in pw:\n",
    "                if x in '''`~!@#$%^&*()_+=-₹,./;'[]\\|}{\":?><''':\n",
    "                    chc+=1\n",
    "                elif x in alpha:\n",
    "                    alc+=1\n",
    "                elif x in alpha.upper():\n",
    "                    cac+=1\n",
    "                elif x.isdigit():\n",
    "                    nuc+=1\n",
    "            if chc!=0 and alc!=0 and cac!=0 and nuc!=0:\n",
    "                print(\"\\Your password Strength is good. Preparing signin up.\")\n",
    "                print(pw)\n",
    "                return\n",
    "            else:\n",
    "                print(\"Please note that password should be of at least 8 characters in which at least one capital letter, one small letter, one number and one special chachater is neccessary to meet password strength.\")\n",
    "        else:\n",
    "            print(\"Password should be of at least 8 digit, please try again.\")\n",
    "# passcheck(d)\n",
    "#                     print(\"No. of special characters are\",chc)\n",
    "#                     print(\"No. of small characters are\",alc)\n",
    "#                     print(\"No. of capital characters are\",cac)\n",
    "#                     print(\"No. of numbers characters are\",nuc)"
   ]
  },
  {
   "cell_type": "code",
   "execution_count": 248,
   "id": "e3fa3245",
   "metadata": {},
   "outputs": [
    {
     "data": {
      "text/plain": [
       "']\"'"
      ]
     },
     "execution_count": 248,
     "metadata": {},
     "output_type": "execute_result"
    }
   ],
   "source": [
    "x=\"ewnfwejkfbw wefnwefjn '.'.'' wefknewf 54532.1 IKGNEWGKJN\"\n",
    "# print(x.title())\n",
    "# print(x.capitalize())\n",
    "# print(x.upper())\n",
    "# print(x.lower())\n",
    "y='~!@#$%^&*()_+=-`₹/.,<>?:\"{}|\\[';']\"'\n",
    "# x[5]\n",
    "# if y in x:\n",
    "#     print('Avaiable')\n",
    "# else:\n",
    "#     print('na')\n",
    "# for i in x:\n",
    "#     if x[i]==x.isdigit():\n",
    "#         print('yes')\n",
    "# for i in x:\n",
    "#     if i.isdigit():\n",
    "#         print(i)\n",
    "#     else:\n",
    "#         print('na')\n",
    "# for i in x:\n",
    "#     if i in y:\n",
    "#         print('yes')\n",
    "#     else:\n",
    "#         print('no')"
   ]
  },
  {
   "cell_type": "code",
   "execution_count": 126,
   "id": "748de31e",
   "metadata": {},
   "outputs": [],
   "source": [
    "f={2:4}"
   ]
  },
  {
   "cell_type": "code",
   "execution_count": 118,
   "id": "d59a6362",
   "metadata": {},
   "outputs": [
    {
     "data": {
      "text/plain": [
       "{2: 4, 6: 5}"
      ]
     },
     "execution_count": 118,
     "metadata": {},
     "output_type": "execute_result"
    }
   ],
   "source": [
    "f.update({6:5})\n",
    "f"
   ]
  },
  {
   "cell_type": "code",
   "execution_count": 88,
   "id": "4082d496",
   "metadata": {},
   "outputs": [
    {
     "data": {
      "text/plain": [
       "{'Roshitha': 123456,\n",
       " 'Rossy': 654321,\n",
       " 'Roshu': 112233,\n",
       " 'Kassi': 332211,\n",
       " 'Padmini': 789987,\n",
       " 'Rosh': 987789}"
      ]
     },
     "execution_count": 88,
     "metadata": {},
     "output_type": "execute_result"
    }
   ],
   "source": [
    "d"
   ]
  },
  {
   "cell_type": "code",
   "execution_count": 72,
   "id": "65524770",
   "metadata": {},
   "outputs": [
    {
     "name": "stdout",
     "output_type": "stream",
     "text": [
      "Choose one:\n",
      "        Press u if you want to sign up\n",
      "        press I if you want to sign in: u\n",
      "Processing to sign up...\n",
      "Set new username: Kamini\n",
      "Create a new password: 890702\n",
      "Sign up successfully.\n"
     ]
    },
    {
     "data": {
      "text/plain": [
       "{'Roshitha': 123456,\n",
       " 'Rossy': 654321,\n",
       " 'Roshu': 112233,\n",
       " 'Kassi': 332211,\n",
       " 'Padmini': 789987,\n",
       " 'Rosh': 987789,\n",
       " 'Rosssy': '354877',\n",
       " 'Roshuu': '54318',\n",
       " 'Rossyy': '6546847',\n",
       " 'Ladki': '86431',\n",
       " 'Kamini': '890702'}"
      ]
     },
     "execution_count": 72,
     "metadata": {},
     "output_type": "execute_result"
    }
   ],
   "source": [
    "main(d)"
   ]
  },
  {
   "cell_type": "code",
   "execution_count": 99,
   "id": "d4d15ff5",
   "metadata": {},
   "outputs": [],
   "source": [
    "# D={\"Dhoni\":123456,\"Mahendra\":654321,\"Singh\":112233,\"MSD\":332211,\"Mahi\":789987,\"MS\":987789}\n",
    "\n",
    "# def signin(D):\n",
    "#     while(1):\n",
    "#         us = input(\"Enter your username: \")\n",
    "#         if us in D:\n",
    "#             pw = input(\"Enter password now: \")\n",
    "#             if pw == D.get(us):    #if d[us] == pw:\n",
    "# #                 if l == pw or l == int(pw):\n",
    "\n",
    "#                 print(\"You are now logged in.\")\n",
    "#                 return \n",
    "#             else:\n",
    "#                 print(\"Password is incorrect, try again.\")\n",
    "#         else:\n",
    "#             print(\"Username doesn't exists.\")\n",
    "\n",
    "# signin(D)\n"
   ]
  },
  {
   "cell_type": "code",
   "execution_count": 188,
   "id": "ed6426be",
   "metadata": {},
   "outputs": [],
   "source": [
    "# D={\"Dhoni\":123456,\"Mahendra\":'q654321',\"Singh\":112233,\"MSD\":332211,\"Mahi\":789987,\"MS\":987789}\n",
    "\n",
    "def signin(d):\n",
    "    while(1):\n",
    "        us = input(\"Enter your username: \")\n",
    "        if us in d:\n",
    "            chances=1\n",
    "            while(chances<5):\n",
    "                pw = input(\"Enter password now: \")\n",
    "                if pw == d.get(us):    #if d[us] == pw: &     #                 if l == pw or l == int(pw):\n",
    "                    print(\"\\nYou are successfully now logged in.\")\n",
    "                    rsignin(d)\n",
    "                    return \n",
    "                elif pw.isdigit():\n",
    "                    if int(pw)==d.get(us):\n",
    "                        print(\"\\nYou are successfully now logged in.\")\n",
    "                        rsignin(d)\n",
    "                        return\n",
    "                    else:\n",
    "                        print(\"Password is incorrect again, check your caps lock, now \"+str(4-chances)+\" chances are left.\")\n",
    "                    chances+=1\n",
    "                else:                    \n",
    "                    print(\"Password is incorrect again, check your caps lock, now \"+str(4-chances)+\" chances are left.\")\n",
    "                    chances+=1\n",
    "        else:\n",
    "            print(\"Username doesn't exists.\")\n",
    "\n",
    "# signin(d)\n"
   ]
  },
  {
   "cell_type": "code",
   "execution_count": 173,
   "id": "0841ee49",
   "metadata": {},
   "outputs": [
    {
     "data": {
      "text/plain": [
       "int"
      ]
     },
     "execution_count": 173,
     "metadata": {},
     "output_type": "execute_result"
    }
   ],
   "source": [
    "x=54\n",
    "type(x)"
   ]
  },
  {
   "cell_type": "code",
   "execution_count": 207,
   "id": "51ababe2",
   "metadata": {},
   "outputs": [],
   "source": [
    "# remain signin or logout\n",
    "def rsignin(d):\n",
    "    while(1): \n",
    "        print(\"\\Here's your feed.\")\n",
    "        mf=input('''\\nDo you want to see your messages or scrolling your feed?\n",
    "        Press M for messages.\n",
    "        Press F for keep scrolling your feed.\n",
    "        Press O for loggin out.''')\n",
    "        if mf.lower()=='m':\n",
    "            print(\"\\nHere are some of the messages.\")\n",
    "            print(\"\\nParents: Work hard and take care of yourself.\")\n",
    "        elif mf.lower()=='f':\n",
    "            print(\"\\nHere you go.\")\n",
    "            print(\"\\nPost Post Post\")\n",
    "            rating(d)\n",
    "        elif mf.lower()=='o':\n",
    "            print(\"\\nYou are now logged out, we can't wait to see you again. Bye!\")\n",
    "            feedback(d)\n",
    "            return\n",
    "        else:\n",
    "            print(\"\\nEither enter M or F only.\")\n",
    "# rsignin(d)"
   ]
  },
  {
   "cell_type": "code",
   "execution_count": 286,
   "id": "0523f0ba",
   "metadata": {},
   "outputs": [],
   "source": [
    "#feedback\n",
    "def feedback(d):\n",
    "    while(1):\n",
    "        fd=input('''\\nWould you like us to give feedback? It'd help us to get better.\n",
    "        Press Y for yes.\n",
    "        Press N for no.''')\n",
    "        if fd.lower()=='y':\n",
    "            print(input('''\\nEnter feedback here.\n",
    "            In case of complaints attach screenshots and write your mail address, we'll address it shortly.'''))\n",
    "            print(\"\\nThank you for writing to us.\")\n",
    "            return\n",
    "        elif fd.lower()=='n':\n",
    "            print(\"\\nAlright, hope you enjoyed. :)\")\n",
    "            return\n",
    "        else:\n",
    "            print(\"\\nPlease enter valid option.\")\n",
    "# feedback(d)"
   ]
  },
  {
   "cell_type": "code",
   "execution_count": 220,
   "id": "c6cd6a39",
   "metadata": {},
   "outputs": [],
   "source": [
    "#Ratings\n",
    "def rating(d):\n",
    "    while(1):\n",
    "        rt=input('''\\nWould you like us to rate?\n",
    "        Press Y for yes.\n",
    "        Press N for no.''')\n",
    "        if rt.lower()=='y':\n",
    "            while(1):\n",
    "                score=input('''Please enter number from 1 to 10.\n",
    "                Whereas 1 being poor performance.\n",
    "                and 10 being best performance.''')\n",
    "                if score.isnumeric():\n",
    "                    if 1<=int(score)<=5:\n",
    "                        print(\"Thank you for rating, we'll work on our system.\")\n",
    "                        return\n",
    "                    elif 5<int(score)<=10:\n",
    "                        print(\"Thank you for positive rating. :)\")\n",
    "                        return\n",
    "                    else:\n",
    "                        print(\"Please enter valid score only.\")\n",
    "                else:\n",
    "                    print(\"Enter numbers only.\")\n",
    "        elif rt.lower()=='n':\n",
    "            print(\"\\nOkay, see you soon.\")\n",
    "            return\n",
    "        else:\n",
    "            print(\"Please enter valid option only.\")\n",
    "# rating(d)"
   ]
  },
  {
   "cell_type": "code",
   "execution_count": 98,
   "id": "0ccb9d6b",
   "metadata": {},
   "outputs": [],
   "source": [
    "\n",
    "# def signin(d):\n",
    "#     while(1):\n",
    "#         us=input(\"Enter your username: \")\n",
    "#         if us in d:\n",
    "#             pw=input(\"Enter password now: \")\n",
    "#             if pw==d.get(us):\n",
    "# #             if d[us]==pw:\n",
    "#                 print(\"You are now logged in.\")\n",
    "#                 return d\n",
    "#             else:\n",
    "#                 print(\"Password is incorrect, try again.\")\n",
    "#         else:\n",
    "#             print(\"Username doesn't exists.\")\n",
    "            \n",
    "# signin(d)"
   ]
  },
  {
   "cell_type": "code",
   "execution_count": 102,
   "id": "d4ac52b6",
   "metadata": {},
   "outputs": [
    {
     "data": {
      "text/plain": [
       "123456"
      ]
     },
     "execution_count": 102,
     "metadata": {},
     "output_type": "execute_result"
    }
   ],
   "source": [
    "d['Roshitha']"
   ]
  },
  {
   "cell_type": "code",
   "execution_count": null,
   "id": "36b491ac",
   "metadata": {},
   "outputs": [],
   "source": []
  }
 ],
 "metadata": {
  "kernelspec": {
   "display_name": "Python 3 (ipykernel)",
   "language": "python",
   "name": "python3"
  },
  "language_info": {
   "codemirror_mode": {
    "name": "ipython",
    "version": 3
   },
   "file_extension": ".py",
   "mimetype": "text/x-python",
   "name": "python",
   "nbconvert_exporter": "python",
   "pygments_lexer": "ipython3",
   "version": "3.9.6"
  }
 },
 "nbformat": 4,
 "nbformat_minor": 5
}
